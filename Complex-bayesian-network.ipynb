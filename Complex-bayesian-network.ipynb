{
 "cells": [
  {
   "cell_type": "markdown",
   "metadata": {},
   "source": [
    "# Complex Bayesian Network notebook"
   ]
  },
  {
   "cell_type": "markdown",
   "metadata": {},
   "source": [
    "#### Import dependencies"
   ]
  },
  {
   "cell_type": "code",
   "execution_count": 101,
   "metadata": {},
   "outputs": [
    {
     "name": "stdout",
     "output_type": "stream",
     "text": [
      "Requirement already satisfied: pgmpy in c:\\python310\\lib\\site-packages (0.1.18)\n",
      "Requirement already satisfied: scipy in c:\\python310\\lib\\site-packages (from pgmpy) (1.8.0)\n",
      "Requirement already satisfied: networkx in c:\\python310\\lib\\site-packages (from pgmpy) (2.7.1)\n",
      "Requirement already satisfied: joblib in c:\\python310\\lib\\site-packages (from pgmpy) (1.1.0)\n",
      "Requirement already satisfied: numpy in c:\\python310\\lib\\site-packages (from pgmpy) (1.22.3)\n",
      "Requirement already satisfied: scikit-learn in c:\\python310\\lib\\site-packages (from pgmpy) (1.0.2)\n",
      "Requirement already satisfied: pandas in c:\\python310\\lib\\site-packages (from pgmpy) (1.4.2)\n",
      "Requirement already satisfied: statsmodels in c:\\python310\\lib\\site-packages (from pgmpy) (0.13.2)\n",
      "Requirement already satisfied: pyparsing in c:\\python310\\lib\\site-packages (from pgmpy) (3.0.6)\n",
      "Requirement already satisfied: torch in c:\\python310\\lib\\site-packages (from pgmpy) (1.11.0)\n",
      "Requirement already satisfied: tqdm in c:\\python310\\lib\\site-packages (from pgmpy) (4.64.0)\n",
      "Requirement already satisfied: python-dateutil>=2.8.1 in c:\\python310\\lib\\site-packages (from pandas->pgmpy) (2.8.2)\n",
      "Requirement already satisfied: pytz>=2020.1 in c:\\python310\\lib\\site-packages (from pandas->pgmpy) (2021.3)\n",
      "Requirement already satisfied: threadpoolctl>=2.0.0 in c:\\python310\\lib\\site-packages (from scikit-learn->pgmpy) (3.1.0)\n",
      "Requirement already satisfied: patsy>=0.5.2 in c:\\python310\\lib\\site-packages (from statsmodels->pgmpy) (0.5.2)\n",
      "Requirement already satisfied: packaging>=21.3 in c:\\python310\\lib\\site-packages (from statsmodels->pgmpy) (21.3)\n",
      "Requirement already satisfied: typing-extensions in c:\\python310\\lib\\site-packages (from torch->pgmpy) (4.1.1)\n",
      "Requirement already satisfied: colorama in c:\\python310\\lib\\site-packages (from tqdm->pgmpy) (0.4.4)\n",
      "Requirement already satisfied: six in c:\\python310\\lib\\site-packages (from patsy>=0.5.2->statsmodels->pgmpy) (1.16.0)\n",
      "Note: you may need to restart the kernel to use updated packages.\n"
     ]
    },
    {
     "name": "stderr",
     "output_type": "stream",
     "text": [
      "WARNING: You are using pip version 22.0.4; however, version 22.1 is available.\n",
      "You should consider upgrading via the 'c:\\Python310\\python.exe -m pip install --upgrade pip' command.\n"
     ]
    },
    {
     "name": "stdout",
     "output_type": "stream",
     "text": [
      "Requirement already satisfied: tabulate in c:\\python310\\lib\\site-packages (0.8.9)\n",
      "Note: you may need to restart the kernel to use updated packages.\n"
     ]
    },
    {
     "name": "stderr",
     "output_type": "stream",
     "text": [
      "WARNING: You are using pip version 22.0.4; however, version 22.1 is available.\n",
      "You should consider upgrading via the 'c:\\Python310\\python.exe -m pip install --upgrade pip' command.\n"
     ]
    },
    {
     "name": "stdout",
     "output_type": "stream",
     "text": [
      "Requirement already satisfied: pandas in c:\\python310\\lib\\site-packages (1.4.2)\n",
      "Requirement already satisfied: python-dateutil>=2.8.1 in c:\\python310\\lib\\site-packages (from pandas) (2.8.2)\n",
      "Requirement already satisfied: numpy>=1.21.0 in c:\\python310\\lib\\site-packages (from pandas) (1.22.3)\n",
      "Requirement already satisfied: pytz>=2020.1 in c:\\python310\\lib\\site-packages (from pandas) (2021.3)\n",
      "Requirement already satisfied: six>=1.5 in c:\\python310\\lib\\site-packages (from python-dateutil>=2.8.1->pandas) (1.16.0)\n",
      "Note: you may need to restart the kernel to use updated packages.\n"
     ]
    },
    {
     "name": "stderr",
     "output_type": "stream",
     "text": [
      "WARNING: You are using pip version 22.0.4; however, version 22.1 is available.\n",
      "You should consider upgrading via the 'c:\\Python310\\python.exe -m pip install --upgrade pip' command.\n"
     ]
    },
    {
     "name": "stdout",
     "output_type": "stream",
     "text": [
      "Requirement already satisfied: networkx in c:\\python310\\lib\\site-packages (2.7.1)\n",
      "Note: you may need to restart the kernel to use updated packages.\n"
     ]
    },
    {
     "name": "stderr",
     "output_type": "stream",
     "text": [
      "WARNING: You are using pip version 22.0.4; however, version 22.1 is available.\n",
      "You should consider upgrading via the 'c:\\Python310\\python.exe -m pip install --upgrade pip' command.\n"
     ]
    },
    {
     "name": "stdout",
     "output_type": "stream",
     "text": [
      "Requirement already satisfied: matplotlib in c:\\python310\\lib\\site-packages (3.5.1)\n",
      "Requirement already satisfied: numpy>=1.17 in c:\\python310\\lib\\site-packages (from matplotlib) (1.22.3)\n",
      "Requirement already satisfied: packaging>=20.0 in c:\\python310\\lib\\site-packages (from matplotlib) (21.3)\n",
      "Requirement already satisfied: cycler>=0.10 in c:\\python310\\lib\\site-packages (from matplotlib) (0.11.0)\n",
      "Requirement already satisfied: fonttools>=4.22.0 in c:\\python310\\lib\\site-packages (from matplotlib) (4.32.0)\n",
      "Requirement already satisfied: pyparsing>=2.2.1 in c:\\python310\\lib\\site-packages (from matplotlib) (3.0.6)\n",
      "Requirement already satisfied: pillow>=6.2.0 in c:\\python310\\lib\\site-packages (from matplotlib) (9.1.0)\n",
      "Requirement already satisfied: python-dateutil>=2.7 in c:\\python310\\lib\\site-packages (from matplotlib) (2.8.2)\n",
      "Requirement already satisfied: kiwisolver>=1.0.1 in c:\\python310\\lib\\site-packages (from matplotlib) (1.4.2)\n",
      "Requirement already satisfied: six>=1.5 in c:\\python310\\lib\\site-packages (from python-dateutil>=2.7->matplotlib) (1.16.0)\n",
      "Note: you may need to restart the kernel to use updated packages.\n"
     ]
    },
    {
     "name": "stderr",
     "output_type": "stream",
     "text": [
      "WARNING: You are using pip version 22.0.4; however, version 22.1 is available.\n",
      "You should consider upgrading via the 'c:\\Python310\\python.exe -m pip install --upgrade pip' command.\n"
     ]
    }
   ],
   "source": [
    "# Import dependencies\n",
    "%pip install pgmpy\n",
    "%pip install tabulate\n",
    "%pip install pandas\n",
    "%pip install networkx\n",
    "%pip install matplotlib"
   ]
  },
  {
   "cell_type": "markdown",
   "metadata": {},
   "source": [
    "#### Load libraries"
   ]
  },
  {
   "cell_type": "code",
   "execution_count": 102,
   "metadata": {},
   "outputs": [],
   "source": [
    "# Load libraries\n",
    "import pgmpy as pg\n",
    "import tabulate as tb\n",
    "import pandas as pd\n",
    "import numpy as np\n",
    "import networkx as nx\n",
    "import matplotlib.pyplot as plt\n",
    "import sklearn"
   ]
  },
  {
   "cell_type": "markdown",
   "metadata": {},
   "source": [
    "## Data import and cleaning"
   ]
  },
  {
   "cell_type": "markdown",
   "metadata": {},
   "source": [
    "#### Import BigPerf data"
   ]
  },
  {
   "cell_type": "code",
   "execution_count": 103,
   "metadata": {},
   "outputs": [
    {
     "data": {
      "text/html": [
       "<div>\n",
       "<style scoped>\n",
       "    .dataframe tbody tr th:only-of-type {\n",
       "        vertical-align: middle;\n",
       "    }\n",
       "\n",
       "    .dataframe tbody tr th {\n",
       "        vertical-align: top;\n",
       "    }\n",
       "\n",
       "    .dataframe thead th {\n",
       "        text-align: right;\n",
       "    }\n",
       "</style>\n",
       "<table border=\"1\" class=\"dataframe\">\n",
       "  <thead>\n",
       "    <tr style=\"text-align: right;\">\n",
       "      <th></th>\n",
       "      <th>Block_ID</th>\n",
       "      <th>HDFS_BW</th>\n",
       "      <th>HDFSTranmissionTime</th>\n",
       "      <th>Mapper_ID</th>\n",
       "      <th>Mapper_VM_MIPS</th>\n",
       "      <th>MapExecutionTime</th>\n",
       "      <th>MapperBW</th>\n",
       "      <th>MapperTransmissionTime</th>\n",
       "      <th>Reducer_ID</th>\n",
       "      <th>Reducer_VM_MIPS</th>\n",
       "      <th>ReducerExecutionTime</th>\n",
       "      <th>ReducerBW</th>\n",
       "      <th>ReducerTransmissionTime</th>\n",
       "      <th>Block_ID.1</th>\n",
       "      <th>Block_BW</th>\n",
       "      <th>BlockTransmissionTime</th>\n",
       "      <th>TransactionTime</th>\n",
       "    </tr>\n",
       "  </thead>\n",
       "  <tbody>\n",
       "    <tr>\n",
       "      <th>0</th>\n",
       "      <td>HDFS_Block_208</td>\n",
       "      <td>11.81</td>\n",
       "      <td>80.63</td>\n",
       "      <td>mapper207</td>\n",
       "      <td>652289</td>\n",
       "      <td>765.49</td>\n",
       "      <td>30.00</td>\n",
       "      <td>2.53</td>\n",
       "      <td>reducer0</td>\n",
       "      <td>341739</td>\n",
       "      <td>480</td>\n",
       "      <td>3.80</td>\n",
       "      <td>250.14</td>\n",
       "      <td>reducer0_Block_1</td>\n",
       "      <td>0.0</td>\n",
       "      <td>0.00</td>\n",
       "      <td>1578.79</td>\n",
       "    </tr>\n",
       "    <tr>\n",
       "      <th>1</th>\n",
       "      <td>HDFS_Block_208</td>\n",
       "      <td>11.81</td>\n",
       "      <td>80.63</td>\n",
       "      <td>mapper207</td>\n",
       "      <td>652289</td>\n",
       "      <td>765.49</td>\n",
       "      <td>30.00</td>\n",
       "      <td>2.53</td>\n",
       "      <td>reducer1</td>\n",
       "      <td>150000</td>\n",
       "      <td>120</td>\n",
       "      <td>50.00</td>\n",
       "      <td>18.99</td>\n",
       "      <td>reducer1_Block_1</td>\n",
       "      <td>50.0</td>\n",
       "      <td>20.00</td>\n",
       "      <td>1007.64</td>\n",
       "    </tr>\n",
       "    <tr>\n",
       "      <th>2</th>\n",
       "      <td>HDFS_Block_208</td>\n",
       "      <td>11.81</td>\n",
       "      <td>80.63</td>\n",
       "      <td>mapper207</td>\n",
       "      <td>652289</td>\n",
       "      <td>765.49</td>\n",
       "      <td>16.76</td>\n",
       "      <td>3.25</td>\n",
       "      <td>reducer2</td>\n",
       "      <td>382530</td>\n",
       "      <td>480</td>\n",
       "      <td>4.48</td>\n",
       "      <td>212.22</td>\n",
       "      <td>reducer2_Block_1</td>\n",
       "      <td>3.7</td>\n",
       "      <td>270.02</td>\n",
       "      <td>1811.61</td>\n",
       "    </tr>\n",
       "    <tr>\n",
       "      <th>3</th>\n",
       "      <td>HDFS_Block_208</td>\n",
       "      <td>11.81</td>\n",
       "      <td>80.63</td>\n",
       "      <td>mapper207</td>\n",
       "      <td>652289</td>\n",
       "      <td>765.49</td>\n",
       "      <td>16.76</td>\n",
       "      <td>3.25</td>\n",
       "      <td>reducer3</td>\n",
       "      <td>150000</td>\n",
       "      <td>120</td>\n",
       "      <td>5.88</td>\n",
       "      <td>161.57</td>\n",
       "      <td>reducer3_Block_1</td>\n",
       "      <td>3.7</td>\n",
       "      <td>270.02</td>\n",
       "      <td>1400.96</td>\n",
       "    </tr>\n",
       "    <tr>\n",
       "      <th>4</th>\n",
       "      <td>HDFS_Block_208</td>\n",
       "      <td>11.81</td>\n",
       "      <td>80.63</td>\n",
       "      <td>mapper207</td>\n",
       "      <td>652289</td>\n",
       "      <td>765.49</td>\n",
       "      <td>18.41</td>\n",
       "      <td>4.16</td>\n",
       "      <td>reducer4</td>\n",
       "      <td>457419</td>\n",
       "      <td>480</td>\n",
       "      <td>5.88</td>\n",
       "      <td>161.53</td>\n",
       "      <td>reducer4_Block_1</td>\n",
       "      <td>3.7</td>\n",
       "      <td>270.02</td>\n",
       "      <td>1761.83</td>\n",
       "    </tr>\n",
       "  </tbody>\n",
       "</table>\n",
       "</div>"
      ],
      "text/plain": [
       "         Block_ID  HDFS_BW  HDFSTranmissionTime  Mapper_ID  Mapper_VM_MIPS  \\\n",
       "0  HDFS_Block_208    11.81                80.63  mapper207          652289   \n",
       "1  HDFS_Block_208    11.81                80.63  mapper207          652289   \n",
       "2  HDFS_Block_208    11.81                80.63  mapper207          652289   \n",
       "3  HDFS_Block_208    11.81                80.63  mapper207          652289   \n",
       "4  HDFS_Block_208    11.81                80.63  mapper207          652289   \n",
       "\n",
       "   MapExecutionTime   MapperBW  MapperTransmissionTime Reducer_ID  \\\n",
       "0             765.49     30.00                    2.53   reducer0   \n",
       "1             765.49     30.00                    2.53   reducer1   \n",
       "2             765.49     16.76                    3.25   reducer2   \n",
       "3             765.49     16.76                    3.25   reducer3   \n",
       "4             765.49     18.41                    4.16   reducer4   \n",
       "\n",
       "   Reducer_VM_MIPS  ReducerExecutionTime   ReducerBW  ReducerTransmissionTime  \\\n",
       "0           341739                    480       3.80                   250.14   \n",
       "1           150000                    120      50.00                    18.99   \n",
       "2           382530                    480       4.48                   212.22   \n",
       "3           150000                    120       5.88                   161.57   \n",
       "4           457419                    480       5.88                   161.53   \n",
       "\n",
       "         Block_ID.1  Block_BW  BlockTransmissionTime  TransactionTime  \n",
       "0  reducer0_Block_1       0.0                   0.00          1578.79  \n",
       "1  reducer1_Block_1      50.0                  20.00          1007.64  \n",
       "2  reducer2_Block_1       3.7                 270.02          1811.61  \n",
       "3  reducer3_Block_1       3.7                 270.02          1400.96  \n",
       "4  reducer4_Block_1       3.7                 270.02          1761.83  "
      ]
     },
     "execution_count": 103,
     "metadata": {},
     "output_type": "execute_result"
    }
   ],
   "source": [
    "# Import data\n",
    "df = pd.read_csv(\"Data\\\\BigPerfMetrics.csv\")\n",
    "\n",
    "df.head()"
   ]
  },
  {
   "cell_type": "markdown",
   "metadata": {},
   "source": [
    "#### Clean data of unwanted variables and missing values"
   ]
  },
  {
   "cell_type": "code",
   "execution_count": 104,
   "metadata": {},
   "outputs": [
    {
     "data": {
      "text/html": [
       "<div>\n",
       "<style scoped>\n",
       "    .dataframe tbody tr th:only-of-type {\n",
       "        vertical-align: middle;\n",
       "    }\n",
       "\n",
       "    .dataframe tbody tr th {\n",
       "        vertical-align: top;\n",
       "    }\n",
       "\n",
       "    .dataframe thead th {\n",
       "        text-align: right;\n",
       "    }\n",
       "</style>\n",
       "<table border=\"1\" class=\"dataframe\">\n",
       "  <thead>\n",
       "    <tr style=\"text-align: right;\">\n",
       "      <th></th>\n",
       "      <th>HDFS_BW</th>\n",
       "      <th>HDFSTranmissionTime</th>\n",
       "      <th>Mapper_VM_MIPS</th>\n",
       "      <th>MapExecutionTime</th>\n",
       "      <th>MapperBW</th>\n",
       "      <th>MapperTransmissionTime</th>\n",
       "      <th>Reducer_VM_MIPS</th>\n",
       "      <th>ReducerExecutionTime</th>\n",
       "      <th>ReducerBW</th>\n",
       "      <th>ReducerTransmissionTime</th>\n",
       "      <th>Block_BW</th>\n",
       "      <th>BlockTransmissionTime</th>\n",
       "      <th>TransactionTime</th>\n",
       "    </tr>\n",
       "  </thead>\n",
       "  <tbody>\n",
       "    <tr>\n",
       "      <th>0</th>\n",
       "      <td>11.81</td>\n",
       "      <td>80.63</td>\n",
       "      <td>652289</td>\n",
       "      <td>765.49</td>\n",
       "      <td>30.00</td>\n",
       "      <td>2.53</td>\n",
       "      <td>341739</td>\n",
       "      <td>480</td>\n",
       "      <td>3.80</td>\n",
       "      <td>250.14</td>\n",
       "      <td>0.0</td>\n",
       "      <td>0.00</td>\n",
       "      <td>1578.79</td>\n",
       "    </tr>\n",
       "    <tr>\n",
       "      <th>1</th>\n",
       "      <td>11.81</td>\n",
       "      <td>80.63</td>\n",
       "      <td>652289</td>\n",
       "      <td>765.49</td>\n",
       "      <td>30.00</td>\n",
       "      <td>2.53</td>\n",
       "      <td>150000</td>\n",
       "      <td>120</td>\n",
       "      <td>50.00</td>\n",
       "      <td>18.99</td>\n",
       "      <td>50.0</td>\n",
       "      <td>20.00</td>\n",
       "      <td>1007.64</td>\n",
       "    </tr>\n",
       "    <tr>\n",
       "      <th>2</th>\n",
       "      <td>11.81</td>\n",
       "      <td>80.63</td>\n",
       "      <td>652289</td>\n",
       "      <td>765.49</td>\n",
       "      <td>16.76</td>\n",
       "      <td>3.25</td>\n",
       "      <td>382530</td>\n",
       "      <td>480</td>\n",
       "      <td>4.48</td>\n",
       "      <td>212.22</td>\n",
       "      <td>3.7</td>\n",
       "      <td>270.02</td>\n",
       "      <td>1811.61</td>\n",
       "    </tr>\n",
       "    <tr>\n",
       "      <th>3</th>\n",
       "      <td>11.81</td>\n",
       "      <td>80.63</td>\n",
       "      <td>652289</td>\n",
       "      <td>765.49</td>\n",
       "      <td>16.76</td>\n",
       "      <td>3.25</td>\n",
       "      <td>150000</td>\n",
       "      <td>120</td>\n",
       "      <td>5.88</td>\n",
       "      <td>161.57</td>\n",
       "      <td>3.7</td>\n",
       "      <td>270.02</td>\n",
       "      <td>1400.96</td>\n",
       "    </tr>\n",
       "    <tr>\n",
       "      <th>4</th>\n",
       "      <td>11.81</td>\n",
       "      <td>80.63</td>\n",
       "      <td>652289</td>\n",
       "      <td>765.49</td>\n",
       "      <td>18.41</td>\n",
       "      <td>4.16</td>\n",
       "      <td>457419</td>\n",
       "      <td>480</td>\n",
       "      <td>5.88</td>\n",
       "      <td>161.53</td>\n",
       "      <td>3.7</td>\n",
       "      <td>270.02</td>\n",
       "      <td>1761.83</td>\n",
       "    </tr>\n",
       "  </tbody>\n",
       "</table>\n",
       "</div>"
      ],
      "text/plain": [
       "   HDFS_BW  HDFSTranmissionTime  Mapper_VM_MIPS  MapExecutionTime   MapperBW  \\\n",
       "0    11.81                80.63          652289             765.49     30.00   \n",
       "1    11.81                80.63          652289             765.49     30.00   \n",
       "2    11.81                80.63          652289             765.49     16.76   \n",
       "3    11.81                80.63          652289             765.49     16.76   \n",
       "4    11.81                80.63          652289             765.49     18.41   \n",
       "\n",
       "   MapperTransmissionTime  Reducer_VM_MIPS  ReducerExecutionTime   ReducerBW  \\\n",
       "0                    2.53           341739                    480       3.80   \n",
       "1                    2.53           150000                    120      50.00   \n",
       "2                    3.25           382530                    480       4.48   \n",
       "3                    3.25           150000                    120       5.88   \n",
       "4                    4.16           457419                    480       5.88   \n",
       "\n",
       "   ReducerTransmissionTime  Block_BW  BlockTransmissionTime  TransactionTime  \n",
       "0                   250.14       0.0                   0.00          1578.79  \n",
       "1                    18.99      50.0                  20.00          1007.64  \n",
       "2                   212.22       3.7                 270.02          1811.61  \n",
       "3                   161.57       3.7                 270.02          1400.96  \n",
       "4                   161.53       3.7                 270.02          1761.83  "
      ]
     },
     "execution_count": 104,
     "metadata": {},
     "output_type": "execute_result"
    }
   ],
   "source": [
    "# Clean data\n",
    "df.dropna()\n",
    "\n",
    "df.drop(labels=['Block_ID', 'Mapper_ID', 'Reducer_ID', 'Block_ID.1'], axis=1, inplace=True)\n",
    "\n",
    "df.head()"
   ]
  },
  {
   "cell_type": "markdown",
   "metadata": {},
   "source": [
    "#### Rename columns to better fit in drawn charts and for ease of use"
   ]
  },
  {
   "cell_type": "code",
   "execution_count": 105,
   "metadata": {},
   "outputs": [
    {
     "data": {
      "text/html": [
       "<div>\n",
       "<style scoped>\n",
       "    .dataframe tbody tr th:only-of-type {\n",
       "        vertical-align: middle;\n",
       "    }\n",
       "\n",
       "    .dataframe tbody tr th {\n",
       "        vertical-align: top;\n",
       "    }\n",
       "\n",
       "    .dataframe thead th {\n",
       "        text-align: right;\n",
       "    }\n",
       "</style>\n",
       "<table border=\"1\" class=\"dataframe\">\n",
       "  <thead>\n",
       "    <tr style=\"text-align: right;\">\n",
       "      <th></th>\n",
       "      <th>HBW</th>\n",
       "      <th>HTT</th>\n",
       "      <th>MMIPS</th>\n",
       "      <th>MET</th>\n",
       "      <th>MBW</th>\n",
       "      <th>MTT</th>\n",
       "      <th>RMIPS</th>\n",
       "      <th>RET</th>\n",
       "      <th>RBW</th>\n",
       "      <th>RTT</th>\n",
       "      <th>BBW</th>\n",
       "      <th>BTT</th>\n",
       "      <th>TT</th>\n",
       "    </tr>\n",
       "  </thead>\n",
       "  <tbody>\n",
       "    <tr>\n",
       "      <th>0</th>\n",
       "      <td>11.81</td>\n",
       "      <td>80.63</td>\n",
       "      <td>652289</td>\n",
       "      <td>765.49</td>\n",
       "      <td>30.00</td>\n",
       "      <td>2.53</td>\n",
       "      <td>341739</td>\n",
       "      <td>480</td>\n",
       "      <td>3.80</td>\n",
       "      <td>250.14</td>\n",
       "      <td>0.0</td>\n",
       "      <td>0.00</td>\n",
       "      <td>1578.79</td>\n",
       "    </tr>\n",
       "    <tr>\n",
       "      <th>1</th>\n",
       "      <td>11.81</td>\n",
       "      <td>80.63</td>\n",
       "      <td>652289</td>\n",
       "      <td>765.49</td>\n",
       "      <td>30.00</td>\n",
       "      <td>2.53</td>\n",
       "      <td>150000</td>\n",
       "      <td>120</td>\n",
       "      <td>50.00</td>\n",
       "      <td>18.99</td>\n",
       "      <td>50.0</td>\n",
       "      <td>20.00</td>\n",
       "      <td>1007.64</td>\n",
       "    </tr>\n",
       "    <tr>\n",
       "      <th>2</th>\n",
       "      <td>11.81</td>\n",
       "      <td>80.63</td>\n",
       "      <td>652289</td>\n",
       "      <td>765.49</td>\n",
       "      <td>16.76</td>\n",
       "      <td>3.25</td>\n",
       "      <td>382530</td>\n",
       "      <td>480</td>\n",
       "      <td>4.48</td>\n",
       "      <td>212.22</td>\n",
       "      <td>3.7</td>\n",
       "      <td>270.02</td>\n",
       "      <td>1811.61</td>\n",
       "    </tr>\n",
       "    <tr>\n",
       "      <th>3</th>\n",
       "      <td>11.81</td>\n",
       "      <td>80.63</td>\n",
       "      <td>652289</td>\n",
       "      <td>765.49</td>\n",
       "      <td>16.76</td>\n",
       "      <td>3.25</td>\n",
       "      <td>150000</td>\n",
       "      <td>120</td>\n",
       "      <td>5.88</td>\n",
       "      <td>161.57</td>\n",
       "      <td>3.7</td>\n",
       "      <td>270.02</td>\n",
       "      <td>1400.96</td>\n",
       "    </tr>\n",
       "    <tr>\n",
       "      <th>4</th>\n",
       "      <td>11.81</td>\n",
       "      <td>80.63</td>\n",
       "      <td>652289</td>\n",
       "      <td>765.49</td>\n",
       "      <td>18.41</td>\n",
       "      <td>4.16</td>\n",
       "      <td>457419</td>\n",
       "      <td>480</td>\n",
       "      <td>5.88</td>\n",
       "      <td>161.53</td>\n",
       "      <td>3.7</td>\n",
       "      <td>270.02</td>\n",
       "      <td>1761.83</td>\n",
       "    </tr>\n",
       "    <tr>\n",
       "      <th>5</th>\n",
       "      <td>11.81</td>\n",
       "      <td>80.63</td>\n",
       "      <td>652289</td>\n",
       "      <td>765.49</td>\n",
       "      <td>18.41</td>\n",
       "      <td>4.16</td>\n",
       "      <td>150000</td>\n",
       "      <td>120</td>\n",
       "      <td>6.98</td>\n",
       "      <td>136.24</td>\n",
       "      <td>3.7</td>\n",
       "      <td>270.02</td>\n",
       "      <td>1376.54</td>\n",
       "    </tr>\n",
       "    <tr>\n",
       "      <th>6</th>\n",
       "      <td>11.81</td>\n",
       "      <td>80.63</td>\n",
       "      <td>652289</td>\n",
       "      <td>765.49</td>\n",
       "      <td>18.41</td>\n",
       "      <td>4.16</td>\n",
       "      <td>563904</td>\n",
       "      <td>480</td>\n",
       "      <td>3.80</td>\n",
       "      <td>250.14</td>\n",
       "      <td>3.7</td>\n",
       "      <td>270.02</td>\n",
       "      <td>1850.44</td>\n",
       "    </tr>\n",
       "    <tr>\n",
       "      <th>7</th>\n",
       "      <td>11.81</td>\n",
       "      <td>80.63</td>\n",
       "      <td>652289</td>\n",
       "      <td>765.49</td>\n",
       "      <td>18.41</td>\n",
       "      <td>4.16</td>\n",
       "      <td>150000</td>\n",
       "      <td>120</td>\n",
       "      <td>150.00</td>\n",
       "      <td>6.33</td>\n",
       "      <td>3.7</td>\n",
       "      <td>270.02</td>\n",
       "      <td>1246.63</td>\n",
       "    </tr>\n",
       "    <tr>\n",
       "      <th>8</th>\n",
       "      <td>11.81</td>\n",
       "      <td>80.63</td>\n",
       "      <td>652289</td>\n",
       "      <td>765.49</td>\n",
       "      <td>18.41</td>\n",
       "      <td>4.16</td>\n",
       "      <td>430890</td>\n",
       "      <td>480</td>\n",
       "      <td>3.80</td>\n",
       "      <td>250.14</td>\n",
       "      <td>3.7</td>\n",
       "      <td>270.02</td>\n",
       "      <td>1850.44</td>\n",
       "    </tr>\n",
       "    <tr>\n",
       "      <th>9</th>\n",
       "      <td>11.81</td>\n",
       "      <td>80.63</td>\n",
       "      <td>652289</td>\n",
       "      <td>765.49</td>\n",
       "      <td>18.41</td>\n",
       "      <td>4.16</td>\n",
       "      <td>150000</td>\n",
       "      <td>120</td>\n",
       "      <td>150.00</td>\n",
       "      <td>6.33</td>\n",
       "      <td>3.7</td>\n",
       "      <td>270.02</td>\n",
       "      <td>1246.63</td>\n",
       "    </tr>\n",
       "  </tbody>\n",
       "</table>\n",
       "</div>"
      ],
      "text/plain": [
       "     HBW    HTT   MMIPS     MET    MBW   MTT   RMIPS  RET     RBW     RTT  \\\n",
       "0  11.81  80.63  652289  765.49  30.00  2.53  341739  480    3.80  250.14   \n",
       "1  11.81  80.63  652289  765.49  30.00  2.53  150000  120   50.00   18.99   \n",
       "2  11.81  80.63  652289  765.49  16.76  3.25  382530  480    4.48  212.22   \n",
       "3  11.81  80.63  652289  765.49  16.76  3.25  150000  120    5.88  161.57   \n",
       "4  11.81  80.63  652289  765.49  18.41  4.16  457419  480    5.88  161.53   \n",
       "5  11.81  80.63  652289  765.49  18.41  4.16  150000  120    6.98  136.24   \n",
       "6  11.81  80.63  652289  765.49  18.41  4.16  563904  480    3.80  250.14   \n",
       "7  11.81  80.63  652289  765.49  18.41  4.16  150000  120  150.00    6.33   \n",
       "8  11.81  80.63  652289  765.49  18.41  4.16  430890  480    3.80  250.14   \n",
       "9  11.81  80.63  652289  765.49  18.41  4.16  150000  120  150.00    6.33   \n",
       "\n",
       "    BBW     BTT       TT  \n",
       "0   0.0    0.00  1578.79  \n",
       "1  50.0   20.00  1007.64  \n",
       "2   3.7  270.02  1811.61  \n",
       "3   3.7  270.02  1400.96  \n",
       "4   3.7  270.02  1761.83  \n",
       "5   3.7  270.02  1376.54  \n",
       "6   3.7  270.02  1850.44  \n",
       "7   3.7  270.02  1246.63  \n",
       "8   3.7  270.02  1850.44  \n",
       "9   3.7  270.02  1246.63  "
      ]
     },
     "execution_count": 105,
     "metadata": {},
     "output_type": "execute_result"
    }
   ],
   "source": [
    "# Rename column headers to abbreviations\n",
    "\n",
    "nodes = ['HBW', 'HTT', 'MMIPS', 'MET', 'MBW', 'MTT', 'RMIPS', 'RET', 'RBW', 'RTT', 'BBW', 'BTT', 'TT']\n",
    "\n",
    "df.columns = nodes\n",
    "\n",
    "df.head(10)"
   ]
  },
  {
   "cell_type": "markdown",
   "metadata": {},
   "source": [
    "#### Define funtion to discretise data into three catagories"
   ]
  },
  {
   "cell_type": "code",
   "execution_count": 106,
   "metadata": {},
   "outputs": [],
   "source": [
    "HBW_LABELS = ['1. Less than: 2.95 Mbps', '2. Between: 2.95 Mbps and 5.9 Mbps', '3. Between: 5.9 Mbps and 8.86 Mbps', '4. Greater than: 8.86 Mbps']\n",
    "HTT_LABELS = ['1. Less than: 88.76 ms', '2. Between: 88.76 ms and 177.52 ms', '3. Between: 177.52 ms and 266.27 ms', '4. Greater than: 266.27 ms']\n",
    "MMIPS_LABELS = ['1. Less than: 726605.75', '2. Between: 726605.75 and 800922.5', '3. Between: 800922.5 and 875239.25', '4. Greater than: 875239.25']\n",
    "MET_LABELS = ['1. Less than: 943.85 ms', '2. Between: 943.85 ms and 1122.21 ms', '3. Between: 1122.21 ms and 1300.57 ms', '4. Greater than: 1300.57 ms']\n",
    "MBW_LABELS = ['1. Less than: 8.62 Mbps', '2. Between: 8.62 Mbps and 15.75 Mbps', '3. Between: 15.75 Mbps and 22.87 Mbps', '4. Greater than: 22.87 Mbps']\n",
    "MTT_LABELS = ['1. Less than: 14.5 ms', '2. Between: 14.5 ms and 26.5 ms', '3. Between: 26.5 ms and 38.51 ms', '4. Greater than: 38.51 ms']\n",
    "RMIPS_LABELS = ['1. Less than: 253476', '2. Between: 253476 and 356952', '3. Between: 356952 and 460428', '4. Greater than: 460428']\n",
    "RET_LABELS = ['1. Less than: 210 ms', '2. Between: 210 ms and 300 ms', '3. Between: 300 ms and 390.0 ms', '4. Greater than: 390.0 ms']\n",
    "RBW_LABELS = ['1. Less than: 40.35 Mbps', '2. Between: 40.35 Mbps and 76.89 Mbps', '3. Between: 76.89 Mbps and 113.45 Mbps', '4. Greater than: 113.45 Mbps']\n",
    "RTT_LABELS = ['1. Less than: 67.28 ms', '2. Between: 67.28 ms and 128.23 ms', '3. Between: 128.23 ms and 189.18 ms', '4. Greater than: 189.18 ms']\n",
    "BBW_LABELS = ['1. Less than: 12.5 Mbps', '2. Between: 12.5 Mbps and 25 Mbps', '3. Between: 25 Mbps and 37 Mbps', '4. Greater than: 37 Mbps']\n",
    "BTT_LABELS = ['1. Less than: 67.5 ms', '2. Between: 67.5 ms and 135 ms', '3. Between: 135 ms and 202.52 ms', '4. Greater than: 202.52 ms']\n",
    "TT_LABELS = ['1. Less than: 1471.78 ms', '2. 1471.78 to 1935.93 ms', '3. 1935.93 to 2400.07 ms', '4. Greater than: 2400.07 ms']"
   ]
  },
  {
   "cell_type": "code",
   "execution_count": 107,
   "metadata": {},
   "outputs": [],
   "source": [
    "def make_discrete(df):\n",
    "\n",
    "    discrete_df = pd.DataFrame()\n",
    "\n",
    "    discrete_df['HBW'] = pd.cut(df['HBW'], bins=4, labels=HBW_LABELS, ordered=True, precision=2)\n",
    "    discrete_df['HTT'] = pd.cut(df['HTT'], bins=4, labels=HTT_LABELS, ordered=True, precision=2)\n",
    "    discrete_df['MMIPS'] = pd.cut(df['MMIPS'], bins=4, labels=MMIPS_LABELS, ordered=True, precision=2)\n",
    "    discrete_df['MET'] = pd.cut(df['MET'], bins=4, labels=MET_LABELS, ordered=True, precision=2)\n",
    "    discrete_df['MBW'] = pd.cut(df['MBW'], bins=4, labels=MBW_LABELS, ordered=True, precision=2)\n",
    "    discrete_df['MTT'] = pd.cut(df['MTT'], bins=4, labels=MTT_LABELS, ordered=True, precision=2)\n",
    "    discrete_df['RMIPS'] = pd.cut(df['RMIPS'], bins=4, labels=RMIPS_LABELS, ordered=True, precision=2)\n",
    "    discrete_df['RET'] = pd.cut(df['RET'], bins=4, labels=RET_LABELS, ordered=True, precision=2)\n",
    "    discrete_df['RBW'] = pd.cut(df['RBW'], bins=4, labels=RBW_LABELS, ordered=True, precision=2)\n",
    "    discrete_df['RTT'] = pd.cut(df['RTT'], bins=4, labels=RTT_LABELS, ordered=True, precision=2)\n",
    "    discrete_df['BBW'] = pd.cut(df['BBW'], bins=4, labels=BBW_LABELS, ordered=True, precision=2)\n",
    "    discrete_df['BTT'] = pd.cut(df['BTT'], bins=4, labels=BTT_LABELS, ordered=True, precision=2)\n",
    "    discrete_df['TT'] = pd.cut(df['TT'], bins=4, labels=TT_LABELS, ordered=True, precision=2)\n",
    "\n",
    "    discrete_df = discrete_df.astype('object')\n",
    "\n",
    "    return discrete_df"
   ]
  },
  {
   "cell_type": "markdown",
   "metadata": {},
   "source": [
    "#### Discretise data into catagories"
   ]
  },
  {
   "cell_type": "code",
   "execution_count": 108,
   "metadata": {},
   "outputs": [
    {
     "data": {
      "text/html": [
       "<div>\n",
       "<style scoped>\n",
       "    .dataframe tbody tr th:only-of-type {\n",
       "        vertical-align: middle;\n",
       "    }\n",
       "\n",
       "    .dataframe tbody tr th {\n",
       "        vertical-align: top;\n",
       "    }\n",
       "\n",
       "    .dataframe thead th {\n",
       "        text-align: right;\n",
       "    }\n",
       "</style>\n",
       "<table border=\"1\" class=\"dataframe\">\n",
       "  <thead>\n",
       "    <tr style=\"text-align: right;\">\n",
       "      <th></th>\n",
       "      <th>HBW</th>\n",
       "      <th>HTT</th>\n",
       "      <th>MMIPS</th>\n",
       "      <th>MET</th>\n",
       "      <th>MBW</th>\n",
       "      <th>MTT</th>\n",
       "      <th>RMIPS</th>\n",
       "      <th>RET</th>\n",
       "      <th>RBW</th>\n",
       "      <th>RTT</th>\n",
       "      <th>BBW</th>\n",
       "      <th>BTT</th>\n",
       "      <th>TT</th>\n",
       "    </tr>\n",
       "  </thead>\n",
       "  <tbody>\n",
       "    <tr>\n",
       "      <th>0</th>\n",
       "      <td>4. Greater than: 8.86 Mbps</td>\n",
       "      <td>1. Less than: 88.76 ms</td>\n",
       "      <td>1. Less than: 726605.75</td>\n",
       "      <td>1. Less than: 943.85 ms</td>\n",
       "      <td>4. Greater than: 22.87 Mbps</td>\n",
       "      <td>1. Less than: 14.5 ms</td>\n",
       "      <td>2. Between: 253476 and 356952</td>\n",
       "      <td>4. Greater than: 390.0 ms</td>\n",
       "      <td>1. Less than: 40.35 Mbps</td>\n",
       "      <td>4. Greater than: 189.18 ms</td>\n",
       "      <td>1. Less than: 12.5 Mbps</td>\n",
       "      <td>1. Less than: 67.5 ms</td>\n",
       "      <td>2. 1471.78 to 1935.93 ms</td>\n",
       "    </tr>\n",
       "    <tr>\n",
       "      <th>1</th>\n",
       "      <td>4. Greater than: 8.86 Mbps</td>\n",
       "      <td>1. Less than: 88.76 ms</td>\n",
       "      <td>1. Less than: 726605.75</td>\n",
       "      <td>1. Less than: 943.85 ms</td>\n",
       "      <td>4. Greater than: 22.87 Mbps</td>\n",
       "      <td>1. Less than: 14.5 ms</td>\n",
       "      <td>1. Less than: 253476</td>\n",
       "      <td>1. Less than: 210 ms</td>\n",
       "      <td>2. Between: 40.35 Mbps and 76.89 Mbps</td>\n",
       "      <td>1. Less than: 67.28 ms</td>\n",
       "      <td>4. Greater than: 37 Mbps</td>\n",
       "      <td>1. Less than: 67.5 ms</td>\n",
       "      <td>1. Less than: 1471.78 ms</td>\n",
       "    </tr>\n",
       "    <tr>\n",
       "      <th>2</th>\n",
       "      <td>4. Greater than: 8.86 Mbps</td>\n",
       "      <td>1. Less than: 88.76 ms</td>\n",
       "      <td>1. Less than: 726605.75</td>\n",
       "      <td>1. Less than: 943.85 ms</td>\n",
       "      <td>3. Between: 15.75 Mbps and 22.87 Mbps</td>\n",
       "      <td>1. Less than: 14.5 ms</td>\n",
       "      <td>3. Between: 356952 and 460428</td>\n",
       "      <td>4. Greater than: 390.0 ms</td>\n",
       "      <td>1. Less than: 40.35 Mbps</td>\n",
       "      <td>4. Greater than: 189.18 ms</td>\n",
       "      <td>1. Less than: 12.5 Mbps</td>\n",
       "      <td>4. Greater than: 202.52 ms</td>\n",
       "      <td>2. 1471.78 to 1935.93 ms</td>\n",
       "    </tr>\n",
       "    <tr>\n",
       "      <th>3</th>\n",
       "      <td>4. Greater than: 8.86 Mbps</td>\n",
       "      <td>1. Less than: 88.76 ms</td>\n",
       "      <td>1. Less than: 726605.75</td>\n",
       "      <td>1. Less than: 943.85 ms</td>\n",
       "      <td>3. Between: 15.75 Mbps and 22.87 Mbps</td>\n",
       "      <td>1. Less than: 14.5 ms</td>\n",
       "      <td>1. Less than: 253476</td>\n",
       "      <td>1. Less than: 210 ms</td>\n",
       "      <td>1. Less than: 40.35 Mbps</td>\n",
       "      <td>3. Between: 128.23 ms and 189.18 ms</td>\n",
       "      <td>1. Less than: 12.5 Mbps</td>\n",
       "      <td>4. Greater than: 202.52 ms</td>\n",
       "      <td>1. Less than: 1471.78 ms</td>\n",
       "    </tr>\n",
       "    <tr>\n",
       "      <th>4</th>\n",
       "      <td>4. Greater than: 8.86 Mbps</td>\n",
       "      <td>1. Less than: 88.76 ms</td>\n",
       "      <td>1. Less than: 726605.75</td>\n",
       "      <td>1. Less than: 943.85 ms</td>\n",
       "      <td>3. Between: 15.75 Mbps and 22.87 Mbps</td>\n",
       "      <td>1. Less than: 14.5 ms</td>\n",
       "      <td>3. Between: 356952 and 460428</td>\n",
       "      <td>4. Greater than: 390.0 ms</td>\n",
       "      <td>1. Less than: 40.35 Mbps</td>\n",
       "      <td>3. Between: 128.23 ms and 189.18 ms</td>\n",
       "      <td>1. Less than: 12.5 Mbps</td>\n",
       "      <td>4. Greater than: 202.52 ms</td>\n",
       "      <td>2. 1471.78 to 1935.93 ms</td>\n",
       "    </tr>\n",
       "    <tr>\n",
       "      <th>...</th>\n",
       "      <td>...</td>\n",
       "      <td>...</td>\n",
       "      <td>...</td>\n",
       "      <td>...</td>\n",
       "      <td>...</td>\n",
       "      <td>...</td>\n",
       "      <td>...</td>\n",
       "      <td>...</td>\n",
       "      <td>...</td>\n",
       "      <td>...</td>\n",
       "      <td>...</td>\n",
       "      <td>...</td>\n",
       "      <td>...</td>\n",
       "    </tr>\n",
       "    <tr>\n",
       "      <th>95</th>\n",
       "      <td>1. Less than: 2.95 Mbps</td>\n",
       "      <td>4. Greater than: 266.27 ms</td>\n",
       "      <td>1. Less than: 726605.75</td>\n",
       "      <td>1. Less than: 943.85 ms</td>\n",
       "      <td>1. Less than: 8.62 Mbps</td>\n",
       "      <td>2. Between: 14.5 ms and 26.5 ms</td>\n",
       "      <td>1. Less than: 253476</td>\n",
       "      <td>1. Less than: 210 ms</td>\n",
       "      <td>1. Less than: 40.35 Mbps</td>\n",
       "      <td>3. Between: 128.23 ms and 189.18 ms</td>\n",
       "      <td>1. Less than: 12.5 Mbps</td>\n",
       "      <td>4. Greater than: 202.52 ms</td>\n",
       "      <td>2. 1471.78 to 1935.93 ms</td>\n",
       "    </tr>\n",
       "    <tr>\n",
       "      <th>96</th>\n",
       "      <td>1. Less than: 2.95 Mbps</td>\n",
       "      <td>4. Greater than: 266.27 ms</td>\n",
       "      <td>1. Less than: 726605.75</td>\n",
       "      <td>1. Less than: 943.85 ms</td>\n",
       "      <td>1. Less than: 8.62 Mbps</td>\n",
       "      <td>2. Between: 14.5 ms and 26.5 ms</td>\n",
       "      <td>4. Greater than: 460428</td>\n",
       "      <td>4. Greater than: 390.0 ms</td>\n",
       "      <td>1. Less than: 40.35 Mbps</td>\n",
       "      <td>4. Greater than: 189.18 ms</td>\n",
       "      <td>1. Less than: 12.5 Mbps</td>\n",
       "      <td>4. Greater than: 202.52 ms</td>\n",
       "      <td>3. 1935.93 to 2400.07 ms</td>\n",
       "    </tr>\n",
       "    <tr>\n",
       "      <th>97</th>\n",
       "      <td>1. Less than: 2.95 Mbps</td>\n",
       "      <td>4. Greater than: 266.27 ms</td>\n",
       "      <td>1. Less than: 726605.75</td>\n",
       "      <td>1. Less than: 943.85 ms</td>\n",
       "      <td>1. Less than: 8.62 Mbps</td>\n",
       "      <td>2. Between: 14.5 ms and 26.5 ms</td>\n",
       "      <td>1. Less than: 253476</td>\n",
       "      <td>1. Less than: 210 ms</td>\n",
       "      <td>4. Greater than: 113.45 Mbps</td>\n",
       "      <td>1. Less than: 67.28 ms</td>\n",
       "      <td>1. Less than: 12.5 Mbps</td>\n",
       "      <td>4. Greater than: 202.52 ms</td>\n",
       "      <td>2. 1471.78 to 1935.93 ms</td>\n",
       "    </tr>\n",
       "    <tr>\n",
       "      <th>98</th>\n",
       "      <td>1. Less than: 2.95 Mbps</td>\n",
       "      <td>4. Greater than: 266.27 ms</td>\n",
       "      <td>1. Less than: 726605.75</td>\n",
       "      <td>1. Less than: 943.85 ms</td>\n",
       "      <td>1. Less than: 8.62 Mbps</td>\n",
       "      <td>1. Less than: 14.5 ms</td>\n",
       "      <td>3. Between: 356952 and 460428</td>\n",
       "      <td>4. Greater than: 390.0 ms</td>\n",
       "      <td>1. Less than: 40.35 Mbps</td>\n",
       "      <td>4. Greater than: 189.18 ms</td>\n",
       "      <td>1. Less than: 12.5 Mbps</td>\n",
       "      <td>4. Greater than: 202.52 ms</td>\n",
       "      <td>3. 1935.93 to 2400.07 ms</td>\n",
       "    </tr>\n",
       "    <tr>\n",
       "      <th>99</th>\n",
       "      <td>1. Less than: 2.95 Mbps</td>\n",
       "      <td>4. Greater than: 266.27 ms</td>\n",
       "      <td>1. Less than: 726605.75</td>\n",
       "      <td>1. Less than: 943.85 ms</td>\n",
       "      <td>1. Less than: 8.62 Mbps</td>\n",
       "      <td>1. Less than: 14.5 ms</td>\n",
       "      <td>1. Less than: 253476</td>\n",
       "      <td>1. Less than: 210 ms</td>\n",
       "      <td>4. Greater than: 113.45 Mbps</td>\n",
       "      <td>1. Less than: 67.28 ms</td>\n",
       "      <td>1. Less than: 12.5 Mbps</td>\n",
       "      <td>4. Greater than: 202.52 ms</td>\n",
       "      <td>2. 1471.78 to 1935.93 ms</td>\n",
       "    </tr>\n",
       "  </tbody>\n",
       "</table>\n",
       "<p>100 rows × 13 columns</p>\n",
       "</div>"
      ],
      "text/plain": [
       "                           HBW                         HTT  \\\n",
       "0   4. Greater than: 8.86 Mbps      1. Less than: 88.76 ms   \n",
       "1   4. Greater than: 8.86 Mbps      1. Less than: 88.76 ms   \n",
       "2   4. Greater than: 8.86 Mbps      1. Less than: 88.76 ms   \n",
       "3   4. Greater than: 8.86 Mbps      1. Less than: 88.76 ms   \n",
       "4   4. Greater than: 8.86 Mbps      1. Less than: 88.76 ms   \n",
       "..                         ...                         ...   \n",
       "95     1. Less than: 2.95 Mbps  4. Greater than: 266.27 ms   \n",
       "96     1. Less than: 2.95 Mbps  4. Greater than: 266.27 ms   \n",
       "97     1. Less than: 2.95 Mbps  4. Greater than: 266.27 ms   \n",
       "98     1. Less than: 2.95 Mbps  4. Greater than: 266.27 ms   \n",
       "99     1. Less than: 2.95 Mbps  4. Greater than: 266.27 ms   \n",
       "\n",
       "                      MMIPS                      MET  \\\n",
       "0   1. Less than: 726605.75  1. Less than: 943.85 ms   \n",
       "1   1. Less than: 726605.75  1. Less than: 943.85 ms   \n",
       "2   1. Less than: 726605.75  1. Less than: 943.85 ms   \n",
       "3   1. Less than: 726605.75  1. Less than: 943.85 ms   \n",
       "4   1. Less than: 726605.75  1. Less than: 943.85 ms   \n",
       "..                      ...                      ...   \n",
       "95  1. Less than: 726605.75  1. Less than: 943.85 ms   \n",
       "96  1. Less than: 726605.75  1. Less than: 943.85 ms   \n",
       "97  1. Less than: 726605.75  1. Less than: 943.85 ms   \n",
       "98  1. Less than: 726605.75  1. Less than: 943.85 ms   \n",
       "99  1. Less than: 726605.75  1. Less than: 943.85 ms   \n",
       "\n",
       "                                      MBW                              MTT  \\\n",
       "0             4. Greater than: 22.87 Mbps            1. Less than: 14.5 ms   \n",
       "1             4. Greater than: 22.87 Mbps            1. Less than: 14.5 ms   \n",
       "2   3. Between: 15.75 Mbps and 22.87 Mbps            1. Less than: 14.5 ms   \n",
       "3   3. Between: 15.75 Mbps and 22.87 Mbps            1. Less than: 14.5 ms   \n",
       "4   3. Between: 15.75 Mbps and 22.87 Mbps            1. Less than: 14.5 ms   \n",
       "..                                    ...                              ...   \n",
       "95                1. Less than: 8.62 Mbps  2. Between: 14.5 ms and 26.5 ms   \n",
       "96                1. Less than: 8.62 Mbps  2. Between: 14.5 ms and 26.5 ms   \n",
       "97                1. Less than: 8.62 Mbps  2. Between: 14.5 ms and 26.5 ms   \n",
       "98                1. Less than: 8.62 Mbps            1. Less than: 14.5 ms   \n",
       "99                1. Less than: 8.62 Mbps            1. Less than: 14.5 ms   \n",
       "\n",
       "                            RMIPS                        RET  \\\n",
       "0   2. Between: 253476 and 356952  4. Greater than: 390.0 ms   \n",
       "1            1. Less than: 253476       1. Less than: 210 ms   \n",
       "2   3. Between: 356952 and 460428  4. Greater than: 390.0 ms   \n",
       "3            1. Less than: 253476       1. Less than: 210 ms   \n",
       "4   3. Between: 356952 and 460428  4. Greater than: 390.0 ms   \n",
       "..                            ...                        ...   \n",
       "95           1. Less than: 253476       1. Less than: 210 ms   \n",
       "96        4. Greater than: 460428  4. Greater than: 390.0 ms   \n",
       "97           1. Less than: 253476       1. Less than: 210 ms   \n",
       "98  3. Between: 356952 and 460428  4. Greater than: 390.0 ms   \n",
       "99           1. Less than: 253476       1. Less than: 210 ms   \n",
       "\n",
       "                                      RBW  \\\n",
       "0                1. Less than: 40.35 Mbps   \n",
       "1   2. Between: 40.35 Mbps and 76.89 Mbps   \n",
       "2                1. Less than: 40.35 Mbps   \n",
       "3                1. Less than: 40.35 Mbps   \n",
       "4                1. Less than: 40.35 Mbps   \n",
       "..                                    ...   \n",
       "95               1. Less than: 40.35 Mbps   \n",
       "96               1. Less than: 40.35 Mbps   \n",
       "97           4. Greater than: 113.45 Mbps   \n",
       "98               1. Less than: 40.35 Mbps   \n",
       "99           4. Greater than: 113.45 Mbps   \n",
       "\n",
       "                                    RTT                       BBW  \\\n",
       "0            4. Greater than: 189.18 ms   1. Less than: 12.5 Mbps   \n",
       "1                1. Less than: 67.28 ms  4. Greater than: 37 Mbps   \n",
       "2            4. Greater than: 189.18 ms   1. Less than: 12.5 Mbps   \n",
       "3   3. Between: 128.23 ms and 189.18 ms   1. Less than: 12.5 Mbps   \n",
       "4   3. Between: 128.23 ms and 189.18 ms   1. Less than: 12.5 Mbps   \n",
       "..                                  ...                       ...   \n",
       "95  3. Between: 128.23 ms and 189.18 ms   1. Less than: 12.5 Mbps   \n",
       "96           4. Greater than: 189.18 ms   1. Less than: 12.5 Mbps   \n",
       "97               1. Less than: 67.28 ms   1. Less than: 12.5 Mbps   \n",
       "98           4. Greater than: 189.18 ms   1. Less than: 12.5 Mbps   \n",
       "99               1. Less than: 67.28 ms   1. Less than: 12.5 Mbps   \n",
       "\n",
       "                           BTT                        TT  \n",
       "0        1. Less than: 67.5 ms  2. 1471.78 to 1935.93 ms  \n",
       "1        1. Less than: 67.5 ms  1. Less than: 1471.78 ms  \n",
       "2   4. Greater than: 202.52 ms  2. 1471.78 to 1935.93 ms  \n",
       "3   4. Greater than: 202.52 ms  1. Less than: 1471.78 ms  \n",
       "4   4. Greater than: 202.52 ms  2. 1471.78 to 1935.93 ms  \n",
       "..                         ...                       ...  \n",
       "95  4. Greater than: 202.52 ms  2. 1471.78 to 1935.93 ms  \n",
       "96  4. Greater than: 202.52 ms  3. 1935.93 to 2400.07 ms  \n",
       "97  4. Greater than: 202.52 ms  2. 1471.78 to 1935.93 ms  \n",
       "98  4. Greater than: 202.52 ms  3. 1935.93 to 2400.07 ms  \n",
       "99  4. Greater than: 202.52 ms  2. 1471.78 to 1935.93 ms  \n",
       "\n",
       "[100 rows x 13 columns]"
      ]
     },
     "execution_count": 108,
     "metadata": {},
     "output_type": "execute_result"
    }
   ],
   "source": [
    "# Discretise BigPerf dataset\n",
    "cat_df = make_discrete(df)\n",
    "\n",
    "df.dropna(inplace=True)\n",
    "\n",
    "cat_df.to_csv('data\\\\discretised_bigperf.csv')\n",
    "\n",
    "cat_df.head(100)"
   ]
  },
  {
   "cell_type": "code",
   "execution_count": 109,
   "metadata": {},
   "outputs": [
    {
     "name": "stdout",
     "output_type": "stream",
     "text": [
      "[{'HBW': '1. Less than: 2.95 Mbps', 'Count': 1122}, {'HBW': '4. Greater than: 8.86 Mbps', 'Count': 1418}]\n",
      "[{'HTT': '1. Less than: 88.76 ms', 'Count': 1436}, {'HTT': '4. Greater than: 266.27 ms', 'Count': 1104}]\n",
      "[{'MMIPS': '1. Less than: 726605.75', 'Count': 675}, {'MMIPS': '2. Between: 726605.75 and 800922.5', 'Count': 628}, {'MMIPS': '3. Between: 800922.5 and 875239.25', 'Count': 533}, {'MMIPS': '4. Greater than: 875239.25', 'Count': 704}]\n",
      "[{'MET': '1. Less than: 943.85 ms', 'Count': 675}, {'MET': '2. Between: 943.85 ms and 1122.21 ms', 'Count': 628}, {'MET': '3. Between: 1122.21 ms and 1300.57 ms', 'Count': 533}, {'MET': '4. Greater than: 1300.57 ms', 'Count': 704}]\n",
      "[{'MBW': '1. Less than: 8.62 Mbps', 'Count': 2137}, {'MBW': '2. Between: 8.62 Mbps and 15.75 Mbps', 'Count': 52}, {'MBW': '3. Between: 15.75 Mbps and 22.87 Mbps', 'Count': 114}, {'MBW': '4. Greater than: 22.87 Mbps', 'Count': 237}]\n",
      "[{'MTT': '1. Less than: 14.5 ms', 'Count': 503}, {'MTT': '2. Between: 14.5 ms and 26.5 ms', 'Count': 237}, {'MTT': '3. Between: 26.5 ms and 38.51 ms', 'Count': 728}, {'MTT': '4. Greater than: 38.51 ms', 'Count': 1072}]\n",
      "[{'RMIPS': '1. Less than: 253476', 'Count': 1270}, {'RMIPS': '2. Between: 253476 and 356952', 'Count': 254}, {'RMIPS': '3. Between: 356952 and 460428', 'Count': 762}, {'RMIPS': '4. Greater than: 460428', 'Count': 254}]\n",
      "[{'RET': '1. Less than: 210 ms', 'Count': 1270}, {'RET': '4. Greater than: 390.0 ms', 'Count': 1270}]\n",
      "[{'RBW': '1. Less than: 40.35 Mbps', 'Count': 1778}, {'RBW': '2. Between: 40.35 Mbps and 76.89 Mbps', 'Count': 254}, {'RBW': '4. Greater than: 113.45 Mbps', 'Count': 508}]\n",
      "[{'RTT': '1. Less than: 67.28 ms', 'Count': 762}, {'RTT': '3. Between: 128.23 ms and 189.18 ms', 'Count': 762}, {'RTT': '4. Greater than: 189.18 ms', 'Count': 1016}]\n",
      "[{'BBW': '1. Less than: 12.5 Mbps', 'Count': 2286}, {'BBW': '4. Greater than: 37 Mbps', 'Count': 254}]\n",
      "[{'BTT': '1. Less than: 67.5 ms', 'Count': 508}, {'BTT': '4. Greater than: 202.52 ms', 'Count': 2032}]\n",
      "[{'TT': '1. Less than: 1471.78 ms', 'Count': 214}, {'TT': '2. 1471.78 to 1935.93 ms', 'Count': 850}, {'TT': '3. 1935.93 to 2400.07 ms', 'Count': 1061}, {'TT': '4. Greater than: 2400.07 ms', 'Count': 415}]\n"
     ]
    }
   ],
   "source": [
    "for column in cat_df:\n",
    "    print(cat_df.groupby(column)[column].count().reset_index(name='Count').to_dict(orient='records'))"
   ]
  },
  {
   "cell_type": "code",
   "execution_count": 110,
   "metadata": {},
   "outputs": [],
   "source": [
    "# for column in cat_df:\n",
    "#     print (column)\n",
    "#     print (cat_df[column].unique())\n",
    "#     print('\\n')"
   ]
  },
  {
   "cell_type": "code",
   "execution_count": 111,
   "metadata": {},
   "outputs": [],
   "source": [
    "from sklearn.model_selection import train_test_split\n",
    "\n",
    "training_data, testing_data = train_test_split(cat_df, test_size=0.2, random_state=20)"
   ]
  },
  {
   "cell_type": "markdown",
   "metadata": {},
   "source": [
    "## Building the model"
   ]
  },
  {
   "cell_type": "markdown",
   "metadata": {},
   "source": [
    "#### Import dependencies"
   ]
  },
  {
   "cell_type": "code",
   "execution_count": 112,
   "metadata": {},
   "outputs": [],
   "source": [
    "import networkx as nx\n",
    "from pgmpy.models import BayesianNetwork, BayesianModel\n",
    "from pgmpy.estimators import HillClimbSearch"
   ]
  },
  {
   "cell_type": "markdown",
   "metadata": {},
   "source": [
    "#### Use structure learning to build a DAG"
   ]
  },
  {
   "cell_type": "code",
   "execution_count": 113,
   "metadata": {},
   "outputs": [
    {
     "data": {
      "application/vnd.jupyter.widget-view+json": {
       "model_id": "9dfe78a53517470f9308691f68136785",
       "version_major": 2,
       "version_minor": 0
      },
      "text/plain": [
       "  0%|          | 0/1000000 [00:00<?, ?it/s]"
      ]
     },
     "metadata": {},
     "output_type": "display_data"
    }
   ],
   "source": [
    "hc = HillClimbSearch(data=training_data)\n",
    "estimate = hc.estimate(scoring_method='k2score')"
   ]
  },
  {
   "cell_type": "markdown",
   "metadata": {},
   "source": [
    "#### Generate a Bayesian Network object using the learned DAG"
   ]
  },
  {
   "cell_type": "code",
   "execution_count": 114,
   "metadata": {},
   "outputs": [],
   "source": [
    "model = BayesianNetwork(estimate)"
   ]
  },
  {
   "cell_type": "markdown",
   "metadata": {},
   "source": [
    "#### Fit the created BN model to the BigPerf data, in order to create probability distributions"
   ]
  },
  {
   "cell_type": "code",
   "execution_count": 115,
   "metadata": {},
   "outputs": [
    {
     "data": {
      "text/html": [
       "<style>div.output_area pre {white-space: pre;}</style>"
      ],
      "text/plain": [
       "<IPython.core.display.HTML object>"
      ]
     },
     "metadata": {},
     "output_type": "display_data"
    }
   ],
   "source": [
    "from pgmpy.estimators import BayesianEstimator, ExpectationMaximization, MaximumLikelihoodEstimator\n",
    "from IPython.core.display import display, HTML\n",
    "\n",
    "# disable text wrapping in output cell\n",
    "display(HTML(\"<style>div.output_area pre {white-space: pre;}</style>\"))\n",
    "\n",
    "model.cpds = []\n",
    "\n",
    "model.fit(data=training_data,\n",
    "    estimator=BayesianEstimator,\n",
    "    prior_type='BDeu',\n",
    "    complete_samples_only=True)"
   ]
  },
  {
   "cell_type": "markdown",
   "metadata": {},
   "source": [
    "#### Plot the model as a graph"
   ]
  },
  {
   "cell_type": "code",
   "execution_count": 116,
   "metadata": {},
   "outputs": [
    {
     "data": {
      "image/png": "[encoded data removed]",
      "text/plain": [
       "<Figure size 1008x1008 with 1 Axes>"
      ]
     },
     "metadata": {},
     "output_type": "display_data"
    }
   ],
   "source": [
    "plt.figure(3,figsize=(14,14)) \n",
    "G = nx.DiGraph()\n",
    "G.add_edges_from(model.edges)\n",
    "\n",
    "\n",
    "G.add_nodes_from(model.nodes)\n",
    "pos = nx.circular_layout(G)\n",
    "DAG = G.to_directed()\n",
    "nx.topological_sort(DAG)\n",
    "\n",
    "nx.draw_networkx(G,\n",
    "                pos=pos,\n",
    "                with_labels=True,\n",
    "                node_size=[2000,2000,2000,4000,2000,2000,2000,2000,2000,2000,2000,2000,2000],\n",
    "                arrowsize=30,\n",
    "                alpha=0.7,\n",
    "                font_weight=\"bold\",\n",
    "                width=2.0)  # Draw the original graph\n",
    "\n",
    "tt_g = G.subgraph(nodes=['TT'])\n",
    "nx.draw(tt_g, pos=pos, with_labels=False, arrowsize=0, node_size=4100, alpha=0.7, font_weight=\"bold\", node_color='#063970')\n",
    "\n",
    "# sub_g = G.subgraph(nodes=['MET', 'HTT', 'RBW', 'RMIPS'])\n",
    "# nx.draw(sub_g, pos=pos, with_labels=False, arrowsize=0, node_size=1400, alpha=0.7, font_weight=\"bold\", node_color='#FFA500')  # Draw the original graph\n",
    "plt.show()"
   ]
  },
  {
   "cell_type": "code",
   "execution_count": 117,
   "metadata": {},
   "outputs": [
    {
     "data": {
      "image/png": "[encoded data removed]",
      "text/plain": [
       "<Figure size 432x288 with 1 Axes>"
      ]
     },
     "metadata": {},
     "output_type": "display_data"
    }
   ],
   "source": [
    "sub_g = G.subgraph(nodes=['MET', 'HTT', 'RBW', 'RMIPS', 'TT'])\n",
    "nx.draw(sub_g, pos=pos, with_labels=True, arrowsize=30, node_size=800, alpha=0.7, font_weight=\"bold\")  # Draw the original graph\n",
    "plt.show()"
   ]
  },
  {
   "cell_type": "code",
   "execution_count": 118,
   "metadata": {},
   "outputs": [
    {
     "data": {
      "image/png": "[encoded data removed]",
      "text/plain": [
       "<Figure size 432x288 with 1 Axes>"
      ]
     },
     "metadata": {},
     "output_type": "display_data"
    }
   ],
   "source": [
    "\n",
    "sub_g = G.subgraph(nodes=['MMIPS', 'HTT', 'MBW', 'MTT', 'BTT', 'HBW'])\n",
    "pos = nx.circular_layout(sub_g)\n",
    "nx.draw(sub_g, pos=pos, with_labels=True, arrowsize=30, node_size=800, alpha=0.7, font_weight=\"bold\")  # Draw the original graph\n",
    "plt.show()"
   ]
  },
  {
   "cell_type": "markdown",
   "metadata": {},
   "source": [
    "## Scoring the model"
   ]
  },
  {
   "cell_type": "markdown",
   "metadata": {},
   "source": [
    "#### Collect prediction accuracy scores for all variables"
   ]
  },
  {
   "cell_type": "code",
   "execution_count": 119,
   "metadata": {},
   "outputs": [
    {
     "data": {
      "application/vnd.jupyter.widget-view+json": {
       "model_id": "99efa20fe4bb4ef3b440c989f8c333d2",
       "version_major": 2,
       "version_minor": 0
      },
      "text/plain": [
       "  0%|          | 0/150 [00:00<?, ?it/s]"
      ]
     },
     "metadata": {},
     "output_type": "display_data"
    },
    {
     "name": "stdout",
     "output_type": "stream",
     "text": [
      "HBW Accuracy score: 0.9940944881889764\n"
     ]
    },
    {
     "name": "stderr",
     "output_type": "stream",
     "text": [
      "c:\\Python310\\lib\\site-packages\\pgmpy\\models\\BayesianNetwork.py:747: FutureWarning: Passing a set as an indexer is deprecated and will raise in a future version. Use a list instead.\n",
      "  return data.merge(data_with_results, how=\"left\").loc[:, missing_variables]\n"
     ]
    },
    {
     "data": {
      "application/vnd.jupyter.widget-view+json": {
       "model_id": "2e311cd3601c4163be60a41a0f937117",
       "version_major": 2,
       "version_minor": 0
      },
      "text/plain": [
       "  0%|          | 0/152 [00:00<?, ?it/s]"
      ]
     },
     "metadata": {},
     "output_type": "display_data"
    },
    {
     "name": "stdout",
     "output_type": "stream",
     "text": [
      "HTT Accuracy score: 0.9901574803149606\n"
     ]
    },
    {
     "name": "stderr",
     "output_type": "stream",
     "text": [
      "c:\\Python310\\lib\\site-packages\\pgmpy\\models\\BayesianNetwork.py:747: FutureWarning: Passing a set as an indexer is deprecated and will raise in a future version. Use a list instead.\n",
      "  return data.merge(data_with_results, how=\"left\").loc[:, missing_variables]\n"
     ]
    },
    {
     "data": {
      "application/vnd.jupyter.widget-view+json": {
       "model_id": "435d7e1f052d4d93b6e26d6a93c5b290",
       "version_major": 2,
       "version_minor": 0
      },
      "text/plain": [
       "  0%|          | 0/153 [00:00<?, ?it/s]"
      ]
     },
     "metadata": {},
     "output_type": "display_data"
    },
    {
     "name": "stdout",
     "output_type": "stream",
     "text": [
      "MMIPS Accuracy score: 1.0\n"
     ]
    },
    {
     "name": "stderr",
     "output_type": "stream",
     "text": [
      "c:\\Python310\\lib\\site-packages\\pgmpy\\models\\BayesianNetwork.py:747: FutureWarning: Passing a set as an indexer is deprecated and will raise in a future version. Use a list instead.\n",
      "  return data.merge(data_with_results, how=\"left\").loc[:, missing_variables]\n"
     ]
    },
    {
     "data": {
      "application/vnd.jupyter.widget-view+json": {
       "model_id": "25d22da0b61544a4a23cc77f89fef89b",
       "version_major": 2,
       "version_minor": 0
      },
      "text/plain": [
       "  0%|          | 0/153 [00:00<?, ?it/s]"
      ]
     },
     "metadata": {},
     "output_type": "display_data"
    },
    {
     "name": "stdout",
     "output_type": "stream",
     "text": [
      "MET Accuracy score: 1.0\n"
     ]
    },
    {
     "name": "stderr",
     "output_type": "stream",
     "text": [
      "c:\\Python310\\lib\\site-packages\\pgmpy\\models\\BayesianNetwork.py:747: FutureWarning: Passing a set as an indexer is deprecated and will raise in a future version. Use a list instead.\n",
      "  return data.merge(data_with_results, how=\"left\").loc[:, missing_variables]\n"
     ]
    },
    {
     "data": {
      "application/vnd.jupyter.widget-view+json": {
       "model_id": "54896a49f2df46949716e2b503f5e017",
       "version_major": 2,
       "version_minor": 0
      },
      "text/plain": [
       "  0%|          | 0/138 [00:00<?, ?it/s]"
      ]
     },
     "metadata": {},
     "output_type": "display_data"
    },
    {
     "name": "stdout",
     "output_type": "stream",
     "text": [
      "MBW Accuracy score: 0.9271653543307087\n"
     ]
    },
    {
     "name": "stderr",
     "output_type": "stream",
     "text": [
      "c:\\Python310\\lib\\site-packages\\pgmpy\\models\\BayesianNetwork.py:747: FutureWarning: Passing a set as an indexer is deprecated and will raise in a future version. Use a list instead.\n",
      "  return data.merge(data_with_results, how=\"left\").loc[:, missing_variables]\n"
     ]
    },
    {
     "data": {
      "application/vnd.jupyter.widget-view+json": {
       "model_id": "7e0ecfadf43b41538e538a006960f5ed",
       "version_major": 2,
       "version_minor": 0
      },
      "text/plain": [
       "  0%|          | 0/101 [00:00<?, ?it/s]"
      ]
     },
     "metadata": {},
     "output_type": "display_data"
    },
    {
     "name": "stdout",
     "output_type": "stream",
     "text": [
      "MTT Accuracy score: 0.7539370078740157\n"
     ]
    },
    {
     "name": "stderr",
     "output_type": "stream",
     "text": [
      "c:\\Python310\\lib\\site-packages\\pgmpy\\models\\BayesianNetwork.py:747: FutureWarning: Passing a set as an indexer is deprecated and will raise in a future version. Use a list instead.\n",
      "  return data.merge(data_with_results, how=\"left\").loc[:, missing_variables]\n"
     ]
    },
    {
     "data": {
      "application/vnd.jupyter.widget-view+json": {
       "model_id": "204392d550234eeaba5fdf090c54be8a",
       "version_major": 2,
       "version_minor": 0
      },
      "text/plain": [
       "  0%|          | 0/134 [00:00<?, ?it/s]"
      ]
     },
     "metadata": {},
     "output_type": "display_data"
    },
    {
     "name": "stdout",
     "output_type": "stream",
     "text": [
      "RMIPS Accuracy score: 0.8917322834645669\n"
     ]
    },
    {
     "name": "stderr",
     "output_type": "stream",
     "text": [
      "c:\\Python310\\lib\\site-packages\\pgmpy\\models\\BayesianNetwork.py:747: FutureWarning: Passing a set as an indexer is deprecated and will raise in a future version. Use a list instead.\n",
      "  return data.merge(data_with_results, how=\"left\").loc[:, missing_variables]\n"
     ]
    },
    {
     "data": {
      "application/vnd.jupyter.widget-view+json": {
       "model_id": "aabb67431f9c427f944f58eb96a0093a",
       "version_major": 2,
       "version_minor": 0
      },
      "text/plain": [
       "  0%|          | 0/153 [00:00<?, ?it/s]"
      ]
     },
     "metadata": {},
     "output_type": "display_data"
    },
    {
     "name": "stdout",
     "output_type": "stream",
     "text": [
      "RET Accuracy score: 1.0\n"
     ]
    },
    {
     "name": "stderr",
     "output_type": "stream",
     "text": [
      "c:\\Python310\\lib\\site-packages\\pgmpy\\models\\BayesianNetwork.py:747: FutureWarning: Passing a set as an indexer is deprecated and will raise in a future version. Use a list instead.\n",
      "  return data.merge(data_with_results, how=\"left\").loc[:, missing_variables]\n"
     ]
    },
    {
     "data": {
      "application/vnd.jupyter.widget-view+json": {
       "model_id": "ece343aa0a48427da3568ab9e674a6c3",
       "version_major": 2,
       "version_minor": 0
      },
      "text/plain": [
       "  0%|          | 0/153 [00:00<?, ?it/s]"
      ]
     },
     "metadata": {},
     "output_type": "display_data"
    },
    {
     "name": "stdout",
     "output_type": "stream",
     "text": [
      "RBW Accuracy score: 1.0\n"
     ]
    },
    {
     "name": "stderr",
     "output_type": "stream",
     "text": [
      "c:\\Python310\\lib\\site-packages\\pgmpy\\models\\BayesianNetwork.py:747: FutureWarning: Passing a set as an indexer is deprecated and will raise in a future version. Use a list instead.\n",
      "  return data.merge(data_with_results, how=\"left\").loc[:, missing_variables]\n"
     ]
    },
    {
     "data": {
      "application/vnd.jupyter.widget-view+json": {
       "model_id": "508371077d45442a88bce4e4f8f51dc1",
       "version_major": 2,
       "version_minor": 0
      },
      "text/plain": [
       "  0%|          | 0/141 [00:00<?, ?it/s]"
      ]
     },
     "metadata": {},
     "output_type": "display_data"
    },
    {
     "name": "stdout",
     "output_type": "stream",
     "text": [
      "RTT Accuracy score: 0.8996062992125984\n"
     ]
    },
    {
     "name": "stderr",
     "output_type": "stream",
     "text": [
      "c:\\Python310\\lib\\site-packages\\pgmpy\\models\\BayesianNetwork.py:747: FutureWarning: Passing a set as an indexer is deprecated and will raise in a future version. Use a list instead.\n",
      "  return data.merge(data_with_results, how=\"left\").loc[:, missing_variables]\n"
     ]
    },
    {
     "data": {
      "application/vnd.jupyter.widget-view+json": {
       "model_id": "9d964fe36d264441953ed766765e7c67",
       "version_major": 2,
       "version_minor": 0
      },
      "text/plain": [
       "  0%|          | 0/153 [00:00<?, ?it/s]"
      ]
     },
     "metadata": {},
     "output_type": "display_data"
    },
    {
     "name": "stdout",
     "output_type": "stream",
     "text": [
      "BBW Accuracy score: 1.0\n"
     ]
    },
    {
     "name": "stderr",
     "output_type": "stream",
     "text": [
      "c:\\Python310\\lib\\site-packages\\pgmpy\\models\\BayesianNetwork.py:747: FutureWarning: Passing a set as an indexer is deprecated and will raise in a future version. Use a list instead.\n",
      "  return data.merge(data_with_results, how=\"left\").loc[:, missing_variables]\n"
     ]
    },
    {
     "data": {
      "application/vnd.jupyter.widget-view+json": {
       "model_id": "4d59fd313c594c4991de60cfbef6ab14",
       "version_major": 2,
       "version_minor": 0
      },
      "text/plain": [
       "  0%|          | 0/153 [00:00<?, ?it/s]"
      ]
     },
     "metadata": {},
     "output_type": "display_data"
    },
    {
     "name": "stdout",
     "output_type": "stream",
     "text": [
      "BTT Accuracy score: 0.9980314960629921\n"
     ]
    },
    {
     "name": "stderr",
     "output_type": "stream",
     "text": [
      "c:\\Python310\\lib\\site-packages\\pgmpy\\models\\BayesianNetwork.py:747: FutureWarning: Passing a set as an indexer is deprecated and will raise in a future version. Use a list instead.\n",
      "  return data.merge(data_with_results, how=\"left\").loc[:, missing_variables]\n"
     ]
    },
    {
     "data": {
      "application/vnd.jupyter.widget-view+json": {
       "model_id": "56e6f0fa43b140c38daee209c39b6760",
       "version_major": 2,
       "version_minor": 0
      },
      "text/plain": [
       "  0%|          | 0/137 [00:00<?, ?it/s]"
      ]
     },
     "metadata": {},
     "output_type": "display_data"
    },
    {
     "name": "stdout",
     "output_type": "stream",
     "text": [
      "TT Accuracy score: 0.8877952755905512\n"
     ]
    },
    {
     "name": "stderr",
     "output_type": "stream",
     "text": [
      "c:\\Python310\\lib\\site-packages\\pgmpy\\models\\BayesianNetwork.py:747: FutureWarning: Passing a set as an indexer is deprecated and will raise in a future version. Use a list instead.\n",
      "  return data.merge(data_with_results, how=\"left\").loc[:, missing_variables]\n"
     ]
    }
   ],
   "source": [
    "from pgmpy.metrics.metrics import correlation_score, log_likelihood_score, structure_score\n",
    "from sklearn.metrics import f1_score, accuracy_score, precision_score, recall_score\n",
    "\n",
    "accuracy_dict = {}\n",
    "\n",
    "for column in testing_data:\n",
    "    predict_data = testing_data.copy()\n",
    "    predict_data.drop(column, axis=1, inplace=True)\n",
    "    y_pred = model.predict(predict_data)\n",
    "\n",
    "    accuracy = accuracy_score(testing_data[column], y_pred)\n",
    "\n",
    "    print(f'{column} Accuracy score: {accuracy}')\n",
    "\n",
    "    accuracy_dict[column] = accuracy"
   ]
  },
  {
   "cell_type": "code",
   "execution_count": 120,
   "metadata": {},
   "outputs": [],
   "source": [
    "sum = 0\n",
    "for v in accuracy_dict.values():\n",
    "    sum += v\n",
    "\n",
    "accuracy_dict['Average'] = sum / len(accuracy_dict.keys())"
   ]
  },
  {
   "cell_type": "markdown",
   "metadata": {},
   "source": [
    "#### Get structure correlation scores"
   ]
  },
  {
   "cell_type": "code",
   "execution_count": 121,
   "metadata": {},
   "outputs": [
    {
     "name": "stdout",
     "output_type": "stream",
     "text": [
      "F1 score: 0.6153846153846153\n",
      "Accuracy score: 0.8076923076923077\n",
      "Precision score: 1.0\n",
      "Recall score: 0.4444444444444444\n",
      "Log-likilihood score: -2558.340124235847\n",
      "Structure score: -2998.7209641358286\n",
      "\n"
     ]
    }
   ],
   "source": [
    "f1 = correlation_score(model=model, data=testing_data, test='chi_square', significance_level=0.05, score=f1_score, return_summary=False)\n",
    "acc = correlation_score(model=model, data=testing_data, test='chi_square', significance_level=0.05, score=accuracy_score, return_summary=False)\n",
    "pr = correlation_score(model=model, data=testing_data, test='chi_square', significance_level=0.05, score=precision_score, return_summary=False)\n",
    "recall = correlation_score(model=model, data=testing_data, test='chi_square', significance_level=0.05, score=recall_score, return_summary=False)\n",
    "ls = log_likelihood_score(model=model, data=testing_data)\n",
    "ss = structure_score(model=model, data=testing_data, scoring_method='bdeu')\n",
    "\n",
    "\n",
    "print(f'F1 score: {f1}')\n",
    "print(f'Accuracy score: {acc}')\n",
    "print(f'Precision score: {pr}')\n",
    "print(f'Recall score: {recall}')\n",
    "print(f'Log-likilihood score: {ls}')\n",
    "print(f'Structure score: {ss}')\n",
    "\n",
    "print(model.name)"
   ]
  },
  {
   "cell_type": "markdown",
   "metadata": {},
   "source": [
    "#### Store model metrics to a file for visualisation"
   ]
  },
  {
   "cell_type": "code",
   "execution_count": 122,
   "metadata": {},
   "outputs": [],
   "source": [
    "def store_metrics(metrics_file_name, model_name, f1, accuracy, precision, recall, log_likelihood_score, structure_score, accuracy_dict):\n",
    "    try: \n",
    "        df = pd.read_csv('Model-metrics.csv', header=0, index_col=False)\n",
    "    except:\n",
    "        df_columns = ['Model', 'F1', 'Accuracy', 'Precision', 'Recall', 'Log likelihood score', 'Structure score']\n",
    "\n",
    "        df = pd.DataFrame(columns=df_columns)\n",
    "\n",
    "    else:\n",
    "        df = df[df.Model != model_name]\n",
    "        \n",
    "    conv_dict = {}\n",
    "    for k, v in accuracy_dict.items():\n",
    "        conv_dict[k] = v*100\n",
    "    \n",
    "    new_row = {'Model': model_name, 'F1': f1, 'Accuracy': accuracy, 'Precision': precision, 'Recall': recall, 'Log likelihood score': log_likelihood_score, 'Structure score': structure_score,\n",
    "    'HBW prediction accuracy': conv_dict['HBW'], 'HTT prediction accuracy': conv_dict['HTT'], 'MMIPS prediction accuracy': conv_dict['MMIPS'], 'MET prediction accuracy': conv_dict['MET'],\n",
    "    'MBW prediction accuracy': conv_dict['MBW'], 'MTT prediction accuracy': conv_dict['MTT'], 'RMIPS prediction accuracy': conv_dict['RMIPS'], 'RET prediction accuracy': conv_dict['RET'],\n",
    "    'RBW prediction accuracy': conv_dict['RBW'], 'RTT prediction accuracy': conv_dict['RTT'], 'BBW prediction accuracy': conv_dict['BBW'], 'BTT prediction accuracy': conv_dict['BTT'],\n",
    "    'TT prediction accuracy': conv_dict['TT'], 'Average prediction accuracy': conv_dict['Average']}\n",
    "\n",
    "    df = df.append(new_row, ignore_index=True)\n",
    "\n",
    "    # Write to file\n",
    "    df.to_csv(metrics_file_name, index=False)"
   ]
  },
  {
   "cell_type": "code",
   "execution_count": 123,
   "metadata": {},
   "outputs": [
    {
     "name": "stderr",
     "output_type": "stream",
     "text": [
      "C:\\Users\\KEIRMC~1\\AppData\\Local\\Temp/ipykernel_5836/2562225317.py:22: FutureWarning: The frame.append method is deprecated and will be removed from pandas in a future version. Use pandas.concat instead.\n",
      "  df = df.append(new_row, ignore_index=True)\n"
     ]
    }
   ],
   "source": [
    "model_name = 'Score-based CBN'\n",
    "metrics_file_name = 'Model-metrics.csv'\n",
    "\n",
    "store_metrics(metrics_file_name=metrics_file_name, model_name=model_name, f1=f1, accuracy=acc, precision=pr, recall=recall, log_likelihood_score=ls, structure_score=ss, accuracy_dict=accuracy_dict)"
   ]
  },
  {
   "cell_type": "markdown",
   "metadata": {},
   "source": [
    "## Reasoning using inference queries"
   ]
  },
  {
   "cell_type": "code",
   "execution_count": 124,
   "metadata": {},
   "outputs": [],
   "source": [
    "# Initializing the VariableElimination class\n",
    "\n",
    "from pgmpy.inference import VariableElimination\n",
    "from pgmpy.inference.ExactInference import BeliefPropagation\n",
    "\n",
    "bigPerf_infer = VariableElimination(model=model)"
   ]
  },
  {
   "cell_type": "markdown",
   "metadata": {},
   "source": [
    "#### Query best case of TT"
   ]
  },
  {
   "cell_type": "code",
   "execution_count": 125,
   "metadata": {},
   "outputs": [
    {
     "data": {
      "application/vnd.jupyter.widget-view+json": {
       "model_id": "fea2e4464af74aad8621ab054d4f164a",
       "version_major": 2,
       "version_minor": 0
      },
      "text/plain": [
       "  0%|          | 0/7 [00:00<?, ?it/s]"
      ]
     },
     "metadata": {},
     "output_type": "display_data"
    },
    {
     "data": {
      "application/vnd.jupyter.widget-view+json": {
       "model_id": "827ab228c36344338b44371c266ac976",
       "version_major": 2,
       "version_minor": 0
      },
      "text/plain": [
       "  0%|          | 0/7 [00:00<?, ?it/s]"
      ]
     },
     "metadata": {},
     "output_type": "display_data"
    },
    {
     "name": "stdout",
     "output_type": "stream",
     "text": [
      "+---------------------------------+------------+\n",
      "| HTT                             |   phi(HTT) |\n",
      "+=================================+============+\n",
      "| HTT(1. Less than: 88.76 ms)     |     0.8372 |\n",
      "+---------------------------------+------------+\n",
      "| HTT(4. Greater than: 266.27 ms) |     0.1628 |\n",
      "+---------------------------------+------------+\n",
      "+--------------------------------------------+------------+\n",
      "| MET                                        |   phi(MET) |\n",
      "+============================================+============+\n",
      "| MET(1. Less than: 943.85 ms)               |     0.6713 |\n",
      "+--------------------------------------------+------------+\n",
      "| MET(2. Between: 943.85 ms and 1122.21 ms)  |     0.2471 |\n",
      "+--------------------------------------------+------------+\n",
      "| MET(3. Between: 1122.21 ms and 1300.57 ms) |     0.0797 |\n",
      "+--------------------------------------------+------------+\n",
      "| MET(4. Greater than: 1300.57 ms)           |     0.0020 |\n",
      "+--------------------------------------------+------------+\n",
      "+--------------------------------------------+------------+\n",
      "| RBW                                        |   phi(RBW) |\n",
      "+============================================+============+\n",
      "| RBW(1. Less than: 40.35 Mbps)              |     0.1000 |\n",
      "+--------------------------------------------+------------+\n",
      "| RBW(2. Between: 40.35 Mbps and 76.89 Mbps) |     0.5745 |\n",
      "+--------------------------------------------+------------+\n",
      "| RBW(4. Greater than: 113.45 Mbps)          |     0.3254 |\n",
      "+--------------------------------------------+------------+\n",
      "+--------------------------------------+--------------+\n",
      "| RMIPS                                |   phi(RMIPS) |\n",
      "+======================================+==============+\n",
      "| RMIPS(1. Less than: 253476)          |       0.9940 |\n",
      "+--------------------------------------+--------------+\n",
      "| RMIPS(2. Between: 253476 and 356952) |       0.0017 |\n",
      "+--------------------------------------+--------------+\n",
      "| RMIPS(3. Between: 356952 and 460428) |       0.0026 |\n",
      "+--------------------------------------+--------------+\n",
      "| RMIPS(4. Greater than: 460428)       |       0.0017 |\n",
      "+--------------------------------------+--------------+\n"
     ]
    }
   ],
   "source": [
    "# Compute probabilities of parent variables of TT when TT is Very Low\n",
    "q_tt = bigPerf_infer.query(variables=['HTT', 'MET', 'RBW', 'RMIPS'], evidence={'TT': TT_LABELS[0]}, joint=False)\n",
    "\n",
    "#print(query)\n",
    "for factor in q_tt.values():\n",
    "    print(factor)"
   ]
  },
  {
   "cell_type": "markdown",
   "metadata": {},
   "source": [
    "#### Query worst case of TT"
   ]
  },
  {
   "cell_type": "code",
   "execution_count": 126,
   "metadata": {},
   "outputs": [
    {
     "data": {
      "application/vnd.jupyter.widget-view+json": {
       "model_id": "303a62c846ea4012ace399845b942385",
       "version_major": 2,
       "version_minor": 0
      },
      "text/plain": [
       "  0%|          | 0/7 [00:00<?, ?it/s]"
      ]
     },
     "metadata": {},
     "output_type": "display_data"
    },
    {
     "data": {
      "application/vnd.jupyter.widget-view+json": {
       "model_id": "e2bbce2bdb9c43b4b12e72baf439aabf",
       "version_major": 2,
       "version_minor": 0
      },
      "text/plain": [
       "  0%|          | 0/7 [00:00<?, ?it/s]"
      ]
     },
     "metadata": {},
     "output_type": "display_data"
    },
    {
     "name": "stdout",
     "output_type": "stream",
     "text": [
      "+---------------------------------+------------+\n",
      "| HTT                             |   phi(HTT) |\n",
      "+=================================+============+\n",
      "| HTT(1. Less than: 88.76 ms)     |     0.3307 |\n",
      "+---------------------------------+------------+\n",
      "| HTT(4. Greater than: 266.27 ms) |     0.6693 |\n",
      "+---------------------------------+------------+\n",
      "+--------------------------------------------+------------+\n",
      "| MET                                        |   phi(MET) |\n",
      "+============================================+============+\n",
      "| MET(1. Less than: 943.85 ms)               |     0.0011 |\n",
      "+--------------------------------------------+------------+\n",
      "| MET(2. Between: 943.85 ms and 1122.21 ms)  |     0.0919 |\n",
      "+--------------------------------------------+------------+\n",
      "| MET(3. Between: 1122.21 ms and 1300.57 ms) |     0.2036 |\n",
      "+--------------------------------------------+------------+\n",
      "| MET(4. Greater than: 1300.57 ms)           |     0.7035 |\n",
      "+--------------------------------------------+------------+\n",
      "+--------------------------------------------+------------+\n",
      "| RBW                                        |   phi(RBW) |\n",
      "+============================================+============+\n",
      "| RBW(1. Less than: 40.35 Mbps)              |     0.9974 |\n",
      "+--------------------------------------------+------------+\n",
      "| RBW(2. Between: 40.35 Mbps and 76.89 Mbps) |     0.0012 |\n",
      "+--------------------------------------------+------------+\n",
      "| RBW(4. Greater than: 113.45 Mbps)          |     0.0015 |\n",
      "+--------------------------------------------+------------+\n",
      "+--------------------------------------+--------------+\n",
      "| RMIPS                                |   phi(RMIPS) |\n",
      "+======================================+==============+\n",
      "| RMIPS(1. Less than: 253476)          |       0.0134 |\n",
      "+--------------------------------------+--------------+\n",
      "| RMIPS(2. Between: 253476 and 356952) |       0.0709 |\n",
      "+--------------------------------------+--------------+\n",
      "| RMIPS(3. Between: 356952 and 460428) |       0.6658 |\n",
      "+--------------------------------------+--------------+\n",
      "| RMIPS(4. Greater than: 460428)       |       0.2499 |\n",
      "+--------------------------------------+--------------+\n"
     ]
    }
   ],
   "source": [
    "# Compute probabilities of parent variables of TT when TT is Very Low\n",
    "q_tt_worst = bigPerf_infer.query(variables=['HTT', 'MET', 'RBW', 'RMIPS'], evidence={'TT': TT_LABELS[3]}, joint=False)\n",
    "\n",
    "#print(query)\n",
    "for factor in q_tt_worst.values():\n",
    "    print(factor)"
   ]
  },
  {
   "cell_type": "markdown",
   "metadata": {},
   "source": [
    "#### Query best case of RET"
   ]
  },
  {
   "cell_type": "code",
   "execution_count": 127,
   "metadata": {},
   "outputs": [
    {
     "data": {
      "application/vnd.jupyter.widget-view+json": {
       "model_id": "98bc2b1a6c584c6bbd8ba09a5137d489",
       "version_major": 2,
       "version_minor": 0
      },
      "text/plain": [
       "  0%|          | 0/3 [00:00<?, ?it/s]"
      ]
     },
     "metadata": {},
     "output_type": "display_data"
    },
    {
     "data": {
      "application/vnd.jupyter.widget-view+json": {
       "model_id": "0c0e9d2c41a64d0d89f4b842c9a4e579",
       "version_major": 2,
       "version_minor": 0
      },
      "text/plain": [
       "  0%|          | 0/3 [00:00<?, ?it/s]"
      ]
     },
     "metadata": {},
     "output_type": "display_data"
    },
    {
     "name": "stdout",
     "output_type": "stream",
     "text": [
      "+--------------------------------------+--------------+\n",
      "| RMIPS                                |   phi(RMIPS) |\n",
      "+======================================+==============+\n",
      "| RMIPS(1. Less than: 253476)          |       0.9982 |\n",
      "+--------------------------------------+--------------+\n",
      "| RMIPS(2. Between: 253476 and 356952) |       0.0006 |\n",
      "+--------------------------------------+--------------+\n",
      "| RMIPS(3. Between: 356952 and 460428) |       0.0006 |\n",
      "+--------------------------------------+--------------+\n",
      "| RMIPS(4. Greater than: 460428)       |       0.0006 |\n",
      "+--------------------------------------+--------------+\n"
     ]
    }
   ],
   "source": [
    "q_ret_best = bigPerf_infer.query(variables=['RMIPS'], evidence={'RET': RET_LABELS[0]}, joint=False)\n",
    "\n",
    "#print(query)\n",
    "for factor in q_ret_best.values():\n",
    "    print(factor)"
   ]
  },
  {
   "cell_type": "markdown",
   "metadata": {},
   "source": [
    "#### Query worst case of RET"
   ]
  },
  {
   "cell_type": "code",
   "execution_count": 128,
   "metadata": {},
   "outputs": [
    {
     "data": {
      "application/vnd.jupyter.widget-view+json": {
       "model_id": "6c3998763e9643a39b1301f8b96b35b4",
       "version_major": 2,
       "version_minor": 0
      },
      "text/plain": [
       "  0%|          | 0/3 [00:00<?, ?it/s]"
      ]
     },
     "metadata": {},
     "output_type": "display_data"
    },
    {
     "data": {
      "application/vnd.jupyter.widget-view+json": {
       "model_id": "d5757b0ce8d642248fd52f7e24a58529",
       "version_major": 2,
       "version_minor": 0
      },
      "text/plain": [
       "  0%|          | 0/3 [00:00<?, ?it/s]"
      ]
     },
     "metadata": {},
     "output_type": "display_data"
    },
    {
     "name": "stdout",
     "output_type": "stream",
     "text": [
      "+--------------------------------------+--------------+\n",
      "| RMIPS                                |   phi(RMIPS) |\n",
      "+======================================+==============+\n",
      "| RMIPS(1. Less than: 253476)          |       0.0006 |\n",
      "+--------------------------------------+--------------+\n",
      "| RMIPS(2. Between: 253476 and 356952) |       0.2015 |\n",
      "+--------------------------------------+--------------+\n",
      "| RMIPS(3. Between: 356952 and 460428) |       0.6003 |\n",
      "+--------------------------------------+--------------+\n",
      "| RMIPS(4. Greater than: 460428)       |       0.1976 |\n",
      "+--------------------------------------+--------------+\n"
     ]
    }
   ],
   "source": [
    "q_ret_worst = bigPerf_infer.query(variables=['RMIPS'], evidence={'RET': RET_LABELS[3]}, joint=False)\n",
    "\n",
    "#print(query)\n",
    "for factor in q_ret_worst.values():\n",
    "    print(factor)"
   ]
  },
  {
   "cell_type": "markdown",
   "metadata": {},
   "source": [
    "#### Query best case of MET"
   ]
  },
  {
   "cell_type": "code",
   "execution_count": 129,
   "metadata": {},
   "outputs": [
    {
     "data": {
      "application/vnd.jupyter.widget-view+json": {
       "model_id": "e44486529a1d484b965b061d721ca353",
       "version_major": 2,
       "version_minor": 0
      },
      "text/plain": [
       "  0%|          | 0/9 [00:00<?, ?it/s]"
      ]
     },
     "metadata": {},
     "output_type": "display_data"
    },
    {
     "data": {
      "application/vnd.jupyter.widget-view+json": {
       "model_id": "8b331ce4d8af472e8c2a335851a63fc7",
       "version_major": 2,
       "version_minor": 0
      },
      "text/plain": [
       "  0%|          | 0/9 [00:00<?, ?it/s]"
      ]
     },
     "metadata": {},
     "output_type": "display_data"
    },
    {
     "name": "stdout",
     "output_type": "stream",
     "text": [
      "+-------------------------------------------+--------------+\n",
      "| MMIPS                                     |   phi(MMIPS) |\n",
      "+===========================================+==============+\n",
      "| MMIPS(1. Less than: 726605.75)            |       0.9982 |\n",
      "+-------------------------------------------+--------------+\n",
      "| MMIPS(2. Between: 726605.75 and 800922.5) |       0.0006 |\n",
      "+-------------------------------------------+--------------+\n",
      "| MMIPS(3. Between: 800922.5 and 875239.25) |       0.0006 |\n",
      "+-------------------------------------------+--------------+\n",
      "| MMIPS(4. Greater than: 875239.25)         |       0.0006 |\n",
      "+-------------------------------------------+--------------+\n"
     ]
    }
   ],
   "source": [
    "q_met_best = bigPerf_infer.query(variables=['MMIPS'], evidence={'MET': MET_LABELS[0]}, joint=False)\n",
    "\n",
    "for factor in q_met_best.values():\n",
    "    print(factor)"
   ]
  },
  {
   "cell_type": "markdown",
   "metadata": {},
   "source": [
    "#### Query worst case of MET"
   ]
  },
  {
   "cell_type": "code",
   "execution_count": 130,
   "metadata": {},
   "outputs": [
    {
     "data": {
      "application/vnd.jupyter.widget-view+json": {
       "model_id": "ae0c16940efd446fbd8d1d3297b1cfa6",
       "version_major": 2,
       "version_minor": 0
      },
      "text/plain": [
       "  0%|          | 0/9 [00:00<?, ?it/s]"
      ]
     },
     "metadata": {},
     "output_type": "display_data"
    },
    {
     "data": {
      "application/vnd.jupyter.widget-view+json": {
       "model_id": "1945722e215b471eaedf9b9efa43290e",
       "version_major": 2,
       "version_minor": 0
      },
      "text/plain": [
       "  0%|          | 0/9 [00:00<?, ?it/s]"
      ]
     },
     "metadata": {},
     "output_type": "display_data"
    },
    {
     "name": "stdout",
     "output_type": "stream",
     "text": [
      "+-------------------------------------------+--------------+\n",
      "| MMIPS                                     |   phi(MMIPS) |\n",
      "+===========================================+==============+\n",
      "| MMIPS(1. Less than: 726605.75)            |       0.0006 |\n",
      "+-------------------------------------------+--------------+\n",
      "| MMIPS(2. Between: 726605.75 and 800922.5) |       0.0006 |\n",
      "+-------------------------------------------+--------------+\n",
      "| MMIPS(3. Between: 800922.5 and 875239.25) |       0.0006 |\n",
      "+-------------------------------------------+--------------+\n",
      "| MMIPS(4. Greater than: 875239.25)         |       0.9983 |\n",
      "+-------------------------------------------+--------------+\n"
     ]
    }
   ],
   "source": [
    "q_met_worst = bigPerf_infer.query(variables=['MMIPS'], evidence={'MET': MET_LABELS[3]}, joint=False)\n",
    "\n",
    "for factor in q_met_worst.values():\n",
    "    print(factor)"
   ]
  },
  {
   "cell_type": "code",
   "execution_count": 132,
   "metadata": {},
   "outputs": [
    {
     "data": {
      "application/vnd.jupyter.widget-view+json": {
       "model_id": "d7569546bb7545f7a006b7b86fd7a40d",
       "version_major": 2,
       "version_minor": 0
      },
      "text/plain": [
       "  0%|          | 0/4 [00:00<?, ?it/s]"
      ]
     },
     "metadata": {},
     "output_type": "display_data"
    },
    {
     "data": {
      "application/vnd.jupyter.widget-view+json": {
       "model_id": "e66fce25e5904f969eb4f456ef977e59",
       "version_major": 2,
       "version_minor": 0
      },
      "text/plain": [
       "  0%|          | 0/4 [00:00<?, ?it/s]"
      ]
     },
     "metadata": {},
     "output_type": "display_data"
    },
    {
     "name": "stdout",
     "output_type": "stream",
     "text": [
      "+---------------------------------+------------+\n",
      "| HTT                             |   phi(HTT) |\n",
      "+=================================+============+\n",
      "| HTT(1. Less than: 88.76 ms)     |     0.5561 |\n",
      "+---------------------------------+------------+\n",
      "| HTT(4. Greater than: 266.27 ms) |     0.4439 |\n",
      "+---------------------------------+------------+\n",
      "+--------------------------------------------+------------+\n",
      "| MBW                                        |   phi(MBW) |\n",
      "+============================================+============+\n",
      "| MBW(1. Less than: 8.62 Mbps)               |     0.8492 |\n",
      "+--------------------------------------------+------------+\n",
      "| MBW(2. Between: 8.62 Mbps and 15.75 Mbps)  |     0.0310 |\n",
      "+--------------------------------------------+------------+\n",
      "| MBW(3. Between: 15.75 Mbps and 22.87 Mbps) |     0.0367 |\n",
      "+--------------------------------------------+------------+\n",
      "| MBW(4. Greater than: 22.87 Mbps)           |     0.0831 |\n",
      "+--------------------------------------------+------------+\n",
      "+---------------------------------------+------------+\n",
      "| MTT                                   |   phi(MTT) |\n",
      "+=======================================+============+\n",
      "| MTT(1. Less than: 14.5 ms)            |     0.1765 |\n",
      "+---------------------------------------+------------+\n",
      "| MTT(2. Between: 14.5 ms and 26.5 ms)  |     0.0916 |\n",
      "+---------------------------------------+------------+\n",
      "| MTT(3. Between: 26.5 ms and 38.51 ms) |     0.3739 |\n",
      "+---------------------------------------+------------+\n",
      "| MTT(4. Greater than: 38.51 ms)        |     0.3579 |\n",
      "+---------------------------------------+------------+\n",
      "+---------------------------------+------------+\n",
      "| BTT                             |   phi(BTT) |\n",
      "+=================================+============+\n",
      "| BTT(1. Less than: 67.5 ms)      |     0.1843 |\n",
      "+---------------------------------+------------+\n",
      "| BTT(4. Greater than: 202.52 ms) |     0.8157 |\n",
      "+---------------------------------+------------+\n",
      "+---------------------------------+------------+\n",
      "| HBW                             |   phi(HBW) |\n",
      "+=================================+============+\n",
      "| HBW(1. Less than: 2.95 Mbps)    |     0.4454 |\n",
      "+---------------------------------+------------+\n",
      "| HBW(4. Greater than: 8.86 Mbps) |     0.5546 |\n",
      "+---------------------------------+------------+\n"
     ]
    }
   ],
   "source": [
    "q_mmips_high = bigPerf_infer.query(variables=['HTT', 'MBW', 'MTT', 'BTT', 'HBW'], evidence={'MMIPS': MMIPS_LABELS[3]}, joint=False)\n",
    "\n",
    "for factor in q_mmips_high.values():\n",
    "    print(factor)"
   ]
  },
  {
   "cell_type": "code",
   "execution_count": 133,
   "metadata": {},
   "outputs": [
    {
     "data": {
      "application/vnd.jupyter.widget-view+json": {
       "model_id": "45a82fd616124d739b6d5a63a2ee8787",
       "version_major": 2,
       "version_minor": 0
      },
      "text/plain": [
       "  0%|          | 0/4 [00:00<?, ?it/s]"
      ]
     },
     "metadata": {},
     "output_type": "display_data"
    },
    {
     "data": {
      "application/vnd.jupyter.widget-view+json": {
       "model_id": "38023e55963a4842a1d8e5de26d197c0",
       "version_major": 2,
       "version_minor": 0
      },
      "text/plain": [
       "  0%|          | 0/4 [00:00<?, ?it/s]"
      ]
     },
     "metadata": {},
     "output_type": "display_data"
    },
    {
     "name": "stdout",
     "output_type": "stream",
     "text": [
      "+---------------------------------+------------+\n",
      "| HTT                             |   phi(HTT) |\n",
      "+=================================+============+\n",
      "| HTT(1. Less than: 88.76 ms)     |     0.4483 |\n",
      "+---------------------------------+------------+\n",
      "| HTT(4. Greater than: 266.27 ms) |     0.5517 |\n",
      "+---------------------------------+------------+\n",
      "+--------------------------------------------+------------+\n",
      "| MBW                                        |   phi(MBW) |\n",
      "+============================================+============+\n",
      "| MBW(1. Less than: 8.62 Mbps)               |     0.8385 |\n",
      "+--------------------------------------------+------------+\n",
      "| MBW(2. Between: 8.62 Mbps and 15.75 Mbps)  |     0.0177 |\n",
      "+--------------------------------------------+------------+\n",
      "| MBW(3. Between: 15.75 Mbps and 22.87 Mbps) |     0.0444 |\n",
      "+--------------------------------------------+------------+\n",
      "| MBW(4. Greater than: 22.87 Mbps)           |     0.0995 |\n",
      "+--------------------------------------------+------------+\n",
      "+---------------------------------------+------------+\n",
      "| MTT                                   |   phi(MTT) |\n",
      "+=======================================+============+\n",
      "| MTT(1. Less than: 14.5 ms)            |     0.2279 |\n",
      "+---------------------------------------+------------+\n",
      "| MTT(2. Between: 14.5 ms and 26.5 ms)  |     0.1668 |\n",
      "+---------------------------------------+------------+\n",
      "| MTT(3. Between: 26.5 ms and 38.51 ms) |     0.4840 |\n",
      "+---------------------------------------+------------+\n",
      "| MTT(4. Greater than: 38.51 ms)        |     0.1212 |\n",
      "+---------------------------------------+------------+\n",
      "+---------------------------------+------------+\n",
      "| BTT                             |   phi(BTT) |\n",
      "+=================================+============+\n",
      "| BTT(1. Less than: 67.5 ms)      |     0.1985 |\n",
      "+---------------------------------+------------+\n",
      "| BTT(4. Greater than: 202.52 ms) |     0.8015 |\n",
      "+---------------------------------+------------+\n",
      "+---------------------------------+------------+\n",
      "| HBW                             |   phi(HBW) |\n",
      "+=================================+============+\n",
      "| HBW(1. Less than: 2.95 Mbps)    |     0.5532 |\n",
      "+---------------------------------+------------+\n",
      "| HBW(4. Greater than: 8.86 Mbps) |     0.4468 |\n",
      "+---------------------------------+------------+\n"
     ]
    }
   ],
   "source": [
    "q_mmips_low = bigPerf_infer.query(variables=['HTT', 'MBW', 'MTT', 'BTT', 'HBW'], evidence={'MMIPS': MMIPS_LABELS[0]}, joint=False)\n",
    "\n",
    "for factor in q_mmips_low.values():\n",
    "    print(factor)"
   ]
  },
  {
   "cell_type": "code",
   "execution_count": 135,
   "metadata": {},
   "outputs": [
    {
     "data": {
      "application/vnd.jupyter.widget-view+json": {
       "model_id": "96b7af681a7443a28d072e014510b777",
       "version_major": 2,
       "version_minor": 0
      },
      "text/plain": [
       "  0%|          | 0/2 [00:00<?, ?it/s]"
      ]
     },
     "metadata": {},
     "output_type": "display_data"
    },
    {
     "data": {
      "application/vnd.jupyter.widget-view+json": {
       "model_id": "8fb9da3cece4462f87f8eb6f89d06da4",
       "version_major": 2,
       "version_minor": 0
      },
      "text/plain": [
       "  0%|          | 0/2 [00:00<?, ?it/s]"
      ]
     },
     "metadata": {},
     "output_type": "display_data"
    },
    {
     "name": "stdout",
     "output_type": "stream",
     "text": [
      "+------------------------------------------+------------+\n",
      "| RTT                                      |   phi(RTT) |\n",
      "+==========================================+============+\n",
      "| RTT(1. Less than: 67.28 ms)              |     0.6003 |\n",
      "+------------------------------------------+------------+\n",
      "| RTT(3. Between: 128.23 ms and 189.18 ms) |     0.3993 |\n",
      "+------------------------------------------+------------+\n",
      "| RTT(4. Greater than: 189.18 ms)          |     0.0004 |\n",
      "+------------------------------------------+------------+\n"
     ]
    }
   ],
   "source": [
    "q_rmips_low = bigPerf_infer.query(variables=['RTT'], evidence={'RMIPS': RMIPS_LABELS[0]}, joint=False)\n",
    "\n",
    "for factor in q_rmips_low.values():\n",
    "    print(factor)"
   ]
  },
  {
   "cell_type": "code",
   "execution_count": 136,
   "metadata": {},
   "outputs": [
    {
     "data": {
      "application/vnd.jupyter.widget-view+json": {
       "model_id": "39226c5d53c04a06b5ebf3e130f8723b",
       "version_major": 2,
       "version_minor": 0
      },
      "text/plain": [
       "  0%|          | 0/2 [00:00<?, ?it/s]"
      ]
     },
     "metadata": {},
     "output_type": "display_data"
    },
    {
     "data": {
      "application/vnd.jupyter.widget-view+json": {
       "model_id": "fc0d8a1825814f5bb7bb0a69ae8ecc47",
       "version_major": 2,
       "version_minor": 0
      },
      "text/plain": [
       "  0%|          | 0/2 [00:00<?, ?it/s]"
      ]
     },
     "metadata": {},
     "output_type": "display_data"
    },
    {
     "name": "stdout",
     "output_type": "stream",
     "text": [
      "+------------------------------------------+------------+\n",
      "| RTT                                      |   phi(RTT) |\n",
      "+==========================================+============+\n",
      "| RTT(1. Less than: 67.28 ms)              |     0.0021 |\n",
      "+------------------------------------------+------------+\n",
      "| RTT(3. Between: 128.23 ms and 189.18 ms) |     0.0021 |\n",
      "+------------------------------------------+------------+\n",
      "| RTT(4. Greater than: 189.18 ms)          |     0.9958 |\n",
      "+------------------------------------------+------------+\n"
     ]
    }
   ],
   "source": [
    "q_rmips_high = bigPerf_infer.query(variables=['RTT'], evidence={'RMIPS': RMIPS_LABELS[3]}, joint=False)\n",
    "\n",
    "for factor in q_rmips_high.values():\n",
    "    print(factor)"
   ]
  },
  {
   "cell_type": "markdown",
   "metadata": {},
   "source": [
    "## Print the model's combined probability distributions\n",
    "Truncated due to implementation of pgmpy. Older versions can print full tables but don't have the metric collection methods as seen above.\n",
    "Use 'Run-in-conda' version in a different python environment with pgmpy version 0.1.14 using ```pip install pgmpy==0.1.14```"
   ]
  },
  {
   "cell_type": "code",
   "execution_count": null,
   "metadata": {},
   "outputs": [],
   "source": [
    "print(f'Check model: {model.check_model()}\\n')\n",
    "for cpd in model.get_cpds():\n",
    "    print(f'CPT of {cpd.variable}:')\n",
    "    print(cpd, '\\n')"
   ]
  }
 ],
 "metadata": {
  "interpreter": {
   "hash": "369f2c481f4da34e4445cda3fffd2e751bd1c4d706f27375911949ba6bb62e1c"
  },
  "kernelspec": {
   "display_name": "Python 3.10.0 64-bit",
   "language": "python",
   "name": "python3"
  },
  "language_info": {
   "codemirror_mode": {
    "name": "ipython",
    "version": 3
   },
   "file_extension": ".py",
   "mimetype": "text/x-python",
   "name": "python",
   "nbconvert_exporter": "python",
   "pygments_lexer": "ipython3",
   "version": "3.10.0"
  },
  "orig_nbformat": 4
 },
 "nbformat": 4,
 "nbformat_minor": 2
}
