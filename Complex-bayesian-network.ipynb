{
 "cells": [
  {
   "cell_type": "markdown",
   "metadata": {},
   "source": [
    "# Complex Bayesian Network notebook"
   ]
  },
  {
   "cell_type": "markdown",
   "metadata": {},
   "source": [
    "#### Import dependencies"
   ]
  },
  {
   "cell_type": "code",
   "execution_count": 64,
   "metadata": {},
   "outputs": [
    {
     "name": "stdout",
     "output_type": "stream",
     "text": [
      "Requirement already satisfied: pgmpy in c:\\python310\\lib\\site-packages (0.1.18)\n",
      "Requirement already satisfied: numpy in c:\\python310\\lib\\site-packages (from pgmpy) (1.22.3)\n",
      "Requirement already satisfied: joblib in c:\\python310\\lib\\site-packages (from pgmpy) (1.1.0)\n",
      "Requirement already satisfied: pandas in c:\\python310\\lib\\site-packages (from pgmpy) (1.4.2)\n",
      "Requirement already satisfied: scipy in c:\\python310\\lib\\site-packages (from pgmpy) (1.8.0)\n",
      "Requirement already satisfied: statsmodels in c:\\python310\\lib\\site-packages (from pgmpy) (0.13.2)\n",
      "Requirement already satisfied: scikit-learn in c:\\python310\\lib\\site-packages (from pgmpy) (1.0.2)\n",
      "Requirement already satisfied: tqdm in c:\\python310\\lib\\site-packages (from pgmpy) (4.64.0)\n",
      "Requirement already satisfied: torch in c:\\python310\\lib\\site-packages (from pgmpy) (1.11.0)\n",
      "Requirement already satisfied: networkx in c:\\python310\\lib\\site-packages (from pgmpy) (2.7.1)\n",
      "Requirement already satisfied: pyparsing in c:\\python310\\lib\\site-packages (from pgmpy) (3.0.6)\n",
      "Requirement already satisfied: python-dateutil>=2.8.1 in c:\\python310\\lib\\site-packages (from pandas->pgmpy) (2.8.2)\n",
      "Requirement already satisfied: pytz>=2020.1 in c:\\python310\\lib\\site-packages (from pandas->pgmpy) (2021.3)\n",
      "Requirement already satisfied: threadpoolctl>=2.0.0 in c:\\python310\\lib\\site-packages (from scikit-learn->pgmpy) (3.1.0)\n",
      "Requirement already satisfied: patsy>=0.5.2 in c:\\python310\\lib\\site-packages (from statsmodels->pgmpy) (0.5.2)\n",
      "Requirement already satisfied: packaging>=21.3 in c:\\python310\\lib\\site-packages (from statsmodels->pgmpy) (21.3)\n",
      "Requirement already satisfied: typing-extensions in c:\\python310\\lib\\site-packages (from torch->pgmpy) (4.1.1)\n",
      "Requirement already satisfied: colorama in c:\\python310\\lib\\site-packages (from tqdm->pgmpy) (0.4.4)\n",
      "Requirement already satisfied: six in c:\\python310\\lib\\site-packages (from patsy>=0.5.2->statsmodels->pgmpy) (1.16.0)\n",
      "Note: you may need to restart the kernel to use updated packages.\n"
     ]
    },
    {
     "name": "stderr",
     "output_type": "stream",
     "text": [
      "WARNING: You are using pip version 22.0.4; however, version 22.1 is available.\n",
      "You should consider upgrading via the 'c:\\Python310\\python.exe -m pip install --upgrade pip' command.\n"
     ]
    },
    {
     "name": "stdout",
     "output_type": "stream",
     "text": [
      "Requirement already satisfied: tabulate in c:\\python310\\lib\\site-packages (0.8.9)\n",
      "Note: you may need to restart the kernel to use updated packages.\n"
     ]
    },
    {
     "name": "stderr",
     "output_type": "stream",
     "text": [
      "WARNING: You are using pip version 22.0.4; however, version 22.1 is available.\n",
      "You should consider upgrading via the 'c:\\Python310\\python.exe -m pip install --upgrade pip' command.\n"
     ]
    },
    {
     "name": "stdout",
     "output_type": "stream",
     "text": [
      "Requirement already satisfied: pandas in c:\\python310\\lib\\site-packages (1.4.2)\n",
      "Requirement already satisfied: python-dateutil>=2.8.1 in c:\\python310\\lib\\site-packages (from pandas) (2.8.2)\n",
      "Requirement already satisfied: numpy>=1.21.0 in c:\\python310\\lib\\site-packages (from pandas) (1.22.3)\n",
      "Requirement already satisfied: pytz>=2020.1 in c:\\python310\\lib\\site-packages (from pandas) (2021.3)\n",
      "Requirement already satisfied: six>=1.5 in c:\\python310\\lib\\site-packages (from python-dateutil>=2.8.1->pandas) (1.16.0)\n",
      "Note: you may need to restart the kernel to use updated packages.\n"
     ]
    },
    {
     "name": "stderr",
     "output_type": "stream",
     "text": [
      "WARNING: You are using pip version 22.0.4; however, version 22.1 is available.\n",
      "You should consider upgrading via the 'c:\\Python310\\python.exe -m pip install --upgrade pip' command.\n"
     ]
    },
    {
     "name": "stdout",
     "output_type": "stream",
     "text": [
      "Requirement already satisfied: networkx in c:\\python310\\lib\\site-packages (2.7.1)\n",
      "Note: you may need to restart the kernel to use updated packages.\n"
     ]
    },
    {
     "name": "stderr",
     "output_type": "stream",
     "text": [
      "WARNING: You are using pip version 22.0.4; however, version 22.1 is available.\n",
      "You should consider upgrading via the 'c:\\Python310\\python.exe -m pip install --upgrade pip' command.\n"
     ]
    },
    {
     "name": "stdout",
     "output_type": "stream",
     "text": [
      "Requirement already satisfied: matplotlib in c:\\python310\\lib\\site-packages (3.5.1)\n",
      "Requirement already satisfied: fonttools>=4.22.0 in c:\\python310\\lib\\site-packages (from matplotlib) (4.32.0)\n",
      "Requirement already satisfied: packaging>=20.0 in c:\\python310\\lib\\site-packages (from matplotlib) (21.3)\n",
      "Requirement already satisfied: pillow>=6.2.0 in c:\\python310\\lib\\site-packages (from matplotlib) (9.1.0)\n",
      "Requirement already satisfied: cycler>=0.10 in c:\\python310\\lib\\site-packages (from matplotlib) (0.11.0)\n",
      "Requirement already satisfied: numpy>=1.17 in c:\\python310\\lib\\site-packages (from matplotlib) (1.22.3)\n",
      "Requirement already satisfied: python-dateutil>=2.7 in c:\\python310\\lib\\site-packages (from matplotlib) (2.8.2)\n",
      "Requirement already satisfied: kiwisolver>=1.0.1 in c:\\python310\\lib\\site-packages (from matplotlib) (1.4.2)\n",
      "Requirement already satisfied: pyparsing>=2.2.1 in c:\\python310\\lib\\site-packages (from matplotlib) (3.0.6)\n",
      "Requirement already satisfied: six>=1.5 in c:\\python310\\lib\\site-packages (from python-dateutil>=2.7->matplotlib) (1.16.0)\n",
      "Note: you may need to restart the kernel to use updated packages.\n"
     ]
    },
    {
     "name": "stderr",
     "output_type": "stream",
     "text": [
      "WARNING: You are using pip version 22.0.4; however, version 22.1 is available.\n",
      "You should consider upgrading via the 'c:\\Python310\\python.exe -m pip install --upgrade pip' command.\n"
     ]
    }
   ],
   "source": [
    "# Import dependencies\n",
    "%pip install pgmpy\n",
    "%pip install tabulate\n",
    "%pip install pandas\n",
    "%pip install networkx\n",
    "%pip install matplotlib"
   ]
  },
  {
   "cell_type": "markdown",
   "metadata": {},
   "source": [
    "#### Load libraries"
   ]
  },
  {
   "cell_type": "code",
   "execution_count": 65,
   "metadata": {},
   "outputs": [],
   "source": [
    "# Load libraries\n",
    "import pgmpy as pg\n",
    "import tabulate as tb\n",
    "import pandas as pd\n",
    "import numpy as np\n",
    "import networkx as nx\n",
    "import matplotlib.pyplot as plt\n",
    "import sklearn"
   ]
  },
  {
   "cell_type": "markdown",
   "metadata": {},
   "source": [
    "## Data import and cleaning"
   ]
  },
  {
   "cell_type": "markdown",
   "metadata": {},
   "source": [
    "#### Import BigPerf data"
   ]
  },
  {
   "cell_type": "code",
   "execution_count": 66,
   "metadata": {},
   "outputs": [
    {
     "data": {
      "text/html": [
       "<div>\n",
       "<style scoped>\n",
       "    .dataframe tbody tr th:only-of-type {\n",
       "        vertical-align: middle;\n",
       "    }\n",
       "\n",
       "    .dataframe tbody tr th {\n",
       "        vertical-align: top;\n",
       "    }\n",
       "\n",
       "    .dataframe thead th {\n",
       "        text-align: right;\n",
       "    }\n",
       "</style>\n",
       "<table border=\"1\" class=\"dataframe\">\n",
       "  <thead>\n",
       "    <tr style=\"text-align: right;\">\n",
       "      <th></th>\n",
       "      <th>Block_ID</th>\n",
       "      <th>HDFS_BW</th>\n",
       "      <th>HDFSTranmissionTime</th>\n",
       "      <th>Mapper_ID</th>\n",
       "      <th>Mapper_VM_MIPS</th>\n",
       "      <th>MapExecutionTime</th>\n",
       "      <th>MapperBW</th>\n",
       "      <th>MapperTransmissionTime</th>\n",
       "      <th>Reducer_ID</th>\n",
       "      <th>Reducer_VM_MIPS</th>\n",
       "      <th>ReducerExecutionTime</th>\n",
       "      <th>ReducerBW</th>\n",
       "      <th>ReducerTransmissionTime</th>\n",
       "      <th>Block_ID.1</th>\n",
       "      <th>Block_BW</th>\n",
       "      <th>BlockTransmissionTime</th>\n",
       "      <th>TransactionTime</th>\n",
       "    </tr>\n",
       "  </thead>\n",
       "  <tbody>\n",
       "    <tr>\n",
       "      <th>0</th>\n",
       "      <td>HDFS_Block_208</td>\n",
       "      <td>11.81</td>\n",
       "      <td>80.63</td>\n",
       "      <td>mapper207</td>\n",
       "      <td>652289</td>\n",
       "      <td>765.49</td>\n",
       "      <td>30.00</td>\n",
       "      <td>2.53</td>\n",
       "      <td>reducer0</td>\n",
       "      <td>341739</td>\n",
       "      <td>480</td>\n",
       "      <td>3.80</td>\n",
       "      <td>250.14</td>\n",
       "      <td>reducer0_Block_1</td>\n",
       "      <td>0.0</td>\n",
       "      <td>0.00</td>\n",
       "      <td>1578.79</td>\n",
       "    </tr>\n",
       "    <tr>\n",
       "      <th>1</th>\n",
       "      <td>HDFS_Block_208</td>\n",
       "      <td>11.81</td>\n",
       "      <td>80.63</td>\n",
       "      <td>mapper207</td>\n",
       "      <td>652289</td>\n",
       "      <td>765.49</td>\n",
       "      <td>30.00</td>\n",
       "      <td>2.53</td>\n",
       "      <td>reducer1</td>\n",
       "      <td>150000</td>\n",
       "      <td>120</td>\n",
       "      <td>50.00</td>\n",
       "      <td>18.99</td>\n",
       "      <td>reducer1_Block_1</td>\n",
       "      <td>50.0</td>\n",
       "      <td>20.00</td>\n",
       "      <td>1007.64</td>\n",
       "    </tr>\n",
       "    <tr>\n",
       "      <th>2</th>\n",
       "      <td>HDFS_Block_208</td>\n",
       "      <td>11.81</td>\n",
       "      <td>80.63</td>\n",
       "      <td>mapper207</td>\n",
       "      <td>652289</td>\n",
       "      <td>765.49</td>\n",
       "      <td>16.76</td>\n",
       "      <td>3.25</td>\n",
       "      <td>reducer2</td>\n",
       "      <td>382530</td>\n",
       "      <td>480</td>\n",
       "      <td>4.48</td>\n",
       "      <td>212.22</td>\n",
       "      <td>reducer2_Block_1</td>\n",
       "      <td>3.7</td>\n",
       "      <td>270.02</td>\n",
       "      <td>1811.61</td>\n",
       "    </tr>\n",
       "    <tr>\n",
       "      <th>3</th>\n",
       "      <td>HDFS_Block_208</td>\n",
       "      <td>11.81</td>\n",
       "      <td>80.63</td>\n",
       "      <td>mapper207</td>\n",
       "      <td>652289</td>\n",
       "      <td>765.49</td>\n",
       "      <td>16.76</td>\n",
       "      <td>3.25</td>\n",
       "      <td>reducer3</td>\n",
       "      <td>150000</td>\n",
       "      <td>120</td>\n",
       "      <td>5.88</td>\n",
       "      <td>161.57</td>\n",
       "      <td>reducer3_Block_1</td>\n",
       "      <td>3.7</td>\n",
       "      <td>270.02</td>\n",
       "      <td>1400.96</td>\n",
       "    </tr>\n",
       "    <tr>\n",
       "      <th>4</th>\n",
       "      <td>HDFS_Block_208</td>\n",
       "      <td>11.81</td>\n",
       "      <td>80.63</td>\n",
       "      <td>mapper207</td>\n",
       "      <td>652289</td>\n",
       "      <td>765.49</td>\n",
       "      <td>18.41</td>\n",
       "      <td>4.16</td>\n",
       "      <td>reducer4</td>\n",
       "      <td>457419</td>\n",
       "      <td>480</td>\n",
       "      <td>5.88</td>\n",
       "      <td>161.53</td>\n",
       "      <td>reducer4_Block_1</td>\n",
       "      <td>3.7</td>\n",
       "      <td>270.02</td>\n",
       "      <td>1761.83</td>\n",
       "    </tr>\n",
       "  </tbody>\n",
       "</table>\n",
       "</div>"
      ],
      "text/plain": [
       "         Block_ID  HDFS_BW  HDFSTranmissionTime  Mapper_ID  Mapper_VM_MIPS  \\\n",
       "0  HDFS_Block_208    11.81                80.63  mapper207          652289   \n",
       "1  HDFS_Block_208    11.81                80.63  mapper207          652289   \n",
       "2  HDFS_Block_208    11.81                80.63  mapper207          652289   \n",
       "3  HDFS_Block_208    11.81                80.63  mapper207          652289   \n",
       "4  HDFS_Block_208    11.81                80.63  mapper207          652289   \n",
       "\n",
       "   MapExecutionTime   MapperBW  MapperTransmissionTime Reducer_ID  \\\n",
       "0             765.49     30.00                    2.53   reducer0   \n",
       "1             765.49     30.00                    2.53   reducer1   \n",
       "2             765.49     16.76                    3.25   reducer2   \n",
       "3             765.49     16.76                    3.25   reducer3   \n",
       "4             765.49     18.41                    4.16   reducer4   \n",
       "\n",
       "   Reducer_VM_MIPS  ReducerExecutionTime   ReducerBW  ReducerTransmissionTime  \\\n",
       "0           341739                    480       3.80                   250.14   \n",
       "1           150000                    120      50.00                    18.99   \n",
       "2           382530                    480       4.48                   212.22   \n",
       "3           150000                    120       5.88                   161.57   \n",
       "4           457419                    480       5.88                   161.53   \n",
       "\n",
       "         Block_ID.1  Block_BW  BlockTransmissionTime  TransactionTime  \n",
       "0  reducer0_Block_1       0.0                   0.00          1578.79  \n",
       "1  reducer1_Block_1      50.0                  20.00          1007.64  \n",
       "2  reducer2_Block_1       3.7                 270.02          1811.61  \n",
       "3  reducer3_Block_1       3.7                 270.02          1400.96  \n",
       "4  reducer4_Block_1       3.7                 270.02          1761.83  "
      ]
     },
     "execution_count": 66,
     "metadata": {},
     "output_type": "execute_result"
    }
   ],
   "source": [
    "# Import data\n",
    "df = pd.read_csv(\"C:\\\\Users\\\\Keir McGlinn-Shaw\\\\Documents\\\\Stage-3\\\\Dissertation\\\\Data\\\\Use\\\\BigPerfMetrics.csv\")\n",
    "\n",
    "df.head()"
   ]
  },
  {
   "cell_type": "markdown",
   "metadata": {},
   "source": [
    "#### Clean data of unwanted variables and missing values"
   ]
  },
  {
   "cell_type": "code",
   "execution_count": 67,
   "metadata": {},
   "outputs": [
    {
     "data": {
      "text/html": [
       "<div>\n",
       "<style scoped>\n",
       "    .dataframe tbody tr th:only-of-type {\n",
       "        vertical-align: middle;\n",
       "    }\n",
       "\n",
       "    .dataframe tbody tr th {\n",
       "        vertical-align: top;\n",
       "    }\n",
       "\n",
       "    .dataframe thead th {\n",
       "        text-align: right;\n",
       "    }\n",
       "</style>\n",
       "<table border=\"1\" class=\"dataframe\">\n",
       "  <thead>\n",
       "    <tr style=\"text-align: right;\">\n",
       "      <th></th>\n",
       "      <th>HDFS_BW</th>\n",
       "      <th>HDFSTranmissionTime</th>\n",
       "      <th>Mapper_VM_MIPS</th>\n",
       "      <th>MapExecutionTime</th>\n",
       "      <th>MapperBW</th>\n",
       "      <th>MapperTransmissionTime</th>\n",
       "      <th>Reducer_VM_MIPS</th>\n",
       "      <th>ReducerExecutionTime</th>\n",
       "      <th>ReducerBW</th>\n",
       "      <th>ReducerTransmissionTime</th>\n",
       "      <th>Block_BW</th>\n",
       "      <th>BlockTransmissionTime</th>\n",
       "      <th>TransactionTime</th>\n",
       "    </tr>\n",
       "  </thead>\n",
       "  <tbody>\n",
       "    <tr>\n",
       "      <th>0</th>\n",
       "      <td>11.81</td>\n",
       "      <td>80.63</td>\n",
       "      <td>652289</td>\n",
       "      <td>765.49</td>\n",
       "      <td>30.00</td>\n",
       "      <td>2.53</td>\n",
       "      <td>341739</td>\n",
       "      <td>480</td>\n",
       "      <td>3.80</td>\n",
       "      <td>250.14</td>\n",
       "      <td>0.0</td>\n",
       "      <td>0.00</td>\n",
       "      <td>1578.79</td>\n",
       "    </tr>\n",
       "    <tr>\n",
       "      <th>1</th>\n",
       "      <td>11.81</td>\n",
       "      <td>80.63</td>\n",
       "      <td>652289</td>\n",
       "      <td>765.49</td>\n",
       "      <td>30.00</td>\n",
       "      <td>2.53</td>\n",
       "      <td>150000</td>\n",
       "      <td>120</td>\n",
       "      <td>50.00</td>\n",
       "      <td>18.99</td>\n",
       "      <td>50.0</td>\n",
       "      <td>20.00</td>\n",
       "      <td>1007.64</td>\n",
       "    </tr>\n",
       "    <tr>\n",
       "      <th>2</th>\n",
       "      <td>11.81</td>\n",
       "      <td>80.63</td>\n",
       "      <td>652289</td>\n",
       "      <td>765.49</td>\n",
       "      <td>16.76</td>\n",
       "      <td>3.25</td>\n",
       "      <td>382530</td>\n",
       "      <td>480</td>\n",
       "      <td>4.48</td>\n",
       "      <td>212.22</td>\n",
       "      <td>3.7</td>\n",
       "      <td>270.02</td>\n",
       "      <td>1811.61</td>\n",
       "    </tr>\n",
       "    <tr>\n",
       "      <th>3</th>\n",
       "      <td>11.81</td>\n",
       "      <td>80.63</td>\n",
       "      <td>652289</td>\n",
       "      <td>765.49</td>\n",
       "      <td>16.76</td>\n",
       "      <td>3.25</td>\n",
       "      <td>150000</td>\n",
       "      <td>120</td>\n",
       "      <td>5.88</td>\n",
       "      <td>161.57</td>\n",
       "      <td>3.7</td>\n",
       "      <td>270.02</td>\n",
       "      <td>1400.96</td>\n",
       "    </tr>\n",
       "    <tr>\n",
       "      <th>4</th>\n",
       "      <td>11.81</td>\n",
       "      <td>80.63</td>\n",
       "      <td>652289</td>\n",
       "      <td>765.49</td>\n",
       "      <td>18.41</td>\n",
       "      <td>4.16</td>\n",
       "      <td>457419</td>\n",
       "      <td>480</td>\n",
       "      <td>5.88</td>\n",
       "      <td>161.53</td>\n",
       "      <td>3.7</td>\n",
       "      <td>270.02</td>\n",
       "      <td>1761.83</td>\n",
       "    </tr>\n",
       "  </tbody>\n",
       "</table>\n",
       "</div>"
      ],
      "text/plain": [
       "   HDFS_BW  HDFSTranmissionTime  Mapper_VM_MIPS  MapExecutionTime   MapperBW  \\\n",
       "0    11.81                80.63          652289             765.49     30.00   \n",
       "1    11.81                80.63          652289             765.49     30.00   \n",
       "2    11.81                80.63          652289             765.49     16.76   \n",
       "3    11.81                80.63          652289             765.49     16.76   \n",
       "4    11.81                80.63          652289             765.49     18.41   \n",
       "\n",
       "   MapperTransmissionTime  Reducer_VM_MIPS  ReducerExecutionTime   ReducerBW  \\\n",
       "0                    2.53           341739                    480       3.80   \n",
       "1                    2.53           150000                    120      50.00   \n",
       "2                    3.25           382530                    480       4.48   \n",
       "3                    3.25           150000                    120       5.88   \n",
       "4                    4.16           457419                    480       5.88   \n",
       "\n",
       "   ReducerTransmissionTime  Block_BW  BlockTransmissionTime  TransactionTime  \n",
       "0                   250.14       0.0                   0.00          1578.79  \n",
       "1                    18.99      50.0                  20.00          1007.64  \n",
       "2                   212.22       3.7                 270.02          1811.61  \n",
       "3                   161.57       3.7                 270.02          1400.96  \n",
       "4                   161.53       3.7                 270.02          1761.83  "
      ]
     },
     "execution_count": 67,
     "metadata": {},
     "output_type": "execute_result"
    }
   ],
   "source": [
    "# Clean data\n",
    "df.dropna()\n",
    "\n",
    "df.drop(labels=['Block_ID', 'Mapper_ID', 'Reducer_ID', 'Block_ID.1'], axis=1, inplace=True)\n",
    "\n",
    "df.head()"
   ]
  },
  {
   "cell_type": "markdown",
   "metadata": {},
   "source": [
    "#### Rename columns to better fit in drawn charts and for ease of use"
   ]
  },
  {
   "cell_type": "code",
   "execution_count": 68,
   "metadata": {},
   "outputs": [
    {
     "data": {
      "text/html": [
       "<div>\n",
       "<style scoped>\n",
       "    .dataframe tbody tr th:only-of-type {\n",
       "        vertical-align: middle;\n",
       "    }\n",
       "\n",
       "    .dataframe tbody tr th {\n",
       "        vertical-align: top;\n",
       "    }\n",
       "\n",
       "    .dataframe thead th {\n",
       "        text-align: right;\n",
       "    }\n",
       "</style>\n",
       "<table border=\"1\" class=\"dataframe\">\n",
       "  <thead>\n",
       "    <tr style=\"text-align: right;\">\n",
       "      <th></th>\n",
       "      <th>HBW</th>\n",
       "      <th>HTT</th>\n",
       "      <th>MMIPS</th>\n",
       "      <th>MET</th>\n",
       "      <th>MBW</th>\n",
       "      <th>MTT</th>\n",
       "      <th>RMIPS</th>\n",
       "      <th>RET</th>\n",
       "      <th>RBW</th>\n",
       "      <th>RTT</th>\n",
       "      <th>BBW</th>\n",
       "      <th>BTT</th>\n",
       "      <th>TT</th>\n",
       "    </tr>\n",
       "  </thead>\n",
       "  <tbody>\n",
       "    <tr>\n",
       "      <th>0</th>\n",
       "      <td>11.81</td>\n",
       "      <td>80.63</td>\n",
       "      <td>652289</td>\n",
       "      <td>765.49</td>\n",
       "      <td>30.00</td>\n",
       "      <td>2.53</td>\n",
       "      <td>341739</td>\n",
       "      <td>480</td>\n",
       "      <td>3.80</td>\n",
       "      <td>250.14</td>\n",
       "      <td>0.0</td>\n",
       "      <td>0.00</td>\n",
       "      <td>1578.79</td>\n",
       "    </tr>\n",
       "    <tr>\n",
       "      <th>1</th>\n",
       "      <td>11.81</td>\n",
       "      <td>80.63</td>\n",
       "      <td>652289</td>\n",
       "      <td>765.49</td>\n",
       "      <td>30.00</td>\n",
       "      <td>2.53</td>\n",
       "      <td>150000</td>\n",
       "      <td>120</td>\n",
       "      <td>50.00</td>\n",
       "      <td>18.99</td>\n",
       "      <td>50.0</td>\n",
       "      <td>20.00</td>\n",
       "      <td>1007.64</td>\n",
       "    </tr>\n",
       "    <tr>\n",
       "      <th>2</th>\n",
       "      <td>11.81</td>\n",
       "      <td>80.63</td>\n",
       "      <td>652289</td>\n",
       "      <td>765.49</td>\n",
       "      <td>16.76</td>\n",
       "      <td>3.25</td>\n",
       "      <td>382530</td>\n",
       "      <td>480</td>\n",
       "      <td>4.48</td>\n",
       "      <td>212.22</td>\n",
       "      <td>3.7</td>\n",
       "      <td>270.02</td>\n",
       "      <td>1811.61</td>\n",
       "    </tr>\n",
       "    <tr>\n",
       "      <th>3</th>\n",
       "      <td>11.81</td>\n",
       "      <td>80.63</td>\n",
       "      <td>652289</td>\n",
       "      <td>765.49</td>\n",
       "      <td>16.76</td>\n",
       "      <td>3.25</td>\n",
       "      <td>150000</td>\n",
       "      <td>120</td>\n",
       "      <td>5.88</td>\n",
       "      <td>161.57</td>\n",
       "      <td>3.7</td>\n",
       "      <td>270.02</td>\n",
       "      <td>1400.96</td>\n",
       "    </tr>\n",
       "    <tr>\n",
       "      <th>4</th>\n",
       "      <td>11.81</td>\n",
       "      <td>80.63</td>\n",
       "      <td>652289</td>\n",
       "      <td>765.49</td>\n",
       "      <td>18.41</td>\n",
       "      <td>4.16</td>\n",
       "      <td>457419</td>\n",
       "      <td>480</td>\n",
       "      <td>5.88</td>\n",
       "      <td>161.53</td>\n",
       "      <td>3.7</td>\n",
       "      <td>270.02</td>\n",
       "      <td>1761.83</td>\n",
       "    </tr>\n",
       "    <tr>\n",
       "      <th>5</th>\n",
       "      <td>11.81</td>\n",
       "      <td>80.63</td>\n",
       "      <td>652289</td>\n",
       "      <td>765.49</td>\n",
       "      <td>18.41</td>\n",
       "      <td>4.16</td>\n",
       "      <td>150000</td>\n",
       "      <td>120</td>\n",
       "      <td>6.98</td>\n",
       "      <td>136.24</td>\n",
       "      <td>3.7</td>\n",
       "      <td>270.02</td>\n",
       "      <td>1376.54</td>\n",
       "    </tr>\n",
       "    <tr>\n",
       "      <th>6</th>\n",
       "      <td>11.81</td>\n",
       "      <td>80.63</td>\n",
       "      <td>652289</td>\n",
       "      <td>765.49</td>\n",
       "      <td>18.41</td>\n",
       "      <td>4.16</td>\n",
       "      <td>563904</td>\n",
       "      <td>480</td>\n",
       "      <td>3.80</td>\n",
       "      <td>250.14</td>\n",
       "      <td>3.7</td>\n",
       "      <td>270.02</td>\n",
       "      <td>1850.44</td>\n",
       "    </tr>\n",
       "    <tr>\n",
       "      <th>7</th>\n",
       "      <td>11.81</td>\n",
       "      <td>80.63</td>\n",
       "      <td>652289</td>\n",
       "      <td>765.49</td>\n",
       "      <td>18.41</td>\n",
       "      <td>4.16</td>\n",
       "      <td>150000</td>\n",
       "      <td>120</td>\n",
       "      <td>150.00</td>\n",
       "      <td>6.33</td>\n",
       "      <td>3.7</td>\n",
       "      <td>270.02</td>\n",
       "      <td>1246.63</td>\n",
       "    </tr>\n",
       "    <tr>\n",
       "      <th>8</th>\n",
       "      <td>11.81</td>\n",
       "      <td>80.63</td>\n",
       "      <td>652289</td>\n",
       "      <td>765.49</td>\n",
       "      <td>18.41</td>\n",
       "      <td>4.16</td>\n",
       "      <td>430890</td>\n",
       "      <td>480</td>\n",
       "      <td>3.80</td>\n",
       "      <td>250.14</td>\n",
       "      <td>3.7</td>\n",
       "      <td>270.02</td>\n",
       "      <td>1850.44</td>\n",
       "    </tr>\n",
       "    <tr>\n",
       "      <th>9</th>\n",
       "      <td>11.81</td>\n",
       "      <td>80.63</td>\n",
       "      <td>652289</td>\n",
       "      <td>765.49</td>\n",
       "      <td>18.41</td>\n",
       "      <td>4.16</td>\n",
       "      <td>150000</td>\n",
       "      <td>120</td>\n",
       "      <td>150.00</td>\n",
       "      <td>6.33</td>\n",
       "      <td>3.7</td>\n",
       "      <td>270.02</td>\n",
       "      <td>1246.63</td>\n",
       "    </tr>\n",
       "  </tbody>\n",
       "</table>\n",
       "</div>"
      ],
      "text/plain": [
       "     HBW    HTT   MMIPS     MET    MBW   MTT   RMIPS  RET     RBW     RTT  \\\n",
       "0  11.81  80.63  652289  765.49  30.00  2.53  341739  480    3.80  250.14   \n",
       "1  11.81  80.63  652289  765.49  30.00  2.53  150000  120   50.00   18.99   \n",
       "2  11.81  80.63  652289  765.49  16.76  3.25  382530  480    4.48  212.22   \n",
       "3  11.81  80.63  652289  765.49  16.76  3.25  150000  120    5.88  161.57   \n",
       "4  11.81  80.63  652289  765.49  18.41  4.16  457419  480    5.88  161.53   \n",
       "5  11.81  80.63  652289  765.49  18.41  4.16  150000  120    6.98  136.24   \n",
       "6  11.81  80.63  652289  765.49  18.41  4.16  563904  480    3.80  250.14   \n",
       "7  11.81  80.63  652289  765.49  18.41  4.16  150000  120  150.00    6.33   \n",
       "8  11.81  80.63  652289  765.49  18.41  4.16  430890  480    3.80  250.14   \n",
       "9  11.81  80.63  652289  765.49  18.41  4.16  150000  120  150.00    6.33   \n",
       "\n",
       "    BBW     BTT       TT  \n",
       "0   0.0    0.00  1578.79  \n",
       "1  50.0   20.00  1007.64  \n",
       "2   3.7  270.02  1811.61  \n",
       "3   3.7  270.02  1400.96  \n",
       "4   3.7  270.02  1761.83  \n",
       "5   3.7  270.02  1376.54  \n",
       "6   3.7  270.02  1850.44  \n",
       "7   3.7  270.02  1246.63  \n",
       "8   3.7  270.02  1850.44  \n",
       "9   3.7  270.02  1246.63  "
      ]
     },
     "execution_count": 68,
     "metadata": {},
     "output_type": "execute_result"
    }
   ],
   "source": [
    "# Rename column headers to abbreviations\n",
    "\n",
    "nodes = ['HBW', 'HTT', 'MMIPS', 'MET', 'MBW', 'MTT', 'RMIPS', 'RET', 'RBW', 'RTT', 'BBW', 'BTT', 'TT']\n",
    "\n",
    "df.columns = nodes\n",
    "\n",
    "df.head(10)"
   ]
  },
  {
   "cell_type": "markdown",
   "metadata": {},
   "source": [
    "#### Define funtion to discretise data into three catagories"
   ]
  },
  {
   "cell_type": "code",
   "execution_count": 69,
   "metadata": {},
   "outputs": [],
   "source": [
    "'''\n",
    "Splits data into three bins of equal size using: https://pandas.pydata.org/docs/reference/api/pandas.cut.html\n",
    "'''\n",
    "def split_tertiles(df):\n",
    "    tertile_labels = ['Very Low', 'Low', 'High', 'Very-high']\n",
    "\n",
    "    tert_df = pd.DataFrame()\n",
    "\n",
    "    for column_name in df:\n",
    "        tert_df[column_name] = pd.cut(df[column_name], 4, labels=tertile_labels, ordered=True)\n",
    "\n",
    "    # Change type of values stored in dataframe to avoid errors arrising from using the Category type when the dataframe is fed into the pgmpy.metrics.metrics correlation_score function\n",
    "    tert_df = tert_df.astype('object')\n",
    "\n",
    "    return tert_df"
   ]
  },
  {
   "cell_type": "markdown",
   "metadata": {},
   "source": [
    "#### Discretise data into catagories"
   ]
  },
  {
   "cell_type": "code",
   "execution_count": 70,
   "metadata": {},
   "outputs": [
    {
     "data": {
      "text/html": [
       "<div>\n",
       "<style scoped>\n",
       "    .dataframe tbody tr th:only-of-type {\n",
       "        vertical-align: middle;\n",
       "    }\n",
       "\n",
       "    .dataframe tbody tr th {\n",
       "        vertical-align: top;\n",
       "    }\n",
       "\n",
       "    .dataframe thead th {\n",
       "        text-align: right;\n",
       "    }\n",
       "</style>\n",
       "<table border=\"1\" class=\"dataframe\">\n",
       "  <thead>\n",
       "    <tr style=\"text-align: right;\">\n",
       "      <th></th>\n",
       "      <th>HBW</th>\n",
       "      <th>HTT</th>\n",
       "      <th>MMIPS</th>\n",
       "      <th>MET</th>\n",
       "      <th>MBW</th>\n",
       "      <th>MTT</th>\n",
       "      <th>RMIPS</th>\n",
       "      <th>RET</th>\n",
       "      <th>RBW</th>\n",
       "      <th>RTT</th>\n",
       "      <th>BBW</th>\n",
       "      <th>BTT</th>\n",
       "      <th>TT</th>\n",
       "    </tr>\n",
       "  </thead>\n",
       "  <tbody>\n",
       "    <tr>\n",
       "      <th>0</th>\n",
       "      <td>Very-high</td>\n",
       "      <td>Very Low</td>\n",
       "      <td>Very Low</td>\n",
       "      <td>Very Low</td>\n",
       "      <td>Very-high</td>\n",
       "      <td>Very Low</td>\n",
       "      <td>Low</td>\n",
       "      <td>Very-high</td>\n",
       "      <td>Very Low</td>\n",
       "      <td>Very-high</td>\n",
       "      <td>Very Low</td>\n",
       "      <td>Very Low</td>\n",
       "      <td>Low</td>\n",
       "    </tr>\n",
       "    <tr>\n",
       "      <th>1</th>\n",
       "      <td>Very-high</td>\n",
       "      <td>Very Low</td>\n",
       "      <td>Very Low</td>\n",
       "      <td>Very Low</td>\n",
       "      <td>Very-high</td>\n",
       "      <td>Very Low</td>\n",
       "      <td>Very Low</td>\n",
       "      <td>Very Low</td>\n",
       "      <td>Low</td>\n",
       "      <td>Very Low</td>\n",
       "      <td>Very-high</td>\n",
       "      <td>Very Low</td>\n",
       "      <td>Very Low</td>\n",
       "    </tr>\n",
       "    <tr>\n",
       "      <th>2</th>\n",
       "      <td>Very-high</td>\n",
       "      <td>Very Low</td>\n",
       "      <td>Very Low</td>\n",
       "      <td>Very Low</td>\n",
       "      <td>High</td>\n",
       "      <td>Very Low</td>\n",
       "      <td>High</td>\n",
       "      <td>Very-high</td>\n",
       "      <td>Very Low</td>\n",
       "      <td>Very-high</td>\n",
       "      <td>Very Low</td>\n",
       "      <td>Very-high</td>\n",
       "      <td>Low</td>\n",
       "    </tr>\n",
       "    <tr>\n",
       "      <th>3</th>\n",
       "      <td>Very-high</td>\n",
       "      <td>Very Low</td>\n",
       "      <td>Very Low</td>\n",
       "      <td>Very Low</td>\n",
       "      <td>High</td>\n",
       "      <td>Very Low</td>\n",
       "      <td>Very Low</td>\n",
       "      <td>Very Low</td>\n",
       "      <td>Very Low</td>\n",
       "      <td>High</td>\n",
       "      <td>Very Low</td>\n",
       "      <td>Very-high</td>\n",
       "      <td>Very Low</td>\n",
       "    </tr>\n",
       "    <tr>\n",
       "      <th>4</th>\n",
       "      <td>Very-high</td>\n",
       "      <td>Very Low</td>\n",
       "      <td>Very Low</td>\n",
       "      <td>Very Low</td>\n",
       "      <td>High</td>\n",
       "      <td>Very Low</td>\n",
       "      <td>High</td>\n",
       "      <td>Very-high</td>\n",
       "      <td>Very Low</td>\n",
       "      <td>High</td>\n",
       "      <td>Very Low</td>\n",
       "      <td>Very-high</td>\n",
       "      <td>Low</td>\n",
       "    </tr>\n",
       "  </tbody>\n",
       "</table>\n",
       "</div>"
      ],
      "text/plain": [
       "         HBW       HTT     MMIPS       MET        MBW       MTT     RMIPS  \\\n",
       "0  Very-high  Very Low  Very Low  Very Low  Very-high  Very Low       Low   \n",
       "1  Very-high  Very Low  Very Low  Very Low  Very-high  Very Low  Very Low   \n",
       "2  Very-high  Very Low  Very Low  Very Low       High  Very Low      High   \n",
       "3  Very-high  Very Low  Very Low  Very Low       High  Very Low  Very Low   \n",
       "4  Very-high  Very Low  Very Low  Very Low       High  Very Low      High   \n",
       "\n",
       "         RET       RBW        RTT        BBW        BTT        TT  \n",
       "0  Very-high  Very Low  Very-high   Very Low   Very Low       Low  \n",
       "1   Very Low       Low   Very Low  Very-high   Very Low  Very Low  \n",
       "2  Very-high  Very Low  Very-high   Very Low  Very-high       Low  \n",
       "3   Very Low  Very Low       High   Very Low  Very-high  Very Low  \n",
       "4  Very-high  Very Low       High   Very Low  Very-high       Low  "
      ]
     },
     "execution_count": 70,
     "metadata": {},
     "output_type": "execute_result"
    }
   ],
   "source": [
    "# Discretise BigPerf dataset\n",
    "cat_df = split_tertiles(df)\n",
    "\n",
    "cat_df.head()"
   ]
  },
  {
   "cell_type": "code",
   "execution_count": 71,
   "metadata": {},
   "outputs": [],
   "source": [
    "from sklearn.model_selection import train_test_split\n",
    "\n",
    "training_data, testing_data = train_test_split(cat_df, test_size=0.2, random_state=20)"
   ]
  },
  {
   "cell_type": "markdown",
   "metadata": {},
   "source": [
    "## Building the model"
   ]
  },
  {
   "cell_type": "markdown",
   "metadata": {},
   "source": [
    "#### Import dependencies"
   ]
  },
  {
   "cell_type": "code",
   "execution_count": 72,
   "metadata": {},
   "outputs": [],
   "source": [
    "import networkx as nx\n",
    "from pgmpy.models import BayesianNetwork\n",
    "from pgmpy.estimators import HillClimbSearch"
   ]
  },
  {
   "cell_type": "markdown",
   "metadata": {},
   "source": [
    "#### Use structure learning to build a DAG"
   ]
  },
  {
   "cell_type": "code",
   "execution_count": 73,
   "metadata": {},
   "outputs": [
    {
     "data": {
      "application/vnd.jupyter.widget-view+json": {
       "model_id": "2d1bc3b51fb84320aeb80de9a234273a",
       "version_major": 2,
       "version_minor": 0
      },
      "text/plain": [
       "  0%|          | 0/1000000 [00:00<?, ?it/s]"
      ]
     },
     "metadata": {},
     "output_type": "display_data"
    }
   ],
   "source": [
    "hc = HillClimbSearch(data=training_data)\n",
    "estimate = hc.estimate(scoring_method='k2score')"
   ]
  },
  {
   "cell_type": "markdown",
   "metadata": {},
   "source": [
    "#### Generate a Bayesian Network object using the learned DAG"
   ]
  },
  {
   "cell_type": "code",
   "execution_count": 74,
   "metadata": {},
   "outputs": [],
   "source": [
    "model = BayesianNetwork(estimate)"
   ]
  },
  {
   "cell_type": "markdown",
   "metadata": {},
   "source": [
    "#### Fit the created BN model to the BigPerf data, in order to create probability distributions"
   ]
  },
  {
   "cell_type": "code",
   "execution_count": 75,
   "metadata": {},
   "outputs": [
    {
     "data": {
      "text/html": [
       "<style>div.output_area pre {white-space: pre;}</style>"
      ],
      "text/plain": [
       "<IPython.core.display.HTML object>"
      ]
     },
     "metadata": {},
     "output_type": "display_data"
    }
   ],
   "source": [
    "from pgmpy.estimators import BayesianEstimator, ExpectationMaximization, MaximumLikelihoodEstimator\n",
    "from IPython.core.display import display, HTML\n",
    "\n",
    "# disable text wrapping in output cell\n",
    "display(HTML(\"<style>div.output_area pre {white-space: pre;}</style>\"))\n",
    "\n",
    "model.cpds = []\n",
    "\n",
    "model.fit(data=training_data,\n",
    "    estimator=BayesianEstimator,\n",
    "    prior_type='BDeu',\n",
    "    complete_samples_only=True)"
   ]
  },
  {
   "cell_type": "markdown",
   "metadata": {},
   "source": [
    "#### Plot the model as a graph"
   ]
  },
  {
   "cell_type": "code",
   "execution_count": 76,
   "metadata": {},
   "outputs": [
    {
     "data": {
      "image/png": "[encoded data removed]",
      "text/plain": [
       "<Figure size 1008x1008 with 1 Axes>"
      ]
     },
     "metadata": {},
     "output_type": "display_data"
    }
   ],
   "source": [
    "plt.figure(3,figsize=(14,14)) \n",
    "G = nx.DiGraph()\n",
    "G.add_edges_from(model.edges)\n",
    "# i = 1\n",
    "# j = 1\n",
    "# for node in model.nodes:\n",
    "#     G.add_node(node, pos=(i, j))\n",
    "\n",
    "#     i += 1\n",
    "\n",
    "#     if i == 4:\n",
    "#         j += 1\n",
    "#         i = 1\n",
    "# G.add_node('MMIPS', pos=(1, 1))\n",
    "# G.add_node('MBW', pos=(2, 1))\n",
    "# G.add_node('HBW', pos=(3, 1))\n",
    "\n",
    "# G.add_node('MET', pos=(1, 2))\n",
    "# G.add_node('MTT', pos=(2, 2))\n",
    "# G.add_node('HTT', pos=(3, 2))\n",
    "\n",
    "# G.add_node('BTT', pos=(1, 3))\n",
    "# G.add_node('BBW', pos=(2, 3))\n",
    "# G.add_node('RET', pos=(3, 3))\n",
    "\n",
    "\n",
    "# G.add_node('RBW', pos=(1, 4))\n",
    "# G.add_node('RTT', pos=(2, 4))\n",
    "# G.add_node('RMIPS', pos=(3, 4))\n",
    "\n",
    "# G.add_node('TT', pos=(2, 5))\n",
    "\n",
    "\n",
    "\n",
    "# G.add_node('MMIPS', pos=(1, 3), node_size=1500)\n",
    "# G.add_node('MTT', pos=(4, 5))\n",
    "# G.add_node('HBW', pos=(5, 3))\n",
    "\n",
    "# G.add_node('BTT', pos=(4, 4))\n",
    "# G.add_node('MBW', pos=(2, 4))\n",
    "# G.add_node('RET', pos=(7, 4))\n",
    "\n",
    "\n",
    "# G.add_node('RTT', pos=(7, 3))\n",
    "# G.add_node('BBW', pos=(3, 3))\n",
    "\n",
    "# G.add_node('MET', pos=(0, 2))\n",
    "# G.add_node('RBW', pos=(2, 2))\n",
    "# G.add_node('HTT', pos=(4, 2))\n",
    "# G.add_node('RMIPS', pos=(6, 2))\n",
    "\n",
    "# G.add_node('TT', pos=(3, 1))\n",
    "\n",
    "\n",
    "G.add_nodes_from(model.nodes)\n",
    "#G.add_node(model.nodes.get('HBW'))\n",
    "pos = nx.circular_layout(G)\n",
    "DAG = G.to_directed()\n",
    "nx.topological_sort(DAG)\n",
    "\n",
    "#pos=nx.get_node_attributes(G, 'pos')\n",
    "\n",
    "nx.draw_networkx(G,\n",
    "                pos=pos,\n",
    "                with_labels=True,\n",
    "                node_size=[2000,2000,2000,4000,2000,2000,2000,2000,2000,2000,2000,2000,2000],\n",
    "                arrowsize=30,\n",
    "                alpha=0.7,\n",
    "                font_weight=\"bold\",\n",
    "                width=2.0)  # Draw the original graph\n",
    "\n",
    "tt_g = G.subgraph(nodes=['TT'])\n",
    "nx.draw(tt_g, pos=pos, with_labels=False, arrowsize=0, node_size=4100, alpha=0.7, font_weight=\"bold\", node_color='#063970')\n",
    "\n",
    "# sub_g = G.subgraph(nodes=['MET', 'HTT', 'RBW', 'RMIPS'])\n",
    "# nx.draw(sub_g, pos=pos, with_labels=False, arrowsize=0, node_size=1400, alpha=0.7, font_weight=\"bold\", node_color='#FFA500')  # Draw the original graph\n",
    "\n",
    "\n",
    "plt.show()"
   ]
  },
  {
   "cell_type": "code",
   "execution_count": 77,
   "metadata": {},
   "outputs": [
    {
     "data": {
      "image/png": "[encoded data removed]",
      "text/plain": [
       "<Figure size 432x288 with 1 Axes>"
      ]
     },
     "metadata": {},
     "output_type": "display_data"
    }
   ],
   "source": [
    "sub_g = G.subgraph(nodes=['MET', 'HTT', 'RBW', 'RMIPS', 'TT'])\n",
    "nx.draw(sub_g, pos=pos, with_labels=True, arrowsize=30, node_size=800, alpha=0.7, font_weight=\"bold\")  # Draw the original graph\n",
    "plt.show()"
   ]
  },
  {
   "cell_type": "code",
   "execution_count": 78,
   "metadata": {},
   "outputs": [
    {
     "data": {
      "application/vnd.jupyter.widget-view+json": {
       "model_id": "15da59577c044cd3b211f387a547dd90",
       "version_major": 2,
       "version_minor": 0
      },
      "text/plain": [
       "  0%|          | 0/150 [00:00<?, ?it/s]"
      ]
     },
     "metadata": {},
     "output_type": "display_data"
    },
    {
     "name": "stdout",
     "output_type": "stream",
     "text": [
      "HBW Accuracy score: 0.9940944881889764\n"
     ]
    },
    {
     "name": "stderr",
     "output_type": "stream",
     "text": [
      "c:\\Python310\\lib\\site-packages\\pgmpy\\models\\BayesianNetwork.py:747: FutureWarning: Passing a set as an indexer is deprecated and will raise in a future version. Use a list instead.\n",
      "  return data.merge(data_with_results, how=\"left\").loc[:, missing_variables]\n"
     ]
    },
    {
     "data": {
      "application/vnd.jupyter.widget-view+json": {
       "model_id": "3f5b204c238f4dd1a8a5d61216d4e38f",
       "version_major": 2,
       "version_minor": 0
      },
      "text/plain": [
       "  0%|          | 0/152 [00:00<?, ?it/s]"
      ]
     },
     "metadata": {},
     "output_type": "display_data"
    },
    {
     "name": "stdout",
     "output_type": "stream",
     "text": [
      "HTT Accuracy score: 0.9901574803149606\n"
     ]
    },
    {
     "name": "stderr",
     "output_type": "stream",
     "text": [
      "c:\\Python310\\lib\\site-packages\\pgmpy\\models\\BayesianNetwork.py:747: FutureWarning: Passing a set as an indexer is deprecated and will raise in a future version. Use a list instead.\n",
      "  return data.merge(data_with_results, how=\"left\").loc[:, missing_variables]\n"
     ]
    },
    {
     "data": {
      "application/vnd.jupyter.widget-view+json": {
       "model_id": "40f3fca712134973a70bba2dbd66cda6",
       "version_major": 2,
       "version_minor": 0
      },
      "text/plain": [
       "  0%|          | 0/153 [00:00<?, ?it/s]"
      ]
     },
     "metadata": {},
     "output_type": "display_data"
    },
    {
     "name": "stdout",
     "output_type": "stream",
     "text": [
      "MMIPS Accuracy score: 1.0\n"
     ]
    },
    {
     "name": "stderr",
     "output_type": "stream",
     "text": [
      "c:\\Python310\\lib\\site-packages\\pgmpy\\models\\BayesianNetwork.py:747: FutureWarning: Passing a set as an indexer is deprecated and will raise in a future version. Use a list instead.\n",
      "  return data.merge(data_with_results, how=\"left\").loc[:, missing_variables]\n"
     ]
    },
    {
     "data": {
      "application/vnd.jupyter.widget-view+json": {
       "model_id": "e0bd052416e344518b0646c6f7fe6f52",
       "version_major": 2,
       "version_minor": 0
      },
      "text/plain": [
       "  0%|          | 0/153 [00:00<?, ?it/s]"
      ]
     },
     "metadata": {},
     "output_type": "display_data"
    },
    {
     "name": "stdout",
     "output_type": "stream",
     "text": [
      "MET Accuracy score: 1.0\n"
     ]
    },
    {
     "name": "stderr",
     "output_type": "stream",
     "text": [
      "c:\\Python310\\lib\\site-packages\\pgmpy\\models\\BayesianNetwork.py:747: FutureWarning: Passing a set as an indexer is deprecated and will raise in a future version. Use a list instead.\n",
      "  return data.merge(data_with_results, how=\"left\").loc[:, missing_variables]\n"
     ]
    },
    {
     "data": {
      "application/vnd.jupyter.widget-view+json": {
       "model_id": "8098336ab4984671aefd14aaf5f03328",
       "version_major": 2,
       "version_minor": 0
      },
      "text/plain": [
       "  0%|          | 0/138 [00:00<?, ?it/s]"
      ]
     },
     "metadata": {},
     "output_type": "display_data"
    },
    {
     "name": "stdout",
     "output_type": "stream",
     "text": [
      "MBW Accuracy score: 0.9311023622047244\n"
     ]
    },
    {
     "name": "stderr",
     "output_type": "stream",
     "text": [
      "c:\\Python310\\lib\\site-packages\\pgmpy\\models\\BayesianNetwork.py:747: FutureWarning: Passing a set as an indexer is deprecated and will raise in a future version. Use a list instead.\n",
      "  return data.merge(data_with_results, how=\"left\").loc[:, missing_variables]\n"
     ]
    },
    {
     "data": {
      "application/vnd.jupyter.widget-view+json": {
       "model_id": "da254b8f4d4a4ebb9afcf93e3e167f46",
       "version_major": 2,
       "version_minor": 0
      },
      "text/plain": [
       "  0%|          | 0/101 [00:00<?, ?it/s]"
      ]
     },
     "metadata": {},
     "output_type": "display_data"
    },
    {
     "name": "stdout",
     "output_type": "stream",
     "text": [
      "MTT Accuracy score: 0.75\n"
     ]
    },
    {
     "name": "stderr",
     "output_type": "stream",
     "text": [
      "c:\\Python310\\lib\\site-packages\\pgmpy\\models\\BayesianNetwork.py:747: FutureWarning: Passing a set as an indexer is deprecated and will raise in a future version. Use a list instead.\n",
      "  return data.merge(data_with_results, how=\"left\").loc[:, missing_variables]\n"
     ]
    },
    {
     "data": {
      "application/vnd.jupyter.widget-view+json": {
       "model_id": "617081c169e4411db19fa4c292d5b7f7",
       "version_major": 2,
       "version_minor": 0
      },
      "text/plain": [
       "  0%|          | 0/134 [00:00<?, ?it/s]"
      ]
     },
     "metadata": {},
     "output_type": "display_data"
    },
    {
     "name": "stdout",
     "output_type": "stream",
     "text": [
      "RMIPS Accuracy score: 0.8917322834645669\n"
     ]
    },
    {
     "name": "stderr",
     "output_type": "stream",
     "text": [
      "c:\\Python310\\lib\\site-packages\\pgmpy\\models\\BayesianNetwork.py:747: FutureWarning: Passing a set as an indexer is deprecated and will raise in a future version. Use a list instead.\n",
      "  return data.merge(data_with_results, how=\"left\").loc[:, missing_variables]\n"
     ]
    },
    {
     "data": {
      "application/vnd.jupyter.widget-view+json": {
       "model_id": "ecb13fe78ee145409cc496ee5423d096",
       "version_major": 2,
       "version_minor": 0
      },
      "text/plain": [
       "  0%|          | 0/153 [00:00<?, ?it/s]"
      ]
     },
     "metadata": {},
     "output_type": "display_data"
    },
    {
     "name": "stdout",
     "output_type": "stream",
     "text": [
      "RET Accuracy score: 1.0\n"
     ]
    },
    {
     "name": "stderr",
     "output_type": "stream",
     "text": [
      "c:\\Python310\\lib\\site-packages\\pgmpy\\models\\BayesianNetwork.py:747: FutureWarning: Passing a set as an indexer is deprecated and will raise in a future version. Use a list instead.\n",
      "  return data.merge(data_with_results, how=\"left\").loc[:, missing_variables]\n"
     ]
    },
    {
     "data": {
      "application/vnd.jupyter.widget-view+json": {
       "model_id": "bbb69d7248354bdaafbb11c6e3a59b78",
       "version_major": 2,
       "version_minor": 0
      },
      "text/plain": [
       "  0%|          | 0/153 [00:00<?, ?it/s]"
      ]
     },
     "metadata": {},
     "output_type": "display_data"
    },
    {
     "name": "stdout",
     "output_type": "stream",
     "text": [
      "RBW Accuracy score: 1.0\n"
     ]
    },
    {
     "name": "stderr",
     "output_type": "stream",
     "text": [
      "c:\\Python310\\lib\\site-packages\\pgmpy\\models\\BayesianNetwork.py:747: FutureWarning: Passing a set as an indexer is deprecated and will raise in a future version. Use a list instead.\n",
      "  return data.merge(data_with_results, how=\"left\").loc[:, missing_variables]\n"
     ]
    },
    {
     "data": {
      "application/vnd.jupyter.widget-view+json": {
       "model_id": "050ab936cb3c4479b97d66e8804c72e4",
       "version_major": 2,
       "version_minor": 0
      },
      "text/plain": [
       "  0%|          | 0/141 [00:00<?, ?it/s]"
      ]
     },
     "metadata": {},
     "output_type": "display_data"
    },
    {
     "name": "stdout",
     "output_type": "stream",
     "text": [
      "RTT Accuracy score: 0.8996062992125984\n"
     ]
    },
    {
     "name": "stderr",
     "output_type": "stream",
     "text": [
      "c:\\Python310\\lib\\site-packages\\pgmpy\\models\\BayesianNetwork.py:747: FutureWarning: Passing a set as an indexer is deprecated and will raise in a future version. Use a list instead.\n",
      "  return data.merge(data_with_results, how=\"left\").loc[:, missing_variables]\n"
     ]
    },
    {
     "data": {
      "application/vnd.jupyter.widget-view+json": {
       "model_id": "7b049a4c164a4fdfacde2f09a5e67448",
       "version_major": 2,
       "version_minor": 0
      },
      "text/plain": [
       "  0%|          | 0/153 [00:00<?, ?it/s]"
      ]
     },
     "metadata": {},
     "output_type": "display_data"
    },
    {
     "name": "stdout",
     "output_type": "stream",
     "text": [
      "BBW Accuracy score: 1.0\n"
     ]
    },
    {
     "name": "stderr",
     "output_type": "stream",
     "text": [
      "c:\\Python310\\lib\\site-packages\\pgmpy\\models\\BayesianNetwork.py:747: FutureWarning: Passing a set as an indexer is deprecated and will raise in a future version. Use a list instead.\n",
      "  return data.merge(data_with_results, how=\"left\").loc[:, missing_variables]\n"
     ]
    },
    {
     "data": {
      "application/vnd.jupyter.widget-view+json": {
       "model_id": "1ad78d3d3fee4f3f9a0bba109f11abf7",
       "version_major": 2,
       "version_minor": 0
      },
      "text/plain": [
       "  0%|          | 0/153 [00:00<?, ?it/s]"
      ]
     },
     "metadata": {},
     "output_type": "display_data"
    },
    {
     "name": "stdout",
     "output_type": "stream",
     "text": [
      "BTT Accuracy score: 0.9980314960629921\n"
     ]
    },
    {
     "name": "stderr",
     "output_type": "stream",
     "text": [
      "c:\\Python310\\lib\\site-packages\\pgmpy\\models\\BayesianNetwork.py:747: FutureWarning: Passing a set as an indexer is deprecated and will raise in a future version. Use a list instead.\n",
      "  return data.merge(data_with_results, how=\"left\").loc[:, missing_variables]\n"
     ]
    },
    {
     "data": {
      "application/vnd.jupyter.widget-view+json": {
       "model_id": "b113699250f6418989b7304034283617",
       "version_major": 2,
       "version_minor": 0
      },
      "text/plain": [
       "  0%|          | 0/137 [00:00<?, ?it/s]"
      ]
     },
     "metadata": {},
     "output_type": "display_data"
    },
    {
     "name": "stdout",
     "output_type": "stream",
     "text": [
      "TT Accuracy score: 0.889763779527559\n"
     ]
    },
    {
     "name": "stderr",
     "output_type": "stream",
     "text": [
      "c:\\Python310\\lib\\site-packages\\pgmpy\\models\\BayesianNetwork.py:747: FutureWarning: Passing a set as an indexer is deprecated and will raise in a future version. Use a list instead.\n",
      "  return data.merge(data_with_results, how=\"left\").loc[:, missing_variables]\n"
     ]
    }
   ],
   "source": [
    "from pgmpy.metrics.metrics import correlation_score, log_likelihood_score, structure_score\n",
    "from sklearn.metrics import f1_score, accuracy_score, precision_score, recall_score\n",
    "\n",
    "accuracy_dict = {}\n",
    "\n",
    "for column in testing_data:\n",
    "    predict_data = testing_data.copy()\n",
    "    predict_data.drop(column, axis=1, inplace=True)\n",
    "    y_pred = model.predict(predict_data)\n",
    "\n",
    "    accuracy = accuracy_score(testing_data[column], y_pred)\n",
    "    \n",
    "    # if len(testing_data[column].unique()) == 2:\n",
    "    #     precision = precision_score(testing_data[column], y_pred, pos_label='High') #pos_label=testing_data[column].unique()\n",
    "    #     f1 = f1_score(testing_data[column], y_pred, pos_label='High')\n",
    "    #     recall = recall_score(testing_data[column], y_pred, pos_label='High')\n",
    "\n",
    "    # else:\n",
    "    #     precision = precision_score(testing_data[column], y_pred, average='micro') #pos_label=testing_data[column].unique()\n",
    "    #     f1 = f1_score(testing_data[column], y_pred, average='micro')\n",
    "    #     recall = recall_score(testing_data[column], y_pred, average='micro')\n",
    "\n",
    "    #print(f'{column} F1 score: {f1}')\n",
    "    print(f'{column} Accuracy score: {accuracy}')\n",
    "\n",
    "    accuracy_dict[column] = accuracy\n",
    "    #print(f'{column} Precision score: {precision}')\n",
    "    #print(f'{column} Recall score: {recall}')"
   ]
  },
  {
   "cell_type": "markdown",
   "metadata": {},
   "source": [
    "## Scoring the model"
   ]
  },
  {
   "cell_type": "markdown",
   "metadata": {},
   "source": [
    "#### Run scoring functions on the model to collect metrics of correctness"
   ]
  },
  {
   "cell_type": "code",
   "execution_count": 79,
   "metadata": {},
   "outputs": [
    {
     "name": "stdout",
     "output_type": "stream",
     "text": [
      "F1 score: 0.6153846153846153\n",
      "Accuracy score: 0.8076923076923077\n",
      "Precision score: 1.0\n",
      "Recall score: 0.4444444444444444\n",
      "Log-likilihood score: -2558.340124235847\n",
      "Structure score: -2998.720964135828\n",
      "\n"
     ]
    }
   ],
   "source": [
    "f1 = correlation_score(model=model, data=testing_data, test='chi_square', significance_level=0.05, score=f1_score, return_summary=False)\n",
    "acc = correlation_score(model=model, data=testing_data, test='chi_square', significance_level=0.05, score=accuracy_score, return_summary=False)\n",
    "pr = correlation_score(model=model, data=testing_data, test='chi_square', significance_level=0.05, score=precision_score, return_summary=False)\n",
    "recall = correlation_score(model=model, data=testing_data, test='chi_square', significance_level=0.05, score=recall_score, return_summary=False)\n",
    "ls = log_likelihood_score(model=model, data=testing_data)\n",
    "ss = structure_score(model=model, data=testing_data, scoring_method='bdeu')\n",
    "\n",
    "\n",
    "print(f'F1 score: {f1}')\n",
    "print(f'Accuracy score: {acc}')\n",
    "print(f'Precision score: {pr}')\n",
    "print(f'Recall score: {recall}')\n",
    "print(f'Log-likilihood score: {ls}')\n",
    "print(f'Structure score: {ss}')\n",
    "\n",
    "print(model.name)"
   ]
  },
  {
   "cell_type": "code",
   "execution_count": 80,
   "metadata": {},
   "outputs": [],
   "source": [
    "def store_metrics(metrics_file_name, model_name, f1, accuracy, precision, recall, log_likelihood_score, structure_score, accuracy_dict):\n",
    "    try: \n",
    "        df = pd.read_csv('Model-metrics.csv', header=0, index_col=False)\n",
    "    except:\n",
    "        df_columns = ['Model', 'F1', 'Accuracy', 'Precision', 'Recall', 'Log likelihood score', 'Structure score']\n",
    "\n",
    "        df = pd.DataFrame(columns=df_columns)\n",
    "\n",
    "    else:\n",
    "        df = df[df.Model != model_name]\n",
    "        \n",
    "    conv_dict = {}\n",
    "    for k, v in accuracy_dict.items():\n",
    "        conv_dict[k] = v*100\n",
    "    \n",
    "    new_row = {'Model': model_name, 'F1': f1, 'Accuracy': accuracy, 'Precision': precision, 'Recall': recall, 'Log likelihood score': log_likelihood_score, 'Structure score': structure_score,\n",
    "    'HBW prediction accuracy': conv_dict['HBW'], 'HTT prediction accuracy': conv_dict['HTT'], 'MMIPS prediction accuracy': conv_dict['MMIPS'], 'MET prediction accuracy': conv_dict['MET'],\n",
    "    'MBW prediction accuracy': conv_dict['MBW'], 'MTT prediction accuracy': conv_dict['MTT'], 'RMIPS prediction accuracy': conv_dict['RMIPS'], 'RET prediction accuracy': conv_dict['RET'],\n",
    "    'RBW prediction accuracy': conv_dict['RBW'], 'RTT prediction accuracy': conv_dict['RTT'], 'BBW prediction accuracy': conv_dict['BBW'], 'BTT prediction accuracy': conv_dict['BTT'],\n",
    "    'TT prediction accuracy': conv_dict['TT']}\n",
    "\n",
    "    df = df.append(new_row, ignore_index=True)\n",
    "\n",
    "    # Write to file\n",
    "    df.to_csv(metrics_file_name, index=False)"
   ]
  },
  {
   "cell_type": "code",
   "execution_count": 81,
   "metadata": {},
   "outputs": [
    {
     "name": "stderr",
     "output_type": "stream",
     "text": [
      "C:\\Users\\KEIRMC~1\\AppData\\Local\\Temp/ipykernel_18928/2438977843.py:22: FutureWarning: The frame.append method is deprecated and will be removed from pandas in a future version. Use pandas.concat instead.\n",
      "  df = df.append(new_row, ignore_index=True)\n"
     ]
    }
   ],
   "source": [
    "model_name = 'Score-based CBN'\n",
    "metrics_file_name = 'Model-metrics.csv'\n",
    "\n",
    "store_metrics(metrics_file_name=metrics_file_name, model_name=model_name, f1=f1, accuracy=acc, precision=pr, recall=recall, log_likelihood_score=ls, structure_score=ss, accuracy_dict=accuracy_dict)"
   ]
  },
  {
   "cell_type": "code",
   "execution_count": 86,
   "metadata": {},
   "outputs": [],
   "source": [
    "# Initializing the VariableElimination class\n",
    "\n",
    "from pgmpy.inference import VariableElimination\n",
    "from pgmpy.inference.ExactInference import BeliefPropagation\n",
    "\n",
    "bigPerf_infer = VariableElimination(model=model)"
   ]
  },
  {
   "cell_type": "code",
   "execution_count": 87,
   "metadata": {},
   "outputs": [
    {
     "data": {
      "application/vnd.jupyter.widget-view+json": {
       "model_id": "cce7f77e114c4fe080862d2c2c8a72da",
       "version_major": 2,
       "version_minor": 0
      },
      "text/plain": [
       "  0%|          | 0/7 [00:00<?, ?it/s]"
      ]
     },
     "metadata": {},
     "output_type": "display_data"
    },
    {
     "data": {
      "application/vnd.jupyter.widget-view+json": {
       "model_id": "4fbd756f17d74c07bde87b5e9a2cb51d",
       "version_major": 2,
       "version_minor": 0
      },
      "text/plain": [
       "  0%|          | 0/7 [00:00<?, ?it/s]"
      ]
     },
     "metadata": {},
     "output_type": "display_data"
    },
    {
     "name": "stdout",
     "output_type": "stream",
     "text": [
      "+----------------+------------+\n",
      "| HTT            |   phi(HTT) |\n",
      "+================+============+\n",
      "| HTT(Very Low)  |     0.8372 |\n",
      "+----------------+------------+\n",
      "| HTT(Very-high) |     0.1628 |\n",
      "+----------------+------------+\n",
      "+----------------+------------+\n",
      "| MET            |   phi(MET) |\n",
      "+================+============+\n",
      "| MET(High)      |     0.0801 |\n",
      "+----------------+------------+\n",
      "| MET(Low)       |     0.2473 |\n",
      "+----------------+------------+\n",
      "| MET(Very Low)  |     0.6699 |\n",
      "+----------------+------------+\n",
      "| MET(Very-high) |     0.0026 |\n",
      "+----------------+------------+\n",
      "+----------------+------------+\n",
      "| RBW            |   phi(RBW) |\n",
      "+================+============+\n",
      "| RBW(Low)       |     0.5745 |\n",
      "+----------------+------------+\n",
      "| RBW(Very Low)  |     0.1000 |\n",
      "+----------------+------------+\n",
      "| RBW(Very-high) |     0.3254 |\n",
      "+----------------+------------+\n",
      "+------------------+--------------+\n",
      "| RMIPS            |   phi(RMIPS) |\n",
      "+==================+==============+\n",
      "| RMIPS(High)      |       0.0026 |\n",
      "+------------------+--------------+\n",
      "| RMIPS(Low)       |       0.0017 |\n",
      "+------------------+--------------+\n",
      "| RMIPS(Very Low)  |       0.9940 |\n",
      "+------------------+--------------+\n",
      "| RMIPS(Very-high) |       0.0017 |\n",
      "+------------------+--------------+\n"
     ]
    }
   ],
   "source": [
    "# Compute probabilities of parent variables of TT when TT is Very Low\n",
    "q_tt = bigPerf_infer.query(variables=['HTT', 'MET', 'RBW', 'RMIPS'], evidence={'TT': 'Very Low'}, joint=False)\n",
    "\n",
    "#print(query)\n",
    "for factor in q_tt.values():\n",
    "    print(factor)"
   ]
  },
  {
   "cell_type": "code",
   "execution_count": 88,
   "metadata": {},
   "outputs": [
    {
     "data": {
      "application/vnd.jupyter.widget-view+json": {
       "model_id": "188d73d6b9294230bf461128dda8376a",
       "version_major": 2,
       "version_minor": 0
      },
      "text/plain": [
       "  0%|          | 0/7 [00:00<?, ?it/s]"
      ]
     },
     "metadata": {},
     "output_type": "display_data"
    },
    {
     "data": {
      "application/vnd.jupyter.widget-view+json": {
       "model_id": "849427974fff40b9bddbdefe13c33991",
       "version_major": 2,
       "version_minor": 0
      },
      "text/plain": [
       "  0%|          | 0/7 [00:00<?, ?it/s]"
      ]
     },
     "metadata": {},
     "output_type": "display_data"
    },
    {
     "name": "stdout",
     "output_type": "stream",
     "text": [
      "+----------------+------------+\n",
      "| HTT            |   phi(HTT) |\n",
      "+================+============+\n",
      "| HTT(Very Low)  |     0.3307 |\n",
      "+----------------+------------+\n",
      "| HTT(Very-high) |     0.6693 |\n",
      "+----------------+------------+\n",
      "+----------------+------------+\n",
      "| MET            |   phi(MET) |\n",
      "+================+============+\n",
      "| MET(High)      |     0.2035 |\n",
      "+----------------+------------+\n",
      "| MET(Low)       |     0.0922 |\n",
      "+----------------+------------+\n",
      "| MET(Very Low)  |     0.0017 |\n",
      "+----------------+------------+\n",
      "| MET(Very-high) |     0.7026 |\n",
      "+----------------+------------+\n",
      "+----------------+------------+\n",
      "| RBW            |   phi(RBW) |\n",
      "+================+============+\n",
      "| RBW(Low)       |     0.0012 |\n",
      "+----------------+------------+\n",
      "| RBW(Very Low)  |     0.9974 |\n",
      "+----------------+------------+\n",
      "| RBW(Very-high) |     0.0015 |\n",
      "+----------------+------------+\n",
      "+------------------+--------------+\n",
      "| RMIPS            |   phi(RMIPS) |\n",
      "+==================+==============+\n",
      "| RMIPS(High)      |       0.6658 |\n",
      "+------------------+--------------+\n",
      "| RMIPS(Low)       |       0.0709 |\n",
      "+------------------+--------------+\n",
      "| RMIPS(Very Low)  |       0.0134 |\n",
      "+------------------+--------------+\n",
      "| RMIPS(Very-high) |       0.2499 |\n",
      "+------------------+--------------+\n"
     ]
    }
   ],
   "source": [
    "# Compute probabilities of parent variables of TT when TT is Very Low\n",
    "q_tt_worst = bigPerf_infer.query(variables=['HTT', 'MET', 'RBW', 'RMIPS'], evidence={'TT': 'Very-high'}, joint=False)\n",
    "\n",
    "#print(query)\n",
    "for factor in q_tt_worst.values():\n",
    "    print(factor)"
   ]
  },
  {
   "cell_type": "code",
   "execution_count": 89,
   "metadata": {},
   "outputs": [
    {
     "data": {
      "application/vnd.jupyter.widget-view+json": {
       "model_id": "4b89e560b16b47c2b35398c9183d1434",
       "version_major": 2,
       "version_minor": 0
      },
      "text/plain": [
       "  0%|          | 0/3 [00:00<?, ?it/s]"
      ]
     },
     "metadata": {},
     "output_type": "display_data"
    },
    {
     "data": {
      "application/vnd.jupyter.widget-view+json": {
       "model_id": "3adeef779b384d7bb31e092638073003",
       "version_major": 2,
       "version_minor": 0
      },
      "text/plain": [
       "  0%|          | 0/3 [00:00<?, ?it/s]"
      ]
     },
     "metadata": {},
     "output_type": "display_data"
    },
    {
     "name": "stdout",
     "output_type": "stream",
     "text": [
      "+------------------+--------------+\n",
      "| RMIPS            |   phi(RMIPS) |\n",
      "+==================+==============+\n",
      "| RMIPS(High)      |       0.0006 |\n",
      "+------------------+--------------+\n",
      "| RMIPS(Low)       |       0.0006 |\n",
      "+------------------+--------------+\n",
      "| RMIPS(Very Low)  |       0.9982 |\n",
      "+------------------+--------------+\n",
      "| RMIPS(Very-high) |       0.0006 |\n",
      "+------------------+--------------+\n"
     ]
    }
   ],
   "source": [
    "q_ret_best = bigPerf_infer.query(variables=['RMIPS'], evidence={'RET': 'Very Low'}, joint=False)\n",
    "\n",
    "#print(query)\n",
    "for factor in q_ret_best.values():\n",
    "    print(factor)"
   ]
  },
  {
   "cell_type": "code",
   "execution_count": 90,
   "metadata": {},
   "outputs": [
    {
     "data": {
      "application/vnd.jupyter.widget-view+json": {
       "model_id": "6e234c7b0fc14604b886d16f0c2ce2b4",
       "version_major": 2,
       "version_minor": 0
      },
      "text/plain": [
       "  0%|          | 0/3 [00:00<?, ?it/s]"
      ]
     },
     "metadata": {},
     "output_type": "display_data"
    },
    {
     "data": {
      "application/vnd.jupyter.widget-view+json": {
       "model_id": "9611572a3cbd48f6aad38ba37eac113a",
       "version_major": 2,
       "version_minor": 0
      },
      "text/plain": [
       "  0%|          | 0/3 [00:00<?, ?it/s]"
      ]
     },
     "metadata": {},
     "output_type": "display_data"
    },
    {
     "name": "stdout",
     "output_type": "stream",
     "text": [
      "+------------------+--------------+\n",
      "| RMIPS            |   phi(RMIPS) |\n",
      "+==================+==============+\n",
      "| RMIPS(High)      |       0.6003 |\n",
      "+------------------+--------------+\n",
      "| RMIPS(Low)       |       0.2015 |\n",
      "+------------------+--------------+\n",
      "| RMIPS(Very Low)  |       0.0006 |\n",
      "+------------------+--------------+\n",
      "| RMIPS(Very-high) |       0.1976 |\n",
      "+------------------+--------------+\n"
     ]
    }
   ],
   "source": [
    "q_ret_worst = bigPerf_infer.query(variables=['RMIPS'], evidence={'RET': 'Very-high'}, joint=False)\n",
    "\n",
    "#print(query)\n",
    "for factor in q_ret_worst.values():\n",
    "    print(factor)"
   ]
  },
  {
   "cell_type": "code",
   "execution_count": 91,
   "metadata": {},
   "outputs": [
    {
     "data": {
      "application/vnd.jupyter.widget-view+json": {
       "model_id": "2bf51a42d70644acad9c780618d5246d",
       "version_major": 2,
       "version_minor": 0
      },
      "text/plain": [
       "  0%|          | 0/4 [00:00<?, ?it/s]"
      ]
     },
     "metadata": {},
     "output_type": "display_data"
    },
    {
     "data": {
      "application/vnd.jupyter.widget-view+json": {
       "model_id": "ea4a0ab50fb1458687f20a35e9edf848",
       "version_major": 2,
       "version_minor": 0
      },
      "text/plain": [
       "  0%|          | 0/4 [00:00<?, ?it/s]"
      ]
     },
     "metadata": {},
     "output_type": "display_data"
    },
    {
     "name": "stdout",
     "output_type": "stream",
     "text": [
      "+------------------+--------------+\n",
      "| MMIPS            |   phi(MMIPS) |\n",
      "+==================+==============+\n",
      "| MMIPS(High)      |       0.0006 |\n",
      "+------------------+--------------+\n",
      "| MMIPS(Low)       |       0.0006 |\n",
      "+------------------+--------------+\n",
      "| MMIPS(Very Low)  |       0.9982 |\n",
      "+------------------+--------------+\n",
      "| MMIPS(Very-high) |       0.0006 |\n",
      "+------------------+--------------+\n",
      "+----------------+------------+\n",
      "| MTT            |   phi(MTT) |\n",
      "+================+============+\n",
      "| MTT(High)      |     0.4840 |\n",
      "+----------------+------------+\n",
      "| MTT(Low)       |     0.1668 |\n",
      "+----------------+------------+\n",
      "| MTT(Very Low)  |     0.2279 |\n",
      "+----------------+------------+\n",
      "| MTT(Very-high) |     0.1212 |\n",
      "+----------------+------------+\n",
      "+----------------+------------+\n",
      "| HBW            |   phi(HBW) |\n",
      "+================+============+\n",
      "| HBW(Very Low)  |     0.5532 |\n",
      "+----------------+------------+\n",
      "| HBW(Very-high) |     0.4468 |\n",
      "+----------------+------------+\n",
      "+----------------+------------+\n",
      "| MBW            |   phi(MBW) |\n",
      "+================+============+\n",
      "| MBW(High)      |     0.0444 |\n",
      "+----------------+------------+\n",
      "| MBW(Low)       |     0.0177 |\n",
      "+----------------+------------+\n",
      "| MBW(Very Low)  |     0.8385 |\n",
      "+----------------+------------+\n",
      "| MBW(Very-high) |     0.0995 |\n",
      "+----------------+------------+\n",
      "+----------------+------------+\n",
      "| HTT            |   phi(HTT) |\n",
      "+================+============+\n",
      "| HTT(Very Low)  |     0.4483 |\n",
      "+----------------+------------+\n",
      "| HTT(Very-high) |     0.5517 |\n",
      "+----------------+------------+\n",
      "+----------------+------------+\n",
      "| BTT            |   phi(BTT) |\n",
      "+================+============+\n",
      "| BTT(Very Low)  |     0.1985 |\n",
      "+----------------+------------+\n",
      "| BTT(Very-high) |     0.8015 |\n",
      "+----------------+------------+\n"
     ]
    }
   ],
   "source": [
    "q_met_best = bigPerf_infer.query(variables=['MMIPS', 'MTT', 'HBW', 'MBW', 'HTT', 'BTT'], evidence={'MET': 'Very Low'}, joint=False)\n",
    "\n",
    "for factor in q_met_best.values():\n",
    "    print(factor)"
   ]
  },
  {
   "cell_type": "code",
   "execution_count": 94,
   "metadata": {},
   "outputs": [
    {
     "data": {
      "application/vnd.jupyter.widget-view+json": {
       "model_id": "b8c361857ce44e1088578d52dc362807",
       "version_major": 2,
       "version_minor": 0
      },
      "text/plain": [
       "  0%|          | 0/4 [00:00<?, ?it/s]"
      ]
     },
     "metadata": {},
     "output_type": "display_data"
    },
    {
     "data": {
      "application/vnd.jupyter.widget-view+json": {
       "model_id": "9cb396e8b09f47ad81e2db2be164d907",
       "version_major": 2,
       "version_minor": 0
      },
      "text/plain": [
       "  0%|          | 0/4 [00:00<?, ?it/s]"
      ]
     },
     "metadata": {},
     "output_type": "display_data"
    },
    {
     "name": "stdout",
     "output_type": "stream",
     "text": [
      "+------------------+--------------+\n",
      "| MMIPS            |   phi(MMIPS) |\n",
      "+==================+==============+\n",
      "| MMIPS(High)      |       0.0006 |\n",
      "+------------------+--------------+\n",
      "| MMIPS(Low)       |       0.0006 |\n",
      "+------------------+--------------+\n",
      "| MMIPS(Very Low)  |       0.0006 |\n",
      "+------------------+--------------+\n",
      "| MMIPS(Very-high) |       0.9983 |\n",
      "+------------------+--------------+\n",
      "+----------------+------------+\n",
      "| MTT            |   phi(MTT) |\n",
      "+================+============+\n",
      "| MTT(High)      |     0.3739 |\n",
      "+----------------+------------+\n",
      "| MTT(Low)       |     0.0916 |\n",
      "+----------------+------------+\n",
      "| MTT(Very Low)  |     0.1765 |\n",
      "+----------------+------------+\n",
      "| MTT(Very-high) |     0.3579 |\n",
      "+----------------+------------+\n",
      "+----------------+------------+\n",
      "| HBW            |   phi(HBW) |\n",
      "+================+============+\n",
      "| HBW(Very Low)  |     0.4454 |\n",
      "+----------------+------------+\n",
      "| HBW(Very-high) |     0.5546 |\n",
      "+----------------+------------+\n",
      "+----------------+------------+\n",
      "| MBW            |   phi(MBW) |\n",
      "+================+============+\n",
      "| MBW(High)      |     0.0367 |\n",
      "+----------------+------------+\n",
      "| MBW(Low)       |     0.0310 |\n",
      "+----------------+------------+\n",
      "| MBW(Very Low)  |     0.8492 |\n",
      "+----------------+------------+\n",
      "| MBW(Very-high) |     0.0831 |\n",
      "+----------------+------------+\n",
      "+----------------+------------+\n",
      "| HTT            |   phi(HTT) |\n",
      "+================+============+\n",
      "| HTT(Very Low)  |     0.5561 |\n",
      "+----------------+------------+\n",
      "| HTT(Very-high) |     0.4439 |\n",
      "+----------------+------------+\n",
      "+----------------+------------+\n",
      "| BTT            |   phi(BTT) |\n",
      "+================+============+\n",
      "| BTT(Very Low)  |     0.1843 |\n",
      "+----------------+------------+\n",
      "| BTT(Very-high) |     0.8157 |\n",
      "+----------------+------------+\n"
     ]
    }
   ],
   "source": [
    "q_met_worst = bigPerf_infer.query(variables=['MMIPS', 'MTT', 'HBW', 'MBW', 'HTT', 'BTT'], evidence={'MET': 'Very-high'}, joint=False)\n",
    "\n",
    "for factor in q_met_worst.values():\n",
    "    print(factor)"
   ]
  },
  {
   "cell_type": "markdown",
   "metadata": {},
   "source": [
    "#### Print the model's probability distributions"
   ]
  },
  {
   "cell_type": "code",
   "execution_count": 93,
   "metadata": {},
   "outputs": [
    {
     "name": "stdout",
     "output_type": "stream",
     "text": [
      "Check model: True\n",
      "\n",
      "CPT of HBW:\n",
      "+----------------+----------------------+----------------------+\n",
      "| HTT            | HTT(Very Low)        | HTT(Very-high)       |\n",
      "+----------------+----------------------+----------------------+\n",
      "| HBW(Very Low)  | 0.014260640631856078 | 0.9986072423398329   |\n",
      "+----------------+----------------------+----------------------+\n",
      "| HBW(Very-high) | 0.9857393593681439   | 0.001392757660167131 |\n",
      "+----------------+----------------------+----------------------+ \n",
      "\n",
      "CPT of HTT:\n",
      "+----------------+----------+\n",
      "| HTT(Very Low)  | 0.559401 |\n",
      "+----------------+----------+\n",
      "| HTT(Very-high) | 0.440599 |\n",
      "+----------------+----------+ \n",
      "\n",
      "CPT of MMIPS:\n",
      "+------------------+-----+-----------------------+\n",
      "| MET              | ... | MET(Very-high)        |\n",
      "+------------------+-----+-----------------------+\n",
      "| MMIPS(High)      | ... | 0.0005558025789239662 |\n",
      "+------------------+-----+-----------------------+\n",
      "| MMIPS(Low)       | ... | 0.0005558025789239662 |\n",
      "+------------------+-----+-----------------------+\n",
      "| MMIPS(Very Low)  | ... | 0.0005558025789239662 |\n",
      "+------------------+-----+-----------------------+\n",
      "| MMIPS(Very-high) | ... | 0.9983325922632281    |\n",
      "+------------------+-----+-----------------------+ \n",
      "\n",
      "CPT of MET:\n",
      "+----------------+---------------+-----+----------------+----------------+\n",
      "| BTT            | BTT(Very Low) | ... | BTT(Very-high) | BTT(Very-high) |\n",
      "+----------------+---------------+-----+----------------+----------------+\n",
      "| HBW            | HBW(Very Low) | ... | HBW(Very-high) | HBW(Very-high) |\n",
      "+----------------+---------------+-----+----------------+----------------+\n",
      "| HTT            | HTT(Very Low) | ... | HTT(Very-high) | HTT(Very-high) |\n",
      "+----------------+---------------+-----+----------------+----------------+\n",
      "| MBW            | MBW(High)     | ... | MBW(Very-high) | MBW(Very-high) |\n",
      "+----------------+---------------+-----+----------------+----------------+\n",
      "| MTT            | MTT(High)     | ... | MTT(Very Low)  | MTT(Very-high) |\n",
      "+----------------+---------------+-----+----------------+----------------+\n",
      "| MET(High)      | 0.25          | ... | 0.25           | 0.25           |\n",
      "+----------------+---------------+-----+----------------+----------------+\n",
      "| MET(Low)       | 0.25          | ... | 0.25           | 0.25           |\n",
      "+----------------+---------------+-----+----------------+----------------+\n",
      "| MET(Very Low)  | 0.25          | ... | 0.25           | 0.25           |\n",
      "+----------------+---------------+-----+----------------+----------------+\n",
      "| MET(Very-high) | 0.25          | ... | 0.25           | 0.25           |\n",
      "+----------------+---------------+-----+----------------+----------------+ \n",
      "\n",
      "CPT of MBW:\n",
      "+----------------+-----+----------------+----------------+\n",
      "| BBW            | ... | BBW(Very-high) | BBW(Very-high) |\n",
      "+----------------+-----+----------------+----------------+\n",
      "| BTT            | ... | BTT(Very-high) | BTT(Very-high) |\n",
      "+----------------+-----+----------------+----------------+\n",
      "| HTT            | ... | HTT(Very Low)  | HTT(Very-high) |\n",
      "+----------------+-----+----------------+----------------+\n",
      "| MBW(High)      | ... | 0.25           | 0.25           |\n",
      "+----------------+-----+----------------+----------------+\n",
      "| MBW(Low)       | ... | 0.25           | 0.25           |\n",
      "+----------------+-----+----------------+----------------+\n",
      "| MBW(Very Low)  | ... | 0.25           | 0.25           |\n",
      "+----------------+-----+----------------+----------------+\n",
      "| MBW(Very-high) | ... | 0.25           | 0.25           |\n",
      "+----------------+-----+----------------+----------------+ \n",
      "\n",
      "CPT of MTT:\n",
      "+----------------+-----+----------------------+\n",
      "| BTT            | ... | BTT(Very-high)       |\n",
      "+----------------+-----+----------------------+\n",
      "| HTT            | ... | HTT(Very-high)       |\n",
      "+----------------+-----+----------------------+\n",
      "| MBW            | ... | MBW(Very-high)       |\n",
      "+----------------+-----+----------------------+\n",
      "| MTT(High)      | ... | 0.002577319587628866 |\n",
      "+----------------+-----+----------------------+\n",
      "| MTT(Low)       | ... | 0.002577319587628866 |\n",
      "+----------------+-----+----------------------+\n",
      "| MTT(Very Low)  | ... | 0.9922680412371134   |\n",
      "+----------------+-----+----------------------+\n",
      "| MTT(Very-high) | ... | 0.002577319587628866 |\n",
      "+----------------+-----+----------------------+ \n",
      "\n",
      "CPT of RMIPS:\n",
      "+------------------+-----+-----------------------+\n",
      "| RTT              | ... | RTT(Very-high)        |\n",
      "+------------------+-----+-----------------------+\n",
      "| RMIPS(High)      | ... | 0.500103305785124     |\n",
      "+------------------+-----+-----------------------+\n",
      "| RMIPS(Low)       | ... | 0.2521694214876033    |\n",
      "+------------------+-----+-----------------------+\n",
      "| RMIPS(Very Low)  | ... | 0.0005165289256198347 |\n",
      "+------------------+-----+-----------------------+\n",
      "| RMIPS(Very-high) | ... | 0.2472107438016529    |\n",
      "+------------------+-----+-----------------------+ \n",
      "\n",
      "CPT of RET:\n",
      "+----------------+-----+----------------------+\n",
      "| RMIPS          | ... | RMIPS(Very-high)     |\n",
      "+----------------+-----+----------------------+\n",
      "| RET(Very Low)  | ... | 0.003121098626716604 |\n",
      "+----------------+-----+----------------------+\n",
      "| RET(Very-high) | ... | 0.9968789013732834   |\n",
      "+----------------+-----+----------------------+ \n",
      "\n",
      "CPT of RBW:\n",
      "+----------------+------------------------+-----------------------+\n",
      "| BBW            | BBW(Very Low)          | BBW(Very-high)        |\n",
      "+----------------+------------------------+-----------------------+\n",
      "| RBW(Low)       | 0.00045400889857441214 | 0.9917287014061207    |\n",
      "+----------------+------------------------+-----------------------+\n",
      "| RBW(Very Low)  | 0.7724507400345048     | 0.0041356492969396195 |\n",
      "+----------------+------------------------+-----------------------+\n",
      "| RBW(Very-high) | 0.22709525106692094    | 0.0041356492969396195 |\n",
      "+----------------+------------------------+-----------------------+ \n",
      "\n",
      "CPT of RTT:\n",
      "+----------------+-----+-----------------------+\n",
      "| RBW            | ... | RBW(Very-high)        |\n",
      "+----------------+-----+-----------------------+\n",
      "| RTT(High)      | ... | 0.0013301409949454644 |\n",
      "+----------------+-----+-----------------------+\n",
      "| RTT(Very Low)  | ... | 0.9973397180101091    |\n",
      "+----------------+-----+-----------------------+\n",
      "| RTT(Very-high) | ... | 0.0013301409949454644 |\n",
      "+----------------+-----+-----------------------+ \n",
      "\n",
      "CPT of BBW:\n",
      "+----------------+---------+\n",
      "| BBW(Very Low)  | 0.90108 |\n",
      "+----------------+---------+\n",
      "| BBW(Very-high) | 0.09892 |\n",
      "+----------------+---------+ \n",
      "\n",
      "CPT of BTT:\n",
      "+----------------+-----+------------------+\n",
      "| BBW            | ... | BBW(Very-high)   |\n",
      "+----------------+-----+------------------+\n",
      "| RMIPS          | ... | RMIPS(Very-high) |\n",
      "+----------------+-----+------------------+\n",
      "| BTT(Very Low)  | ... | 0.5              |\n",
      "+----------------+-----+------------------+\n",
      "| BTT(Very-high) | ... | 0.5              |\n",
      "+----------------+-----+------------------+ \n",
      "\n",
      "CPT of TT:\n",
      "+---------------+---------------+-----+------------------+\n",
      "| HTT           | HTT(Very Low) | ... | HTT(Very-high)   |\n",
      "+---------------+---------------+-----+------------------+\n",
      "| MMIPS         | MMIPS(High)   | ... | MMIPS(Very-high) |\n",
      "+---------------+---------------+-----+------------------+\n",
      "| RBW           | RBW(Low)      | ... | RBW(Very-high)   |\n",
      "+---------------+---------------+-----+------------------+\n",
      "| RMIPS         | RMIPS(High)   | ... | RMIPS(Very-high) |\n",
      "+---------------+---------------+-----+------------------+\n",
      "| TT(High)      | 0.25          | ... | 0.25             |\n",
      "+---------------+---------------+-----+------------------+\n",
      "| TT(Low)       | 0.25          | ... | 0.25             |\n",
      "+---------------+---------------+-----+------------------+\n",
      "| TT(Very Low)  | 0.25          | ... | 0.25             |\n",
      "+---------------+---------------+-----+------------------+\n",
      "| TT(Very-high) | 0.25          | ... | 0.25             |\n",
      "+---------------+---------------+-----+------------------+ \n",
      "\n"
     ]
    }
   ],
   "source": [
    "print(f'Check model: {model.check_model()}\\n')\n",
    "for cpd in model.get_cpds():\n",
    "    print(f'CPT of {cpd.variable}:')\n",
    "    print(cpd, '\\n')"
   ]
  }
 ],
 "metadata": {
  "interpreter": {
   "hash": "369f2c481f4da34e4445cda3fffd2e751bd1c4d706f27375911949ba6bb62e1c"
  },
  "kernelspec": {
   "display_name": "Python 3.10.0 64-bit",
   "language": "python",
   "name": "python3"
  },
  "language_info": {
   "codemirror_mode": {
    "name": "ipython",
    "version": 3
   },
   "file_extension": ".py",
   "mimetype": "text/x-python",
   "name": "python",
   "nbconvert_exporter": "python",
   "pygments_lexer": "ipython3",
   "version": "3.10.0"
  },
  "orig_nbformat": 4
 },
 "nbformat": 4,
 "nbformat_minor": 2
}
