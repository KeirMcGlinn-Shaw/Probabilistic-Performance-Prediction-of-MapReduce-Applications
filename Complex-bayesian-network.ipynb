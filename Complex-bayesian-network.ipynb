{
 "cells": [
  {
   "cell_type": "markdown",
   "metadata": {},
   "source": [
    "# Complex Bayesian Network notebook"
   ]
  },
  {
   "cell_type": "markdown",
   "metadata": {},
   "source": [
    "#### Import dependencies"
   ]
  },
  {
   "cell_type": "code",
   "execution_count": 122,
   "metadata": {},
   "outputs": [
    {
     "name": "stdout",
     "output_type": "stream",
     "text": [
      "Requirement already satisfied: pgmpy in c:\\python310\\lib\\site-packages (0.1.18)\n",
      "Requirement already satisfied: scipy in c:\\python310\\lib\\site-packages (from pgmpy) (1.8.0)\n",
      "Requirement already satisfied: joblib in c:\\python310\\lib\\site-packages (from pgmpy) (1.1.0)\n",
      "Requirement already satisfied: pyparsing in c:\\python310\\lib\\site-packages (from pgmpy) (3.0.6)\n",
      "Requirement already satisfied: statsmodels in c:\\python310\\lib\\site-packages (from pgmpy) (0.13.2)\n",
      "Requirement already satisfied: pandas in c:\\python310\\lib\\site-packages (from pgmpy) (1.4.2)\n",
      "Requirement already satisfied: numpy in c:\\python310\\lib\\site-packages (from pgmpy) (1.22.3)\n",
      "Requirement already satisfied: torch in c:\\python310\\lib\\site-packages (from pgmpy) (1.11.0)\n",
      "Requirement already satisfied: scikit-learn in c:\\python310\\lib\\site-packages (from pgmpy) (1.0.2)\n",
      "Requirement already satisfied: tqdm in c:\\python310\\lib\\site-packages (from pgmpy) (4.64.0)\n",
      "Requirement already satisfied: networkx in c:\\python310\\lib\\site-packages (from pgmpy) (2.7.1)\n",
      "Requirement already satisfied: pytz>=2020.1 in c:\\python310\\lib\\site-packages (from pandas->pgmpy) (2021.3)\n",
      "Requirement already satisfied: python-dateutil>=2.8.1 in c:\\python310\\lib\\site-packages (from pandas->pgmpy) (2.8.2)\n",
      "Requirement already satisfied: threadpoolctl>=2.0.0 in c:\\python310\\lib\\site-packages (from scikit-learn->pgmpy) (3.1.0)\n",
      "Requirement already satisfied: patsy>=0.5.2 in c:\\python310\\lib\\site-packages (from statsmodels->pgmpy) (0.5.2)\n",
      "Requirement already satisfied: packaging>=21.3 in c:\\python310\\lib\\site-packages (from statsmodels->pgmpy) (21.3)\n",
      "Requirement already satisfied: typing-extensions in c:\\python310\\lib\\site-packages (from torch->pgmpy) (4.1.1)\n",
      "Requirement already satisfied: colorama in c:\\python310\\lib\\site-packages (from tqdm->pgmpy) (0.4.4)\n",
      "Requirement already satisfied: six in c:\\python310\\lib\\site-packages (from patsy>=0.5.2->statsmodels->pgmpy) (1.16.0)\n",
      "Note: you may need to restart the kernel to use updated packages.\n"
     ]
    },
    {
     "name": "stderr",
     "output_type": "stream",
     "text": [
      "WARNING: You are using pip version 22.0.4; however, version 22.1 is available.\n",
      "You should consider upgrading via the 'c:\\Python310\\python.exe -m pip install --upgrade pip' command.\n"
     ]
    },
    {
     "name": "stdout",
     "output_type": "stream",
     "text": [
      "Requirement already satisfied: tabulate in c:\\python310\\lib\\site-packages (0.8.9)\n",
      "Note: you may need to restart the kernel to use updated packages.\n"
     ]
    },
    {
     "name": "stderr",
     "output_type": "stream",
     "text": [
      "WARNING: You are using pip version 22.0.4; however, version 22.1 is available.\n",
      "You should consider upgrading via the 'c:\\Python310\\python.exe -m pip install --upgrade pip' command.\n"
     ]
    },
    {
     "name": "stdout",
     "output_type": "stream",
     "text": [
      "Requirement already satisfied: pandas in c:\\python310\\lib\\site-packages (1.4.2)\n",
      "Requirement already satisfied: pytz>=2020.1 in c:\\python310\\lib\\site-packages (from pandas) (2021.3)\n",
      "Requirement already satisfied: numpy>=1.21.0 in c:\\python310\\lib\\site-packages (from pandas) (1.22.3)\n",
      "Requirement already satisfied: python-dateutil>=2.8.1 in c:\\python310\\lib\\site-packages (from pandas) (2.8.2)\n",
      "Requirement already satisfied: six>=1.5 in c:\\python310\\lib\\site-packages (from python-dateutil>=2.8.1->pandas) (1.16.0)\n",
      "Note: you may need to restart the kernel to use updated packages.\n"
     ]
    },
    {
     "name": "stderr",
     "output_type": "stream",
     "text": [
      "WARNING: You are using pip version 22.0.4; however, version 22.1 is available.\n",
      "You should consider upgrading via the 'c:\\Python310\\python.exe -m pip install --upgrade pip' command.\n"
     ]
    },
    {
     "name": "stdout",
     "output_type": "stream",
     "text": [
      "Requirement already satisfied: networkx in c:\\python310\\lib\\site-packages (2.7.1)\n",
      "Note: you may need to restart the kernel to use updated packages.\n"
     ]
    },
    {
     "name": "stderr",
     "output_type": "stream",
     "text": [
      "WARNING: You are using pip version 22.0.4; however, version 22.1 is available.\n",
      "You should consider upgrading via the 'c:\\Python310\\python.exe -m pip install --upgrade pip' command.\n"
     ]
    },
    {
     "name": "stdout",
     "output_type": "stream",
     "text": [
      "Requirement already satisfied: matplotlib in c:\\python310\\lib\\site-packages (3.5.1)\n",
      "Requirement already satisfied: fonttools>=4.22.0 in c:\\python310\\lib\\site-packages (from matplotlib) (4.32.0)\n",
      "Requirement already satisfied: packaging>=20.0 in c:\\python310\\lib\\site-packages (from matplotlib) (21.3)\n",
      "Requirement already satisfied: cycler>=0.10 in c:\\python310\\lib\\site-packages (from matplotlib) (0.11.0)\n",
      "Requirement already satisfied: pillow>=6.2.0 in c:\\python310\\lib\\site-packages (from matplotlib) (9.1.0)\n",
      "Requirement already satisfied: python-dateutil>=2.7 in c:\\python310\\lib\\site-packages (from matplotlib) (2.8.2)\n",
      "Requirement already satisfied: numpy>=1.17 in c:\\python310\\lib\\site-packages (from matplotlib) (1.22.3)\n",
      "Requirement already satisfied: pyparsing>=2.2.1 in c:\\python310\\lib\\site-packages (from matplotlib) (3.0.6)\n",
      "Requirement already satisfied: kiwisolver>=1.0.1 in c:\\python310\\lib\\site-packages (from matplotlib) (1.4.2)\n",
      "Requirement already satisfied: six>=1.5 in c:\\python310\\lib\\site-packages (from python-dateutil>=2.7->matplotlib) (1.16.0)\n",
      "Note: you may need to restart the kernel to use updated packages.\n"
     ]
    },
    {
     "name": "stderr",
     "output_type": "stream",
     "text": [
      "WARNING: You are using pip version 22.0.4; however, version 22.1 is available.\n",
      "You should consider upgrading via the 'c:\\Python310\\python.exe -m pip install --upgrade pip' command.\n"
     ]
    }
   ],
   "source": [
    "# Import dependencies\n",
    "%pip install pgmpy\n",
    "%pip install tabulate\n",
    "%pip install pandas\n",
    "%pip install networkx\n",
    "%pip install matplotlib"
   ]
  },
  {
   "cell_type": "markdown",
   "metadata": {},
   "source": [
    "#### Load libraries"
   ]
  },
  {
   "cell_type": "code",
   "execution_count": 123,
   "metadata": {},
   "outputs": [],
   "source": [
    "# Load libraries\n",
    "import pgmpy as pg\n",
    "import tabulate as tb\n",
    "import pandas as pd\n",
    "import numpy as np\n",
    "import networkx as nx\n",
    "import matplotlib.pyplot as plt\n",
    "import sklearn"
   ]
  },
  {
   "cell_type": "markdown",
   "metadata": {},
   "source": [
    "## Data import and cleaning"
   ]
  },
  {
   "cell_type": "markdown",
   "metadata": {},
   "source": [
    "#### Import BigPerf data"
   ]
  },
  {
   "cell_type": "code",
   "execution_count": 124,
   "metadata": {},
   "outputs": [
    {
     "data": {
      "text/html": [
       "<div>\n",
       "<style scoped>\n",
       "    .dataframe tbody tr th:only-of-type {\n",
       "        vertical-align: middle;\n",
       "    }\n",
       "\n",
       "    .dataframe tbody tr th {\n",
       "        vertical-align: top;\n",
       "    }\n",
       "\n",
       "    .dataframe thead th {\n",
       "        text-align: right;\n",
       "    }\n",
       "</style>\n",
       "<table border=\"1\" class=\"dataframe\">\n",
       "  <thead>\n",
       "    <tr style=\"text-align: right;\">\n",
       "      <th></th>\n",
       "      <th>Block_ID</th>\n",
       "      <th>HDFS_BW</th>\n",
       "      <th>HDFSTranmissionTime</th>\n",
       "      <th>Mapper_ID</th>\n",
       "      <th>Mapper_VM_MIPS</th>\n",
       "      <th>MapExecutionTime</th>\n",
       "      <th>MapperBW</th>\n",
       "      <th>MapperTransmissionTime</th>\n",
       "      <th>Reducer_ID</th>\n",
       "      <th>Reducer_VM_MIPS</th>\n",
       "      <th>ReducerExecutionTime</th>\n",
       "      <th>ReducerBW</th>\n",
       "      <th>ReducerTransmissionTime</th>\n",
       "      <th>Block_ID.1</th>\n",
       "      <th>Block_BW</th>\n",
       "      <th>BlockTransmissionTime</th>\n",
       "      <th>TransactionTime</th>\n",
       "    </tr>\n",
       "  </thead>\n",
       "  <tbody>\n",
       "    <tr>\n",
       "      <th>0</th>\n",
       "      <td>HDFS_Block_208</td>\n",
       "      <td>11.81</td>\n",
       "      <td>80.63</td>\n",
       "      <td>mapper207</td>\n",
       "      <td>652289</td>\n",
       "      <td>765.49</td>\n",
       "      <td>30.00</td>\n",
       "      <td>2.53</td>\n",
       "      <td>reducer0</td>\n",
       "      <td>341739</td>\n",
       "      <td>480</td>\n",
       "      <td>3.80</td>\n",
       "      <td>250.14</td>\n",
       "      <td>reducer0_Block_1</td>\n",
       "      <td>0.0</td>\n",
       "      <td>0.00</td>\n",
       "      <td>1578.79</td>\n",
       "    </tr>\n",
       "    <tr>\n",
       "      <th>1</th>\n",
       "      <td>HDFS_Block_208</td>\n",
       "      <td>11.81</td>\n",
       "      <td>80.63</td>\n",
       "      <td>mapper207</td>\n",
       "      <td>652289</td>\n",
       "      <td>765.49</td>\n",
       "      <td>30.00</td>\n",
       "      <td>2.53</td>\n",
       "      <td>reducer1</td>\n",
       "      <td>150000</td>\n",
       "      <td>120</td>\n",
       "      <td>50.00</td>\n",
       "      <td>18.99</td>\n",
       "      <td>reducer1_Block_1</td>\n",
       "      <td>50.0</td>\n",
       "      <td>20.00</td>\n",
       "      <td>1007.64</td>\n",
       "    </tr>\n",
       "    <tr>\n",
       "      <th>2</th>\n",
       "      <td>HDFS_Block_208</td>\n",
       "      <td>11.81</td>\n",
       "      <td>80.63</td>\n",
       "      <td>mapper207</td>\n",
       "      <td>652289</td>\n",
       "      <td>765.49</td>\n",
       "      <td>16.76</td>\n",
       "      <td>3.25</td>\n",
       "      <td>reducer2</td>\n",
       "      <td>382530</td>\n",
       "      <td>480</td>\n",
       "      <td>4.48</td>\n",
       "      <td>212.22</td>\n",
       "      <td>reducer2_Block_1</td>\n",
       "      <td>3.7</td>\n",
       "      <td>270.02</td>\n",
       "      <td>1811.61</td>\n",
       "    </tr>\n",
       "    <tr>\n",
       "      <th>3</th>\n",
       "      <td>HDFS_Block_208</td>\n",
       "      <td>11.81</td>\n",
       "      <td>80.63</td>\n",
       "      <td>mapper207</td>\n",
       "      <td>652289</td>\n",
       "      <td>765.49</td>\n",
       "      <td>16.76</td>\n",
       "      <td>3.25</td>\n",
       "      <td>reducer3</td>\n",
       "      <td>150000</td>\n",
       "      <td>120</td>\n",
       "      <td>5.88</td>\n",
       "      <td>161.57</td>\n",
       "      <td>reducer3_Block_1</td>\n",
       "      <td>3.7</td>\n",
       "      <td>270.02</td>\n",
       "      <td>1400.96</td>\n",
       "    </tr>\n",
       "    <tr>\n",
       "      <th>4</th>\n",
       "      <td>HDFS_Block_208</td>\n",
       "      <td>11.81</td>\n",
       "      <td>80.63</td>\n",
       "      <td>mapper207</td>\n",
       "      <td>652289</td>\n",
       "      <td>765.49</td>\n",
       "      <td>18.41</td>\n",
       "      <td>4.16</td>\n",
       "      <td>reducer4</td>\n",
       "      <td>457419</td>\n",
       "      <td>480</td>\n",
       "      <td>5.88</td>\n",
       "      <td>161.53</td>\n",
       "      <td>reducer4_Block_1</td>\n",
       "      <td>3.7</td>\n",
       "      <td>270.02</td>\n",
       "      <td>1761.83</td>\n",
       "    </tr>\n",
       "  </tbody>\n",
       "</table>\n",
       "</div>"
      ],
      "text/plain": [
       "         Block_ID  HDFS_BW  HDFSTranmissionTime  Mapper_ID  Mapper_VM_MIPS  \\\n",
       "0  HDFS_Block_208    11.81                80.63  mapper207          652289   \n",
       "1  HDFS_Block_208    11.81                80.63  mapper207          652289   \n",
       "2  HDFS_Block_208    11.81                80.63  mapper207          652289   \n",
       "3  HDFS_Block_208    11.81                80.63  mapper207          652289   \n",
       "4  HDFS_Block_208    11.81                80.63  mapper207          652289   \n",
       "\n",
       "   MapExecutionTime   MapperBW  MapperTransmissionTime Reducer_ID  \\\n",
       "0             765.49     30.00                    2.53   reducer0   \n",
       "1             765.49     30.00                    2.53   reducer1   \n",
       "2             765.49     16.76                    3.25   reducer2   \n",
       "3             765.49     16.76                    3.25   reducer3   \n",
       "4             765.49     18.41                    4.16   reducer4   \n",
       "\n",
       "   Reducer_VM_MIPS  ReducerExecutionTime   ReducerBW  ReducerTransmissionTime  \\\n",
       "0           341739                    480       3.80                   250.14   \n",
       "1           150000                    120      50.00                    18.99   \n",
       "2           382530                    480       4.48                   212.22   \n",
       "3           150000                    120       5.88                   161.57   \n",
       "4           457419                    480       5.88                   161.53   \n",
       "\n",
       "         Block_ID.1  Block_BW  BlockTransmissionTime  TransactionTime  \n",
       "0  reducer0_Block_1       0.0                   0.00          1578.79  \n",
       "1  reducer1_Block_1      50.0                  20.00          1007.64  \n",
       "2  reducer2_Block_1       3.7                 270.02          1811.61  \n",
       "3  reducer3_Block_1       3.7                 270.02          1400.96  \n",
       "4  reducer4_Block_1       3.7                 270.02          1761.83  "
      ]
     },
     "execution_count": 124,
     "metadata": {},
     "output_type": "execute_result"
    }
   ],
   "source": [
    "# Import data\n",
    "df = pd.read_csv(\"C:\\\\Users\\\\Keir McGlinn-Shaw\\\\Documents\\\\Stage-3\\\\Dissertation\\\\Data\\\\Use\\\\BigPerfMetrics.csv\")\n",
    "\n",
    "df.head()"
   ]
  },
  {
   "cell_type": "markdown",
   "metadata": {},
   "source": [
    "#### Clean data of unwanted variables and missing values"
   ]
  },
  {
   "cell_type": "code",
   "execution_count": 125,
   "metadata": {},
   "outputs": [
    {
     "data": {
      "text/html": [
       "<div>\n",
       "<style scoped>\n",
       "    .dataframe tbody tr th:only-of-type {\n",
       "        vertical-align: middle;\n",
       "    }\n",
       "\n",
       "    .dataframe tbody tr th {\n",
       "        vertical-align: top;\n",
       "    }\n",
       "\n",
       "    .dataframe thead th {\n",
       "        text-align: right;\n",
       "    }\n",
       "</style>\n",
       "<table border=\"1\" class=\"dataframe\">\n",
       "  <thead>\n",
       "    <tr style=\"text-align: right;\">\n",
       "      <th></th>\n",
       "      <th>HDFS_BW</th>\n",
       "      <th>HDFSTranmissionTime</th>\n",
       "      <th>Mapper_VM_MIPS</th>\n",
       "      <th>MapExecutionTime</th>\n",
       "      <th>MapperBW</th>\n",
       "      <th>MapperTransmissionTime</th>\n",
       "      <th>Reducer_VM_MIPS</th>\n",
       "      <th>ReducerExecutionTime</th>\n",
       "      <th>ReducerBW</th>\n",
       "      <th>ReducerTransmissionTime</th>\n",
       "      <th>Block_BW</th>\n",
       "      <th>BlockTransmissionTime</th>\n",
       "      <th>TransactionTime</th>\n",
       "    </tr>\n",
       "  </thead>\n",
       "  <tbody>\n",
       "    <tr>\n",
       "      <th>0</th>\n",
       "      <td>11.81</td>\n",
       "      <td>80.63</td>\n",
       "      <td>652289</td>\n",
       "      <td>765.49</td>\n",
       "      <td>30.00</td>\n",
       "      <td>2.53</td>\n",
       "      <td>341739</td>\n",
       "      <td>480</td>\n",
       "      <td>3.80</td>\n",
       "      <td>250.14</td>\n",
       "      <td>0.0</td>\n",
       "      <td>0.00</td>\n",
       "      <td>1578.79</td>\n",
       "    </tr>\n",
       "    <tr>\n",
       "      <th>1</th>\n",
       "      <td>11.81</td>\n",
       "      <td>80.63</td>\n",
       "      <td>652289</td>\n",
       "      <td>765.49</td>\n",
       "      <td>30.00</td>\n",
       "      <td>2.53</td>\n",
       "      <td>150000</td>\n",
       "      <td>120</td>\n",
       "      <td>50.00</td>\n",
       "      <td>18.99</td>\n",
       "      <td>50.0</td>\n",
       "      <td>20.00</td>\n",
       "      <td>1007.64</td>\n",
       "    </tr>\n",
       "    <tr>\n",
       "      <th>2</th>\n",
       "      <td>11.81</td>\n",
       "      <td>80.63</td>\n",
       "      <td>652289</td>\n",
       "      <td>765.49</td>\n",
       "      <td>16.76</td>\n",
       "      <td>3.25</td>\n",
       "      <td>382530</td>\n",
       "      <td>480</td>\n",
       "      <td>4.48</td>\n",
       "      <td>212.22</td>\n",
       "      <td>3.7</td>\n",
       "      <td>270.02</td>\n",
       "      <td>1811.61</td>\n",
       "    </tr>\n",
       "    <tr>\n",
       "      <th>3</th>\n",
       "      <td>11.81</td>\n",
       "      <td>80.63</td>\n",
       "      <td>652289</td>\n",
       "      <td>765.49</td>\n",
       "      <td>16.76</td>\n",
       "      <td>3.25</td>\n",
       "      <td>150000</td>\n",
       "      <td>120</td>\n",
       "      <td>5.88</td>\n",
       "      <td>161.57</td>\n",
       "      <td>3.7</td>\n",
       "      <td>270.02</td>\n",
       "      <td>1400.96</td>\n",
       "    </tr>\n",
       "    <tr>\n",
       "      <th>4</th>\n",
       "      <td>11.81</td>\n",
       "      <td>80.63</td>\n",
       "      <td>652289</td>\n",
       "      <td>765.49</td>\n",
       "      <td>18.41</td>\n",
       "      <td>4.16</td>\n",
       "      <td>457419</td>\n",
       "      <td>480</td>\n",
       "      <td>5.88</td>\n",
       "      <td>161.53</td>\n",
       "      <td>3.7</td>\n",
       "      <td>270.02</td>\n",
       "      <td>1761.83</td>\n",
       "    </tr>\n",
       "  </tbody>\n",
       "</table>\n",
       "</div>"
      ],
      "text/plain": [
       "   HDFS_BW  HDFSTranmissionTime  Mapper_VM_MIPS  MapExecutionTime   MapperBW  \\\n",
       "0    11.81                80.63          652289             765.49     30.00   \n",
       "1    11.81                80.63          652289             765.49     30.00   \n",
       "2    11.81                80.63          652289             765.49     16.76   \n",
       "3    11.81                80.63          652289             765.49     16.76   \n",
       "4    11.81                80.63          652289             765.49     18.41   \n",
       "\n",
       "   MapperTransmissionTime  Reducer_VM_MIPS  ReducerExecutionTime   ReducerBW  \\\n",
       "0                    2.53           341739                    480       3.80   \n",
       "1                    2.53           150000                    120      50.00   \n",
       "2                    3.25           382530                    480       4.48   \n",
       "3                    3.25           150000                    120       5.88   \n",
       "4                    4.16           457419                    480       5.88   \n",
       "\n",
       "   ReducerTransmissionTime  Block_BW  BlockTransmissionTime  TransactionTime  \n",
       "0                   250.14       0.0                   0.00          1578.79  \n",
       "1                    18.99      50.0                  20.00          1007.64  \n",
       "2                   212.22       3.7                 270.02          1811.61  \n",
       "3                   161.57       3.7                 270.02          1400.96  \n",
       "4                   161.53       3.7                 270.02          1761.83  "
      ]
     },
     "execution_count": 125,
     "metadata": {},
     "output_type": "execute_result"
    }
   ],
   "source": [
    "# Clean data\n",
    "df.dropna()\n",
    "\n",
    "df.drop(labels=['Block_ID', 'Mapper_ID', 'Reducer_ID', 'Block_ID.1'], axis=1, inplace=True)\n",
    "\n",
    "df.head()"
   ]
  },
  {
   "cell_type": "markdown",
   "metadata": {},
   "source": [
    "#### Rename columns to better fit in drawn charts and for ease of use"
   ]
  },
  {
   "cell_type": "code",
   "execution_count": 126,
   "metadata": {},
   "outputs": [
    {
     "data": {
      "text/html": [
       "<div>\n",
       "<style scoped>\n",
       "    .dataframe tbody tr th:only-of-type {\n",
       "        vertical-align: middle;\n",
       "    }\n",
       "\n",
       "    .dataframe tbody tr th {\n",
       "        vertical-align: top;\n",
       "    }\n",
       "\n",
       "    .dataframe thead th {\n",
       "        text-align: right;\n",
       "    }\n",
       "</style>\n",
       "<table border=\"1\" class=\"dataframe\">\n",
       "  <thead>\n",
       "    <tr style=\"text-align: right;\">\n",
       "      <th></th>\n",
       "      <th>HBW</th>\n",
       "      <th>HTT</th>\n",
       "      <th>MMIPS</th>\n",
       "      <th>MET</th>\n",
       "      <th>MBW</th>\n",
       "      <th>MTT</th>\n",
       "      <th>RMIPS</th>\n",
       "      <th>RET</th>\n",
       "      <th>RBW</th>\n",
       "      <th>RTT</th>\n",
       "      <th>BBW</th>\n",
       "      <th>BTT</th>\n",
       "      <th>TT</th>\n",
       "    </tr>\n",
       "  </thead>\n",
       "  <tbody>\n",
       "    <tr>\n",
       "      <th>0</th>\n",
       "      <td>11.81</td>\n",
       "      <td>80.63</td>\n",
       "      <td>652289</td>\n",
       "      <td>765.49</td>\n",
       "      <td>30.00</td>\n",
       "      <td>2.53</td>\n",
       "      <td>341739</td>\n",
       "      <td>480</td>\n",
       "      <td>3.80</td>\n",
       "      <td>250.14</td>\n",
       "      <td>0.0</td>\n",
       "      <td>0.00</td>\n",
       "      <td>1578.79</td>\n",
       "    </tr>\n",
       "    <tr>\n",
       "      <th>1</th>\n",
       "      <td>11.81</td>\n",
       "      <td>80.63</td>\n",
       "      <td>652289</td>\n",
       "      <td>765.49</td>\n",
       "      <td>30.00</td>\n",
       "      <td>2.53</td>\n",
       "      <td>150000</td>\n",
       "      <td>120</td>\n",
       "      <td>50.00</td>\n",
       "      <td>18.99</td>\n",
       "      <td>50.0</td>\n",
       "      <td>20.00</td>\n",
       "      <td>1007.64</td>\n",
       "    </tr>\n",
       "    <tr>\n",
       "      <th>2</th>\n",
       "      <td>11.81</td>\n",
       "      <td>80.63</td>\n",
       "      <td>652289</td>\n",
       "      <td>765.49</td>\n",
       "      <td>16.76</td>\n",
       "      <td>3.25</td>\n",
       "      <td>382530</td>\n",
       "      <td>480</td>\n",
       "      <td>4.48</td>\n",
       "      <td>212.22</td>\n",
       "      <td>3.7</td>\n",
       "      <td>270.02</td>\n",
       "      <td>1811.61</td>\n",
       "    </tr>\n",
       "    <tr>\n",
       "      <th>3</th>\n",
       "      <td>11.81</td>\n",
       "      <td>80.63</td>\n",
       "      <td>652289</td>\n",
       "      <td>765.49</td>\n",
       "      <td>16.76</td>\n",
       "      <td>3.25</td>\n",
       "      <td>150000</td>\n",
       "      <td>120</td>\n",
       "      <td>5.88</td>\n",
       "      <td>161.57</td>\n",
       "      <td>3.7</td>\n",
       "      <td>270.02</td>\n",
       "      <td>1400.96</td>\n",
       "    </tr>\n",
       "    <tr>\n",
       "      <th>4</th>\n",
       "      <td>11.81</td>\n",
       "      <td>80.63</td>\n",
       "      <td>652289</td>\n",
       "      <td>765.49</td>\n",
       "      <td>18.41</td>\n",
       "      <td>4.16</td>\n",
       "      <td>457419</td>\n",
       "      <td>480</td>\n",
       "      <td>5.88</td>\n",
       "      <td>161.53</td>\n",
       "      <td>3.7</td>\n",
       "      <td>270.02</td>\n",
       "      <td>1761.83</td>\n",
       "    </tr>\n",
       "    <tr>\n",
       "      <th>5</th>\n",
       "      <td>11.81</td>\n",
       "      <td>80.63</td>\n",
       "      <td>652289</td>\n",
       "      <td>765.49</td>\n",
       "      <td>18.41</td>\n",
       "      <td>4.16</td>\n",
       "      <td>150000</td>\n",
       "      <td>120</td>\n",
       "      <td>6.98</td>\n",
       "      <td>136.24</td>\n",
       "      <td>3.7</td>\n",
       "      <td>270.02</td>\n",
       "      <td>1376.54</td>\n",
       "    </tr>\n",
       "    <tr>\n",
       "      <th>6</th>\n",
       "      <td>11.81</td>\n",
       "      <td>80.63</td>\n",
       "      <td>652289</td>\n",
       "      <td>765.49</td>\n",
       "      <td>18.41</td>\n",
       "      <td>4.16</td>\n",
       "      <td>563904</td>\n",
       "      <td>480</td>\n",
       "      <td>3.80</td>\n",
       "      <td>250.14</td>\n",
       "      <td>3.7</td>\n",
       "      <td>270.02</td>\n",
       "      <td>1850.44</td>\n",
       "    </tr>\n",
       "    <tr>\n",
       "      <th>7</th>\n",
       "      <td>11.81</td>\n",
       "      <td>80.63</td>\n",
       "      <td>652289</td>\n",
       "      <td>765.49</td>\n",
       "      <td>18.41</td>\n",
       "      <td>4.16</td>\n",
       "      <td>150000</td>\n",
       "      <td>120</td>\n",
       "      <td>150.00</td>\n",
       "      <td>6.33</td>\n",
       "      <td>3.7</td>\n",
       "      <td>270.02</td>\n",
       "      <td>1246.63</td>\n",
       "    </tr>\n",
       "    <tr>\n",
       "      <th>8</th>\n",
       "      <td>11.81</td>\n",
       "      <td>80.63</td>\n",
       "      <td>652289</td>\n",
       "      <td>765.49</td>\n",
       "      <td>18.41</td>\n",
       "      <td>4.16</td>\n",
       "      <td>430890</td>\n",
       "      <td>480</td>\n",
       "      <td>3.80</td>\n",
       "      <td>250.14</td>\n",
       "      <td>3.7</td>\n",
       "      <td>270.02</td>\n",
       "      <td>1850.44</td>\n",
       "    </tr>\n",
       "    <tr>\n",
       "      <th>9</th>\n",
       "      <td>11.81</td>\n",
       "      <td>80.63</td>\n",
       "      <td>652289</td>\n",
       "      <td>765.49</td>\n",
       "      <td>18.41</td>\n",
       "      <td>4.16</td>\n",
       "      <td>150000</td>\n",
       "      <td>120</td>\n",
       "      <td>150.00</td>\n",
       "      <td>6.33</td>\n",
       "      <td>3.7</td>\n",
       "      <td>270.02</td>\n",
       "      <td>1246.63</td>\n",
       "    </tr>\n",
       "  </tbody>\n",
       "</table>\n",
       "</div>"
      ],
      "text/plain": [
       "     HBW    HTT   MMIPS     MET    MBW   MTT   RMIPS  RET     RBW     RTT  \\\n",
       "0  11.81  80.63  652289  765.49  30.00  2.53  341739  480    3.80  250.14   \n",
       "1  11.81  80.63  652289  765.49  30.00  2.53  150000  120   50.00   18.99   \n",
       "2  11.81  80.63  652289  765.49  16.76  3.25  382530  480    4.48  212.22   \n",
       "3  11.81  80.63  652289  765.49  16.76  3.25  150000  120    5.88  161.57   \n",
       "4  11.81  80.63  652289  765.49  18.41  4.16  457419  480    5.88  161.53   \n",
       "5  11.81  80.63  652289  765.49  18.41  4.16  150000  120    6.98  136.24   \n",
       "6  11.81  80.63  652289  765.49  18.41  4.16  563904  480    3.80  250.14   \n",
       "7  11.81  80.63  652289  765.49  18.41  4.16  150000  120  150.00    6.33   \n",
       "8  11.81  80.63  652289  765.49  18.41  4.16  430890  480    3.80  250.14   \n",
       "9  11.81  80.63  652289  765.49  18.41  4.16  150000  120  150.00    6.33   \n",
       "\n",
       "    BBW     BTT       TT  \n",
       "0   0.0    0.00  1578.79  \n",
       "1  50.0   20.00  1007.64  \n",
       "2   3.7  270.02  1811.61  \n",
       "3   3.7  270.02  1400.96  \n",
       "4   3.7  270.02  1761.83  \n",
       "5   3.7  270.02  1376.54  \n",
       "6   3.7  270.02  1850.44  \n",
       "7   3.7  270.02  1246.63  \n",
       "8   3.7  270.02  1850.44  \n",
       "9   3.7  270.02  1246.63  "
      ]
     },
     "execution_count": 126,
     "metadata": {},
     "output_type": "execute_result"
    }
   ],
   "source": [
    "# Rename column headers to abbreviations\n",
    "\n",
    "nodes = ['HBW', 'HTT', 'MMIPS', 'MET', 'MBW', 'MTT', 'RMIPS', 'RET', 'RBW', 'RTT', 'BBW', 'BTT', 'TT']\n",
    "\n",
    "df.columns = nodes\n",
    "\n",
    "df.head(10)"
   ]
  },
  {
   "cell_type": "markdown",
   "metadata": {},
   "source": [
    "#### Define funtion to discretise data into three catagories"
   ]
  },
  {
   "cell_type": "code",
   "execution_count": 127,
   "metadata": {},
   "outputs": [
    {
     "data": {
      "text/plain": [
       "'\\nSplits data into three bins of equal size using: https://pandas.pydata.org/docs/reference/api/pandas.cut.html\\n'"
      ]
     },
     "execution_count": 127,
     "metadata": {},
     "output_type": "execute_result"
    }
   ],
   "source": [
    "# '''\n",
    "# Splits data into three bins of equal size using: https://pandas.pydata.org/docs/reference/api/pandas.cut.html\n",
    "# '''\n",
    "def split_tertiles(df):\n",
    "    tertile_labels = ['Very Low', 'Low', 'High', 'Very-high']\n",
    "\n",
    "    tert_df = pd.DataFrame()\n",
    "\n",
    "    final_df = pd.DataFrame()\n",
    "\n",
    "    for column_name in df:\n",
    "        tert_df[column_name] = pd.qcut(x=df[column_name], q=4, duplicates='drop')\n",
    "\n",
    "        if len(tert_df[column_name].cat.categories) == 4:\n",
    "            final_df[column_name] = tert_df[column_name].cat.rename_categories(['Very Low', 'Low', 'High', 'Very-high'])\n",
    "        elif len(tert_df[column_name].cat.categories) == 3:\n",
    "            final_df[column_name] = tert_df[column_name].cat.rename_categories(['Low', 'Medium', 'High'])\n",
    "        elif len(tert_df[column_name].cat.categories) == 2:\n",
    "            final_df[column_name] = tert_df[column_name].cat.rename_categories(['Low', 'High'])\n",
    "        else:\n",
    "            final_df[column_name] = pd.cut(df[column_name], 2, labels=['Very Low', 'Very-high'], ordered=True)\n",
    "\n",
    "    # Change type of values stored in dataframe to avoid errors arrising from using the Category type when the dataframe is fed into the pgmpy.metrics.metrics correlation_score function\n",
    "    final_df = final_df.astype('object')\n",
    "\n",
    "    return final_df\n",
    "\n",
    "# import random\n",
    "\n",
    "# '''\n",
    "# Splits data into three bins of equal size using: https://pandas.pydata.org/docs/reference/api/pandas.cut.html\n",
    "# '''\n",
    "# def split_tertiles(df):\n",
    "#     tertile_labels = ['Very Low', 'Low', 'High', 'Very-high']\n",
    "\n",
    "#     tert_df = pd.DataFrame()\n",
    "\n",
    "#     # for column in df:\n",
    "#     #   for i in range(len(column)):\n",
    "#     #     df[column][i] = df[column][i] + random.uniform(0.00000000001, 0.000009)\n",
    "\n",
    "#     # for (columnName, columnData) in df.iteritems():\n",
    "#     #   for val in columnData:\n",
    "#     #     val = val + random.uniform(0.000000001, 0.000000009)\n",
    "\n",
    "#     for column_name in df:\n",
    "\n",
    "#           tert_df[column_name], bins = pd.qcut(x=df[column_name], q=4, duplicates='drop', retbins=True)\n",
    "\n",
    "#           print(column_name)\n",
    "#           for i in range(len(bins)):\n",
    "#             print (bins[i])\n",
    "\n",
    "\n",
    "#     # Change type of values stored in dataframe to avoid errors arrising from using the Category type when the dataframe is fed into the pgmpy.metrics.metrics correlation_score function\n",
    "#     tert_df = tert_df.astype('object')\n",
    "\n",
    "#     return tert_df\n",
    "\n",
    "'''\n",
    "Splits data into three bins of equal size using: https://pandas.pydata.org/docs/reference/api/pandas.cut.html\n",
    "'''\n",
    "# def split_tertiles(df):\n",
    "#     tertile_labels = ['Very Low', 'Low', 'High', 'Very High']\n",
    "\n",
    "#     tert_df = pd.DataFrame()\n",
    "\n",
    "#     for column_name in df:\n",
    "#         tert_df[column_name] = pd.cut(df[column_name], 4, labels=tertile_labels, ordered=True)\n",
    "\n",
    "#     # Change type of values stored in dataframe to avoid errors arrising from using the Category type when the dataframe is fed into the pgmpy.metrics.metrics correlation_score function\n",
    "#     tert_df = tert_df.astype('object')\n",
    "\n",
    "#     return tert_df"
   ]
  },
  {
   "cell_type": "code",
   "execution_count": 128,
   "metadata": {},
   "outputs": [],
   "source": [
    "# def discretise(df):\n",
    "#     labels = ['1', '2', '3', '4']\n",
    "\n",
    "#     tert_df = pd.DataFrame()\n",
    "\n",
    "#     for column_name in df:\n",
    "#         tert_df[column_name], bins = pd.cut(df[column_name], 4, labels=labels, ordered=True, retbins=True)\n",
    "\n",
    "#         print(column_name)\n",
    "#         print(bins[0])\n",
    "#         print(bins[1])\n",
    "#         print(bins[2])\n",
    "#         print(bins[3])\n",
    "#         print(bins[4])\n",
    "\n",
    "#         tert_df[column_name] = tert_df[column_name].cat.rename_categories([ f'1. ({str(round(bins[0]))} to {str(round(bins[1]))}]',\n",
    "#                                                                            f'2. ({str(round(bins[1]))} to {str(round(bins[2]))}]',\n",
    "#                                                                            f'3. ({str(round(bins[2]))} to {str(round(bins[3]))}]',\n",
    "#                                                                            f'4. ({str(round(bins[3]))} to {str(round(bins[4]))}]'])\n",
    "\n",
    "#     # Change type of values stored in dataframe to avoid errors arrising from using the Category type when the dataframe is fed into the pgmpy.metrics.metrics correlation_score function\n",
    "#     tert_df = tert_df.astype('object')\n",
    "\n",
    "#     return tert_df\n",
    "\n",
    "def discretise(df):\n",
    "    discrete_df = pd.DataFrame()\n",
    "\n",
    "    # discrete_df['HBW'] = pd.cut(df['HBW'], 4, labels=['1. less than 6 Mbps', '2. greater than 6 Mbps'], ordered=True, retbins=False)\n",
    "    # discrete_df['HTT'] = pd.cut(df['HTT'], 4, labels=['1. less than 178 Milliseconds', '2. greater than 178 Milliseconds'], ordered=True, retbins=False)\n",
    "    # discrete_df['MMIPS'] = pd.cut(df['MMIPS'], 4, labels=['1. less than 750000 MIPS', '2. 750000 to 850000 MIPS', '3. greater than 850000 MIPS'], ordered=True, retbins=False)\n",
    "    # discrete_df['MET'] = pd.cut(df['MET'], 4, labels=['1. less than 1000 Milliseconds', '2. 1000 to 1250 Milliseconds', '3. greater than 1250 Milliseconds'], ordered=True, retbins=False)\n",
    "    # discrete_df['MBW'] = pd.cut(df['MBW'], 4, labels=['1. less than 11 Mbps', '2. 11 to 20 Mbps', '3. greater than 20 Mbps'], ordered=True, retbins=False)\n",
    "    # discrete_df['MTT'] = pd.cut(df['MTT'], 4, labels=['1. less than 18 Milliseconds', '2. 18 to 35 Milliseconds', '3. greater than 35 Milliseconds'], ordered=True, retbins=False)\n",
    "    # discrete_df['RMIPS'] = pd.cut(df['RMIPS'], 4, labels=['1. less than 285000 MIPS', '2. 285000 to 425000 MIPS', '3. greater than 425000 MIPS'], ordered=True, retbins=False)\n",
    "    # discrete_df['RET'] = pd.cut(df['RET'], 4, labels=['1. less than 240 Milliseconds', '2. greater than 240 Milliseconds'], ordered=True, retbins=False)\n",
    "    # discrete_df['RBW'] = pd.cut(df['RBW'], 4, labels=['1. less than 75 Mbps', '2. greater than 75 Mbps'], ordered=True, retbins=False)\n",
    "    # discrete_df['RTT' ] = pd.cut(df['RTT'], 4, labels=['1. less than 90 Milliseconds', '2. 90 to 170 Milliseconds', '3. greater than 170 Milliseconds'], ordered=True, retbins=False)\n",
    "    # discrete_df['BBW'] = pd.cut(df['BBW'], 4, labels=['1. less than 25 Mbps', '2. greater than 25 Mbps'], ordered=True, retbins=False)\n",
    "    # discrete_df['BTT'] = pd.cut(df['BTT'], 4, labels=['1. less than 135 Milliseconds', '2. greater than 135 Milliseconds'], ordered=True, retbins=False)\n",
    "    # discrete_df['TT'] = pd.cut(df['TT'], 4, labels=['1. less than 1625 Milliseconds', '2. 1625 to 2245 Milliseconds', '3. greater than 2245 Millilseconds'], ordered=True, retbins=False)\n",
    "\n",
    "\n",
    "    discrete_df['HBW'] = pd.cut(df['HBW'], labels=['1', '2', '3', '4'], bins=[-1, 3, 6, 9, 12], ordered=True, retbins=False)\n",
    "    discrete_df['HTT'] = pd.cut(df['HTT'], labels=['1', '2', '3', '4'], bins=[-1, 90, 180, 270, 360], ordered=True, retbins=False)\n",
    "    discrete_df['MMIPS'] = pd.cut(df['MMIPS'], labels=['1', '2', '3', '4'], bins=[0, 730000, 800000, 880000, 950000], ordered=True, retbins=False)\n",
    "    discrete_df['MET'] = pd.cut(df['MET'], labels=['1', '2', '3', '4'], bins=[0, 945, 1130, 1300, 1500], ordered=True, retbins=False)\n",
    "    discrete_df['MBW'] = pd.cut(df['MBW'], labels=['1', '2', '3', '4'], bins=[0, 9, 16, 23, 30], ordered=True, retbins=False)\n",
    "    discrete_df['MTT'] = pd.cut(df['MTT'],labels=['1', '2', '3', '4'],  bins=[0, 14, 26, 38, 51], ordered=True, retbins=False)\n",
    "    discrete_df['RMIPS'] = pd.cut(df['RMIPS'], labels=['1', '2', '3', '4'], bins=[0, 254000, 357000, 460000, 565000], ordered=True, retbins=False)\n",
    "    discrete_df['RET'] = pd.cut(df['RET'], labels=['1', '2', '3', '4'], bins=[0, 210, 300, 390, 480], ordered=True, retbins=False)\n",
    "    discrete_df['RBW'] = pd.cut(df['RBW'], labels=['1', '2', '3', '4'], bins=[0, 40, 77, 114, 150], ordered=True, retbins=False)\n",
    "    discrete_df['RTT' ] = pd.cut(df['RTT'], labels=['1', '2', '3', '4'], bins=[0, 67, 128, 189, 255], ordered=True, retbins=False)\n",
    "    discrete_df['BBW'] = pd.cut(df['BBW'], labels=['1', '2', '3', '4'], bins=[-1, 12, 25, 37, 50], ordered=True, retbins=False)\n",
    "    discrete_df['BTT'] = pd.cut(df['BTT'],labels=['1', '2', '3', '4'],  bins=[-1, 67, 135, 202, 275], ordered=True, retbins=False)\n",
    "    discrete_df['TT'] = pd.cut(df['TT'], labels=['1', '2', '3', '4'], bins=[0, 1500, 2000, 2400, 2900], ordered=True, retbins=False)\n",
    "\n",
    "    discrete_df['HBW'] = pd.cut(df['HBW'], labels=['1', '2', '3', '4'], bins=[-1, 3, 6, 9, 12], ordered=True, retbins=False)\n",
    "    discrete_df['HTT'] = pd.cut(df['HTT'], labels=['1', '2', '3', '4'], bins=[-1, 90, 180, 270, 360], ordered=True, retbins=False)\n",
    "    discrete_df['MMIPS'] = pd.cut(df['MMIPS'], labels=['1', '2', '3', '4'], bins=[0, 730000, 800000, 880000, 950000], ordered=True, retbins=False)\n",
    "    discrete_df['MET'] = pd.cut(df['MET'], labels=['1', '2', '3', '4'], bins=[0, 945, 1130, 1300, 1500], ordered=True, retbins=False)\n",
    "    discrete_df['MBW'] = pd.cut(df['MBW'], labels=['1', '2', '3', '4'], bins=[0, 9, 16, 23, 30], ordered=True, retbins=False)\n",
    "    discrete_df['MTT'] = pd.cut(df['MTT'],labels=['1', '2', '3', '4'],  bins=[0, 14, 26, 38, 51], ordered=True, retbins=False)\n",
    "    discrete_df['RMIPS'] = pd.cut(df['RMIPS'], labels=['1', '2', '3', '4'], bins=[0, 254000, 357000, 460000, 565000], ordered=True, retbins=False)\n",
    "    discrete_df['RET'] = pd.cut(df['RET'], labels=['1', '2', '3', '4'], bins=[0, 210, 300, 390, 480], ordered=True, retbins=False)\n",
    "    discrete_df['RBW'] = pd.cut(df['RBW'], labels=['1', '2', '3', '4'], bins=[0, 40, 77, 114, 150], ordered=True, retbins=False)\n",
    "    discrete_df['RTT' ] = pd.cut(df['RTT'], labels=['1', '2', '3', '4'], bins=[0, 67, 128, 189, 255], ordered=True, retbins=False)\n",
    "    discrete_df['BBW'] = pd.cut(df['BBW'], labels=['1', '2', '3', '4'], bins=[-1, 12, 25, 37, 50], ordered=True, retbins=False)\n",
    "    discrete_df['BTT'] = pd.cut(df['BTT'],labels=['1', '2', '3', '4'],  bins=[-1, 67, 135, 202, 275], ordered=True, retbins=False)\n",
    "    discrete_df['TT'] = pd.cut(df['TT'], labels=['1', '2', '3', '4'], bins=[0, 1500, 2000, 2400, 2900], ordered=True, retbins=False)\n",
    "\n",
    "    # discrete_df['HBW'], hbw_bins = pd.cut(df['HBW'], labels=['1', '2', '3', '4'], bins=[-1, 3, 6, 9, 12], ordered=True, retbins=True)\n",
    "    # i = 0\n",
    "    # for bin in hbw_bins:\n",
    "    #     print(f'HBw bin {i} card: {len(bin)}')\n",
    "    #     i+=1\n",
    "\n",
    "    # discrete_df['HTT'], htt_bins = pd.cut(df['HTT'], labels=['1', '2', '3', '4'], bins=[-1, 90, 180, 270, 360], ordered=True, retbins=True)\n",
    "    # i = 0\n",
    "    # for bin in htt_bins:\n",
    "    #     print(f'HTT bin {i} card: {len(bin)}')\n",
    "    #     i+=1\n",
    "\n",
    "    # discrete_df['MMIPS'], mmips_bins = pd.cut(df['MMIPS'], labels=['1', '2', '3', '4'], bins=[0, 730000, 800000, 880000, 950000], ordered=True, retbins=True)\n",
    "    # i = 0\n",
    "    # for bin in mmips_bins:\n",
    "    #     print(f'MMIPS bin {i} card: {len(bin)}')\n",
    "    #     i+=1\n",
    "\n",
    "    # discrete_df['MET'], met_bins = pd.cut(df['MET'], labels=['1', '2', '3', '4'], bins=[0, 945, 1130, 1300, 1500], ordered=True, retbins=True)\n",
    "    # i = 0\n",
    "    # for bin in met_bins:\n",
    "    #     print(f'MET bin {i} card: {len(bin)}')\n",
    "    #     i+=1\n",
    "\n",
    "    # discrete_df['MBW'], mbw_bins = pd.cut(df['MBW'], labels=['1', '2', '3', '4'], bins=[0, 9, 16, 23, 30], ordered=True, retbins=True)\n",
    "    # i = 0\n",
    "    # for bin in mbw_bins:\n",
    "    #     print(f'MBW bin {i} card: {len(bin)}')\n",
    "    #     i+=1\n",
    "\n",
    "    # discrete_df['MTT'], mtt_bins = pd.cut(df['MTT'],labels=['1', '2', '3', '4'],  bins=[0, 14, 26, 38, 51], ordered=True, retbins=True)\n",
    "    # i = 0\n",
    "    # for bin in mtt_bins:\n",
    "    #     print(f'MTT bin {i} card: {len(bin)}')\n",
    "    #     i+=1\n",
    "\n",
    "    # discrete_df['RMIPS'], rmips_bins = pd.cut(df['RMIPS'], labels=['1', '2', '3', '4'], bins=[0, 254000, 357000, 460000, 565000], ordered=True, retbins=True)\n",
    "    # i = 0\n",
    "    # for bin in rmips_bins:\n",
    "    #     print(f'RMIPS bin {i} card: {len(bin)}')\n",
    "    #     i+=1\n",
    "\n",
    "    # discrete_df['RET'], ret_bins = pd.cut(df['RET'], labels=['1', '2', '3', '4'], bins=[0, 210, 300, 390, 480], ordered=True, retbins=True)\n",
    "    # i = 0\n",
    "    # for bin in ret_bins:\n",
    "    #     print(f'RET bin {i} card: {len(bin)}')\n",
    "    #     i+=1\n",
    "\n",
    "    # discrete_df['RBW'], rbw_bins = pd.cut(df['RBW'], labels=['1', '2', '3', '4'], bins=[0, 40, 77, 114, 150], ordered=True, retbins=True)\n",
    "    # i = 0\n",
    "    # for bin in rbw_bins:\n",
    "    #     print(f'RBW bin {i} card: {len(bin)}')\n",
    "    #     i+=1\n",
    "\n",
    "    # discrete_df['RTT' ], rtt_bins = pd.cut(df['RTT'], labels=['1', '2', '3', '4'], bins=[0, 67, 128, 189, 255], ordered=True, retbins=True)\n",
    "    # i = 0\n",
    "    # for bin in rtt_bins:\n",
    "    #     print(f'RTT bin {i} card: {len(bin)}')\n",
    "    #     i+=1\n",
    "\n",
    "    # discrete_df['BBW'], bbw_bins = pd.cut(df['BBW'], labels=['1', '2', '3', '4'], bins=[-1, 12, 25, 37, 50], ordered=True, retbins=True)\n",
    "    # i = 0\n",
    "    # for bin in bbw_bins:\n",
    "    #     print(f'BBW bin {i} card: {len(bin)}')\n",
    "    #     i+=1\n",
    "\n",
    "    # discrete_df['BTT'], btt_bins = pd.cut(df['BTT'],labels=['1', '2', '3', '4'],  bins=[-1, 67, 135, 202, 275], ordered=True, retbins=True)\n",
    "    # i = 0\n",
    "    # for bin in btt_bins:\n",
    "    #     print(f'BTT bin {i} card: {len(bin)}')\n",
    "    #     i+=1\n",
    "    \n",
    "    # discrete_df['TT'], tt_bins = pd.cut(df['TT'], labels=['1', '2', '3', '4'], bins=[0, 1500, 2000, 2400, 2900], ordered=True, retbins=True)\n",
    "    # i = 0\n",
    "    # for bin in tt_bins:\n",
    "    #     print(f'TT bin {i} card: {len(bin)}')\n",
    "    #     i+=1\n",
    "\n",
    "    discrete_df = discrete_df.astype('object')\n",
    "\n",
    "\n",
    "\n",
    "    return discrete_df"
   ]
  },
  {
   "cell_type": "markdown",
   "metadata": {},
   "source": [
    "#### Discretise data into catagories"
   ]
  },
  {
   "cell_type": "code",
   "execution_count": 129,
   "metadata": {},
   "outputs": [
    {
     "name": "stdout",
     "output_type": "stream",
     "text": [
      "[{'HBW': 'High', 'Count': 1418}, {'HBW': 'Low', 'Count': 1122}]\n",
      "[{'HTT': 'High', 'Count': 1104}, {'HTT': 'Low', 'Count': 1436}]\n",
      "[{'MMIPS': 'High', 'Count': 633}, {'MMIPS': 'Low', 'Count': 638}, {'MMIPS': 'Very Low', 'Count': 635}, {'MMIPS': 'Very-high', 'Count': 634}]\n",
      "[{'MET': 'High', 'Count': 633}, {'MET': 'Low', 'Count': 638}, {'MET': 'Very Low', 'Count': 635}, {'MET': 'Very-high', 'Count': 634}]\n",
      "[{'MBW': 'High', 'Count': 634}, {'MBW': 'Low', 'Count': 612}, {'MBW': 'Very Low', 'Count': 660}, {'MBW': 'Very-high', 'Count': 634}]\n",
      "[{'MTT': 'High', 'Count': 632}, {'MTT': 'Low', 'Count': 638}, {'MTT': 'Very Low', 'Count': 636}, {'MTT': 'Very-high', 'Count': 634}]\n",
      "[{'RMIPS': 'High', 'Count': 508}, {'RMIPS': 'Low', 'Count': 1270}, {'RMIPS': 'Medium', 'Count': 762}]\n",
      "[{'RET': 'High', 'Count': 1270}, {'RET': 'Low', 'Count': 1270}]\n",
      "[{'RBW': 'High', 'Count': 508}, {'RBW': 'Low', 'Count': 1524}, {'RBW': 'Medium', 'Count': 508}]\n",
      "[{'RTT': 'High', 'Count': 1270}, {'RTT': 'Low', 'Count': 762}, {'RTT': 'Medium', 'Count': 508}]\n",
      "[{'BBW': 'High', 'Count': 254}, {'BBW': 'Low', 'Count': 2286}]\n",
      "[{'BTT': 'Very Low', 'Count': 508}, {'BTT': 'Very-high', 'Count': 2032}]\n",
      "[{'TT': 'High', 'Count': 636}, {'TT': 'Low', 'Count': 635}, {'TT': 'Very Low', 'Count': 635}, {'TT': 'Very-high', 'Count': 634}]\n"
     ]
    },
    {
     "data": {
      "text/html": [
       "<div>\n",
       "<style scoped>\n",
       "    .dataframe tbody tr th:only-of-type {\n",
       "        vertical-align: middle;\n",
       "    }\n",
       "\n",
       "    .dataframe tbody tr th {\n",
       "        vertical-align: top;\n",
       "    }\n",
       "\n",
       "    .dataframe thead th {\n",
       "        text-align: right;\n",
       "    }\n",
       "</style>\n",
       "<table border=\"1\" class=\"dataframe\">\n",
       "  <thead>\n",
       "    <tr style=\"text-align: right;\">\n",
       "      <th></th>\n",
       "      <th>HBW</th>\n",
       "      <th>HTT</th>\n",
       "      <th>MMIPS</th>\n",
       "      <th>MET</th>\n",
       "      <th>MBW</th>\n",
       "      <th>MTT</th>\n",
       "      <th>RMIPS</th>\n",
       "      <th>RET</th>\n",
       "      <th>RBW</th>\n",
       "      <th>RTT</th>\n",
       "      <th>BBW</th>\n",
       "      <th>BTT</th>\n",
       "      <th>TT</th>\n",
       "    </tr>\n",
       "  </thead>\n",
       "  <tbody>\n",
       "    <tr>\n",
       "      <th>0</th>\n",
       "      <td>High</td>\n",
       "      <td>Low</td>\n",
       "      <td>Very Low</td>\n",
       "      <td>Very Low</td>\n",
       "      <td>Very-high</td>\n",
       "      <td>Very Low</td>\n",
       "      <td>Medium</td>\n",
       "      <td>High</td>\n",
       "      <td>Low</td>\n",
       "      <td>High</td>\n",
       "      <td>Low</td>\n",
       "      <td>Very Low</td>\n",
       "      <td>Very Low</td>\n",
       "    </tr>\n",
       "    <tr>\n",
       "      <th>1</th>\n",
       "      <td>High</td>\n",
       "      <td>Low</td>\n",
       "      <td>Very Low</td>\n",
       "      <td>Very Low</td>\n",
       "      <td>Very-high</td>\n",
       "      <td>Very Low</td>\n",
       "      <td>Low</td>\n",
       "      <td>Low</td>\n",
       "      <td>Medium</td>\n",
       "      <td>Low</td>\n",
       "      <td>High</td>\n",
       "      <td>Very Low</td>\n",
       "      <td>Very Low</td>\n",
       "    </tr>\n",
       "    <tr>\n",
       "      <th>2</th>\n",
       "      <td>High</td>\n",
       "      <td>Low</td>\n",
       "      <td>Very Low</td>\n",
       "      <td>Very Low</td>\n",
       "      <td>Very-high</td>\n",
       "      <td>Very Low</td>\n",
       "      <td>Medium</td>\n",
       "      <td>High</td>\n",
       "      <td>Low</td>\n",
       "      <td>High</td>\n",
       "      <td>Low</td>\n",
       "      <td>Very-high</td>\n",
       "      <td>Low</td>\n",
       "    </tr>\n",
       "    <tr>\n",
       "      <th>3</th>\n",
       "      <td>High</td>\n",
       "      <td>Low</td>\n",
       "      <td>Very Low</td>\n",
       "      <td>Very Low</td>\n",
       "      <td>Very-high</td>\n",
       "      <td>Very Low</td>\n",
       "      <td>Low</td>\n",
       "      <td>Low</td>\n",
       "      <td>Low</td>\n",
       "      <td>High</td>\n",
       "      <td>Low</td>\n",
       "      <td>Very-high</td>\n",
       "      <td>Very Low</td>\n",
       "    </tr>\n",
       "    <tr>\n",
       "      <th>4</th>\n",
       "      <td>High</td>\n",
       "      <td>Low</td>\n",
       "      <td>Very Low</td>\n",
       "      <td>Very Low</td>\n",
       "      <td>Very-high</td>\n",
       "      <td>Very Low</td>\n",
       "      <td>High</td>\n",
       "      <td>High</td>\n",
       "      <td>Low</td>\n",
       "      <td>Medium</td>\n",
       "      <td>Low</td>\n",
       "      <td>Very-high</td>\n",
       "      <td>Low</td>\n",
       "    </tr>\n",
       "  </tbody>\n",
       "</table>\n",
       "</div>"
      ],
      "text/plain": [
       "    HBW  HTT     MMIPS       MET        MBW       MTT   RMIPS   RET     RBW  \\\n",
       "0  High  Low  Very Low  Very Low  Very-high  Very Low  Medium  High     Low   \n",
       "1  High  Low  Very Low  Very Low  Very-high  Very Low     Low   Low  Medium   \n",
       "2  High  Low  Very Low  Very Low  Very-high  Very Low  Medium  High     Low   \n",
       "3  High  Low  Very Low  Very Low  Very-high  Very Low     Low   Low     Low   \n",
       "4  High  Low  Very Low  Very Low  Very-high  Very Low    High  High     Low   \n",
       "\n",
       "      RTT   BBW        BTT        TT  \n",
       "0    High   Low   Very Low  Very Low  \n",
       "1     Low  High   Very Low  Very Low  \n",
       "2    High   Low  Very-high       Low  \n",
       "3    High   Low  Very-high  Very Low  \n",
       "4  Medium   Low  Very-high       Low  "
      ]
     },
     "execution_count": 129,
     "metadata": {},
     "output_type": "execute_result"
    }
   ],
   "source": [
    "# Discretise BigPerf dataset\n",
    "cat_df = split_tertiles(df)\n",
    "\n",
    "for column in cat_df:\n",
    "    print(cat_df.groupby(column)[column].count().reset_index(name='Count').to_dict(orient='records'))\n",
    "# print(cat_df.groupby('TT')['TT'].count().reset_index(name='Count').to_dict(orient='records'))\n",
    "\n",
    "cat_df.head()"
   ]
  },
  {
   "cell_type": "code",
   "execution_count": 130,
   "metadata": {},
   "outputs": [],
   "source": [
    "from sklearn.model_selection import train_test_split\n",
    "\n",
    "training_data, testing_data = train_test_split(cat_df, test_size=0.2, random_state=20)"
   ]
  },
  {
   "cell_type": "markdown",
   "metadata": {},
   "source": [
    "## Building the model"
   ]
  },
  {
   "cell_type": "markdown",
   "metadata": {},
   "source": [
    "#### Import dependencies"
   ]
  },
  {
   "cell_type": "code",
   "execution_count": 131,
   "metadata": {},
   "outputs": [],
   "source": [
    "import networkx as nx\n",
    "from pgmpy.models import BayesianNetwork\n",
    "from pgmpy.estimators import HillClimbSearch"
   ]
  },
  {
   "cell_type": "markdown",
   "metadata": {},
   "source": [
    "#### Use structure learning to build a DAG"
   ]
  },
  {
   "cell_type": "code",
   "execution_count": 132,
   "metadata": {},
   "outputs": [
    {
     "data": {
      "application/vnd.jupyter.widget-view+json": {
       "model_id": "cf997ba932954d80a17e248a41f6799c",
       "version_major": 2,
       "version_minor": 0
      },
      "text/plain": [
       "  0%|          | 0/1000000 [00:00<?, ?it/s]"
      ]
     },
     "metadata": {},
     "output_type": "display_data"
    }
   ],
   "source": [
    "hc = HillClimbSearch(data=training_data)\n",
    "estimate = hc.estimate(scoring_method='k2score')"
   ]
  },
  {
   "cell_type": "markdown",
   "metadata": {},
   "source": [
    "#### Generate a Bayesian Network object using the learned DAG"
   ]
  },
  {
   "cell_type": "code",
   "execution_count": 133,
   "metadata": {},
   "outputs": [],
   "source": [
    "model = BayesianNetwork(estimate)"
   ]
  },
  {
   "cell_type": "markdown",
   "metadata": {},
   "source": [
    "#### Fit the created BN model to the BigPerf data, in order to create probability distributions"
   ]
  },
  {
   "cell_type": "code",
   "execution_count": 134,
   "metadata": {},
   "outputs": [
    {
     "data": {
      "text/html": [
       "<style>div.output_area pre {white-space: pre;}</style>"
      ],
      "text/plain": [
       "<IPython.core.display.HTML object>"
      ]
     },
     "metadata": {},
     "output_type": "display_data"
    }
   ],
   "source": [
    "from pgmpy.estimators import BayesianEstimator, ExpectationMaximization, MaximumLikelihoodEstimator\n",
    "from IPython.core.display import display, HTML\n",
    "\n",
    "# disable text wrapping in output cell\n",
    "display(HTML(\"<style>div.output_area pre {white-space: pre;}</style>\"))\n",
    "\n",
    "model.cpds = []\n",
    "\n",
    "model.fit(data=training_data,\n",
    "    estimator=BayesianEstimator,\n",
    "    prior_type='BDeu',\n",
    "    complete_samples_only=True)"
   ]
  },
  {
   "cell_type": "markdown",
   "metadata": {},
   "source": [
    "#### Plot the model as a graph"
   ]
  },
  {
   "cell_type": "code",
   "execution_count": 135,
   "metadata": {},
   "outputs": [
    {
     "data": {
      "image/png": "[encoded data removed]",
      "text/plain": [
       "<Figure size 1008x1008 with 1 Axes>"
      ]
     },
     "metadata": {},
     "output_type": "display_data"
    }
   ],
   "source": [
    "plt.figure(3,figsize=(14,14)) \n",
    "G = nx.DiGraph()\n",
    "G.add_edges_from(model.edges)\n",
    "# i = 1\n",
    "# j = 1\n",
    "# for node in model.nodes:\n",
    "#     G.add_node(node, pos=(i, j))\n",
    "\n",
    "#     i += 1\n",
    "\n",
    "#     if i == 4:\n",
    "#         j += 1\n",
    "#         i = 1\n",
    "# G.add_node('MMIPS', pos=(1, 1))\n",
    "# G.add_node('MBW', pos=(2, 1))\n",
    "# G.add_node('HBW', pos=(3, 1))\n",
    "\n",
    "# G.add_node('MET', pos=(1, 2))\n",
    "# G.add_node('MTT', pos=(2, 2))\n",
    "# G.add_node('HTT', pos=(3, 2))\n",
    "\n",
    "# G.add_node('BTT', pos=(1, 3))\n",
    "# G.add_node('BBW', pos=(2, 3))\n",
    "# G.add_node('RET', pos=(3, 3))\n",
    "\n",
    "\n",
    "# G.add_node('RBW', pos=(1, 4))\n",
    "# G.add_node('RTT', pos=(2, 4))\n",
    "# G.add_node('RMIPS', pos=(3, 4))\n",
    "\n",
    "# G.add_node('TT', pos=(2, 5))\n",
    "\n",
    "\n",
    "\n",
    "# G.add_node('MMIPS', pos=(1, 3), node_size=1500)\n",
    "# G.add_node('MTT', pos=(4, 5))\n",
    "# G.add_node('HBW', pos=(5, 3))\n",
    "\n",
    "# G.add_node('BTT', pos=(4, 4))\n",
    "# G.add_node('MBW', pos=(2, 4))\n",
    "# G.add_node('RET', pos=(7, 4))\n",
    "\n",
    "\n",
    "# G.add_node('RTT', pos=(7, 3))\n",
    "# G.add_node('BBW', pos=(3, 3))\n",
    "\n",
    "# G.add_node('MET', pos=(0, 2))\n",
    "# G.add_node('RBW', pos=(2, 2))\n",
    "# G.add_node('HTT', pos=(4, 2))\n",
    "# G.add_node('RMIPS', pos=(6, 2))\n",
    "\n",
    "# G.add_node('TT', pos=(3, 1))\n",
    "\n",
    "\n",
    "G.add_nodes_from(model.nodes)\n",
    "#G.add_node(model.nodes.get('HBW'))\n",
    "pos = nx.circular_layout(G)\n",
    "DAG = G.to_directed()\n",
    "nx.topological_sort(DAG)\n",
    "\n",
    "#pos=nx.get_node_attributes(G, 'pos')\n",
    "\n",
    "nx.draw_networkx(G,\n",
    "                pos=pos,\n",
    "                with_labels=True,\n",
    "                node_size=[2000,2000,2000,4000,2000,2000,2000,2000,2000,2000,2000,2000,2000],\n",
    "                arrowsize=30,\n",
    "                alpha=0.7,\n",
    "                font_weight=\"bold\",\n",
    "                width=2.0)  # Draw the original graph\n",
    "\n",
    "tt_g = G.subgraph(nodes=['TT'])\n",
    "nx.draw(tt_g, pos=pos, with_labels=False, arrowsize=0, node_size=4100, alpha=0.7, font_weight=\"bold\", node_color='#063970')\n",
    "\n",
    "# sub_g = G.subgraph(nodes=['MET', 'HTT', 'RBW', 'RMIPS'])\n",
    "# nx.draw(sub_g, pos=pos, with_labels=False, arrowsize=0, node_size=1400, alpha=0.7, font_weight=\"bold\", node_color='#FFA500')  # Draw the original graph\n",
    "\n",
    "\n",
    "plt.show()"
   ]
  },
  {
   "cell_type": "code",
   "execution_count": 136,
   "metadata": {},
   "outputs": [
    {
     "data": {
      "image/png": "[encoded data removed]",
      "text/plain": [
       "<Figure size 432x288 with 1 Axes>"
      ]
     },
     "metadata": {},
     "output_type": "display_data"
    }
   ],
   "source": [
    "sub_g = G.subgraph(nodes=['MET', 'HTT', 'RBW', 'RMIPS', 'TT'])\n",
    "nx.draw(sub_g, pos=pos, with_labels=True, arrowsize=30, node_size=800, alpha=0.7, font_weight=\"bold\")  # Draw the original graph\n",
    "plt.show()"
   ]
  },
  {
   "cell_type": "code",
   "execution_count": 137,
   "metadata": {},
   "outputs": [
    {
     "data": {
      "application/vnd.jupyter.widget-view+json": {
       "model_id": "cdf40450be1d4fb9b7bee11921ea0d2c",
       "version_major": 2,
       "version_minor": 0
      },
      "text/plain": [
       "  0%|          | 0/214 [00:00<?, ?it/s]"
      ]
     },
     "metadata": {},
     "output_type": "display_data"
    },
    {
     "name": "stdout",
     "output_type": "stream",
     "text": [
      "HBW Accuracy score: 0.9940944881889764\n"
     ]
    },
    {
     "name": "stderr",
     "output_type": "stream",
     "text": [
      "c:\\Python310\\lib\\site-packages\\pgmpy\\models\\BayesianNetwork.py:747: FutureWarning: Passing a set as an indexer is deprecated and will raise in a future version. Use a list instead.\n",
      "  return data.merge(data_with_results, how=\"left\").loc[:, missing_variables]\n"
     ]
    },
    {
     "data": {
      "application/vnd.jupyter.widget-view+json": {
       "model_id": "af7e2b1b51e948e0aec40970b747c76a",
       "version_major": 2,
       "version_minor": 0
      },
      "text/plain": [
       "  0%|          | 0/217 [00:00<?, ?it/s]"
      ]
     },
     "metadata": {},
     "output_type": "display_data"
    },
    {
     "name": "stdout",
     "output_type": "stream",
     "text": [
      "HTT Accuracy score: 1.0\n"
     ]
    },
    {
     "name": "stderr",
     "output_type": "stream",
     "text": [
      "c:\\Python310\\lib\\site-packages\\pgmpy\\models\\BayesianNetwork.py:747: FutureWarning: Passing a set as an indexer is deprecated and will raise in a future version. Use a list instead.\n",
      "  return data.merge(data_with_results, how=\"left\").loc[:, missing_variables]\n"
     ]
    },
    {
     "data": {
      "application/vnd.jupyter.widget-view+json": {
       "model_id": "300d23c2da7947b4804652d823a23642",
       "version_major": 2,
       "version_minor": 0
      },
      "text/plain": [
       "  0%|          | 0/217 [00:00<?, ?it/s]"
      ]
     },
     "metadata": {},
     "output_type": "display_data"
    },
    {
     "name": "stdout",
     "output_type": "stream",
     "text": [
      "MMIPS Accuracy score: 1.0\n"
     ]
    },
    {
     "name": "stderr",
     "output_type": "stream",
     "text": [
      "c:\\Python310\\lib\\site-packages\\pgmpy\\models\\BayesianNetwork.py:747: FutureWarning: Passing a set as an indexer is deprecated and will raise in a future version. Use a list instead.\n",
      "  return data.merge(data_with_results, how=\"left\").loc[:, missing_variables]\n"
     ]
    },
    {
     "data": {
      "application/vnd.jupyter.widget-view+json": {
       "model_id": "93b2a90a1a4f4624b3f9e3822fe97ad1",
       "version_major": 2,
       "version_minor": 0
      },
      "text/plain": [
       "  0%|          | 0/217 [00:00<?, ?it/s]"
      ]
     },
     "metadata": {},
     "output_type": "display_data"
    },
    {
     "name": "stdout",
     "output_type": "stream",
     "text": [
      "MET Accuracy score: 1.0\n"
     ]
    },
    {
     "name": "stderr",
     "output_type": "stream",
     "text": [
      "c:\\Python310\\lib\\site-packages\\pgmpy\\models\\BayesianNetwork.py:747: FutureWarning: Passing a set as an indexer is deprecated and will raise in a future version. Use a list instead.\n",
      "  return data.merge(data_with_results, how=\"left\").loc[:, missing_variables]\n"
     ]
    },
    {
     "data": {
      "application/vnd.jupyter.widget-view+json": {
       "model_id": "1139c606243743c78537d749d0e1c1fd",
       "version_major": 2,
       "version_minor": 0
      },
      "text/plain": [
       "  0%|          | 0/178 [00:00<?, ?it/s]"
      ]
     },
     "metadata": {},
     "output_type": "display_data"
    },
    {
     "name": "stdout",
     "output_type": "stream",
     "text": [
      "MBW Accuracy score: 0.8799212598425197\n"
     ]
    },
    {
     "name": "stderr",
     "output_type": "stream",
     "text": [
      "c:\\Python310\\lib\\site-packages\\pgmpy\\models\\BayesianNetwork.py:747: FutureWarning: Passing a set as an indexer is deprecated and will raise in a future version. Use a list instead.\n",
      "  return data.merge(data_with_results, how=\"left\").loc[:, missing_variables]\n"
     ]
    },
    {
     "data": {
      "application/vnd.jupyter.widget-view+json": {
       "model_id": "5461cfba30664b7880b34922461e6276",
       "version_major": 2,
       "version_minor": 0
      },
      "text/plain": [
       "  0%|          | 0/179 [00:00<?, ?it/s]"
      ]
     },
     "metadata": {},
     "output_type": "display_data"
    },
    {
     "name": "stdout",
     "output_type": "stream",
     "text": [
      "MTT Accuracy score: 0.8799212598425197\n"
     ]
    },
    {
     "name": "stderr",
     "output_type": "stream",
     "text": [
      "c:\\Python310\\lib\\site-packages\\pgmpy\\models\\BayesianNetwork.py:747: FutureWarning: Passing a set as an indexer is deprecated and will raise in a future version. Use a list instead.\n",
      "  return data.merge(data_with_results, how=\"left\").loc[:, missing_variables]\n"
     ]
    },
    {
     "data": {
      "application/vnd.jupyter.widget-view+json": {
       "model_id": "0138ee090dc243958cf07b87c8007f0d",
       "version_major": 2,
       "version_minor": 0
      },
      "text/plain": [
       "  0%|          | 0/189 [00:00<?, ?it/s]"
      ]
     },
     "metadata": {},
     "output_type": "display_data"
    },
    {
     "name": "stdout",
     "output_type": "stream",
     "text": [
      "RMIPS Accuracy score: 0.8917322834645669\n"
     ]
    },
    {
     "name": "stderr",
     "output_type": "stream",
     "text": [
      "c:\\Python310\\lib\\site-packages\\pgmpy\\models\\BayesianNetwork.py:747: FutureWarning: Passing a set as an indexer is deprecated and will raise in a future version. Use a list instead.\n",
      "  return data.merge(data_with_results, how=\"left\").loc[:, missing_variables]\n"
     ]
    },
    {
     "data": {
      "application/vnd.jupyter.widget-view+json": {
       "model_id": "f363384852f544c2929740291b69246b",
       "version_major": 2,
       "version_minor": 0
      },
      "text/plain": [
       "  0%|          | 0/217 [00:00<?, ?it/s]"
      ]
     },
     "metadata": {},
     "output_type": "display_data"
    },
    {
     "name": "stdout",
     "output_type": "stream",
     "text": [
      "RET Accuracy score: 1.0\n"
     ]
    },
    {
     "name": "stderr",
     "output_type": "stream",
     "text": [
      "c:\\Python310\\lib\\site-packages\\pgmpy\\models\\BayesianNetwork.py:747: FutureWarning: Passing a set as an indexer is deprecated and will raise in a future version. Use a list instead.\n",
      "  return data.merge(data_with_results, how=\"left\").loc[:, missing_variables]\n"
     ]
    },
    {
     "data": {
      "application/vnd.jupyter.widget-view+json": {
       "model_id": "8e2d0f8cf83d40b6a0fc1df5030d7d16",
       "version_major": 2,
       "version_minor": 0
      },
      "text/plain": [
       "  0%|          | 0/217 [00:00<?, ?it/s]"
      ]
     },
     "metadata": {},
     "output_type": "display_data"
    },
    {
     "name": "stdout",
     "output_type": "stream",
     "text": [
      "RBW Accuracy score: 1.0\n"
     ]
    },
    {
     "name": "stderr",
     "output_type": "stream",
     "text": [
      "c:\\Python310\\lib\\site-packages\\pgmpy\\models\\BayesianNetwork.py:747: FutureWarning: Passing a set as an indexer is deprecated and will raise in a future version. Use a list instead.\n",
      "  return data.merge(data_with_results, how=\"left\").loc[:, missing_variables]\n"
     ]
    },
    {
     "data": {
      "application/vnd.jupyter.widget-view+json": {
       "model_id": "2f4615c277044e74acf64ce1419263ff",
       "version_major": 2,
       "version_minor": 0
      },
      "text/plain": [
       "  0%|          | 0/199 [00:00<?, ?it/s]"
      ]
     },
     "metadata": {},
     "output_type": "display_data"
    },
    {
     "name": "stdout",
     "output_type": "stream",
     "text": [
      "RTT Accuracy score: 0.8917322834645669\n"
     ]
    },
    {
     "name": "stderr",
     "output_type": "stream",
     "text": [
      "c:\\Python310\\lib\\site-packages\\pgmpy\\models\\BayesianNetwork.py:747: FutureWarning: Passing a set as an indexer is deprecated and will raise in a future version. Use a list instead.\n",
      "  return data.merge(data_with_results, how=\"left\").loc[:, missing_variables]\n"
     ]
    },
    {
     "data": {
      "application/vnd.jupyter.widget-view+json": {
       "model_id": "9a0a4ede43124aa081482d40a6518dc6",
       "version_major": 2,
       "version_minor": 0
      },
      "text/plain": [
       "  0%|          | 0/217 [00:00<?, ?it/s]"
      ]
     },
     "metadata": {},
     "output_type": "display_data"
    },
    {
     "name": "stdout",
     "output_type": "stream",
     "text": [
      "BBW Accuracy score: 1.0\n"
     ]
    },
    {
     "name": "stderr",
     "output_type": "stream",
     "text": [
      "c:\\Python310\\lib\\site-packages\\pgmpy\\models\\BayesianNetwork.py:747: FutureWarning: Passing a set as an indexer is deprecated and will raise in a future version. Use a list instead.\n",
      "  return data.merge(data_with_results, how=\"left\").loc[:, missing_variables]\n"
     ]
    },
    {
     "data": {
      "application/vnd.jupyter.widget-view+json": {
       "model_id": "2fbf694ad41f474f92bb2745beb32d48",
       "version_major": 2,
       "version_minor": 0
      },
      "text/plain": [
       "  0%|          | 0/212 [00:00<?, ?it/s]"
      ]
     },
     "metadata": {},
     "output_type": "display_data"
    },
    {
     "name": "stdout",
     "output_type": "stream",
     "text": [
      "BTT Accuracy score: 0.984251968503937\n"
     ]
    },
    {
     "name": "stderr",
     "output_type": "stream",
     "text": [
      "c:\\Python310\\lib\\site-packages\\pgmpy\\models\\BayesianNetwork.py:747: FutureWarning: Passing a set as an indexer is deprecated and will raise in a future version. Use a list instead.\n",
      "  return data.merge(data_with_results, how=\"left\").loc[:, missing_variables]\n"
     ]
    },
    {
     "data": {
      "application/vnd.jupyter.widget-view+json": {
       "model_id": "0c8913e0a76d4851b303eacbbcd71dc7",
       "version_major": 2,
       "version_minor": 0
      },
      "text/plain": [
       "  0%|          | 0/189 [00:00<?, ?it/s]"
      ]
     },
     "metadata": {},
     "output_type": "display_data"
    },
    {
     "name": "stdout",
     "output_type": "stream",
     "text": [
      "TT Accuracy score: 0.8740157480314961\n"
     ]
    },
    {
     "name": "stderr",
     "output_type": "stream",
     "text": [
      "c:\\Python310\\lib\\site-packages\\pgmpy\\models\\BayesianNetwork.py:747: FutureWarning: Passing a set as an indexer is deprecated and will raise in a future version. Use a list instead.\n",
      "  return data.merge(data_with_results, how=\"left\").loc[:, missing_variables]\n"
     ]
    }
   ],
   "source": [
    "from pgmpy.metrics.metrics import correlation_score, log_likelihood_score, structure_score\n",
    "from sklearn.metrics import f1_score, accuracy_score, precision_score, recall_score\n",
    "\n",
    "accuracy_dict = {}\n",
    "\n",
    "for column in testing_data:\n",
    "    predict_data = testing_data.copy()\n",
    "    predict_data.drop(column, axis=1, inplace=True)\n",
    "    y_pred = model.predict(predict_data)\n",
    "\n",
    "    accuracy = accuracy_score(testing_data[column], y_pred)\n",
    "    \n",
    "    # if len(testing_data[column].unique()) == 2:\n",
    "    #     precision = precision_score(testing_data[column], y_pred, pos_label='High') #pos_label=testing_data[column].unique()\n",
    "    #     f1 = f1_score(testing_data[column], y_pred, pos_label='High')\n",
    "    #     recall = recall_score(testing_data[column], y_pred, pos_label='High')\n",
    "\n",
    "    # else:\n",
    "    #     precision = precision_score(testing_data[column], y_pred, average='micro') #pos_label=testing_data[column].unique()\n",
    "    #     f1 = f1_score(testing_data[column], y_pred, average='micro')\n",
    "    #     recall = recall_score(testing_data[column], y_pred, average='micro')\n",
    "\n",
    "    #print(f'{column} F1 score: {f1}')\n",
    "    print(f'{column} Accuracy score: {accuracy}')\n",
    "\n",
    "    accuracy_dict[column] = accuracy\n",
    "    #print(f'{column} Precision score: {precision}')\n",
    "    #print(f'{column} Recall score: {recall}')"
   ]
  },
  {
   "cell_type": "markdown",
   "metadata": {},
   "source": [
    "## Scoring the model"
   ]
  },
  {
   "cell_type": "markdown",
   "metadata": {},
   "source": [
    "#### Run scoring functions on the model to collect metrics of correctness"
   ]
  },
  {
   "cell_type": "code",
   "execution_count": 138,
   "metadata": {},
   "outputs": [
    {
     "name": "stdout",
     "output_type": "stream",
     "text": [
      "F1 score: 0.8979591836734694\n",
      "Accuracy score: 0.9358974358974359\n",
      "Precision score: 0.9166666666666666\n",
      "Recall score: 0.88\n",
      "Log-likilihood score: -2836.876954214571\n",
      "Structure score: -3229.82413362336\n",
      "\n"
     ]
    }
   ],
   "source": [
    "f1 = correlation_score(model=model, data=testing_data, test='chi_square', significance_level=0.05, score=f1_score, return_summary=False)\n",
    "acc = correlation_score(model=model, data=testing_data, test='chi_square', significance_level=0.05, score=accuracy_score, return_summary=False)\n",
    "pr = correlation_score(model=model, data=testing_data, test='chi_square', significance_level=0.05, score=precision_score, return_summary=False)\n",
    "recall = correlation_score(model=model, data=testing_data, test='chi_square', significance_level=0.05, score=recall_score, return_summary=False)\n",
    "ls = log_likelihood_score(model=model, data=testing_data)\n",
    "ss = structure_score(model=model, data=testing_data, scoring_method='bdeu')\n",
    "\n",
    "\n",
    "print(f'F1 score: {f1}')\n",
    "print(f'Accuracy score: {acc}')\n",
    "print(f'Precision score: {pr}')\n",
    "print(f'Recall score: {recall}')\n",
    "print(f'Log-likilihood score: {ls}')\n",
    "print(f'Structure score: {ss}')\n",
    "\n",
    "print(model.name)"
   ]
  },
  {
   "cell_type": "code",
   "execution_count": 139,
   "metadata": {},
   "outputs": [],
   "source": [
    "def store_metrics(metrics_file_name, model_name, f1, accuracy, precision, recall, log_likelihood_score, structure_score, accuracy_dict):\n",
    "    try: \n",
    "        df = pd.read_csv('Model-metrics.csv', header=0, index_col=False)\n",
    "    except:\n",
    "        df_columns = ['Model', 'F1', 'Accuracy', 'Precision', 'Recall', 'Log likelihood score', 'Structure score']\n",
    "\n",
    "        df = pd.DataFrame(columns=df_columns)\n",
    "\n",
    "    else:\n",
    "        df = df[df.Model != model_name]\n",
    "        \n",
    "    conv_dict = {}\n",
    "    for k, v in accuracy_dict.items():\n",
    "        conv_dict[k] = v*100\n",
    "    \n",
    "    new_row = {'Model': model_name, 'F1': f1, 'Accuracy': accuracy, 'Precision': precision, 'Recall': recall, 'Log likelihood score': log_likelihood_score, 'Structure score': structure_score,\n",
    "    'HBW prediction accuracy': conv_dict['HBW'], 'HTT prediction accuracy': conv_dict['HTT'], 'MMIPS prediction accuracy': conv_dict['MMIPS'], 'MET prediction accuracy': conv_dict['MET'],\n",
    "    'MBW prediction accuracy': conv_dict['MBW'], 'MTT prediction accuracy': conv_dict['MTT'], 'RMIPS prediction accuracy': conv_dict['RMIPS'], 'RET prediction accuracy': conv_dict['RET'],\n",
    "    'RBW prediction accuracy': conv_dict['RBW'], 'RTT prediction accuracy': conv_dict['RTT'], 'BBW prediction accuracy': conv_dict['BBW'], 'BTT prediction accuracy': conv_dict['BTT'],\n",
    "    'TT prediction accuracy': conv_dict['TT']}\n",
    "\n",
    "    df = df.append(new_row, ignore_index=True)\n",
    "\n",
    "    # Write to file\n",
    "    df.to_csv(metrics_file_name, index=False)"
   ]
  },
  {
   "cell_type": "code",
   "execution_count": 140,
   "metadata": {},
   "outputs": [
    {
     "name": "stderr",
     "output_type": "stream",
     "text": [
      "C:\\Users\\KEIRMC~1\\AppData\\Local\\Temp/ipykernel_25688/2438977843.py:22: FutureWarning: The frame.append method is deprecated and will be removed from pandas in a future version. Use pandas.concat instead.\n",
      "  df = df.append(new_row, ignore_index=True)\n"
     ]
    }
   ],
   "source": [
    "model_name = 'Score-based CBN'\n",
    "metrics_file_name = 'Model-metrics.csv'\n",
    "\n",
    "store_metrics(metrics_file_name=metrics_file_name, model_name=model_name, f1=f1, accuracy=acc, precision=pr, recall=recall, log_likelihood_score=ls, structure_score=ss, accuracy_dict=accuracy_dict)"
   ]
  },
  {
   "cell_type": "code",
   "execution_count": 141,
   "metadata": {},
   "outputs": [],
   "source": [
    "# Initializing the VariableElimination class\n",
    "\n",
    "from pgmpy.inference import VariableElimination\n",
    "from pgmpy.inference.ExactInference import BeliefPropagation\n",
    "\n",
    "bigPerf_infer = VariableElimination(model=model)"
   ]
  },
  {
   "cell_type": "code",
   "execution_count": 142,
   "metadata": {},
   "outputs": [
    {
     "data": {
      "application/vnd.jupyter.widget-view+json": {
       "model_id": "966e57e283ae4926b0efc87e0cff4eb7",
       "version_major": 2,
       "version_minor": 0
      },
      "text/plain": [
       "  0%|          | 0/5 [00:00<?, ?it/s]"
      ]
     },
     "metadata": {},
     "output_type": "display_data"
    },
    {
     "data": {
      "application/vnd.jupyter.widget-view+json": {
       "model_id": "f6d5adfd4b89467fae13abbf6c96419d",
       "version_major": 2,
       "version_minor": 0
      },
      "text/plain": [
       "  0%|          | 0/5 [00:00<?, ?it/s]"
      ]
     },
     "metadata": {},
     "output_type": "display_data"
    },
    {
     "name": "stdout",
     "output_type": "stream",
     "text": [
      "+-----------+------------+\n",
      "| HTT       |   phi(HTT) |\n",
      "+===========+============+\n",
      "| HTT(High) |     0.2662 |\n",
      "+-----------+------------+\n",
      "| HTT(Low)  |     0.7338 |\n",
      "+-----------+------------+\n",
      "+----------------+------------+\n",
      "| MET            |   phi(MET) |\n",
      "+================+============+\n",
      "| MET(High)      |     0.1409 |\n",
      "+----------------+------------+\n",
      "| MET(Low)       |     0.3399 |\n",
      "+----------------+------------+\n",
      "| MET(Very Low)  |     0.4650 |\n",
      "+----------------+------------+\n",
      "| MET(Very-high) |     0.0541 |\n",
      "+----------------+------------+\n",
      "+-------------+------------+\n",
      "| RBW         |   phi(RBW) |\n",
      "+=============+============+\n",
      "| RBW(High)   |     0.4125 |\n",
      "+-------------+------------+\n",
      "| RBW(Low)    |     0.1460 |\n",
      "+-------------+------------+\n",
      "| RBW(Medium) |     0.4415 |\n",
      "+-------------+------------+\n",
      "+---------------+--------------+\n",
      "| RMIPS         |   phi(RMIPS) |\n",
      "+===============+==============+\n",
      "| RMIPS(High)   |       0.0011 |\n",
      "+---------------+--------------+\n",
      "| RMIPS(Low)    |       0.9559 |\n",
      "+---------------+--------------+\n",
      "| RMIPS(Medium) |       0.0431 |\n",
      "+---------------+--------------+\n"
     ]
    }
   ],
   "source": [
    "# Compute probabilities of parent variables of TT when TT is Very Low\n",
    "q_tt = bigPerf_infer.query(variables=['HTT', 'MET', 'RBW', 'RMIPS'], evidence={'TT': 'Very Low'}, joint=False)\n",
    "\n",
    "#print(query)\n",
    "for factor in q_tt.values():\n",
    "    print(factor)"
   ]
  },
  {
   "cell_type": "code",
   "execution_count": 143,
   "metadata": {},
   "outputs": [
    {
     "data": {
      "application/vnd.jupyter.widget-view+json": {
       "model_id": "ddaae8939362456a89078c1e0f5d499e",
       "version_major": 2,
       "version_minor": 0
      },
      "text/plain": [
       "  0%|          | 0/5 [00:00<?, ?it/s]"
      ]
     },
     "metadata": {},
     "output_type": "display_data"
    },
    {
     "data": {
      "application/vnd.jupyter.widget-view+json": {
       "model_id": "86e961601b4547fbb9706fbaa8c7dbf1",
       "version_major": 2,
       "version_minor": 0
      },
      "text/plain": [
       "  0%|          | 0/5 [00:00<?, ?it/s]"
      ]
     },
     "metadata": {},
     "output_type": "display_data"
    },
    {
     "name": "stdout",
     "output_type": "stream",
     "text": [
      "+-----------+------------+\n",
      "| HTT       |   phi(HTT) |\n",
      "+===========+============+\n",
      "| HTT(High) |     0.6178 |\n",
      "+-----------+------------+\n",
      "| HTT(Low)  |     0.3822 |\n",
      "+-----------+------------+\n",
      "+----------------+------------+\n",
      "| MET            |   phi(MET) |\n",
      "+================+============+\n",
      "| MET(High)      |     0.3407 |\n",
      "+----------------+------------+\n",
      "| MET(Low)       |     0.1354 |\n",
      "+----------------+------------+\n",
      "| MET(Very Low)  |     0.0113 |\n",
      "+----------------+------------+\n",
      "| MET(Very-high) |     0.5126 |\n",
      "+----------------+------------+\n",
      "+-------------+------------+\n",
      "| RBW         |   phi(RBW) |\n",
      "+=============+============+\n",
      "| RBW(High)   |     0.0014 |\n",
      "+-------------+------------+\n",
      "| RBW(Low)    |     0.9704 |\n",
      "+-------------+------------+\n",
      "| RBW(Medium) |     0.0282 |\n",
      "+-------------+------------+\n",
      "+---------------+--------------+\n",
      "| RMIPS         |   phi(RMIPS) |\n",
      "+===============+==============+\n",
      "| RMIPS(High)   |       0.4110 |\n",
      "+---------------+--------------+\n",
      "| RMIPS(Low)    |       0.0670 |\n",
      "+---------------+--------------+\n",
      "| RMIPS(Medium) |       0.5220 |\n",
      "+---------------+--------------+\n"
     ]
    }
   ],
   "source": [
    "# Compute probabilities of parent variables of TT when TT is Very Low\n",
    "q_tt_worst = bigPerf_infer.query(variables=['HTT', 'MET', 'RBW', 'RMIPS'], evidence={'TT': 'Very-high'}, joint=False)\n",
    "\n",
    "#print(query)\n",
    "for factor in q_tt_worst.values():\n",
    "    print(factor)"
   ]
  },
  {
   "cell_type": "code",
   "execution_count": 144,
   "metadata": {},
   "outputs": [
    {
     "data": {
      "application/vnd.jupyter.widget-view+json": {
       "model_id": "6977963dee924c8ab80c6ff0d3ac1807",
       "version_major": 2,
       "version_minor": 0
      },
      "text/plain": [
       "0it [00:00, ?it/s]"
      ]
     },
     "metadata": {},
     "output_type": "display_data"
    },
    {
     "data": {
      "application/vnd.jupyter.widget-view+json": {
       "model_id": "b172b60d5875469ab89590a91e466261",
       "version_major": 2,
       "version_minor": 0
      },
      "text/plain": [
       "0it [00:00, ?it/s]"
      ]
     },
     "metadata": {},
     "output_type": "display_data"
    },
    {
     "name": "stdout",
     "output_type": "stream",
     "text": [
      "+---------------+--------------+\n",
      "| RMIPS         |   phi(RMIPS) |\n",
      "+===============+==============+\n",
      "| RMIPS(High)   |       0.0008 |\n",
      "+---------------+--------------+\n",
      "| RMIPS(Low)    |       0.9984 |\n",
      "+---------------+--------------+\n",
      "| RMIPS(Medium) |       0.0008 |\n",
      "+---------------+--------------+\n"
     ]
    }
   ],
   "source": [
    "q_ret_best = bigPerf_infer.query(variables=['RMIPS'], evidence={'RET': 'Low'}, joint=False)\n",
    "\n",
    "#print(query)\n",
    "for factor in q_ret_best.values():\n",
    "    print(factor)"
   ]
  },
  {
   "cell_type": "code",
   "execution_count": 145,
   "metadata": {},
   "outputs": [
    {
     "data": {
      "application/vnd.jupyter.widget-view+json": {
       "model_id": "d67e3d830bff4c2fb120977793f23b6e",
       "version_major": 2,
       "version_minor": 0
      },
      "text/plain": [
       "0it [00:00, ?it/s]"
      ]
     },
     "metadata": {},
     "output_type": "display_data"
    },
    {
     "data": {
      "application/vnd.jupyter.widget-view+json": {
       "model_id": "fcb305fc224643ab9620b0ddba7e9ff6",
       "version_major": 2,
       "version_minor": 0
      },
      "text/plain": [
       "0it [00:00, ?it/s]"
      ]
     },
     "metadata": {},
     "output_type": "display_data"
    },
    {
     "name": "stdout",
     "output_type": "stream",
     "text": [
      "+---------------+--------------+\n",
      "| RMIPS         |   phi(RMIPS) |\n",
      "+===============+==============+\n",
      "| RMIPS(High)   |       0.3986 |\n",
      "+---------------+--------------+\n",
      "| RMIPS(Low)    |       0.0008 |\n",
      "+---------------+--------------+\n",
      "| RMIPS(Medium) |       0.6005 |\n",
      "+---------------+--------------+\n"
     ]
    }
   ],
   "source": [
    "q_ret_worst = bigPerf_infer.query(variables=['RMIPS'], evidence={'RET': 'High'}, joint=False)\n",
    "\n",
    "#print(query)\n",
    "for factor in q_ret_worst.values():\n",
    "    print(factor)"
   ]
  },
  {
   "cell_type": "code",
   "execution_count": 146,
   "metadata": {},
   "outputs": [
    {
     "data": {
      "application/vnd.jupyter.widget-view+json": {
       "model_id": "7b1f2e2a02c341098dd5a0e6b0f95579",
       "version_major": 2,
       "version_minor": 0
      },
      "text/plain": [
       "  0%|          | 0/2 [00:00<?, ?it/s]"
      ]
     },
     "metadata": {},
     "output_type": "display_data"
    },
    {
     "data": {
      "application/vnd.jupyter.widget-view+json": {
       "model_id": "66cc4f59d0d740ed978a32a2457ac022",
       "version_major": 2,
       "version_minor": 0
      },
      "text/plain": [
       "  0%|          | 0/2 [00:00<?, ?it/s]"
      ]
     },
     "metadata": {},
     "output_type": "display_data"
    },
    {
     "name": "stdout",
     "output_type": "stream",
     "text": [
      "+------------------+--------------+\n",
      "| MMIPS            |   phi(MMIPS) |\n",
      "+==================+==============+\n",
      "| MMIPS(High)      |       0.0006 |\n",
      "+------------------+--------------+\n",
      "| MMIPS(Low)       |       0.9982 |\n",
      "+------------------+--------------+\n",
      "| MMIPS(Very Low)  |       0.0006 |\n",
      "+------------------+--------------+\n",
      "| MMIPS(Very-high) |       0.0006 |\n",
      "+------------------+--------------+\n"
     ]
    }
   ],
   "source": [
    "q_met_best = bigPerf_infer.query(variables=['MMIPS'], evidence={'MET': 'Low'}, joint=False)\n",
    "\n",
    "for factor in q_met_best.values():\n",
    "    print(factor)"
   ]
  },
  {
   "cell_type": "code",
   "execution_count": null,
   "metadata": {},
   "outputs": [],
   "source": [
    "q_met_worst = bigPerf_infer.query(variables=['MMIPS', 'MTT', 'HBW', 'MBW', 'HTT', 'BTT'], evidence={'MET': '4'}, joint=False)\n",
    "\n",
    "for factor in q_met_worst.values():\n",
    "    print(factor)"
   ]
  },
  {
   "cell_type": "markdown",
   "metadata": {},
   "source": [
    "#### Print the model's probability distributions"
   ]
  },
  {
   "cell_type": "code",
   "execution_count": null,
   "metadata": {},
   "outputs": [],
   "source": [
    "print(f'Check model: {model.check_model()}\\n')\n",
    "for cpd in model.get_cpds():\n",
    "    print(f'CPT of {cpd.variable}:')\n",
    "    print(cpd, '\\n')"
   ]
  }
 ],
 "metadata": {
  "interpreter": {
   "hash": "369f2c481f4da34e4445cda3fffd2e751bd1c4d706f27375911949ba6bb62e1c"
  },
  "kernelspec": {
   "display_name": "Python 3.10.0 64-bit",
   "language": "python",
   "name": "python3"
  },
  "language_info": {
   "codemirror_mode": {
    "name": "ipython",
    "version": 3
   },
   "file_extension": ".py",
   "mimetype": "text/x-python",
   "name": "python",
   "nbconvert_exporter": "python",
   "pygments_lexer": "ipython3",
   "version": "3.10.0"
  },
  "orig_nbformat": 4
 },
 "nbformat": 4,
 "nbformat_minor": 2
}
