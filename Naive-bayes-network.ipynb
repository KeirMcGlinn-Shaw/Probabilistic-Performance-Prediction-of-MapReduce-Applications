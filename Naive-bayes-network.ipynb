{
 "cells": [
  {
   "cell_type": "markdown",
   "metadata": {},
   "source": [
    "# Naive Bayes Network notebook"
   ]
  },
  {
   "cell_type": "markdown",
   "metadata": {},
   "source": [
    "#### Import dependencies"
   ]
  },
  {
   "cell_type": "code",
   "execution_count": 21,
   "metadata": {},
   "outputs": [],
   "source": [
    "# Import dependencies\n",
    "#%pip install pgmpy\n",
    "#%pip install tabulate\n",
    "#%pip install pandas\n",
    "#%pip install networkx\n",
    "#%pip install matplotlib"
   ]
  },
  {
   "cell_type": "markdown",
   "metadata": {},
   "source": [
    "#### Load libraries"
   ]
  },
  {
   "cell_type": "code",
   "execution_count": 22,
   "metadata": {},
   "outputs": [],
   "source": [
    "# Load libraries\n",
    "import pgmpy as pg\n",
    "import tabulate as tb\n",
    "import pandas as pd\n",
    "import numpy as np\n",
    "import networkx as nx\n",
    "import matplotlib.pyplot as plt"
   ]
  },
  {
   "cell_type": "markdown",
   "metadata": {},
   "source": [
    "## Data import and cleaning"
   ]
  },
  {
   "cell_type": "markdown",
   "metadata": {},
   "source": [
    "#### Import BigPerf data"
   ]
  },
  {
   "cell_type": "code",
   "execution_count": 23,
   "metadata": {},
   "outputs": [
    {
     "data": {
      "text/html": [
       "<div>\n",
       "<style scoped>\n",
       "    .dataframe tbody tr th:only-of-type {\n",
       "        vertical-align: middle;\n",
       "    }\n",
       "\n",
       "    .dataframe tbody tr th {\n",
       "        vertical-align: top;\n",
       "    }\n",
       "\n",
       "    .dataframe thead th {\n",
       "        text-align: right;\n",
       "    }\n",
       "</style>\n",
       "<table border=\"1\" class=\"dataframe\">\n",
       "  <thead>\n",
       "    <tr style=\"text-align: right;\">\n",
       "      <th></th>\n",
       "      <th>Block_ID</th>\n",
       "      <th>HDFS_BW</th>\n",
       "      <th>HDFSTranmissionTime</th>\n",
       "      <th>Mapper_ID</th>\n",
       "      <th>Mapper_VM_MIPS</th>\n",
       "      <th>MapExecutionTime</th>\n",
       "      <th>MapperBW</th>\n",
       "      <th>MapperTransmissionTime</th>\n",
       "      <th>Reducer_ID</th>\n",
       "      <th>Reducer_VM_MIPS</th>\n",
       "      <th>ReducerExecutionTime</th>\n",
       "      <th>ReducerBW</th>\n",
       "      <th>ReducerTransmissionTime</th>\n",
       "      <th>Block_ID.1</th>\n",
       "      <th>Block_BW</th>\n",
       "      <th>BlockTransmissionTime</th>\n",
       "      <th>TransactionTime</th>\n",
       "    </tr>\n",
       "  </thead>\n",
       "  <tbody>\n",
       "    <tr>\n",
       "      <th>0</th>\n",
       "      <td>HDFS_Block_208</td>\n",
       "      <td>11.81</td>\n",
       "      <td>80.63</td>\n",
       "      <td>mapper207</td>\n",
       "      <td>652289</td>\n",
       "      <td>765.49</td>\n",
       "      <td>30.00</td>\n",
       "      <td>2.53</td>\n",
       "      <td>reducer0</td>\n",
       "      <td>341739</td>\n",
       "      <td>480</td>\n",
       "      <td>3.80</td>\n",
       "      <td>250.14</td>\n",
       "      <td>reducer0_Block_1</td>\n",
       "      <td>0.0</td>\n",
       "      <td>0.00</td>\n",
       "      <td>1578.79</td>\n",
       "    </tr>\n",
       "    <tr>\n",
       "      <th>1</th>\n",
       "      <td>HDFS_Block_208</td>\n",
       "      <td>11.81</td>\n",
       "      <td>80.63</td>\n",
       "      <td>mapper207</td>\n",
       "      <td>652289</td>\n",
       "      <td>765.49</td>\n",
       "      <td>30.00</td>\n",
       "      <td>2.53</td>\n",
       "      <td>reducer1</td>\n",
       "      <td>150000</td>\n",
       "      <td>120</td>\n",
       "      <td>50.00</td>\n",
       "      <td>18.99</td>\n",
       "      <td>reducer1_Block_1</td>\n",
       "      <td>50.0</td>\n",
       "      <td>20.00</td>\n",
       "      <td>1007.64</td>\n",
       "    </tr>\n",
       "    <tr>\n",
       "      <th>2</th>\n",
       "      <td>HDFS_Block_208</td>\n",
       "      <td>11.81</td>\n",
       "      <td>80.63</td>\n",
       "      <td>mapper207</td>\n",
       "      <td>652289</td>\n",
       "      <td>765.49</td>\n",
       "      <td>16.76</td>\n",
       "      <td>3.25</td>\n",
       "      <td>reducer2</td>\n",
       "      <td>382530</td>\n",
       "      <td>480</td>\n",
       "      <td>4.48</td>\n",
       "      <td>212.22</td>\n",
       "      <td>reducer2_Block_1</td>\n",
       "      <td>3.7</td>\n",
       "      <td>270.02</td>\n",
       "      <td>1811.61</td>\n",
       "    </tr>\n",
       "    <tr>\n",
       "      <th>3</th>\n",
       "      <td>HDFS_Block_208</td>\n",
       "      <td>11.81</td>\n",
       "      <td>80.63</td>\n",
       "      <td>mapper207</td>\n",
       "      <td>652289</td>\n",
       "      <td>765.49</td>\n",
       "      <td>16.76</td>\n",
       "      <td>3.25</td>\n",
       "      <td>reducer3</td>\n",
       "      <td>150000</td>\n",
       "      <td>120</td>\n",
       "      <td>5.88</td>\n",
       "      <td>161.57</td>\n",
       "      <td>reducer3_Block_1</td>\n",
       "      <td>3.7</td>\n",
       "      <td>270.02</td>\n",
       "      <td>1400.96</td>\n",
       "    </tr>\n",
       "    <tr>\n",
       "      <th>4</th>\n",
       "      <td>HDFS_Block_208</td>\n",
       "      <td>11.81</td>\n",
       "      <td>80.63</td>\n",
       "      <td>mapper207</td>\n",
       "      <td>652289</td>\n",
       "      <td>765.49</td>\n",
       "      <td>18.41</td>\n",
       "      <td>4.16</td>\n",
       "      <td>reducer4</td>\n",
       "      <td>457419</td>\n",
       "      <td>480</td>\n",
       "      <td>5.88</td>\n",
       "      <td>161.53</td>\n",
       "      <td>reducer4_Block_1</td>\n",
       "      <td>3.7</td>\n",
       "      <td>270.02</td>\n",
       "      <td>1761.83</td>\n",
       "    </tr>\n",
       "  </tbody>\n",
       "</table>\n",
       "</div>"
      ],
      "text/plain": [
       "         Block_ID  HDFS_BW  HDFSTranmissionTime  Mapper_ID  Mapper_VM_MIPS  \\\n",
       "0  HDFS_Block_208    11.81                80.63  mapper207          652289   \n",
       "1  HDFS_Block_208    11.81                80.63  mapper207          652289   \n",
       "2  HDFS_Block_208    11.81                80.63  mapper207          652289   \n",
       "3  HDFS_Block_208    11.81                80.63  mapper207          652289   \n",
       "4  HDFS_Block_208    11.81                80.63  mapper207          652289   \n",
       "\n",
       "   MapExecutionTime   MapperBW  MapperTransmissionTime Reducer_ID  \\\n",
       "0             765.49     30.00                    2.53   reducer0   \n",
       "1             765.49     30.00                    2.53   reducer1   \n",
       "2             765.49     16.76                    3.25   reducer2   \n",
       "3             765.49     16.76                    3.25   reducer3   \n",
       "4             765.49     18.41                    4.16   reducer4   \n",
       "\n",
       "   Reducer_VM_MIPS  ReducerExecutionTime   ReducerBW  ReducerTransmissionTime  \\\n",
       "0           341739                    480       3.80                   250.14   \n",
       "1           150000                    120      50.00                    18.99   \n",
       "2           382530                    480       4.48                   212.22   \n",
       "3           150000                    120       5.88                   161.57   \n",
       "4           457419                    480       5.88                   161.53   \n",
       "\n",
       "         Block_ID.1  Block_BW  BlockTransmissionTime  TransactionTime  \n",
       "0  reducer0_Block_1       0.0                   0.00          1578.79  \n",
       "1  reducer1_Block_1      50.0                  20.00          1007.64  \n",
       "2  reducer2_Block_1       3.7                 270.02          1811.61  \n",
       "3  reducer3_Block_1       3.7                 270.02          1400.96  \n",
       "4  reducer4_Block_1       3.7                 270.02          1761.83  "
      ]
     },
     "execution_count": 23,
     "metadata": {},
     "output_type": "execute_result"
    }
   ],
   "source": [
    "# Import data\n",
    "df = pd.read_csv(\"C:\\\\Users\\\\Keir McGlinn-Shaw\\\\Documents\\\\Stage-3\\\\Dissertation\\\\Data\\\\Use\\\\BigPerfMetrics.csv\")\n",
    "\n",
    "df.head()"
   ]
  },
  {
   "cell_type": "markdown",
   "metadata": {},
   "source": [
    "#### Clean data of unwanted variables and missing values"
   ]
  },
  {
   "cell_type": "code",
   "execution_count": 24,
   "metadata": {},
   "outputs": [
    {
     "data": {
      "text/html": [
       "<div>\n",
       "<style scoped>\n",
       "    .dataframe tbody tr th:only-of-type {\n",
       "        vertical-align: middle;\n",
       "    }\n",
       "\n",
       "    .dataframe tbody tr th {\n",
       "        vertical-align: top;\n",
       "    }\n",
       "\n",
       "    .dataframe thead th {\n",
       "        text-align: right;\n",
       "    }\n",
       "</style>\n",
       "<table border=\"1\" class=\"dataframe\">\n",
       "  <thead>\n",
       "    <tr style=\"text-align: right;\">\n",
       "      <th></th>\n",
       "      <th>HDFS_BW</th>\n",
       "      <th>HDFSTranmissionTime</th>\n",
       "      <th>Mapper_VM_MIPS</th>\n",
       "      <th>MapExecutionTime</th>\n",
       "      <th>MapperBW</th>\n",
       "      <th>MapperTransmissionTime</th>\n",
       "      <th>Reducer_VM_MIPS</th>\n",
       "      <th>ReducerExecutionTime</th>\n",
       "      <th>ReducerBW</th>\n",
       "      <th>ReducerTransmissionTime</th>\n",
       "      <th>Block_BW</th>\n",
       "      <th>BlockTransmissionTime</th>\n",
       "      <th>TransactionTime</th>\n",
       "    </tr>\n",
       "  </thead>\n",
       "  <tbody>\n",
       "    <tr>\n",
       "      <th>0</th>\n",
       "      <td>11.81</td>\n",
       "      <td>80.63</td>\n",
       "      <td>652289</td>\n",
       "      <td>765.49</td>\n",
       "      <td>30.00</td>\n",
       "      <td>2.53</td>\n",
       "      <td>341739</td>\n",
       "      <td>480</td>\n",
       "      <td>3.80</td>\n",
       "      <td>250.14</td>\n",
       "      <td>0.0</td>\n",
       "      <td>0.00</td>\n",
       "      <td>1578.79</td>\n",
       "    </tr>\n",
       "    <tr>\n",
       "      <th>1</th>\n",
       "      <td>11.81</td>\n",
       "      <td>80.63</td>\n",
       "      <td>652289</td>\n",
       "      <td>765.49</td>\n",
       "      <td>30.00</td>\n",
       "      <td>2.53</td>\n",
       "      <td>150000</td>\n",
       "      <td>120</td>\n",
       "      <td>50.00</td>\n",
       "      <td>18.99</td>\n",
       "      <td>50.0</td>\n",
       "      <td>20.00</td>\n",
       "      <td>1007.64</td>\n",
       "    </tr>\n",
       "    <tr>\n",
       "      <th>2</th>\n",
       "      <td>11.81</td>\n",
       "      <td>80.63</td>\n",
       "      <td>652289</td>\n",
       "      <td>765.49</td>\n",
       "      <td>16.76</td>\n",
       "      <td>3.25</td>\n",
       "      <td>382530</td>\n",
       "      <td>480</td>\n",
       "      <td>4.48</td>\n",
       "      <td>212.22</td>\n",
       "      <td>3.7</td>\n",
       "      <td>270.02</td>\n",
       "      <td>1811.61</td>\n",
       "    </tr>\n",
       "    <tr>\n",
       "      <th>3</th>\n",
       "      <td>11.81</td>\n",
       "      <td>80.63</td>\n",
       "      <td>652289</td>\n",
       "      <td>765.49</td>\n",
       "      <td>16.76</td>\n",
       "      <td>3.25</td>\n",
       "      <td>150000</td>\n",
       "      <td>120</td>\n",
       "      <td>5.88</td>\n",
       "      <td>161.57</td>\n",
       "      <td>3.7</td>\n",
       "      <td>270.02</td>\n",
       "      <td>1400.96</td>\n",
       "    </tr>\n",
       "    <tr>\n",
       "      <th>4</th>\n",
       "      <td>11.81</td>\n",
       "      <td>80.63</td>\n",
       "      <td>652289</td>\n",
       "      <td>765.49</td>\n",
       "      <td>18.41</td>\n",
       "      <td>4.16</td>\n",
       "      <td>457419</td>\n",
       "      <td>480</td>\n",
       "      <td>5.88</td>\n",
       "      <td>161.53</td>\n",
       "      <td>3.7</td>\n",
       "      <td>270.02</td>\n",
       "      <td>1761.83</td>\n",
       "    </tr>\n",
       "  </tbody>\n",
       "</table>\n",
       "</div>"
      ],
      "text/plain": [
       "   HDFS_BW  HDFSTranmissionTime  Mapper_VM_MIPS  MapExecutionTime   MapperBW  \\\n",
       "0    11.81                80.63          652289             765.49     30.00   \n",
       "1    11.81                80.63          652289             765.49     30.00   \n",
       "2    11.81                80.63          652289             765.49     16.76   \n",
       "3    11.81                80.63          652289             765.49     16.76   \n",
       "4    11.81                80.63          652289             765.49     18.41   \n",
       "\n",
       "   MapperTransmissionTime  Reducer_VM_MIPS  ReducerExecutionTime   ReducerBW  \\\n",
       "0                    2.53           341739                    480       3.80   \n",
       "1                    2.53           150000                    120      50.00   \n",
       "2                    3.25           382530                    480       4.48   \n",
       "3                    3.25           150000                    120       5.88   \n",
       "4                    4.16           457419                    480       5.88   \n",
       "\n",
       "   ReducerTransmissionTime  Block_BW  BlockTransmissionTime  TransactionTime  \n",
       "0                   250.14       0.0                   0.00          1578.79  \n",
       "1                    18.99      50.0                  20.00          1007.64  \n",
       "2                   212.22       3.7                 270.02          1811.61  \n",
       "3                   161.57       3.7                 270.02          1400.96  \n",
       "4                   161.53       3.7                 270.02          1761.83  "
      ]
     },
     "execution_count": 24,
     "metadata": {},
     "output_type": "execute_result"
    }
   ],
   "source": [
    "# Clean data\n",
    "df.dropna()\n",
    "\n",
    "df.drop(labels=['Block_ID', 'Mapper_ID', 'Reducer_ID', 'Block_ID.1'], axis=1, inplace=True)\n",
    "\n",
    "df.head()"
   ]
  },
  {
   "cell_type": "markdown",
   "metadata": {},
   "source": [
    "#### Rename columns to better fit in drawn charts and for ease of use"
   ]
  },
  {
   "cell_type": "code",
   "execution_count": 25,
   "metadata": {},
   "outputs": [
    {
     "data": {
      "text/html": [
       "<div>\n",
       "<style scoped>\n",
       "    .dataframe tbody tr th:only-of-type {\n",
       "        vertical-align: middle;\n",
       "    }\n",
       "\n",
       "    .dataframe tbody tr th {\n",
       "        vertical-align: top;\n",
       "    }\n",
       "\n",
       "    .dataframe thead th {\n",
       "        text-align: right;\n",
       "    }\n",
       "</style>\n",
       "<table border=\"1\" class=\"dataframe\">\n",
       "  <thead>\n",
       "    <tr style=\"text-align: right;\">\n",
       "      <th></th>\n",
       "      <th>HBW</th>\n",
       "      <th>HTT</th>\n",
       "      <th>MMIPS</th>\n",
       "      <th>MET</th>\n",
       "      <th>MBW</th>\n",
       "      <th>MTT</th>\n",
       "      <th>RMIPS</th>\n",
       "      <th>RET</th>\n",
       "      <th>RBW</th>\n",
       "      <th>RTT</th>\n",
       "      <th>BBW</th>\n",
       "      <th>BTT</th>\n",
       "      <th>TT</th>\n",
       "    </tr>\n",
       "  </thead>\n",
       "  <tbody>\n",
       "    <tr>\n",
       "      <th>0</th>\n",
       "      <td>11.81</td>\n",
       "      <td>80.63</td>\n",
       "      <td>652289</td>\n",
       "      <td>765.49</td>\n",
       "      <td>30.00</td>\n",
       "      <td>2.53</td>\n",
       "      <td>341739</td>\n",
       "      <td>480</td>\n",
       "      <td>3.80</td>\n",
       "      <td>250.14</td>\n",
       "      <td>0.0</td>\n",
       "      <td>0.00</td>\n",
       "      <td>1578.79</td>\n",
       "    </tr>\n",
       "    <tr>\n",
       "      <th>1</th>\n",
       "      <td>11.81</td>\n",
       "      <td>80.63</td>\n",
       "      <td>652289</td>\n",
       "      <td>765.49</td>\n",
       "      <td>30.00</td>\n",
       "      <td>2.53</td>\n",
       "      <td>150000</td>\n",
       "      <td>120</td>\n",
       "      <td>50.00</td>\n",
       "      <td>18.99</td>\n",
       "      <td>50.0</td>\n",
       "      <td>20.00</td>\n",
       "      <td>1007.64</td>\n",
       "    </tr>\n",
       "    <tr>\n",
       "      <th>2</th>\n",
       "      <td>11.81</td>\n",
       "      <td>80.63</td>\n",
       "      <td>652289</td>\n",
       "      <td>765.49</td>\n",
       "      <td>16.76</td>\n",
       "      <td>3.25</td>\n",
       "      <td>382530</td>\n",
       "      <td>480</td>\n",
       "      <td>4.48</td>\n",
       "      <td>212.22</td>\n",
       "      <td>3.7</td>\n",
       "      <td>270.02</td>\n",
       "      <td>1811.61</td>\n",
       "    </tr>\n",
       "    <tr>\n",
       "      <th>3</th>\n",
       "      <td>11.81</td>\n",
       "      <td>80.63</td>\n",
       "      <td>652289</td>\n",
       "      <td>765.49</td>\n",
       "      <td>16.76</td>\n",
       "      <td>3.25</td>\n",
       "      <td>150000</td>\n",
       "      <td>120</td>\n",
       "      <td>5.88</td>\n",
       "      <td>161.57</td>\n",
       "      <td>3.7</td>\n",
       "      <td>270.02</td>\n",
       "      <td>1400.96</td>\n",
       "    </tr>\n",
       "    <tr>\n",
       "      <th>4</th>\n",
       "      <td>11.81</td>\n",
       "      <td>80.63</td>\n",
       "      <td>652289</td>\n",
       "      <td>765.49</td>\n",
       "      <td>18.41</td>\n",
       "      <td>4.16</td>\n",
       "      <td>457419</td>\n",
       "      <td>480</td>\n",
       "      <td>5.88</td>\n",
       "      <td>161.53</td>\n",
       "      <td>3.7</td>\n",
       "      <td>270.02</td>\n",
       "      <td>1761.83</td>\n",
       "    </tr>\n",
       "    <tr>\n",
       "      <th>5</th>\n",
       "      <td>11.81</td>\n",
       "      <td>80.63</td>\n",
       "      <td>652289</td>\n",
       "      <td>765.49</td>\n",
       "      <td>18.41</td>\n",
       "      <td>4.16</td>\n",
       "      <td>150000</td>\n",
       "      <td>120</td>\n",
       "      <td>6.98</td>\n",
       "      <td>136.24</td>\n",
       "      <td>3.7</td>\n",
       "      <td>270.02</td>\n",
       "      <td>1376.54</td>\n",
       "    </tr>\n",
       "    <tr>\n",
       "      <th>6</th>\n",
       "      <td>11.81</td>\n",
       "      <td>80.63</td>\n",
       "      <td>652289</td>\n",
       "      <td>765.49</td>\n",
       "      <td>18.41</td>\n",
       "      <td>4.16</td>\n",
       "      <td>563904</td>\n",
       "      <td>480</td>\n",
       "      <td>3.80</td>\n",
       "      <td>250.14</td>\n",
       "      <td>3.7</td>\n",
       "      <td>270.02</td>\n",
       "      <td>1850.44</td>\n",
       "    </tr>\n",
       "    <tr>\n",
       "      <th>7</th>\n",
       "      <td>11.81</td>\n",
       "      <td>80.63</td>\n",
       "      <td>652289</td>\n",
       "      <td>765.49</td>\n",
       "      <td>18.41</td>\n",
       "      <td>4.16</td>\n",
       "      <td>150000</td>\n",
       "      <td>120</td>\n",
       "      <td>150.00</td>\n",
       "      <td>6.33</td>\n",
       "      <td>3.7</td>\n",
       "      <td>270.02</td>\n",
       "      <td>1246.63</td>\n",
       "    </tr>\n",
       "    <tr>\n",
       "      <th>8</th>\n",
       "      <td>11.81</td>\n",
       "      <td>80.63</td>\n",
       "      <td>652289</td>\n",
       "      <td>765.49</td>\n",
       "      <td>18.41</td>\n",
       "      <td>4.16</td>\n",
       "      <td>430890</td>\n",
       "      <td>480</td>\n",
       "      <td>3.80</td>\n",
       "      <td>250.14</td>\n",
       "      <td>3.7</td>\n",
       "      <td>270.02</td>\n",
       "      <td>1850.44</td>\n",
       "    </tr>\n",
       "    <tr>\n",
       "      <th>9</th>\n",
       "      <td>11.81</td>\n",
       "      <td>80.63</td>\n",
       "      <td>652289</td>\n",
       "      <td>765.49</td>\n",
       "      <td>18.41</td>\n",
       "      <td>4.16</td>\n",
       "      <td>150000</td>\n",
       "      <td>120</td>\n",
       "      <td>150.00</td>\n",
       "      <td>6.33</td>\n",
       "      <td>3.7</td>\n",
       "      <td>270.02</td>\n",
       "      <td>1246.63</td>\n",
       "    </tr>\n",
       "  </tbody>\n",
       "</table>\n",
       "</div>"
      ],
      "text/plain": [
       "     HBW    HTT   MMIPS     MET    MBW   MTT   RMIPS  RET     RBW     RTT  \\\n",
       "0  11.81  80.63  652289  765.49  30.00  2.53  341739  480    3.80  250.14   \n",
       "1  11.81  80.63  652289  765.49  30.00  2.53  150000  120   50.00   18.99   \n",
       "2  11.81  80.63  652289  765.49  16.76  3.25  382530  480    4.48  212.22   \n",
       "3  11.81  80.63  652289  765.49  16.76  3.25  150000  120    5.88  161.57   \n",
       "4  11.81  80.63  652289  765.49  18.41  4.16  457419  480    5.88  161.53   \n",
       "5  11.81  80.63  652289  765.49  18.41  4.16  150000  120    6.98  136.24   \n",
       "6  11.81  80.63  652289  765.49  18.41  4.16  563904  480    3.80  250.14   \n",
       "7  11.81  80.63  652289  765.49  18.41  4.16  150000  120  150.00    6.33   \n",
       "8  11.81  80.63  652289  765.49  18.41  4.16  430890  480    3.80  250.14   \n",
       "9  11.81  80.63  652289  765.49  18.41  4.16  150000  120  150.00    6.33   \n",
       "\n",
       "    BBW     BTT       TT  \n",
       "0   0.0    0.00  1578.79  \n",
       "1  50.0   20.00  1007.64  \n",
       "2   3.7  270.02  1811.61  \n",
       "3   3.7  270.02  1400.96  \n",
       "4   3.7  270.02  1761.83  \n",
       "5   3.7  270.02  1376.54  \n",
       "6   3.7  270.02  1850.44  \n",
       "7   3.7  270.02  1246.63  \n",
       "8   3.7  270.02  1850.44  \n",
       "9   3.7  270.02  1246.63  "
      ]
     },
     "execution_count": 25,
     "metadata": {},
     "output_type": "execute_result"
    }
   ],
   "source": [
    "# Rename column headers to abbreviations\n",
    "\n",
    "nodes = ['HBW', 'HTT', 'MMIPS', 'MET', 'MBW', 'MTT', 'RMIPS', 'RET', 'RBW', 'RTT', 'BBW', 'BTT', 'TT']\n",
    "\n",
    "df.columns = nodes\n",
    "\n",
    "df.head(10)"
   ]
  },
  {
   "cell_type": "markdown",
   "metadata": {},
   "source": [
    "#### Define funtion to discretise data into three catagories"
   ]
  },
  {
   "cell_type": "code",
   "execution_count": 26,
   "metadata": {},
   "outputs": [],
   "source": [
    "# '''\n",
    "# Splits data into three bins of equal size using: https://pandas.pydata.org/docs/reference/api/pandas.cut.html\n",
    "# '''\n",
    "# def split_tertiles(df):\n",
    "#     tertile_labels = ['0.Low', '1.Medium', '2.High']\n",
    "\n",
    "#     tert_df = pd.DataFrame()\n",
    "\n",
    "#     for column_name in df:\n",
    "#         tert_df[column_name], bins = pd.cut(df[column_name], 3, labels=tertile_labels, ordered=True, retbins=True)\n",
    "\n",
    "#         # print(column_name)\n",
    "#         # print(bins[0])\n",
    "#         # print(bins[1])\n",
    "#         # print(bins[2])\n",
    "#         # print(bins[3])\n",
    "\n",
    "#         tert_df[column_name] = tert_df[column_name].cat.rename_categories([ f'Low ({str(round(bins[0]))} to {str(round(bins[1]))}]',\n",
    "#                                                                             f'Medium ({str(round(bins[1]))} to {str(round(bins[2]))}]',\n",
    "#                                                                             f'High ({str(round(bins[2]))} to {str(round(bins[3]))}]'])\n",
    "\n",
    "#     # Change type of values stored in dataframe to avoid errors arrising from using the Category type when the dataframe is fed into the pgmpy.metrics.metrics correlation_score function\n",
    "#     tert_df = tert_df.astype('object')\n",
    "\n",
    "#     return tert_df\n",
    "\n",
    "'''\n",
    "Splits data into three bins of equal size using: https://pandas.pydata.org/docs/reference/api/pandas.cut.html\n",
    "'''\n",
    "def split_tertiles(df):\n",
    "    tertile_labels = ['Very Low', 'Low', 'High', 'Very-high']\n",
    "\n",
    "    tert_df = pd.DataFrame()\n",
    "\n",
    "    for column_name in df:\n",
    "        tert_df[column_name] = pd.cut(df[column_name], 4, labels=tertile_labels, ordered=True)\n",
    "\n",
    "    # Change type of values stored in dataframe to avoid errors arrising from using the Category type when the dataframe is fed into the pgmpy.metrics.metrics correlation_score function\n",
    "    tert_df = tert_df.astype('object')\n",
    "\n",
    "    return tert_df"
   ]
  },
  {
   "cell_type": "code",
   "execution_count": 27,
   "metadata": {},
   "outputs": [],
   "source": [
    "def discretise(df):\n",
    "    discrete_df = pd.DataFrame()\n",
    "\n",
    "    # discrete_df['HBW'] = pd.cut(df['HBW'], 4, labels=['1. less than 6 Mbps', '2. greater than 6 Mbps'], ordered=True, retbins=False)\n",
    "    # discrete_df['HTT'] = pd.cut(df['HTT'], 4, labels=['1. less than 178 Milliseconds', '2. greater than 178 Milliseconds'], ordered=True, retbins=False)\n",
    "    # discrete_df['MMIPS'] = pd.cut(df['MMIPS'], 4, labels=['1. less than 750000 MIPS', '2. 750000 to 850000 MIPS', '3. greater than 850000 MIPS'], ordered=True, retbins=False)\n",
    "    # discrete_df['MET'] = pd.cut(df['MET'], 4, labels=['1. less than 1000 Milliseconds', '2. 1000 to 1250 Milliseconds', '3. greater than 1250 Milliseconds'], ordered=True, retbins=False)\n",
    "    # discrete_df['MBW'] = pd.cut(df['MBW'], 4, labels=['1. less than 11 Mbps', '2. 11 to 20 Mbps', '3. greater than 20 Mbps'], ordered=True, retbins=False)\n",
    "    # discrete_df['MTT'] = pd.cut(df['MTT'], 4, labels=['1. less than 18 Milliseconds', '2. 18 to 35 Milliseconds', '3. greater than 35 Milliseconds'], ordered=True, retbins=False)\n",
    "    # discrete_df['RMIPS'] = pd.cut(df['RMIPS'], 4, labels=['1. less than 285000 MIPS', '2. 285000 to 425000 MIPS', '3. greater than 425000 MIPS'], ordered=True, retbins=False)\n",
    "    # discrete_df['RET'] = pd.cut(df['RET'], 4, labels=['1. less than 240 Milliseconds', '2. greater than 240 Milliseconds'], ordered=True, retbins=False)\n",
    "    # discrete_df['RBW'] = pd.cut(df['RBW'], 4, labels=['1. less than 75 Mbps', '2. greater than 75 Mbps'], ordered=True, retbins=False)\n",
    "    # discrete_df['RTT' ] = pd.cut(df['RTT'], 4, labels=['1. less than 90 Milliseconds', '2. 90 to 170 Milliseconds', '3. greater than 170 Milliseconds'], ordered=True, retbins=False)\n",
    "    # discrete_df['BBW'] = pd.cut(df['BBW'], 4, labels=['1. less than 25 Mbps', '2. greater than 25 Mbps'], ordered=True, retbins=False)\n",
    "    # discrete_df['BTT'] = pd.cut(df['BTT'], 4, labels=['1. less than 135 Milliseconds', '2. greater than 135 Milliseconds'], ordered=True, retbins=False)\n",
    "    # discrete_df['TT'] = pd.cut(df['TT'], 4, labels=['1. less than 1625 Milliseconds', '2. 1625 to 2245 Milliseconds', '3. greater than 2245 Millilseconds'], ordered=True, retbins=False)\n",
    "\n",
    "\n",
    "    discrete_df['HBW'] = pd.cut(df['HBW'], labels=['1', '2', '3', '4'], bins=[-1, 3, 6, 9, 12], ordered=True, retbins=False)\n",
    "    discrete_df['HTT'] = pd.cut(df['HTT'], labels=['1', '2', '3', '4'], bins=[-1, 90, 180, 270, 360], ordered=True, retbins=False)\n",
    "    discrete_df['MMIPS'] = pd.cut(df['MMIPS'], labels=['1', '2', '3', '4'], bins=[0, 730000, 800000, 880000, 950000], ordered=True, retbins=False)\n",
    "    discrete_df['MET'] = pd.cut(df['MET'], labels=['1', '2', '3', '4'], bins=[0, 945, 1130, 1300, 1500], ordered=True, retbins=False)\n",
    "    discrete_df['MBW'] = pd.cut(df['MBW'], labels=['1', '2', '3', '4'], bins=[0, 9, 16, 23, 30], ordered=True, retbins=False)\n",
    "    discrete_df['MTT'] = pd.cut(df['MTT'],labels=['1', '2', '3', '4'],  bins=[0, 14, 26, 38, 51], ordered=True, retbins=False)\n",
    "    discrete_df['RMIPS'] = pd.cut(df['RMIPS'], labels=['1', '2', '3', '4'], bins=[0, 254000, 357000, 460000, 565000], ordered=True, retbins=False)\n",
    "    discrete_df['RET'] = pd.cut(df['RET'], labels=['1', '2', '3', '4'], bins=[0, 210, 300, 390, 480], ordered=True, retbins=False)\n",
    "    discrete_df['RBW'] = pd.cut(df['RBW'], labels=['1', '2', '3', '4'], bins=[0, 40, 77, 114, 150], ordered=True, retbins=False)\n",
    "    discrete_df['RTT' ] = pd.cut(df['RTT'], labels=['1', '2', '3', '4'], bins=[0, 67, 128, 189, 255], ordered=True, retbins=False)\n",
    "    discrete_df['BBW'] = pd.cut(df['BBW'], labels=['1', '2', '3', '4'], bins=[-1, 12, 25, 37, 50], ordered=True, retbins=False)\n",
    "    discrete_df['BTT'] = pd.cut(df['BTT'],labels=['1', '2', '3', '4'],  bins=[-1, 67, 135, 202, 275], ordered=True, retbins=False)\n",
    "    discrete_df['TT'] = pd.cut(df['TT'], labels=['1', '2', '3', '4'], bins=[0, 1500, 2000, 2400, 2900], ordered=True, retbins=False)\n",
    "\n",
    "    discrete_df = discrete_df.astype('object')\n",
    "\n",
    "    return discrete_df"
   ]
  },
  {
   "cell_type": "markdown",
   "metadata": {},
   "source": [
    "#### Descritise data into catagories"
   ]
  },
  {
   "cell_type": "code",
   "execution_count": 28,
   "metadata": {},
   "outputs": [],
   "source": [
    "# Discretise BigPerf dataset\n",
    "cat_df = discretise(df)\n",
    "\n",
    "\n",
    "cat_df.head(50)\n",
    "\n",
    "cat_df.to_csv('discretised_bigperf.csv')"
   ]
  },
  {
   "cell_type": "code",
   "execution_count": 29,
   "metadata": {},
   "outputs": [
    {
     "name": "stdout",
     "output_type": "stream",
     "text": [
      "[{'HBW': '1', 'Count': 1122}, {'HBW': '4', 'Count': 1418}]\n",
      "[{'HTT': '1', 'Count': 1436}, {'HTT': '4', 'Count': 1104}]\n",
      "[{'MMIPS': '1', 'Count': 735}, {'MMIPS': '2', 'Count': 558}, {'MMIPS': '3', 'Count': 573}, {'MMIPS': '4', 'Count': 674}]\n",
      "[{'MET': '1', 'Count': 705}, {'MET': '2', 'Count': 608}, {'MET': '3', 'Count': 513}, {'MET': '4', 'Count': 714}]\n",
      "[{'MBW': '1', 'Count': 2147}, {'MBW': '2', 'Count': 70}, {'MBW': '3', 'Count': 86}, {'MBW': '4', 'Count': 237}]\n",
      "[{'MTT': '1', 'Count': 497}, {'MTT': '2', 'Count': 217}, {'MTT': '3', 'Count': 738}, {'MTT': '4', 'Count': 1088}]\n",
      "[{'RMIPS': '1', 'Count': 1270}, {'RMIPS': '2', 'Count': 254}, {'RMIPS': '3', 'Count': 762}, {'RMIPS': '4', 'Count': 254}]\n",
      "[{'RET': '1', 'Count': 1270}, {'RET': '4', 'Count': 1270}]\n",
      "[{'RBW': '1', 'Count': 1778}, {'RBW': '2', 'Count': 254}, {'RBW': '4', 'Count': 508}]\n",
      "[{'RTT': '1', 'Count': 762}, {'RTT': '3', 'Count': 762}, {'RTT': '4', 'Count': 1016}]\n",
      "[{'BBW': '1', 'Count': 2286}, {'BBW': '4', 'Count': 254}]\n",
      "[{'BTT': '1', 'Count': 508}, {'BTT': '4', 'Count': 2032}]\n",
      "[{'TT': '1', 'Count': 241}, {'TT': '2', 'Count': 984}, {'TT': '3', 'Count': 899}, {'TT': '4', 'Count': 416}]\n"
     ]
    },
    {
     "data": {
      "text/html": [
       "<div>\n",
       "<style scoped>\n",
       "    .dataframe tbody tr th:only-of-type {\n",
       "        vertical-align: middle;\n",
       "    }\n",
       "\n",
       "    .dataframe tbody tr th {\n",
       "        vertical-align: top;\n",
       "    }\n",
       "\n",
       "    .dataframe thead th {\n",
       "        text-align: right;\n",
       "    }\n",
       "</style>\n",
       "<table border=\"1\" class=\"dataframe\">\n",
       "  <thead>\n",
       "    <tr style=\"text-align: right;\">\n",
       "      <th></th>\n",
       "      <th>HBW</th>\n",
       "      <th>HTT</th>\n",
       "      <th>MMIPS</th>\n",
       "      <th>MET</th>\n",
       "      <th>MBW</th>\n",
       "      <th>MTT</th>\n",
       "      <th>RMIPS</th>\n",
       "      <th>RET</th>\n",
       "      <th>RBW</th>\n",
       "      <th>RTT</th>\n",
       "      <th>BBW</th>\n",
       "      <th>BTT</th>\n",
       "      <th>TT</th>\n",
       "    </tr>\n",
       "  </thead>\n",
       "  <tbody>\n",
       "    <tr>\n",
       "      <th>0</th>\n",
       "      <td>4</td>\n",
       "      <td>1</td>\n",
       "      <td>1</td>\n",
       "      <td>1</td>\n",
       "      <td>4</td>\n",
       "      <td>1</td>\n",
       "      <td>2</td>\n",
       "      <td>4</td>\n",
       "      <td>1</td>\n",
       "      <td>4</td>\n",
       "      <td>1</td>\n",
       "      <td>1</td>\n",
       "      <td>2</td>\n",
       "    </tr>\n",
       "    <tr>\n",
       "      <th>1</th>\n",
       "      <td>4</td>\n",
       "      <td>1</td>\n",
       "      <td>1</td>\n",
       "      <td>1</td>\n",
       "      <td>4</td>\n",
       "      <td>1</td>\n",
       "      <td>1</td>\n",
       "      <td>1</td>\n",
       "      <td>2</td>\n",
       "      <td>1</td>\n",
       "      <td>4</td>\n",
       "      <td>1</td>\n",
       "      <td>1</td>\n",
       "    </tr>\n",
       "    <tr>\n",
       "      <th>2</th>\n",
       "      <td>4</td>\n",
       "      <td>1</td>\n",
       "      <td>1</td>\n",
       "      <td>1</td>\n",
       "      <td>3</td>\n",
       "      <td>1</td>\n",
       "      <td>3</td>\n",
       "      <td>4</td>\n",
       "      <td>1</td>\n",
       "      <td>4</td>\n",
       "      <td>1</td>\n",
       "      <td>4</td>\n",
       "      <td>2</td>\n",
       "    </tr>\n",
       "    <tr>\n",
       "      <th>3</th>\n",
       "      <td>4</td>\n",
       "      <td>1</td>\n",
       "      <td>1</td>\n",
       "      <td>1</td>\n",
       "      <td>3</td>\n",
       "      <td>1</td>\n",
       "      <td>1</td>\n",
       "      <td>1</td>\n",
       "      <td>1</td>\n",
       "      <td>3</td>\n",
       "      <td>1</td>\n",
       "      <td>4</td>\n",
       "      <td>1</td>\n",
       "    </tr>\n",
       "    <tr>\n",
       "      <th>4</th>\n",
       "      <td>4</td>\n",
       "      <td>1</td>\n",
       "      <td>1</td>\n",
       "      <td>1</td>\n",
       "      <td>3</td>\n",
       "      <td>1</td>\n",
       "      <td>3</td>\n",
       "      <td>4</td>\n",
       "      <td>1</td>\n",
       "      <td>3</td>\n",
       "      <td>1</td>\n",
       "      <td>4</td>\n",
       "      <td>2</td>\n",
       "    </tr>\n",
       "    <tr>\n",
       "      <th>...</th>\n",
       "      <td>...</td>\n",
       "      <td>...</td>\n",
       "      <td>...</td>\n",
       "      <td>...</td>\n",
       "      <td>...</td>\n",
       "      <td>...</td>\n",
       "      <td>...</td>\n",
       "      <td>...</td>\n",
       "      <td>...</td>\n",
       "      <td>...</td>\n",
       "      <td>...</td>\n",
       "      <td>...</td>\n",
       "      <td>...</td>\n",
       "    </tr>\n",
       "    <tr>\n",
       "      <th>995</th>\n",
       "      <td>4</td>\n",
       "      <td>1</td>\n",
       "      <td>2</td>\n",
       "      <td>2</td>\n",
       "      <td>4</td>\n",
       "      <td>1</td>\n",
       "      <td>2</td>\n",
       "      <td>4</td>\n",
       "      <td>1</td>\n",
       "      <td>4</td>\n",
       "      <td>1</td>\n",
       "      <td>1</td>\n",
       "      <td>2</td>\n",
       "    </tr>\n",
       "    <tr>\n",
       "      <th>996</th>\n",
       "      <td>4</td>\n",
       "      <td>1</td>\n",
       "      <td>2</td>\n",
       "      <td>2</td>\n",
       "      <td>3</td>\n",
       "      <td>1</td>\n",
       "      <td>1</td>\n",
       "      <td>1</td>\n",
       "      <td>2</td>\n",
       "      <td>1</td>\n",
       "      <td>4</td>\n",
       "      <td>1</td>\n",
       "      <td>1</td>\n",
       "    </tr>\n",
       "    <tr>\n",
       "      <th>997</th>\n",
       "      <td>4</td>\n",
       "      <td>1</td>\n",
       "      <td>2</td>\n",
       "      <td>2</td>\n",
       "      <td>1</td>\n",
       "      <td>4</td>\n",
       "      <td>3</td>\n",
       "      <td>4</td>\n",
       "      <td>1</td>\n",
       "      <td>4</td>\n",
       "      <td>1</td>\n",
       "      <td>4</td>\n",
       "      <td>3</td>\n",
       "    </tr>\n",
       "    <tr>\n",
       "      <th>998</th>\n",
       "      <td>4</td>\n",
       "      <td>1</td>\n",
       "      <td>2</td>\n",
       "      <td>2</td>\n",
       "      <td>1</td>\n",
       "      <td>4</td>\n",
       "      <td>1</td>\n",
       "      <td>1</td>\n",
       "      <td>1</td>\n",
       "      <td>3</td>\n",
       "      <td>1</td>\n",
       "      <td>4</td>\n",
       "      <td>2</td>\n",
       "    </tr>\n",
       "    <tr>\n",
       "      <th>999</th>\n",
       "      <td>4</td>\n",
       "      <td>1</td>\n",
       "      <td>2</td>\n",
       "      <td>2</td>\n",
       "      <td>1</td>\n",
       "      <td>4</td>\n",
       "      <td>3</td>\n",
       "      <td>4</td>\n",
       "      <td>1</td>\n",
       "      <td>3</td>\n",
       "      <td>1</td>\n",
       "      <td>4</td>\n",
       "      <td>3</td>\n",
       "    </tr>\n",
       "  </tbody>\n",
       "</table>\n",
       "<p>1000 rows × 13 columns</p>\n",
       "</div>"
      ],
      "text/plain": [
       "    HBW HTT MMIPS MET MBW MTT RMIPS RET RBW RTT BBW BTT TT\n",
       "0     4   1     1   1   4   1     2   4   1   4   1   1  2\n",
       "1     4   1     1   1   4   1     1   1   2   1   4   1  1\n",
       "2     4   1     1   1   3   1     3   4   1   4   1   4  2\n",
       "3     4   1     1   1   3   1     1   1   1   3   1   4  1\n",
       "4     4   1     1   1   3   1     3   4   1   3   1   4  2\n",
       "..   ..  ..   ...  ..  ..  ..   ...  ..  ..  ..  ..  .. ..\n",
       "995   4   1     2   2   4   1     2   4   1   4   1   1  2\n",
       "996   4   1     2   2   3   1     1   1   2   1   4   1  1\n",
       "997   4   1     2   2   1   4     3   4   1   4   1   4  3\n",
       "998   4   1     2   2   1   4     1   1   1   3   1   4  2\n",
       "999   4   1     2   2   1   4     3   4   1   3   1   4  3\n",
       "\n",
       "[1000 rows x 13 columns]"
      ]
     },
     "execution_count": 29,
     "metadata": {},
     "output_type": "execute_result"
    }
   ],
   "source": [
    "discrete_df = discretise(df)\n",
    "\n",
    "for column in cat_df:\n",
    "    print(discrete_df.groupby(column)[column].count().reset_index(name='Count').to_dict(orient='records'))\n",
    "\n",
    "discrete_df.head(1000)"
   ]
  },
  {
   "cell_type": "code",
   "execution_count": 10,
   "metadata": {},
   "outputs": [],
   "source": [
    "from sklearn.model_selection import train_test_split\n",
    "\n",
    "training_data, testing_data = train_test_split(cat_df, test_size=0.2, random_state=20)"
   ]
  },
  {
   "cell_type": "code",
   "execution_count": 11,
   "metadata": {},
   "outputs": [],
   "source": [
    "from itertools import combinations\n",
    "\n",
    "import networkx as nx\n",
    "from sklearn.metrics import f1_score\n",
    "from pgmpy.models import BayesianModel, NaiveBayes, BayesianNetwork\n",
    "from pgmpy.estimators import PC, HillClimbSearch, ExhaustiveSearch\n",
    "from pgmpy.estimators import K2Score, BicScore, BDeuScore\n",
    "from pgmpy.utils import get_example_model\n",
    "from pgmpy.sampling import BayesianModelSampling\n",
    "from pgmpy.estimators import BayesianEstimator, MaximumLikelihoodEstimator"
   ]
  },
  {
   "cell_type": "code",
   "execution_count": 12,
   "metadata": {},
   "outputs": [],
   "source": [
    "model = NaiveBayes(feature_vars=['HBW', 'HTT', 'MMIPS', 'MET', 'MBW', 'MTT', 'RMIPS', 'RET', 'RBW', 'RTT', 'BBW', 'BTT'], dependent_var='TT')"
   ]
  },
  {
   "cell_type": "code",
   "execution_count": 13,
   "metadata": {},
   "outputs": [],
   "source": [
    "model.fit(data=training_data, parent_node='TT', estimator=BayesianEstimator)\n",
    "bayes_model = BayesianNetwork(model)\n",
    "\n",
    "bayes_model.fit(data=training_data,\n",
    "    estimator=BayesianEstimator,\n",
    "    prior_type='BDeu',\n",
    "    complete_samples_only=True)"
   ]
  },
  {
   "cell_type": "code",
   "execution_count": 14,
   "metadata": {},
   "outputs": [
    {
     "data": {
      "image/png": "[encoded data removed]",
      "text/plain": [
       "<Figure size 864x864 with 1 Axes>"
      ]
     },
     "metadata": {},
     "output_type": "display_data"
    }
   ],
   "source": [
    "plt.figure(3,figsize=(12,12)) \n",
    "\n",
    "G = nx.DiGraph()\n",
    "G.add_edges_from(bayes_model.edges)\n",
    "G.add_nodes_from(bayes_model.nodes)\n",
    "pos = nx.kamada_kawai_layout(G)\n",
    "nx.draw(G,\n",
    "                pos=pos,\n",
    "                with_labels=True,\n",
    "                node_size=[4000,2000,2000,2000,2000,2000,2000,2000,2000,2000,2000,2000,2000],\n",
    "                arrowsize=30,\n",
    "                alpha=0.7,\n",
    "                font_weight=\"bold\",\n",
    "                width=2.0)  # Draw the original graph\n",
    "\n",
    "tt_g = G.subgraph(nodes=['TT'])\n",
    "nx.draw(tt_g, pos=pos, with_labels=False, arrowsize=0, node_size=4100, alpha=0.7, font_weight=\"bold\", node_color='#063970')\n",
    "\n",
    "plt.show()"
   ]
  },
  {
   "cell_type": "code",
   "execution_count": 15,
   "metadata": {},
   "outputs": [
    {
     "data": {
      "text/plain": [
       "[<TabularCPD representing P(TT:4) at 0x1f0fd526aa0>,\n",
       " <TabularCPD representing P(BTT:2 | TT:4) at 0x1f0fd527430>,\n",
       " <TabularCPD representing P(RET:2 | TT:4) at 0x1f0fd54a590>,\n",
       " <TabularCPD representing P(MMIPS:4 | TT:4) at 0x1f0fd526800>,\n",
       " <TabularCPD representing P(HTT:2 | TT:4) at 0x1f0fd5264a0>,\n",
       " <TabularCPD representing P(MTT:4 | TT:4) at 0x1f0fd54afb0>,\n",
       " <TabularCPD representing P(HBW:2 | TT:4) at 0x1f0fd527c10>,\n",
       " <TabularCPD representing P(RMIPS:4 | TT:4) at 0x1f0fd527490>,\n",
       " <TabularCPD representing P(MET:4 | TT:4) at 0x1f0fd526500>,\n",
       " <TabularCPD representing P(RTT:3 | TT:4) at 0x1f0fd54afe0>,\n",
       " <TabularCPD representing P(BBW:2 | TT:4) at 0x1f0fd5819c0>,\n",
       " <TabularCPD representing P(RBW:3 | TT:4) at 0x1f0fd5839d0>,\n",
       " <TabularCPD representing P(MBW:4 | TT:4) at 0x1f0fd54b370>]"
      ]
     },
     "execution_count": 15,
     "metadata": {},
     "output_type": "execute_result"
    }
   ],
   "source": [
    "bayes_model.get_cpds()"
   ]
  },
  {
   "cell_type": "code",
   "execution_count": 16,
   "metadata": {},
   "outputs": [
    {
     "data": {
      "application/vnd.jupyter.widget-view+json": {
       "model_id": "aeeb7627fc1047d4a18ee233e8eab79e",
       "version_major": 2,
       "version_minor": 0
      },
      "text/plain": [
       "  0%|          | 0/166 [00:00<?, ?it/s]"
      ]
     },
     "metadata": {},
     "output_type": "display_data"
    },
    {
     "name": "stdout",
     "output_type": "stream",
     "text": [
      "HBW Accuracy score: 0.610236220472441\n"
     ]
    },
    {
     "name": "stderr",
     "output_type": "stream",
     "text": [
      "c:\\Python310\\lib\\site-packages\\pgmpy\\models\\BayesianNetwork.py:747: FutureWarning: Passing a set as an indexer is deprecated and will raise in a future version. Use a list instead.\n",
      "  return data.merge(data_with_results, how=\"left\").loc[:, missing_variables]\n"
     ]
    },
    {
     "data": {
      "application/vnd.jupyter.widget-view+json": {
       "model_id": "c54c1f394f8a411992d9741bd1ccac73",
       "version_major": 2,
       "version_minor": 0
      },
      "text/plain": [
       "  0%|          | 0/168 [00:00<?, ?it/s]"
      ]
     },
     "metadata": {},
     "output_type": "display_data"
    },
    {
     "name": "stdout",
     "output_type": "stream",
     "text": [
      "HTT Accuracy score: 0.6062992125984252\n"
     ]
    },
    {
     "name": "stderr",
     "output_type": "stream",
     "text": [
      "c:\\Python310\\lib\\site-packages\\pgmpy\\models\\BayesianNetwork.py:747: FutureWarning: Passing a set as an indexer is deprecated and will raise in a future version. Use a list instead.\n",
      "  return data.merge(data_with_results, how=\"left\").loc[:, missing_variables]\n"
     ]
    },
    {
     "data": {
      "application/vnd.jupyter.widget-view+json": {
       "model_id": "9f63d6a6772646f6bf90ea640a55dd9a",
       "version_major": 2,
       "version_minor": 0
      },
      "text/plain": [
       "  0%|          | 0/157 [00:00<?, ?it/s]"
      ]
     },
     "metadata": {},
     "output_type": "display_data"
    },
    {
     "name": "stdout",
     "output_type": "stream",
     "text": [
      "MMIPS Accuracy score: 0.43503937007874016\n"
     ]
    },
    {
     "name": "stderr",
     "output_type": "stream",
     "text": [
      "c:\\Python310\\lib\\site-packages\\pgmpy\\models\\BayesianNetwork.py:747: FutureWarning: Passing a set as an indexer is deprecated and will raise in a future version. Use a list instead.\n",
      "  return data.merge(data_with_results, how=\"left\").loc[:, missing_variables]\n"
     ]
    },
    {
     "data": {
      "application/vnd.jupyter.widget-view+json": {
       "model_id": "cfc4388ffaf64e58bcbafd563b20cee6",
       "version_major": 2,
       "version_minor": 0
      },
      "text/plain": [
       "  0%|          | 0/160 [00:00<?, ?it/s]"
      ]
     },
     "metadata": {},
     "output_type": "display_data"
    },
    {
     "name": "stdout",
     "output_type": "stream",
     "text": [
      "MET Accuracy score: 0.43700787401574803\n"
     ]
    },
    {
     "name": "stderr",
     "output_type": "stream",
     "text": [
      "c:\\Python310\\lib\\site-packages\\pgmpy\\models\\BayesianNetwork.py:747: FutureWarning: Passing a set as an indexer is deprecated and will raise in a future version. Use a list instead.\n",
      "  return data.merge(data_with_results, how=\"left\").loc[:, missing_variables]\n"
     ]
    },
    {
     "data": {
      "application/vnd.jupyter.widget-view+json": {
       "model_id": "2d047254d57a46c9ae2fb415135e84fb",
       "version_major": 2,
       "version_minor": 0
      },
      "text/plain": [
       "  0%|          | 0/153 [00:00<?, ?it/s]"
      ]
     },
     "metadata": {},
     "output_type": "display_data"
    },
    {
     "name": "stdout",
     "output_type": "stream",
     "text": [
      "MBW Accuracy score: 0.8326771653543307\n"
     ]
    },
    {
     "name": "stderr",
     "output_type": "stream",
     "text": [
      "c:\\Python310\\lib\\site-packages\\pgmpy\\models\\BayesianNetwork.py:747: FutureWarning: Passing a set as an indexer is deprecated and will raise in a future version. Use a list instead.\n",
      "  return data.merge(data_with_results, how=\"left\").loc[:, missing_variables]\n"
     ]
    },
    {
     "data": {
      "application/vnd.jupyter.widget-view+json": {
       "model_id": "7c3621bacc8143518ad6a45b6dae8ada",
       "version_major": 2,
       "version_minor": 0
      },
      "text/plain": [
       "  0%|          | 0/114 [00:00<?, ?it/s]"
      ]
     },
     "metadata": {},
     "output_type": "display_data"
    },
    {
     "name": "stdout",
     "output_type": "stream",
     "text": [
      "MTT Accuracy score: 0.4645669291338583\n"
     ]
    },
    {
     "name": "stderr",
     "output_type": "stream",
     "text": [
      "c:\\Python310\\lib\\site-packages\\pgmpy\\models\\BayesianNetwork.py:747: FutureWarning: Passing a set as an indexer is deprecated and will raise in a future version. Use a list instead.\n",
      "  return data.merge(data_with_results, how=\"left\").loc[:, missing_variables]\n"
     ]
    },
    {
     "data": {
      "application/vnd.jupyter.widget-view+json": {
       "model_id": "57ad8855285947d3abe4a73908746da7",
       "version_major": 2,
       "version_minor": 0
      },
      "text/plain": [
       "  0%|          | 0/151 [00:00<?, ?it/s]"
      ]
     },
     "metadata": {},
     "output_type": "display_data"
    },
    {
     "name": "stdout",
     "output_type": "stream",
     "text": [
      "RMIPS Accuracy score: 0.6614173228346457\n"
     ]
    },
    {
     "name": "stderr",
     "output_type": "stream",
     "text": [
      "c:\\Python310\\lib\\site-packages\\pgmpy\\models\\BayesianNetwork.py:747: FutureWarning: Passing a set as an indexer is deprecated and will raise in a future version. Use a list instead.\n",
      "  return data.merge(data_with_results, how=\"left\").loc[:, missing_variables]\n"
     ]
    },
    {
     "data": {
      "application/vnd.jupyter.widget-view+json": {
       "model_id": "2ce7121e376448dd8e879ce19b666761",
       "version_major": 2,
       "version_minor": 0
      },
      "text/plain": [
       "  0%|          | 0/169 [00:00<?, ?it/s]"
      ]
     },
     "metadata": {},
     "output_type": "display_data"
    },
    {
     "name": "stdout",
     "output_type": "stream",
     "text": [
      "RET Accuracy score: 0.8228346456692913\n"
     ]
    },
    {
     "name": "stderr",
     "output_type": "stream",
     "text": [
      "c:\\Python310\\lib\\site-packages\\pgmpy\\models\\BayesianNetwork.py:747: FutureWarning: Passing a set as an indexer is deprecated and will raise in a future version. Use a list instead.\n",
      "  return data.merge(data_with_results, how=\"left\").loc[:, missing_variables]\n"
     ]
    },
    {
     "data": {
      "application/vnd.jupyter.widget-view+json": {
       "model_id": "88af90b998ea4b07b609959dfd01093d",
       "version_major": 2,
       "version_minor": 0
      },
      "text/plain": [
       "  0%|          | 0/169 [00:00<?, ?it/s]"
      ]
     },
     "metadata": {},
     "output_type": "display_data"
    },
    {
     "name": "stdout",
     "output_type": "stream",
     "text": [
      "RBW Accuracy score: 0.7480314960629921\n"
     ]
    },
    {
     "name": "stderr",
     "output_type": "stream",
     "text": [
      "c:\\Python310\\lib\\site-packages\\pgmpy\\models\\BayesianNetwork.py:747: FutureWarning: Passing a set as an indexer is deprecated and will raise in a future version. Use a list instead.\n",
      "  return data.merge(data_with_results, how=\"left\").loc[:, missing_variables]\n"
     ]
    },
    {
     "data": {
      "application/vnd.jupyter.widget-view+json": {
       "model_id": "dd74041f5f5f47378e728ba12fd5e2f3",
       "version_major": 2,
       "version_minor": 0
      },
      "text/plain": [
       "  0%|          | 0/159 [00:00<?, ?it/s]"
      ]
     },
     "metadata": {},
     "output_type": "display_data"
    },
    {
     "name": "stdout",
     "output_type": "stream",
     "text": [
      "RTT Accuracy score: 0.6161417322834646\n"
     ]
    },
    {
     "name": "stderr",
     "output_type": "stream",
     "text": [
      "c:\\Python310\\lib\\site-packages\\pgmpy\\models\\BayesianNetwork.py:747: FutureWarning: Passing a set as an indexer is deprecated and will raise in a future version. Use a list instead.\n",
      "  return data.merge(data_with_results, how=\"left\").loc[:, missing_variables]\n"
     ]
    },
    {
     "data": {
      "application/vnd.jupyter.widget-view+json": {
       "model_id": "1da2f2a6042841198f9675fff3c5db18",
       "version_major": 2,
       "version_minor": 0
      },
      "text/plain": [
       "  0%|          | 0/169 [00:00<?, ?it/s]"
      ]
     },
     "metadata": {},
     "output_type": "display_data"
    },
    {
     "name": "stdout",
     "output_type": "stream",
     "text": [
      "BBW Accuracy score: 0.8976377952755905\n"
     ]
    },
    {
     "name": "stderr",
     "output_type": "stream",
     "text": [
      "c:\\Python310\\lib\\site-packages\\pgmpy\\models\\BayesianNetwork.py:747: FutureWarning: Passing a set as an indexer is deprecated and will raise in a future version. Use a list instead.\n",
      "  return data.merge(data_with_results, how=\"left\").loc[:, missing_variables]\n"
     ]
    },
    {
     "data": {
      "application/vnd.jupyter.widget-view+json": {
       "model_id": "7e796b8e1add4e7b95f09e9f2e0bc9b7",
       "version_major": 2,
       "version_minor": 0
      },
      "text/plain": [
       "  0%|          | 0/169 [00:00<?, ?it/s]"
      ]
     },
     "metadata": {},
     "output_type": "display_data"
    },
    {
     "name": "stdout",
     "output_type": "stream",
     "text": [
      "BTT Accuracy score: 0.797244094488189\n"
     ]
    },
    {
     "name": "stderr",
     "output_type": "stream",
     "text": [
      "c:\\Python310\\lib\\site-packages\\pgmpy\\models\\BayesianNetwork.py:747: FutureWarning: Passing a set as an indexer is deprecated and will raise in a future version. Use a list instead.\n",
      "  return data.merge(data_with_results, how=\"left\").loc[:, missing_variables]\n"
     ]
    },
    {
     "data": {
      "application/vnd.jupyter.widget-view+json": {
       "model_id": "7534c82acd164b6fb33a41f449e830df",
       "version_major": 2,
       "version_minor": 0
      },
      "text/plain": [
       "  0%|          | 0/151 [00:00<?, ?it/s]"
      ]
     },
     "metadata": {},
     "output_type": "display_data"
    },
    {
     "name": "stdout",
     "output_type": "stream",
     "text": [
      "TT Accuracy score: 0.7677165354330708\n"
     ]
    },
    {
     "name": "stderr",
     "output_type": "stream",
     "text": [
      "c:\\Python310\\lib\\site-packages\\pgmpy\\models\\BayesianNetwork.py:747: FutureWarning: Passing a set as an indexer is deprecated and will raise in a future version. Use a list instead.\n",
      "  return data.merge(data_with_results, how=\"left\").loc[:, missing_variables]\n"
     ]
    }
   ],
   "source": [
    "from pgmpy.metrics.metrics import correlation_score, log_likelihood_score, structure_score\n",
    "from sklearn.metrics import f1_score, accuracy_score, precision_score, recall_score\n",
    "\n",
    "accuracy_dict = {}\n",
    "\n",
    "for column in testing_data:\n",
    "    predict_data = testing_data.copy()\n",
    "    predict_data.drop(column, axis=1, inplace=True)\n",
    "    y_pred = model.predict(predict_data)\n",
    "\n",
    "    accuracy = accuracy_score(testing_data[column], y_pred)\n",
    "    \n",
    "    # if len(testing_data[column].unique()) == 2:\n",
    "    #     precision = precision_score(testing_data[column], y_pred, pos_label='High') #pos_label=testing_data[column].unique()\n",
    "    #     f1 = f1_score(testing_data[column], y_pred, pos_label='High')\n",
    "    #     recall = recall_score(testing_data[column], y_pred, pos_label='High')\n",
    "\n",
    "    # else:\n",
    "    #     precision = precision_score(testing_data[column], y_pred, average='micro') #pos_label=testing_data[column].unique()\n",
    "    #     f1 = f1_score(testing_data[column], y_pred, average='micro')\n",
    "    #     recall = recall_score(testing_data[column], y_pred, average='micro')\n",
    "\n",
    "    #print(f'{column} F1 score: {f1}')\n",
    "    print(f'{column} Accuracy score: {accuracy}')\n",
    "    #print(f'{column} Precision score: {precision}')\n",
    "    #print(f'{column} Recall score: {recall}')\n",
    "\n",
    "    accuracy_dict[column] = accuracy"
   ]
  },
  {
   "cell_type": "code",
   "execution_count": 17,
   "metadata": {},
   "outputs": [
    {
     "name": "stdout",
     "output_type": "stream",
     "text": [
      "F1 score: 0.0\n",
      "Accuracy score: 0.6282051282051282\n",
      "Precision score: 0.0\n",
      "Recall score: 0.0\n",
      "Log-likilihood score: -5130.474320131481\n",
      "Strcture score: -5313.968818819015\n"
     ]
    },
    {
     "name": "stderr",
     "output_type": "stream",
     "text": [
      "c:\\Python310\\lib\\site-packages\\sklearn\\metrics\\_classification.py:1318: UndefinedMetricWarning: Precision is ill-defined and being set to 0.0 due to no predicted samples. Use `zero_division` parameter to control this behavior.\n",
      "  _warn_prf(average, modifier, msg_start, len(result))\n"
     ]
    }
   ],
   "source": [
    "f1 = correlation_score(model=bayes_model, data=testing_data, test='chi_square', significance_level=0.05, score=f1_score, return_summary=False)\n",
    "acc = correlation_score(model=bayes_model, data=testing_data, test='chi_square', significance_level=0.05, score=accuracy_score, return_summary=False)\n",
    "pr = correlation_score(model=bayes_model, data=testing_data, test='chi_square', significance_level=0.05, score=precision_score, return_summary=False)\n",
    "recall = correlation_score(model=bayes_model, data=testing_data, test='chi_square', significance_level=0.05, score=recall_score, return_summary=False)\n",
    "ls = log_likelihood_score(model=bayes_model, data=testing_data)\n",
    "ss = structure_score(model=bayes_model, data=testing_data, scoring_method='bdeu')\n",
    "\n",
    "\n",
    "print(f'F1 score: {f1}')\n",
    "print(f'Accuracy score: {acc}')\n",
    "print(f'Precision score: {pr}')\n",
    "print(f'Recall score: {recall}')\n",
    "print(f'Log-likilihood score: {ls}')\n",
    "print(f'Strcture score: {ss}')"
   ]
  },
  {
   "cell_type": "code",
   "execution_count": 18,
   "metadata": {},
   "outputs": [],
   "source": [
    "def store_metrics(metrics_file_name, model_name, f1, accuracy, precision, recall, log_likelihood_score, structure_score, accuracy_dict):\n",
    "    try: \n",
    "        df = pd.read_csv('Model-metrics.csv', header=0, index_col=False)\n",
    "    except:\n",
    "        df_columns = ['Model', 'F1', 'Accuracy', 'Precision', 'Recall', 'Log likelihood score', 'Structure score']\n",
    "\n",
    "        df = pd.DataFrame(columns=df_columns)\n",
    "\n",
    "    else:\n",
    "        df = df[df.Model != model_name]\n",
    "        \n",
    "    conv_dict = {}\n",
    "    for k, v in accuracy_dict.items():\n",
    "        conv_dict[k] = v*100\n",
    "    \n",
    "    new_row = {'Model': model_name, 'F1': f1, 'Accuracy': accuracy, 'Precision': precision, 'Recall': recall, 'Log likelihood score': log_likelihood_score, 'Structure score': structure_score,\n",
    "    'HBW prediction accuracy': conv_dict['HBW'], 'HTT prediction accuracy': conv_dict['HTT'], 'MMIPS prediction accuracy': conv_dict['MMIPS'], 'MET prediction accuracy': conv_dict['MET'],\n",
    "    'MBW prediction accuracy': conv_dict['MBW'], 'MTT prediction accuracy': conv_dict['MTT'], 'RMIPS prediction accuracy': conv_dict['RMIPS'], 'RET prediction accuracy': conv_dict['RET'],\n",
    "    'RBW prediction accuracy': conv_dict['RBW'], 'RTT prediction accuracy': conv_dict['RTT'], 'BBW prediction accuracy': conv_dict['BBW'], 'BTT prediction accuracy': conv_dict['BTT'],\n",
    "    'TT prediction accuracy': conv_dict['TT']}\n",
    "\n",
    "    df = df.append(new_row, ignore_index=True)\n",
    "\n",
    "    # Write to file\n",
    "    df.to_csv(metrics_file_name, index=False)\n"
   ]
  },
  {
   "cell_type": "code",
   "execution_count": 19,
   "metadata": {},
   "outputs": [
    {
     "name": "stderr",
     "output_type": "stream",
     "text": [
      "C:\\Users\\KEIRMC~1\\AppData\\Local\\Temp/ipykernel_1924/2030668363.py:22: FutureWarning: The frame.append method is deprecated and will be removed from pandas in a future version. Use pandas.concat instead.\n",
      "  df = df.append(new_row, ignore_index=True)\n"
     ]
    }
   ],
   "source": [
    "model_name = 'Naive Bayes'\n",
    "metrics_file_name = 'Model-metrics.csv'\n",
    "\n",
    "store_metrics(metrics_file_name=metrics_file_name, model_name=model_name, f1=f1, accuracy=acc, precision=pr, recall=recall, log_likelihood_score=ls, structure_score=ss, accuracy_dict=accuracy_dict)"
   ]
  },
  {
   "cell_type": "code",
   "execution_count": 20,
   "metadata": {},
   "outputs": [
    {
     "name": "stdout",
     "output_type": "stream",
     "text": [
      "Check model: True\n",
      "\n",
      "CPT of TT:\n",
      "+-------+-----------+\n",
      "| TT(1) | 0.0929062 |\n",
      "+-------+-----------+\n",
      "| TT(2) | 0.392857  |\n",
      "+-------+-----------+\n",
      "| TT(3) | 0.350147  |\n",
      "+-------+-----------+\n",
      "| TT(4) | 0.164089  |\n",
      "+-------+-----------+ \n",
      "\n",
      "CPT of BTT:\n",
      "+--------+---------------------+-----+---------------------+\n",
      "| TT     | TT(1)               | ... | TT(4)               |\n",
      "+--------+---------------------+-----+---------------------+\n",
      "| BTT(1) | 0.5686922060766182  | ... | 0.07367240089753178 |\n",
      "+--------+---------------------+-----+---------------------+\n",
      "| BTT(4) | 0.43130779392338175 | ... | 0.9263275991024682  |\n",
      "+--------+---------------------+-----+---------------------+ \n",
      "\n",
      "CPT of RET:\n",
      "+--------+-----------------------+-----+----------------------+\n",
      "| TT     | TT(1)                 | ... | TT(4)                |\n",
      "+--------+-----------------------+-----+----------------------+\n",
      "| RET(1) | 0.9966974900924703    | ... | 0.016828721017202692 |\n",
      "+--------+-----------------------+-----+----------------------+\n",
      "| RET(4) | 0.0033025099075297227 | ... | 0.9831712789827973   |\n",
      "+--------+-----------------------+-----+----------------------+ \n",
      "\n",
      "CPT of MMIPS:\n",
      "+----------+-----------------------+-----+-----------------------+\n",
      "| TT       | TT(1)                 | ... | TT(4)                 |\n",
      "+----------+-----------------------+-----+-----------------------+\n",
      "| MMIPS(1) | 0.678005284015852     | ... | 0.0009349289454001496 |\n",
      "+----------+-----------------------+-----+-----------------------+\n",
      "| MMIPS(2) | 0.21301188903566712   | ... | 0.08171278982797307   |\n",
      "+----------+-----------------------+-----+-----------------------+\n",
      "| MMIPS(3) | 0.10733157199471599   | ... | 0.2342931937172775    |\n",
      "+----------+-----------------------+-----+-----------------------+\n",
      "| MMIPS(4) | 0.0016512549537648614 | ... | 0.6830590875093493    |\n",
      "+----------+-----------------------+-----+-----------------------+ \n",
      "\n",
      "CPT of HTT:\n",
      "+--------+--------------------+-----+---------------------+\n",
      "| TT     | TT(1)              | ... | TT(4)               |\n",
      "+--------+--------------------+-----+---------------------+\n",
      "| HTT(1) | 0.8381770145310435 | ... | 0.31899775617053105 |\n",
      "+--------+--------------------+-----+---------------------+\n",
      "| HTT(4) | 0.1618229854689564 | ... | 0.681002243829469   |\n",
      "+--------+--------------------+-----+---------------------+ \n",
      "\n",
      "CPT of MTT:\n",
      "+--------+---------------------+-----+---------------------+\n",
      "| TT     | TT(1)               | ... | TT(4)               |\n",
      "+--------+---------------------+-----+---------------------+\n",
      "| MTT(1) | 0.4772126816380449  | ... | 0.1206058339566193  |\n",
      "+--------+---------------------+-----+---------------------+\n",
      "| MTT(2) | 0.03863936591809775 | ... | 0.13556469708302168 |\n",
      "+--------+---------------------+-----+---------------------+\n",
      "| MTT(3) | 0.33982826948480843 | ... | 0.37191473448017953 |\n",
      "+--------+---------------------+-----+---------------------+\n",
      "| MTT(4) | 0.14431968295904887 | ... | 0.37191473448017953 |\n",
      "+--------+---------------------+-----+---------------------+ \n",
      "\n",
      "CPT of HBW:\n",
      "+--------+---------------------+-----+-------+---------------------+\n",
      "| TT     | TT(1)               | ... | TT(3) | TT(4)               |\n",
      "+--------+---------------------+-----+-------+---------------------+\n",
      "| HBW(1) | 0.17239101717305153 | ... | 0.5   | 0.681002243829469   |\n",
      "+--------+---------------------+-----+-------+---------------------+\n",
      "| HBW(4) | 0.8276089828269485  | ... | 0.5   | 0.31899775617053105 |\n",
      "+--------+---------------------+-----+-------+---------------------+ \n",
      "\n",
      "CPT of RMIPS:\n",
      "+----------+-----------------------+-----+----------------------+\n",
      "| TT       | TT(1)                 | ... | TT(4)                |\n",
      "+----------+-----------------------+-----+----------------------+\n",
      "| RMIPS(1) | 0.9950462351387054    | ... | 0.015893792071802543 |\n",
      "+----------+-----------------------+-----+----------------------+\n",
      "| RMIPS(2) | 0.0016512549537648614 | ... | 0.07273747195213164  |\n",
      "+----------+-----------------------+-----+----------------------+\n",
      "| RMIPS(3) | 0.0016512549537648614 | ... | 0.6561331338818249   |\n",
      "+----------+-----------------------+-----+----------------------+\n",
      "| RMIPS(4) | 0.0016512549537648614 | ... | 0.25523560209424084  |\n",
      "+----------+-----------------------+-----+----------------------+ \n",
      "\n",
      "CPT of MET:\n",
      "+--------+-----------------------+-----+-----------------------+\n",
      "| TT     | TT(1)                 | ... | TT(4)                 |\n",
      "+--------+-----------------------+-----+-----------------------+\n",
      "| MET(1) | 0.6515852047556143    | ... | 0.0009349289454001496 |\n",
      "+--------+-----------------------+-----+-----------------------+\n",
      "| MET(2) | 0.23943196829590488   | ... | 0.09966342557965595   |\n",
      "+--------+-----------------------+-----+-----------------------+\n",
      "| MET(3) | 0.10733157199471599   | ... | 0.18343305908750934   |\n",
      "+--------+-----------------------+-----+-----------------------+\n",
      "| MET(4) | 0.0016512549537648614 | ... | 0.7159685863874345    |\n",
      "+--------+-----------------------+-----+-----------------------+ \n",
      "\n",
      "CPT of RTT:\n",
      "+--------+-----------------------+-----+-----------------------+\n",
      "| TT     | TT(1)                 | ... | TT(4)                 |\n",
      "+--------+-----------------------+-----+-----------------------+\n",
      "| RTT(1) | 0.8846323205636284    | ... | 0.0012465719272001996 |\n",
      "+--------+-----------------------+-----+-----------------------+\n",
      "| RTT(3) | 0.11316600616468518   | ... | 0.20468711044627277   |\n",
      "+--------+-----------------------+-----+-----------------------+\n",
      "| RTT(4) | 0.0022016732716864823 | ... | 0.7940663176265271    |\n",
      "+--------+-----------------------+-----+-----------------------+ \n",
      "\n",
      "CPT of BBW:\n",
      "+--------+---------------------+-----+-----------------------+\n",
      "| TT     | TT(1)               | ... | TT(4)                 |\n",
      "+--------+---------------------+-----+-----------------------+\n",
      "| BBW(1) | 0.43130779392338175 | ... | 0.9981301421091997    |\n",
      "+--------+---------------------+-----+-----------------------+\n",
      "| BBW(4) | 0.5686922060766182  | ... | 0.0018698578908002991 |\n",
      "+--------+---------------------+-----+-----------------------+ \n",
      "\n",
      "CPT of RBW:\n",
      "+--------+---------------------+-----+-----------------------+\n",
      "| TT     | TT(1)               | ... | TT(4)                 |\n",
      "+--------+---------------------+-----+-----------------------+\n",
      "| RBW(1) | 0.11316600616468517 | ... | 0.9975068561455995    |\n",
      "+--------+---------------------+-----+-----------------------+\n",
      "| RBW(2) | 0.567591369440775   | ... | 0.0012465719272001994 |\n",
      "+--------+---------------------+-----+-----------------------+\n",
      "| RBW(4) | 0.3192426243945398  | ... | 0.0012465719272001994 |\n",
      "+--------+---------------------+-----+-----------------------+ \n",
      "\n",
      "CPT of MBW:\n",
      "+--------+---------------------+-----+----------------------+\n",
      "| TT     | TT(1)               | ... | TT(4)                |\n",
      "+--------+---------------------+-----+----------------------+\n",
      "| MBW(1) | 0.5670409511228534  | ... | 0.9553103964098728   |\n",
      "+--------+---------------------+-----+----------------------+\n",
      "| MBW(2) | 0.04392338177014531 | ... | 0.0218773373223635   |\n",
      "+--------+---------------------+-----+----------------------+\n",
      "| MBW(3) | 0.1760237780713342  | ... | 0.012902019446522065 |\n",
      "+--------+---------------------+-----+----------------------+\n",
      "| MBW(4) | 0.21301188903566712 | ... | 0.009910246821241586 |\n",
      "+--------+---------------------+-----+----------------------+ \n",
      "\n"
     ]
    }
   ],
   "source": [
    "print(f'Check model: {bayes_model.check_model()}\\n')\n",
    "for cpd in bayes_model.get_cpds():\n",
    "    print(f'CPT of {cpd.variable}:')\n",
    "    print(cpd, '\\n')"
   ]
  }
 ],
 "metadata": {
  "interpreter": {
   "hash": "369f2c481f4da34e4445cda3fffd2e751bd1c4d706f27375911949ba6bb62e1c"
  },
  "kernelspec": {
   "display_name": "Python 3.10.0 64-bit",
   "language": "python",
   "name": "python3"
  },
  "language_info": {
   "codemirror_mode": {
    "name": "ipython",
    "version": 3
   },
   "file_extension": ".py",
   "mimetype": "text/x-python",
   "name": "python",
   "nbconvert_exporter": "python",
   "pygments_lexer": "ipython3",
   "version": "3.10.0"
  },
  "orig_nbformat": 4
 },
 "nbformat": 4,
 "nbformat_minor": 2
}
