{
 "cells": [
  {
   "cell_type": "markdown",
   "metadata": {},
   "source": [
    "# Naive Bayes Network notebook"
   ]
  },
  {
   "cell_type": "markdown",
   "metadata": {},
   "source": [
    "#### Import dependencies"
   ]
  },
  {
   "cell_type": "code",
   "execution_count": 21,
   "metadata": {},
   "outputs": [],
   "source": [
    "# Import dependencies\n",
    "#%pip install pgmpy\n",
    "#%pip install tabulate\n",
    "#%pip install pandas\n",
    "#%pip install networkx\n",
    "#%pip install matplotlib"
   ]
  },
  {
   "cell_type": "markdown",
   "metadata": {},
   "source": [
    "#### Load libraries"
   ]
  },
  {
   "cell_type": "code",
   "execution_count": 22,
   "metadata": {},
   "outputs": [],
   "source": [
    "# Load libraries\n",
    "import pgmpy as pg\n",
    "import tabulate as tb\n",
    "import pandas as pd\n",
    "import numpy as np\n",
    "import networkx as nx\n",
    "import matplotlib.pyplot as plt"
   ]
  },
  {
   "cell_type": "markdown",
   "metadata": {},
   "source": [
    "## Data import and cleaning"
   ]
  },
  {
   "cell_type": "markdown",
   "metadata": {},
   "source": [
    "#### Import BigPerf data"
   ]
  },
  {
   "cell_type": "code",
   "execution_count": 23,
   "metadata": {},
   "outputs": [
    {
     "data": {
      "text/html": [
       "<div>\n",
       "<style scoped>\n",
       "    .dataframe tbody tr th:only-of-type {\n",
       "        vertical-align: middle;\n",
       "    }\n",
       "\n",
       "    .dataframe tbody tr th {\n",
       "        vertical-align: top;\n",
       "    }\n",
       "\n",
       "    .dataframe thead th {\n",
       "        text-align: right;\n",
       "    }\n",
       "</style>\n",
       "<table border=\"1\" class=\"dataframe\">\n",
       "  <thead>\n",
       "    <tr style=\"text-align: right;\">\n",
       "      <th></th>\n",
       "      <th>Block_ID</th>\n",
       "      <th>HDFS_BW</th>\n",
       "      <th>HDFSTranmissionTime</th>\n",
       "      <th>Mapper_ID</th>\n",
       "      <th>Mapper_VM_MIPS</th>\n",
       "      <th>MapExecutionTime</th>\n",
       "      <th>MapperBW</th>\n",
       "      <th>MapperTransmissionTime</th>\n",
       "      <th>Reducer_ID</th>\n",
       "      <th>Reducer_VM_MIPS</th>\n",
       "      <th>ReducerExecutionTime</th>\n",
       "      <th>ReducerBW</th>\n",
       "      <th>ReducerTransmissionTime</th>\n",
       "      <th>Block_ID.1</th>\n",
       "      <th>Block_BW</th>\n",
       "      <th>BlockTransmissionTime</th>\n",
       "      <th>TransactionTime</th>\n",
       "    </tr>\n",
       "  </thead>\n",
       "  <tbody>\n",
       "    <tr>\n",
       "      <th>0</th>\n",
       "      <td>HDFS_Block_208</td>\n",
       "      <td>11.81</td>\n",
       "      <td>80.63</td>\n",
       "      <td>mapper207</td>\n",
       "      <td>652289</td>\n",
       "      <td>765.49</td>\n",
       "      <td>30.00</td>\n",
       "      <td>2.53</td>\n",
       "      <td>reducer0</td>\n",
       "      <td>341739</td>\n",
       "      <td>480</td>\n",
       "      <td>3.80</td>\n",
       "      <td>250.14</td>\n",
       "      <td>reducer0_Block_1</td>\n",
       "      <td>0.0</td>\n",
       "      <td>0.00</td>\n",
       "      <td>1578.79</td>\n",
       "    </tr>\n",
       "    <tr>\n",
       "      <th>1</th>\n",
       "      <td>HDFS_Block_208</td>\n",
       "      <td>11.81</td>\n",
       "      <td>80.63</td>\n",
       "      <td>mapper207</td>\n",
       "      <td>652289</td>\n",
       "      <td>765.49</td>\n",
       "      <td>30.00</td>\n",
       "      <td>2.53</td>\n",
       "      <td>reducer1</td>\n",
       "      <td>150000</td>\n",
       "      <td>120</td>\n",
       "      <td>50.00</td>\n",
       "      <td>18.99</td>\n",
       "      <td>reducer1_Block_1</td>\n",
       "      <td>50.0</td>\n",
       "      <td>20.00</td>\n",
       "      <td>1007.64</td>\n",
       "    </tr>\n",
       "    <tr>\n",
       "      <th>2</th>\n",
       "      <td>HDFS_Block_208</td>\n",
       "      <td>11.81</td>\n",
       "      <td>80.63</td>\n",
       "      <td>mapper207</td>\n",
       "      <td>652289</td>\n",
       "      <td>765.49</td>\n",
       "      <td>16.76</td>\n",
       "      <td>3.25</td>\n",
       "      <td>reducer2</td>\n",
       "      <td>382530</td>\n",
       "      <td>480</td>\n",
       "      <td>4.48</td>\n",
       "      <td>212.22</td>\n",
       "      <td>reducer2_Block_1</td>\n",
       "      <td>3.7</td>\n",
       "      <td>270.02</td>\n",
       "      <td>1811.61</td>\n",
       "    </tr>\n",
       "    <tr>\n",
       "      <th>3</th>\n",
       "      <td>HDFS_Block_208</td>\n",
       "      <td>11.81</td>\n",
       "      <td>80.63</td>\n",
       "      <td>mapper207</td>\n",
       "      <td>652289</td>\n",
       "      <td>765.49</td>\n",
       "      <td>16.76</td>\n",
       "      <td>3.25</td>\n",
       "      <td>reducer3</td>\n",
       "      <td>150000</td>\n",
       "      <td>120</td>\n",
       "      <td>5.88</td>\n",
       "      <td>161.57</td>\n",
       "      <td>reducer3_Block_1</td>\n",
       "      <td>3.7</td>\n",
       "      <td>270.02</td>\n",
       "      <td>1400.96</td>\n",
       "    </tr>\n",
       "    <tr>\n",
       "      <th>4</th>\n",
       "      <td>HDFS_Block_208</td>\n",
       "      <td>11.81</td>\n",
       "      <td>80.63</td>\n",
       "      <td>mapper207</td>\n",
       "      <td>652289</td>\n",
       "      <td>765.49</td>\n",
       "      <td>18.41</td>\n",
       "      <td>4.16</td>\n",
       "      <td>reducer4</td>\n",
       "      <td>457419</td>\n",
       "      <td>480</td>\n",
       "      <td>5.88</td>\n",
       "      <td>161.53</td>\n",
       "      <td>reducer4_Block_1</td>\n",
       "      <td>3.7</td>\n",
       "      <td>270.02</td>\n",
       "      <td>1761.83</td>\n",
       "    </tr>\n",
       "  </tbody>\n",
       "</table>\n",
       "</div>"
      ],
      "text/plain": [
       "         Block_ID  HDFS_BW  HDFSTranmissionTime  Mapper_ID  Mapper_VM_MIPS  \\\n",
       "0  HDFS_Block_208    11.81                80.63  mapper207          652289   \n",
       "1  HDFS_Block_208    11.81                80.63  mapper207          652289   \n",
       "2  HDFS_Block_208    11.81                80.63  mapper207          652289   \n",
       "3  HDFS_Block_208    11.81                80.63  mapper207          652289   \n",
       "4  HDFS_Block_208    11.81                80.63  mapper207          652289   \n",
       "\n",
       "   MapExecutionTime   MapperBW  MapperTransmissionTime Reducer_ID  \\\n",
       "0             765.49     30.00                    2.53   reducer0   \n",
       "1             765.49     30.00                    2.53   reducer1   \n",
       "2             765.49     16.76                    3.25   reducer2   \n",
       "3             765.49     16.76                    3.25   reducer3   \n",
       "4             765.49     18.41                    4.16   reducer4   \n",
       "\n",
       "   Reducer_VM_MIPS  ReducerExecutionTime   ReducerBW  ReducerTransmissionTime  \\\n",
       "0           341739                    480       3.80                   250.14   \n",
       "1           150000                    120      50.00                    18.99   \n",
       "2           382530                    480       4.48                   212.22   \n",
       "3           150000                    120       5.88                   161.57   \n",
       "4           457419                    480       5.88                   161.53   \n",
       "\n",
       "         Block_ID.1  Block_BW  BlockTransmissionTime  TransactionTime  \n",
       "0  reducer0_Block_1       0.0                   0.00          1578.79  \n",
       "1  reducer1_Block_1      50.0                  20.00          1007.64  \n",
       "2  reducer2_Block_1       3.7                 270.02          1811.61  \n",
       "3  reducer3_Block_1       3.7                 270.02          1400.96  \n",
       "4  reducer4_Block_1       3.7                 270.02          1761.83  "
      ]
     },
     "execution_count": 23,
     "metadata": {},
     "output_type": "execute_result"
    }
   ],
   "source": [
    "# Import data\n",
    "df = pd.read_csv(\"C:\\\\Users\\\\Keir McGlinn-Shaw\\\\Documents\\\\Stage-3\\\\Dissertation\\\\Data\\\\Use\\\\BigPerfMetrics.csv\")\n",
    "\n",
    "df.head()"
   ]
  },
  {
   "cell_type": "markdown",
   "metadata": {},
   "source": [
    "#### Clean data of unwanted variables and missing values"
   ]
  },
  {
   "cell_type": "code",
   "execution_count": 24,
   "metadata": {},
   "outputs": [
    {
     "data": {
      "text/html": [
       "<div>\n",
       "<style scoped>\n",
       "    .dataframe tbody tr th:only-of-type {\n",
       "        vertical-align: middle;\n",
       "    }\n",
       "\n",
       "    .dataframe tbody tr th {\n",
       "        vertical-align: top;\n",
       "    }\n",
       "\n",
       "    .dataframe thead th {\n",
       "        text-align: right;\n",
       "    }\n",
       "</style>\n",
       "<table border=\"1\" class=\"dataframe\">\n",
       "  <thead>\n",
       "    <tr style=\"text-align: right;\">\n",
       "      <th></th>\n",
       "      <th>HDFS_BW</th>\n",
       "      <th>HDFSTranmissionTime</th>\n",
       "      <th>Mapper_VM_MIPS</th>\n",
       "      <th>MapExecutionTime</th>\n",
       "      <th>MapperBW</th>\n",
       "      <th>MapperTransmissionTime</th>\n",
       "      <th>Reducer_VM_MIPS</th>\n",
       "      <th>ReducerExecutionTime</th>\n",
       "      <th>ReducerBW</th>\n",
       "      <th>ReducerTransmissionTime</th>\n",
       "      <th>Block_BW</th>\n",
       "      <th>BlockTransmissionTime</th>\n",
       "      <th>TransactionTime</th>\n",
       "    </tr>\n",
       "  </thead>\n",
       "  <tbody>\n",
       "    <tr>\n",
       "      <th>0</th>\n",
       "      <td>11.81</td>\n",
       "      <td>80.63</td>\n",
       "      <td>652289</td>\n",
       "      <td>765.49</td>\n",
       "      <td>30.00</td>\n",
       "      <td>2.53</td>\n",
       "      <td>341739</td>\n",
       "      <td>480</td>\n",
       "      <td>3.80</td>\n",
       "      <td>250.14</td>\n",
       "      <td>0.0</td>\n",
       "      <td>0.00</td>\n",
       "      <td>1578.79</td>\n",
       "    </tr>\n",
       "    <tr>\n",
       "      <th>1</th>\n",
       "      <td>11.81</td>\n",
       "      <td>80.63</td>\n",
       "      <td>652289</td>\n",
       "      <td>765.49</td>\n",
       "      <td>30.00</td>\n",
       "      <td>2.53</td>\n",
       "      <td>150000</td>\n",
       "      <td>120</td>\n",
       "      <td>50.00</td>\n",
       "      <td>18.99</td>\n",
       "      <td>50.0</td>\n",
       "      <td>20.00</td>\n",
       "      <td>1007.64</td>\n",
       "    </tr>\n",
       "    <tr>\n",
       "      <th>2</th>\n",
       "      <td>11.81</td>\n",
       "      <td>80.63</td>\n",
       "      <td>652289</td>\n",
       "      <td>765.49</td>\n",
       "      <td>16.76</td>\n",
       "      <td>3.25</td>\n",
       "      <td>382530</td>\n",
       "      <td>480</td>\n",
       "      <td>4.48</td>\n",
       "      <td>212.22</td>\n",
       "      <td>3.7</td>\n",
       "      <td>270.02</td>\n",
       "      <td>1811.61</td>\n",
       "    </tr>\n",
       "    <tr>\n",
       "      <th>3</th>\n",
       "      <td>11.81</td>\n",
       "      <td>80.63</td>\n",
       "      <td>652289</td>\n",
       "      <td>765.49</td>\n",
       "      <td>16.76</td>\n",
       "      <td>3.25</td>\n",
       "      <td>150000</td>\n",
       "      <td>120</td>\n",
       "      <td>5.88</td>\n",
       "      <td>161.57</td>\n",
       "      <td>3.7</td>\n",
       "      <td>270.02</td>\n",
       "      <td>1400.96</td>\n",
       "    </tr>\n",
       "    <tr>\n",
       "      <th>4</th>\n",
       "      <td>11.81</td>\n",
       "      <td>80.63</td>\n",
       "      <td>652289</td>\n",
       "      <td>765.49</td>\n",
       "      <td>18.41</td>\n",
       "      <td>4.16</td>\n",
       "      <td>457419</td>\n",
       "      <td>480</td>\n",
       "      <td>5.88</td>\n",
       "      <td>161.53</td>\n",
       "      <td>3.7</td>\n",
       "      <td>270.02</td>\n",
       "      <td>1761.83</td>\n",
       "    </tr>\n",
       "  </tbody>\n",
       "</table>\n",
       "</div>"
      ],
      "text/plain": [
       "   HDFS_BW  HDFSTranmissionTime  Mapper_VM_MIPS  MapExecutionTime   MapperBW  \\\n",
       "0    11.81                80.63          652289             765.49     30.00   \n",
       "1    11.81                80.63          652289             765.49     30.00   \n",
       "2    11.81                80.63          652289             765.49     16.76   \n",
       "3    11.81                80.63          652289             765.49     16.76   \n",
       "4    11.81                80.63          652289             765.49     18.41   \n",
       "\n",
       "   MapperTransmissionTime  Reducer_VM_MIPS  ReducerExecutionTime   ReducerBW  \\\n",
       "0                    2.53           341739                    480       3.80   \n",
       "1                    2.53           150000                    120      50.00   \n",
       "2                    3.25           382530                    480       4.48   \n",
       "3                    3.25           150000                    120       5.88   \n",
       "4                    4.16           457419                    480       5.88   \n",
       "\n",
       "   ReducerTransmissionTime  Block_BW  BlockTransmissionTime  TransactionTime  \n",
       "0                   250.14       0.0                   0.00          1578.79  \n",
       "1                    18.99      50.0                  20.00          1007.64  \n",
       "2                   212.22       3.7                 270.02          1811.61  \n",
       "3                   161.57       3.7                 270.02          1400.96  \n",
       "4                   161.53       3.7                 270.02          1761.83  "
      ]
     },
     "execution_count": 24,
     "metadata": {},
     "output_type": "execute_result"
    }
   ],
   "source": [
    "# Clean data\n",
    "df.dropna()\n",
    "\n",
    "df.drop(labels=['Block_ID', 'Mapper_ID', 'Reducer_ID', 'Block_ID.1'], axis=1, inplace=True)\n",
    "\n",
    "df.head()"
   ]
  },
  {
   "cell_type": "markdown",
   "metadata": {},
   "source": [
    "#### Rename columns to better fit in drawn charts and for ease of use"
   ]
  },
  {
   "cell_type": "code",
   "execution_count": 25,
   "metadata": {},
   "outputs": [
    {
     "data": {
      "text/html": [
       "<div>\n",
       "<style scoped>\n",
       "    .dataframe tbody tr th:only-of-type {\n",
       "        vertical-align: middle;\n",
       "    }\n",
       "\n",
       "    .dataframe tbody tr th {\n",
       "        vertical-align: top;\n",
       "    }\n",
       "\n",
       "    .dataframe thead th {\n",
       "        text-align: right;\n",
       "    }\n",
       "</style>\n",
       "<table border=\"1\" class=\"dataframe\">\n",
       "  <thead>\n",
       "    <tr style=\"text-align: right;\">\n",
       "      <th></th>\n",
       "      <th>HBW</th>\n",
       "      <th>HTT</th>\n",
       "      <th>MMIPS</th>\n",
       "      <th>MET</th>\n",
       "      <th>MBW</th>\n",
       "      <th>MTT</th>\n",
       "      <th>RMIPS</th>\n",
       "      <th>RET</th>\n",
       "      <th>RBW</th>\n",
       "      <th>RTT</th>\n",
       "      <th>BBW</th>\n",
       "      <th>BTT</th>\n",
       "      <th>TT</th>\n",
       "    </tr>\n",
       "  </thead>\n",
       "  <tbody>\n",
       "    <tr>\n",
       "      <th>0</th>\n",
       "      <td>11.81</td>\n",
       "      <td>80.63</td>\n",
       "      <td>652289</td>\n",
       "      <td>765.49</td>\n",
       "      <td>30.00</td>\n",
       "      <td>2.53</td>\n",
       "      <td>341739</td>\n",
       "      <td>480</td>\n",
       "      <td>3.80</td>\n",
       "      <td>250.14</td>\n",
       "      <td>0.0</td>\n",
       "      <td>0.00</td>\n",
       "      <td>1578.79</td>\n",
       "    </tr>\n",
       "    <tr>\n",
       "      <th>1</th>\n",
       "      <td>11.81</td>\n",
       "      <td>80.63</td>\n",
       "      <td>652289</td>\n",
       "      <td>765.49</td>\n",
       "      <td>30.00</td>\n",
       "      <td>2.53</td>\n",
       "      <td>150000</td>\n",
       "      <td>120</td>\n",
       "      <td>50.00</td>\n",
       "      <td>18.99</td>\n",
       "      <td>50.0</td>\n",
       "      <td>20.00</td>\n",
       "      <td>1007.64</td>\n",
       "    </tr>\n",
       "    <tr>\n",
       "      <th>2</th>\n",
       "      <td>11.81</td>\n",
       "      <td>80.63</td>\n",
       "      <td>652289</td>\n",
       "      <td>765.49</td>\n",
       "      <td>16.76</td>\n",
       "      <td>3.25</td>\n",
       "      <td>382530</td>\n",
       "      <td>480</td>\n",
       "      <td>4.48</td>\n",
       "      <td>212.22</td>\n",
       "      <td>3.7</td>\n",
       "      <td>270.02</td>\n",
       "      <td>1811.61</td>\n",
       "    </tr>\n",
       "    <tr>\n",
       "      <th>3</th>\n",
       "      <td>11.81</td>\n",
       "      <td>80.63</td>\n",
       "      <td>652289</td>\n",
       "      <td>765.49</td>\n",
       "      <td>16.76</td>\n",
       "      <td>3.25</td>\n",
       "      <td>150000</td>\n",
       "      <td>120</td>\n",
       "      <td>5.88</td>\n",
       "      <td>161.57</td>\n",
       "      <td>3.7</td>\n",
       "      <td>270.02</td>\n",
       "      <td>1400.96</td>\n",
       "    </tr>\n",
       "    <tr>\n",
       "      <th>4</th>\n",
       "      <td>11.81</td>\n",
       "      <td>80.63</td>\n",
       "      <td>652289</td>\n",
       "      <td>765.49</td>\n",
       "      <td>18.41</td>\n",
       "      <td>4.16</td>\n",
       "      <td>457419</td>\n",
       "      <td>480</td>\n",
       "      <td>5.88</td>\n",
       "      <td>161.53</td>\n",
       "      <td>3.7</td>\n",
       "      <td>270.02</td>\n",
       "      <td>1761.83</td>\n",
       "    </tr>\n",
       "    <tr>\n",
       "      <th>5</th>\n",
       "      <td>11.81</td>\n",
       "      <td>80.63</td>\n",
       "      <td>652289</td>\n",
       "      <td>765.49</td>\n",
       "      <td>18.41</td>\n",
       "      <td>4.16</td>\n",
       "      <td>150000</td>\n",
       "      <td>120</td>\n",
       "      <td>6.98</td>\n",
       "      <td>136.24</td>\n",
       "      <td>3.7</td>\n",
       "      <td>270.02</td>\n",
       "      <td>1376.54</td>\n",
       "    </tr>\n",
       "    <tr>\n",
       "      <th>6</th>\n",
       "      <td>11.81</td>\n",
       "      <td>80.63</td>\n",
       "      <td>652289</td>\n",
       "      <td>765.49</td>\n",
       "      <td>18.41</td>\n",
       "      <td>4.16</td>\n",
       "      <td>563904</td>\n",
       "      <td>480</td>\n",
       "      <td>3.80</td>\n",
       "      <td>250.14</td>\n",
       "      <td>3.7</td>\n",
       "      <td>270.02</td>\n",
       "      <td>1850.44</td>\n",
       "    </tr>\n",
       "    <tr>\n",
       "      <th>7</th>\n",
       "      <td>11.81</td>\n",
       "      <td>80.63</td>\n",
       "      <td>652289</td>\n",
       "      <td>765.49</td>\n",
       "      <td>18.41</td>\n",
       "      <td>4.16</td>\n",
       "      <td>150000</td>\n",
       "      <td>120</td>\n",
       "      <td>150.00</td>\n",
       "      <td>6.33</td>\n",
       "      <td>3.7</td>\n",
       "      <td>270.02</td>\n",
       "      <td>1246.63</td>\n",
       "    </tr>\n",
       "    <tr>\n",
       "      <th>8</th>\n",
       "      <td>11.81</td>\n",
       "      <td>80.63</td>\n",
       "      <td>652289</td>\n",
       "      <td>765.49</td>\n",
       "      <td>18.41</td>\n",
       "      <td>4.16</td>\n",
       "      <td>430890</td>\n",
       "      <td>480</td>\n",
       "      <td>3.80</td>\n",
       "      <td>250.14</td>\n",
       "      <td>3.7</td>\n",
       "      <td>270.02</td>\n",
       "      <td>1850.44</td>\n",
       "    </tr>\n",
       "    <tr>\n",
       "      <th>9</th>\n",
       "      <td>11.81</td>\n",
       "      <td>80.63</td>\n",
       "      <td>652289</td>\n",
       "      <td>765.49</td>\n",
       "      <td>18.41</td>\n",
       "      <td>4.16</td>\n",
       "      <td>150000</td>\n",
       "      <td>120</td>\n",
       "      <td>150.00</td>\n",
       "      <td>6.33</td>\n",
       "      <td>3.7</td>\n",
       "      <td>270.02</td>\n",
       "      <td>1246.63</td>\n",
       "    </tr>\n",
       "  </tbody>\n",
       "</table>\n",
       "</div>"
      ],
      "text/plain": [
       "     HBW    HTT   MMIPS     MET    MBW   MTT   RMIPS  RET     RBW     RTT  \\\n",
       "0  11.81  80.63  652289  765.49  30.00  2.53  341739  480    3.80  250.14   \n",
       "1  11.81  80.63  652289  765.49  30.00  2.53  150000  120   50.00   18.99   \n",
       "2  11.81  80.63  652289  765.49  16.76  3.25  382530  480    4.48  212.22   \n",
       "3  11.81  80.63  652289  765.49  16.76  3.25  150000  120    5.88  161.57   \n",
       "4  11.81  80.63  652289  765.49  18.41  4.16  457419  480    5.88  161.53   \n",
       "5  11.81  80.63  652289  765.49  18.41  4.16  150000  120    6.98  136.24   \n",
       "6  11.81  80.63  652289  765.49  18.41  4.16  563904  480    3.80  250.14   \n",
       "7  11.81  80.63  652289  765.49  18.41  4.16  150000  120  150.00    6.33   \n",
       "8  11.81  80.63  652289  765.49  18.41  4.16  430890  480    3.80  250.14   \n",
       "9  11.81  80.63  652289  765.49  18.41  4.16  150000  120  150.00    6.33   \n",
       "\n",
       "    BBW     BTT       TT  \n",
       "0   0.0    0.00  1578.79  \n",
       "1  50.0   20.00  1007.64  \n",
       "2   3.7  270.02  1811.61  \n",
       "3   3.7  270.02  1400.96  \n",
       "4   3.7  270.02  1761.83  \n",
       "5   3.7  270.02  1376.54  \n",
       "6   3.7  270.02  1850.44  \n",
       "7   3.7  270.02  1246.63  \n",
       "8   3.7  270.02  1850.44  \n",
       "9   3.7  270.02  1246.63  "
      ]
     },
     "execution_count": 25,
     "metadata": {},
     "output_type": "execute_result"
    }
   ],
   "source": [
    "# Rename column headers to abbreviations\n",
    "\n",
    "nodes = ['HBW', 'HTT', 'MMIPS', 'MET', 'MBW', 'MTT', 'RMIPS', 'RET', 'RBW', 'RTT', 'BBW', 'BTT', 'TT']\n",
    "\n",
    "df.columns = nodes\n",
    "\n",
    "df.head(10)"
   ]
  },
  {
   "cell_type": "markdown",
   "metadata": {},
   "source": [
    "#### Define funtion to discretise data into three catagories"
   ]
  },
  {
   "cell_type": "code",
   "execution_count": 26,
   "metadata": {},
   "outputs": [],
   "source": [
    "# '''\n",
    "# Splits data into three bins of equal size using: https://pandas.pydata.org/docs/reference/api/pandas.cut.html\n",
    "# '''\n",
    "# def split_tertiles(df):\n",
    "#     tertile_labels = ['0.Low', '1.Medium', '2.High']\n",
    "\n",
    "#     tert_df = pd.DataFrame()\n",
    "\n",
    "#     for column_name in df:\n",
    "#         tert_df[column_name], bins = pd.cut(df[column_name], 3, labels=tertile_labels, ordered=True, retbins=True)\n",
    "\n",
    "#         # print(column_name)\n",
    "#         # print(bins[0])\n",
    "#         # print(bins[1])\n",
    "#         # print(bins[2])\n",
    "#         # print(bins[3])\n",
    "\n",
    "#         tert_df[column_name] = tert_df[column_name].cat.rename_categories([ f'Low ({str(round(bins[0]))} to {str(round(bins[1]))}]',\n",
    "#                                                                             f'Medium ({str(round(bins[1]))} to {str(round(bins[2]))}]',\n",
    "#                                                                             f'High ({str(round(bins[2]))} to {str(round(bins[3]))}]'])\n",
    "\n",
    "#     # Change type of values stored in dataframe to avoid errors arrising from using the Category type when the dataframe is fed into the pgmpy.metrics.metrics correlation_score function\n",
    "#     tert_df = tert_df.astype('object')\n",
    "\n",
    "#     return tert_df\n",
    "\n",
    "'''\n",
    "Splits data into three bins of equal size using: https://pandas.pydata.org/docs/reference/api/pandas.cut.html\n",
    "'''\n",
    "def split_tertiles(df):\n",
    "    tertile_labels = ['Very Low', 'Low', 'High', 'Very-high']\n",
    "\n",
    "    tert_df = pd.DataFrame()\n",
    "\n",
    "    for column_name in df:\n",
    "        tert_df[column_name] = pd.cut(df[column_name], 4, labels=tertile_labels, ordered=True)\n",
    "\n",
    "    # Change type of values stored in dataframe to avoid errors arrising from using the Category type when the dataframe is fed into the pgmpy.metrics.metrics correlation_score function\n",
    "    tert_df = tert_df.astype('object')\n",
    "\n",
    "    return tert_df"
   ]
  },
  {
   "cell_type": "code",
   "execution_count": 27,
   "metadata": {},
   "outputs": [],
   "source": [
    "def discretise(df):\n",
    "    discrete_df = pd.DataFrame()\n",
    "\n",
    "    discrete_df['HBW'] = pd.cut(df['HBW'], 2, labels=['1. less than 6 Mbps', '2. greater than 6 Mbps'], ordered=True, retbins=False)\n",
    "    discrete_df['HTT'] = pd.cut(df['HTT'], 2, labels=['1. less than 178 Milliseconds', '2. greater than 178 Milliseconds'], ordered=True, retbins=False)\n",
    "    discrete_df['MMIPS'] = pd.cut(df['MMIPS'], 3, labels=['1. less than 750000 MIPS', '2. 750000 to 850000 MIPS', '3. greater than 850000 MIPS'], ordered=True, retbins=False)\n",
    "    discrete_df['MET'] = pd.cut(df['MET'], 3, labels=['1. less than 1000 Milliseconds', '2. 1000 to 1250 Milliseconds', '3. greater than 1250 Milliseconds'], ordered=True, retbins=False)\n",
    "    discrete_df['MBW'] = pd.cut(df['MBW'], 3, labels=['1. less than 11 Mbps', '2. 11 to 20 Mbps', '3. greater than 20 Mbps'], ordered=True, retbins=False)\n",
    "    discrete_df['MTT'] = pd.cut(df['MTT'], 3, labels=['1. less than 18 Milliseconds', '2. 18 to 35 Milliseconds', '3. greater than 35 Milliseconds'], ordered=True, retbins=False)\n",
    "    discrete_df['RMIPS'] = pd.cut(df['RMIPS'], 3, labels=['1. less than 285000 MIPS', '2. 285000 to 425000 MIPS', '3. greater than 425000 MIPS'], ordered=True, retbins=False)\n",
    "    discrete_df['RET'] = pd.cut(df['RET'], 2, labels=['1. less than 240 Milliseconds', '2. greater than 240 Milliseconds'], ordered=True, retbins=False)\n",
    "    discrete_df['RBW'] = pd.cut(df['RBW'], 2, labels=['1. less than 75 Mbps', '2. greater than 75 Mbps'], ordered=True, retbins=False)\n",
    "    discrete_df['RTT' ] = pd.cut(df['RTT'], 3, labels=['1. less than 90 Milliseconds', '2. 90 to 170 Milliseconds', '3. greater than 170 Milliseconds'], ordered=True, retbins=False)\n",
    "    discrete_df['BBW'] = pd.cut(df['BBW'], 2, labels=['1. less than 25 Mbps', '2. greater than 25 Mbps'], ordered=True, retbins=False)\n",
    "    discrete_df['BTT'] = pd.cut(df['BTT'], 2, labels=['1. less than 135 Milliseconds', '2. greater than 135 Milliseconds'], ordered=True, retbins=False)\n",
    "    discrete_df['TT'] = pd.cut(df['TT'], 3, labels=['1. less than 1625 Milliseconds', '2. 1625 to 2245 Milliseconds', '3. greater than 2245 Millilseconds'], ordered=True, retbins=False)\n",
    "\n",
    "\n",
    "    \n",
    "\n",
    "    discrete_df = discrete_df.astype('object')\n",
    "\n",
    "    return discrete_df"
   ]
  },
  {
   "cell_type": "markdown",
   "metadata": {},
   "source": [
    "#### Descritise data into catagories"
   ]
  },
  {
   "cell_type": "code",
   "execution_count": 28,
   "metadata": {},
   "outputs": [],
   "source": [
    "# Discretise BigPerf dataset\n",
    "cat_df = split_tertiles(df)\n",
    "\n",
    "cat_df.head(50)\n",
    "\n",
    "cat_df.to_csv('discretised_bigperf.csv')"
   ]
  },
  {
   "cell_type": "code",
   "execution_count": 29,
   "metadata": {},
   "outputs": [
    {
     "data": {
      "text/html": [
       "<div>\n",
       "<style scoped>\n",
       "    .dataframe tbody tr th:only-of-type {\n",
       "        vertical-align: middle;\n",
       "    }\n",
       "\n",
       "    .dataframe tbody tr th {\n",
       "        vertical-align: top;\n",
       "    }\n",
       "\n",
       "    .dataframe thead th {\n",
       "        text-align: right;\n",
       "    }\n",
       "</style>\n",
       "<table border=\"1\" class=\"dataframe\">\n",
       "  <thead>\n",
       "    <tr style=\"text-align: right;\">\n",
       "      <th></th>\n",
       "      <th>HBW</th>\n",
       "      <th>HTT</th>\n",
       "      <th>MMIPS</th>\n",
       "      <th>MET</th>\n",
       "      <th>MBW</th>\n",
       "      <th>MTT</th>\n",
       "      <th>RMIPS</th>\n",
       "      <th>RET</th>\n",
       "      <th>RBW</th>\n",
       "      <th>RTT</th>\n",
       "      <th>BBW</th>\n",
       "      <th>BTT</th>\n",
       "      <th>TT</th>\n",
       "    </tr>\n",
       "  </thead>\n",
       "  <tbody>\n",
       "    <tr>\n",
       "      <th>0</th>\n",
       "      <td>2. greater than 6 Mbps</td>\n",
       "      <td>1. less than 178 Milliseconds</td>\n",
       "      <td>1. less than 750000 MIPS</td>\n",
       "      <td>1. less than 1000 Milliseconds</td>\n",
       "      <td>3. greater than 20 Mbps</td>\n",
       "      <td>1. less than 18 Milliseconds</td>\n",
       "      <td>2. 285000 to 425000 MIPS</td>\n",
       "      <td>2. greater than 240 Milliseconds</td>\n",
       "      <td>1. less than 75 Mbps</td>\n",
       "      <td>3. greater than 170 Milliseconds</td>\n",
       "      <td>1. less than 25 Mbps</td>\n",
       "      <td>1. less than 135 Milliseconds</td>\n",
       "      <td>1. less than 1625 Milliseconds</td>\n",
       "    </tr>\n",
       "    <tr>\n",
       "      <th>1</th>\n",
       "      <td>2. greater than 6 Mbps</td>\n",
       "      <td>1. less than 178 Milliseconds</td>\n",
       "      <td>1. less than 750000 MIPS</td>\n",
       "      <td>1. less than 1000 Milliseconds</td>\n",
       "      <td>3. greater than 20 Mbps</td>\n",
       "      <td>1. less than 18 Milliseconds</td>\n",
       "      <td>1. less than 285000 MIPS</td>\n",
       "      <td>1. less than 240 Milliseconds</td>\n",
       "      <td>1. less than 75 Mbps</td>\n",
       "      <td>1. less than 90 Milliseconds</td>\n",
       "      <td>2. greater than 25 Mbps</td>\n",
       "      <td>1. less than 135 Milliseconds</td>\n",
       "      <td>1. less than 1625 Milliseconds</td>\n",
       "    </tr>\n",
       "    <tr>\n",
       "      <th>2</th>\n",
       "      <td>2. greater than 6 Mbps</td>\n",
       "      <td>1. less than 178 Milliseconds</td>\n",
       "      <td>1. less than 750000 MIPS</td>\n",
       "      <td>1. less than 1000 Milliseconds</td>\n",
       "      <td>2. 11 to 20 Mbps</td>\n",
       "      <td>1. less than 18 Milliseconds</td>\n",
       "      <td>2. 285000 to 425000 MIPS</td>\n",
       "      <td>2. greater than 240 Milliseconds</td>\n",
       "      <td>1. less than 75 Mbps</td>\n",
       "      <td>3. greater than 170 Milliseconds</td>\n",
       "      <td>1. less than 25 Mbps</td>\n",
       "      <td>2. greater than 135 Milliseconds</td>\n",
       "      <td>2. 1625 to 2245 Milliseconds</td>\n",
       "    </tr>\n",
       "    <tr>\n",
       "      <th>3</th>\n",
       "      <td>2. greater than 6 Mbps</td>\n",
       "      <td>1. less than 178 Milliseconds</td>\n",
       "      <td>1. less than 750000 MIPS</td>\n",
       "      <td>1. less than 1000 Milliseconds</td>\n",
       "      <td>2. 11 to 20 Mbps</td>\n",
       "      <td>1. less than 18 Milliseconds</td>\n",
       "      <td>1. less than 285000 MIPS</td>\n",
       "      <td>1. less than 240 Milliseconds</td>\n",
       "      <td>1. less than 75 Mbps</td>\n",
       "      <td>2. 90 to 170 Milliseconds</td>\n",
       "      <td>1. less than 25 Mbps</td>\n",
       "      <td>2. greater than 135 Milliseconds</td>\n",
       "      <td>1. less than 1625 Milliseconds</td>\n",
       "    </tr>\n",
       "    <tr>\n",
       "      <th>4</th>\n",
       "      <td>2. greater than 6 Mbps</td>\n",
       "      <td>1. less than 178 Milliseconds</td>\n",
       "      <td>1. less than 750000 MIPS</td>\n",
       "      <td>1. less than 1000 Milliseconds</td>\n",
       "      <td>2. 11 to 20 Mbps</td>\n",
       "      <td>1. less than 18 Milliseconds</td>\n",
       "      <td>3. greater than 425000 MIPS</td>\n",
       "      <td>2. greater than 240 Milliseconds</td>\n",
       "      <td>1. less than 75 Mbps</td>\n",
       "      <td>2. 90 to 170 Milliseconds</td>\n",
       "      <td>1. less than 25 Mbps</td>\n",
       "      <td>2. greater than 135 Milliseconds</td>\n",
       "      <td>2. 1625 to 2245 Milliseconds</td>\n",
       "    </tr>\n",
       "    <tr>\n",
       "      <th>...</th>\n",
       "      <td>...</td>\n",
       "      <td>...</td>\n",
       "      <td>...</td>\n",
       "      <td>...</td>\n",
       "      <td>...</td>\n",
       "      <td>...</td>\n",
       "      <td>...</td>\n",
       "      <td>...</td>\n",
       "      <td>...</td>\n",
       "      <td>...</td>\n",
       "      <td>...</td>\n",
       "      <td>...</td>\n",
       "      <td>...</td>\n",
       "    </tr>\n",
       "    <tr>\n",
       "      <th>995</th>\n",
       "      <td>2. greater than 6 Mbps</td>\n",
       "      <td>1. less than 178 Milliseconds</td>\n",
       "      <td>2. 750000 to 850000 MIPS</td>\n",
       "      <td>2. 1000 to 1250 Milliseconds</td>\n",
       "      <td>3. greater than 20 Mbps</td>\n",
       "      <td>1. less than 18 Milliseconds</td>\n",
       "      <td>2. 285000 to 425000 MIPS</td>\n",
       "      <td>2. greater than 240 Milliseconds</td>\n",
       "      <td>1. less than 75 Mbps</td>\n",
       "      <td>3. greater than 170 Milliseconds</td>\n",
       "      <td>1. less than 25 Mbps</td>\n",
       "      <td>1. less than 135 Milliseconds</td>\n",
       "      <td>2. 1625 to 2245 Milliseconds</td>\n",
       "    </tr>\n",
       "    <tr>\n",
       "      <th>996</th>\n",
       "      <td>2. greater than 6 Mbps</td>\n",
       "      <td>1. less than 178 Milliseconds</td>\n",
       "      <td>2. 750000 to 850000 MIPS</td>\n",
       "      <td>2. 1000 to 1250 Milliseconds</td>\n",
       "      <td>2. 11 to 20 Mbps</td>\n",
       "      <td>1. less than 18 Milliseconds</td>\n",
       "      <td>1. less than 285000 MIPS</td>\n",
       "      <td>1. less than 240 Milliseconds</td>\n",
       "      <td>1. less than 75 Mbps</td>\n",
       "      <td>1. less than 90 Milliseconds</td>\n",
       "      <td>2. greater than 25 Mbps</td>\n",
       "      <td>1. less than 135 Milliseconds</td>\n",
       "      <td>1. less than 1625 Milliseconds</td>\n",
       "    </tr>\n",
       "    <tr>\n",
       "      <th>997</th>\n",
       "      <td>2. greater than 6 Mbps</td>\n",
       "      <td>1. less than 178 Milliseconds</td>\n",
       "      <td>2. 750000 to 850000 MIPS</td>\n",
       "      <td>2. 1000 to 1250 Milliseconds</td>\n",
       "      <td>1. less than 11 Mbps</td>\n",
       "      <td>3. greater than 35 Milliseconds</td>\n",
       "      <td>2. 285000 to 425000 MIPS</td>\n",
       "      <td>2. greater than 240 Milliseconds</td>\n",
       "      <td>1. less than 75 Mbps</td>\n",
       "      <td>3. greater than 170 Milliseconds</td>\n",
       "      <td>1. less than 25 Mbps</td>\n",
       "      <td>2. greater than 135 Milliseconds</td>\n",
       "      <td>2. 1625 to 2245 Milliseconds</td>\n",
       "    </tr>\n",
       "    <tr>\n",
       "      <th>998</th>\n",
       "      <td>2. greater than 6 Mbps</td>\n",
       "      <td>1. less than 178 Milliseconds</td>\n",
       "      <td>2. 750000 to 850000 MIPS</td>\n",
       "      <td>2. 1000 to 1250 Milliseconds</td>\n",
       "      <td>1. less than 11 Mbps</td>\n",
       "      <td>3. greater than 35 Milliseconds</td>\n",
       "      <td>1. less than 285000 MIPS</td>\n",
       "      <td>1. less than 240 Milliseconds</td>\n",
       "      <td>1. less than 75 Mbps</td>\n",
       "      <td>2. 90 to 170 Milliseconds</td>\n",
       "      <td>1. less than 25 Mbps</td>\n",
       "      <td>2. greater than 135 Milliseconds</td>\n",
       "      <td>2. 1625 to 2245 Milliseconds</td>\n",
       "    </tr>\n",
       "    <tr>\n",
       "      <th>999</th>\n",
       "      <td>2. greater than 6 Mbps</td>\n",
       "      <td>1. less than 178 Milliseconds</td>\n",
       "      <td>2. 750000 to 850000 MIPS</td>\n",
       "      <td>2. 1000 to 1250 Milliseconds</td>\n",
       "      <td>1. less than 11 Mbps</td>\n",
       "      <td>3. greater than 35 Milliseconds</td>\n",
       "      <td>3. greater than 425000 MIPS</td>\n",
       "      <td>2. greater than 240 Milliseconds</td>\n",
       "      <td>1. less than 75 Mbps</td>\n",
       "      <td>2. 90 to 170 Milliseconds</td>\n",
       "      <td>1. less than 25 Mbps</td>\n",
       "      <td>2. greater than 135 Milliseconds</td>\n",
       "      <td>2. 1625 to 2245 Milliseconds</td>\n",
       "    </tr>\n",
       "  </tbody>\n",
       "</table>\n",
       "<p>1000 rows × 13 columns</p>\n",
       "</div>"
      ],
      "text/plain": [
       "                        HBW                            HTT  \\\n",
       "0    2. greater than 6 Mbps  1. less than 178 Milliseconds   \n",
       "1    2. greater than 6 Mbps  1. less than 178 Milliseconds   \n",
       "2    2. greater than 6 Mbps  1. less than 178 Milliseconds   \n",
       "3    2. greater than 6 Mbps  1. less than 178 Milliseconds   \n",
       "4    2. greater than 6 Mbps  1. less than 178 Milliseconds   \n",
       "..                      ...                            ...   \n",
       "995  2. greater than 6 Mbps  1. less than 178 Milliseconds   \n",
       "996  2. greater than 6 Mbps  1. less than 178 Milliseconds   \n",
       "997  2. greater than 6 Mbps  1. less than 178 Milliseconds   \n",
       "998  2. greater than 6 Mbps  1. less than 178 Milliseconds   \n",
       "999  2. greater than 6 Mbps  1. less than 178 Milliseconds   \n",
       "\n",
       "                        MMIPS                             MET  \\\n",
       "0    1. less than 750000 MIPS  1. less than 1000 Milliseconds   \n",
       "1    1. less than 750000 MIPS  1. less than 1000 Milliseconds   \n",
       "2    1. less than 750000 MIPS  1. less than 1000 Milliseconds   \n",
       "3    1. less than 750000 MIPS  1. less than 1000 Milliseconds   \n",
       "4    1. less than 750000 MIPS  1. less than 1000 Milliseconds   \n",
       "..                        ...                             ...   \n",
       "995  2. 750000 to 850000 MIPS    2. 1000 to 1250 Milliseconds   \n",
       "996  2. 750000 to 850000 MIPS    2. 1000 to 1250 Milliseconds   \n",
       "997  2. 750000 to 850000 MIPS    2. 1000 to 1250 Milliseconds   \n",
       "998  2. 750000 to 850000 MIPS    2. 1000 to 1250 Milliseconds   \n",
       "999  2. 750000 to 850000 MIPS    2. 1000 to 1250 Milliseconds   \n",
       "\n",
       "                         MBW                              MTT  \\\n",
       "0    3. greater than 20 Mbps     1. less than 18 Milliseconds   \n",
       "1    3. greater than 20 Mbps     1. less than 18 Milliseconds   \n",
       "2           2. 11 to 20 Mbps     1. less than 18 Milliseconds   \n",
       "3           2. 11 to 20 Mbps     1. less than 18 Milliseconds   \n",
       "4           2. 11 to 20 Mbps     1. less than 18 Milliseconds   \n",
       "..                       ...                              ...   \n",
       "995  3. greater than 20 Mbps     1. less than 18 Milliseconds   \n",
       "996         2. 11 to 20 Mbps     1. less than 18 Milliseconds   \n",
       "997     1. less than 11 Mbps  3. greater than 35 Milliseconds   \n",
       "998     1. less than 11 Mbps  3. greater than 35 Milliseconds   \n",
       "999     1. less than 11 Mbps  3. greater than 35 Milliseconds   \n",
       "\n",
       "                           RMIPS                               RET  \\\n",
       "0       2. 285000 to 425000 MIPS  2. greater than 240 Milliseconds   \n",
       "1       1. less than 285000 MIPS     1. less than 240 Milliseconds   \n",
       "2       2. 285000 to 425000 MIPS  2. greater than 240 Milliseconds   \n",
       "3       1. less than 285000 MIPS     1. less than 240 Milliseconds   \n",
       "4    3. greater than 425000 MIPS  2. greater than 240 Milliseconds   \n",
       "..                           ...                               ...   \n",
       "995     2. 285000 to 425000 MIPS  2. greater than 240 Milliseconds   \n",
       "996     1. less than 285000 MIPS     1. less than 240 Milliseconds   \n",
       "997     2. 285000 to 425000 MIPS  2. greater than 240 Milliseconds   \n",
       "998     1. less than 285000 MIPS     1. less than 240 Milliseconds   \n",
       "999  3. greater than 425000 MIPS  2. greater than 240 Milliseconds   \n",
       "\n",
       "                      RBW                               RTT  \\\n",
       "0    1. less than 75 Mbps  3. greater than 170 Milliseconds   \n",
       "1    1. less than 75 Mbps      1. less than 90 Milliseconds   \n",
       "2    1. less than 75 Mbps  3. greater than 170 Milliseconds   \n",
       "3    1. less than 75 Mbps         2. 90 to 170 Milliseconds   \n",
       "4    1. less than 75 Mbps         2. 90 to 170 Milliseconds   \n",
       "..                    ...                               ...   \n",
       "995  1. less than 75 Mbps  3. greater than 170 Milliseconds   \n",
       "996  1. less than 75 Mbps      1. less than 90 Milliseconds   \n",
       "997  1. less than 75 Mbps  3. greater than 170 Milliseconds   \n",
       "998  1. less than 75 Mbps         2. 90 to 170 Milliseconds   \n",
       "999  1. less than 75 Mbps         2. 90 to 170 Milliseconds   \n",
       "\n",
       "                         BBW                               BTT  \\\n",
       "0       1. less than 25 Mbps     1. less than 135 Milliseconds   \n",
       "1    2. greater than 25 Mbps     1. less than 135 Milliseconds   \n",
       "2       1. less than 25 Mbps  2. greater than 135 Milliseconds   \n",
       "3       1. less than 25 Mbps  2. greater than 135 Milliseconds   \n",
       "4       1. less than 25 Mbps  2. greater than 135 Milliseconds   \n",
       "..                       ...                               ...   \n",
       "995     1. less than 25 Mbps     1. less than 135 Milliseconds   \n",
       "996  2. greater than 25 Mbps     1. less than 135 Milliseconds   \n",
       "997     1. less than 25 Mbps  2. greater than 135 Milliseconds   \n",
       "998     1. less than 25 Mbps  2. greater than 135 Milliseconds   \n",
       "999     1. less than 25 Mbps  2. greater than 135 Milliseconds   \n",
       "\n",
       "                                 TT  \n",
       "0    1. less than 1625 Milliseconds  \n",
       "1    1. less than 1625 Milliseconds  \n",
       "2      2. 1625 to 2245 Milliseconds  \n",
       "3    1. less than 1625 Milliseconds  \n",
       "4      2. 1625 to 2245 Milliseconds  \n",
       "..                              ...  \n",
       "995    2. 1625 to 2245 Milliseconds  \n",
       "996  1. less than 1625 Milliseconds  \n",
       "997    2. 1625 to 2245 Milliseconds  \n",
       "998    2. 1625 to 2245 Milliseconds  \n",
       "999    2. 1625 to 2245 Milliseconds  \n",
       "\n",
       "[1000 rows x 13 columns]"
      ]
     },
     "execution_count": 29,
     "metadata": {},
     "output_type": "execute_result"
    }
   ],
   "source": [
    "discrete_df = discretise(df)\n",
    "\n",
    "discrete_df.head(1000)"
   ]
  },
  {
   "cell_type": "code",
   "execution_count": 30,
   "metadata": {},
   "outputs": [],
   "source": [
    "from sklearn.model_selection import train_test_split\n",
    "\n",
    "training_data, testing_data = train_test_split(cat_df, test_size=0.2, random_state=20)"
   ]
  },
  {
   "cell_type": "code",
   "execution_count": 31,
   "metadata": {},
   "outputs": [],
   "source": [
    "from itertools import combinations\n",
    "\n",
    "import networkx as nx\n",
    "from sklearn.metrics import f1_score\n",
    "from pgmpy.models import BayesianModel, NaiveBayes, BayesianNetwork\n",
    "from pgmpy.estimators import PC, HillClimbSearch, ExhaustiveSearch\n",
    "from pgmpy.estimators import K2Score, BicScore, BDeuScore\n",
    "from pgmpy.utils import get_example_model\n",
    "from pgmpy.sampling import BayesianModelSampling\n",
    "from pgmpy.estimators import BayesianEstimator, MaximumLikelihoodEstimator"
   ]
  },
  {
   "cell_type": "code",
   "execution_count": 32,
   "metadata": {},
   "outputs": [],
   "source": [
    "model = NaiveBayes(feature_vars=['HBW', 'HTT', 'MMIPS', 'MET', 'MBW', 'MTT', 'RMIPS', 'RET', 'RBW', 'RTT', 'BBW', 'BTT'], dependent_var='TT')"
   ]
  },
  {
   "cell_type": "code",
   "execution_count": 33,
   "metadata": {},
   "outputs": [],
   "source": [
    "model.fit(data=training_data, parent_node='TT', estimator=BayesianEstimator )\n",
    "bayes_model = BayesianNetwork(model)\n",
    "\n",
    "bayes_model.fit(data=training_data,\n",
    "    estimator=MaximumLikelihoodEstimator,\n",
    "    complete_samples_only=True)"
   ]
  },
  {
   "cell_type": "code",
   "execution_count": 34,
   "metadata": {},
   "outputs": [
    {
     "data": {
      "image/png": "[encoded data removed]",
      "text/plain": [
       "<Figure size 432x288 with 1 Axes>"
      ]
     },
     "metadata": {},
     "output_type": "display_data"
    }
   ],
   "source": [
    "G = nx.DiGraph()\n",
    "G.add_edges_from(bayes_model.edges)\n",
    "G.add_nodes_from(bayes_model.nodes)\n",
    "pos = nx.kamada_kawai_layout(G)\n",
    "nx.draw(G, pos=pos, with_labels=True, arrowsize=30, node_size=800, alpha=0.7, font_weight=\"bold\")  # Draw the original graph"
   ]
  },
  {
   "cell_type": "code",
   "execution_count": 35,
   "metadata": {},
   "outputs": [
    {
     "data": {
      "text/plain": [
       "[<TabularCPD representing P(TT:4) at 0x1d1a053d120>,\n",
       " <TabularCPD representing P(BBW:2 | TT:4) at 0x1d1a053c130>,\n",
       " <TabularCPD representing P(HBW:2 | TT:4) at 0x1d1a0588730>,\n",
       " <TabularCPD representing P(RTT:3 | TT:4) at 0x1d1a053d180>,\n",
       " <TabularCPD representing P(BTT:2 | TT:4) at 0x1d1a053f4f0>,\n",
       " <TabularCPD representing P(RET:2 | TT:4) at 0x1d1a053d300>,\n",
       " <TabularCPD representing P(HTT:2 | TT:4) at 0x1d1a053d810>,\n",
       " <TabularCPD representing P(MBW:4 | TT:4) at 0x1d1a058be20>,\n",
       " <TabularCPD representing P(RBW:3 | TT:4) at 0x1d1a058b9a0>,\n",
       " <TabularCPD representing P(MTT:4 | TT:4) at 0x1d1a058bee0>,\n",
       " <TabularCPD representing P(MET:4 | TT:4) at 0x1d1a058b9d0>,\n",
       " <TabularCPD representing P(RMIPS:4 | TT:4) at 0x1d1a053c340>,\n",
       " <TabularCPD representing P(MMIPS:4 | TT:4) at 0x1d1a058bca0>]"
      ]
     },
     "execution_count": 35,
     "metadata": {},
     "output_type": "execute_result"
    }
   ],
   "source": [
    "bayes_model.get_cpds()"
   ]
  },
  {
   "cell_type": "code",
   "execution_count": 36,
   "metadata": {},
   "outputs": [
    {
     "data": {
      "application/vnd.jupyter.widget-view+json": {
       "model_id": "72dff43bd8b74eb1b2042714ba81ae8b",
       "version_major": 2,
       "version_minor": 0
      },
      "text/plain": [
       "  0%|          | 0/150 [00:00<?, ?it/s]"
      ]
     },
     "metadata": {},
     "output_type": "display_data"
    },
    {
     "name": "stdout",
     "output_type": "stream",
     "text": [
      "HBW Accuracy score: 0.6003937007874016\n"
     ]
    },
    {
     "name": "stderr",
     "output_type": "stream",
     "text": [
      "c:\\Python310\\lib\\site-packages\\pgmpy\\models\\BayesianNetwork.py:747: FutureWarning: Passing a set as an indexer is deprecated and will raise in a future version. Use a list instead.\n",
      "  return data.merge(data_with_results, how=\"left\").loc[:, missing_variables]\n"
     ]
    },
    {
     "data": {
      "application/vnd.jupyter.widget-view+json": {
       "model_id": "f422075f64694dca9265d9670cd4cd6f",
       "version_major": 2,
       "version_minor": 0
      },
      "text/plain": [
       "  0%|          | 0/152 [00:00<?, ?it/s]"
      ]
     },
     "metadata": {},
     "output_type": "display_data"
    },
    {
     "name": "stdout",
     "output_type": "stream",
     "text": [
      "HTT Accuracy score: 0.6062992125984252\n"
     ]
    },
    {
     "name": "stderr",
     "output_type": "stream",
     "text": [
      "c:\\Python310\\lib\\site-packages\\pgmpy\\models\\BayesianNetwork.py:747: FutureWarning: Passing a set as an indexer is deprecated and will raise in a future version. Use a list instead.\n",
      "  return data.merge(data_with_results, how=\"left\").loc[:, missing_variables]\n"
     ]
    },
    {
     "data": {
      "application/vnd.jupyter.widget-view+json": {
       "model_id": "eb82ecd64ca0425799eb8305019c5cac",
       "version_major": 2,
       "version_minor": 0
      },
      "text/plain": [
       "  0%|          | 0/153 [00:00<?, ?it/s]"
      ]
     },
     "metadata": {},
     "output_type": "display_data"
    },
    {
     "name": "stdout",
     "output_type": "stream",
     "text": [
      "MMIPS Accuracy score: 0.4330708661417323\n"
     ]
    },
    {
     "name": "stderr",
     "output_type": "stream",
     "text": [
      "c:\\Python310\\lib\\site-packages\\pgmpy\\models\\BayesianNetwork.py:747: FutureWarning: Passing a set as an indexer is deprecated and will raise in a future version. Use a list instead.\n",
      "  return data.merge(data_with_results, how=\"left\").loc[:, missing_variables]\n"
     ]
    },
    {
     "data": {
      "application/vnd.jupyter.widget-view+json": {
       "model_id": "5cd583d0f4cf4da499fd6c47b49dfa1d",
       "version_major": 2,
       "version_minor": 0
      },
      "text/plain": [
       "  0%|          | 0/153 [00:00<?, ?it/s]"
      ]
     },
     "metadata": {},
     "output_type": "display_data"
    },
    {
     "name": "stdout",
     "output_type": "stream",
     "text": [
      "MET Accuracy score: 0.4330708661417323\n"
     ]
    },
    {
     "name": "stderr",
     "output_type": "stream",
     "text": [
      "c:\\Python310\\lib\\site-packages\\pgmpy\\models\\BayesianNetwork.py:747: FutureWarning: Passing a set as an indexer is deprecated and will raise in a future version. Use a list instead.\n",
      "  return data.merge(data_with_results, how=\"left\").loc[:, missing_variables]\n"
     ]
    },
    {
     "data": {
      "application/vnd.jupyter.widget-view+json": {
       "model_id": "d65427d845f34fab9c7f9b3d19a569fc",
       "version_major": 2,
       "version_minor": 0
      },
      "text/plain": [
       "  0%|          | 0/138 [00:00<?, ?it/s]"
      ]
     },
     "metadata": {},
     "output_type": "display_data"
    },
    {
     "name": "stdout",
     "output_type": "stream",
     "text": [
      "MBW Accuracy score: 0.8267716535433071\n"
     ]
    },
    {
     "name": "stderr",
     "output_type": "stream",
     "text": [
      "c:\\Python310\\lib\\site-packages\\pgmpy\\models\\BayesianNetwork.py:747: FutureWarning: Passing a set as an indexer is deprecated and will raise in a future version. Use a list instead.\n",
      "  return data.merge(data_with_results, how=\"left\").loc[:, missing_variables]\n"
     ]
    },
    {
     "data": {
      "application/vnd.jupyter.widget-view+json": {
       "model_id": "7563a554559a48c8b002aa49f4f9f0ae",
       "version_major": 2,
       "version_minor": 0
      },
      "text/plain": [
       "  0%|          | 0/101 [00:00<?, ?it/s]"
      ]
     },
     "metadata": {},
     "output_type": "display_data"
    },
    {
     "name": "stdout",
     "output_type": "stream",
     "text": [
      "MTT Accuracy score: 0.4547244094488189\n"
     ]
    },
    {
     "name": "stderr",
     "output_type": "stream",
     "text": [
      "c:\\Python310\\lib\\site-packages\\pgmpy\\models\\BayesianNetwork.py:747: FutureWarning: Passing a set as an indexer is deprecated and will raise in a future version. Use a list instead.\n",
      "  return data.merge(data_with_results, how=\"left\").loc[:, missing_variables]\n"
     ]
    },
    {
     "data": {
      "application/vnd.jupyter.widget-view+json": {
       "model_id": "f04edb5088f2474ca1bab4e791dc4b44",
       "version_major": 2,
       "version_minor": 0
      },
      "text/plain": [
       "  0%|          | 0/134 [00:00<?, ?it/s]"
      ]
     },
     "metadata": {},
     "output_type": "display_data"
    },
    {
     "name": "stdout",
     "output_type": "stream",
     "text": [
      "RMIPS Accuracy score: 0.6515748031496063\n"
     ]
    },
    {
     "name": "stderr",
     "output_type": "stream",
     "text": [
      "c:\\Python310\\lib\\site-packages\\pgmpy\\models\\BayesianNetwork.py:747: FutureWarning: Passing a set as an indexer is deprecated and will raise in a future version. Use a list instead.\n",
      "  return data.merge(data_with_results, how=\"left\").loc[:, missing_variables]\n"
     ]
    },
    {
     "data": {
      "application/vnd.jupyter.widget-view+json": {
       "model_id": "066b8052ce314c678f74c623f53b8561",
       "version_major": 2,
       "version_minor": 0
      },
      "text/plain": [
       "  0%|          | 0/153 [00:00<?, ?it/s]"
      ]
     },
     "metadata": {},
     "output_type": "display_data"
    },
    {
     "name": "stdout",
     "output_type": "stream",
     "text": [
      "RET Accuracy score: 0.8169291338582677\n"
     ]
    },
    {
     "name": "stderr",
     "output_type": "stream",
     "text": [
      "c:\\Python310\\lib\\site-packages\\pgmpy\\models\\BayesianNetwork.py:747: FutureWarning: Passing a set as an indexer is deprecated and will raise in a future version. Use a list instead.\n",
      "  return data.merge(data_with_results, how=\"left\").loc[:, missing_variables]\n"
     ]
    },
    {
     "data": {
      "application/vnd.jupyter.widget-view+json": {
       "model_id": "b8967c34ecf84dd09898e6931e893060",
       "version_major": 2,
       "version_minor": 0
      },
      "text/plain": [
       "  0%|          | 0/153 [00:00<?, ?it/s]"
      ]
     },
     "metadata": {},
     "output_type": "display_data"
    },
    {
     "name": "stdout",
     "output_type": "stream",
     "text": [
      "RBW Accuracy score: 0.7460629921259843\n"
     ]
    },
    {
     "name": "stderr",
     "output_type": "stream",
     "text": [
      "c:\\Python310\\lib\\site-packages\\pgmpy\\models\\BayesianNetwork.py:747: FutureWarning: Passing a set as an indexer is deprecated and will raise in a future version. Use a list instead.\n",
      "  return data.merge(data_with_results, how=\"left\").loc[:, missing_variables]\n"
     ]
    },
    {
     "data": {
      "application/vnd.jupyter.widget-view+json": {
       "model_id": "0f3ea6ce69714205b1113febad52f524",
       "version_major": 2,
       "version_minor": 0
      },
      "text/plain": [
       "  0%|          | 0/141 [00:00<?, ?it/s]"
      ]
     },
     "metadata": {},
     "output_type": "display_data"
    },
    {
     "name": "stdout",
     "output_type": "stream",
     "text": [
      "RTT Accuracy score: 0.6062992125984252\n"
     ]
    },
    {
     "name": "stderr",
     "output_type": "stream",
     "text": [
      "c:\\Python310\\lib\\site-packages\\pgmpy\\models\\BayesianNetwork.py:747: FutureWarning: Passing a set as an indexer is deprecated and will raise in a future version. Use a list instead.\n",
      "  return data.merge(data_with_results, how=\"left\").loc[:, missing_variables]\n"
     ]
    },
    {
     "data": {
      "application/vnd.jupyter.widget-view+json": {
       "model_id": "90c27124d4944516b5c64932e93255e2",
       "version_major": 2,
       "version_minor": 0
      },
      "text/plain": [
       "  0%|          | 0/153 [00:00<?, ?it/s]"
      ]
     },
     "metadata": {},
     "output_type": "display_data"
    },
    {
     "name": "stdout",
     "output_type": "stream",
     "text": [
      "BBW Accuracy score: 0.8976377952755905\n"
     ]
    },
    {
     "name": "stderr",
     "output_type": "stream",
     "text": [
      "c:\\Python310\\lib\\site-packages\\pgmpy\\models\\BayesianNetwork.py:747: FutureWarning: Passing a set as an indexer is deprecated and will raise in a future version. Use a list instead.\n",
      "  return data.merge(data_with_results, how=\"left\").loc[:, missing_variables]\n"
     ]
    },
    {
     "data": {
      "application/vnd.jupyter.widget-view+json": {
       "model_id": "fe17ee99beb84adfbfe1a17f07cd33a2",
       "version_major": 2,
       "version_minor": 0
      },
      "text/plain": [
       "  0%|          | 0/153 [00:00<?, ?it/s]"
      ]
     },
     "metadata": {},
     "output_type": "display_data"
    },
    {
     "name": "stdout",
     "output_type": "stream",
     "text": [
      "BTT Accuracy score: 0.797244094488189\n"
     ]
    },
    {
     "name": "stderr",
     "output_type": "stream",
     "text": [
      "c:\\Python310\\lib\\site-packages\\pgmpy\\models\\BayesianNetwork.py:747: FutureWarning: Passing a set as an indexer is deprecated and will raise in a future version. Use a list instead.\n",
      "  return data.merge(data_with_results, how=\"left\").loc[:, missing_variables]\n"
     ]
    },
    {
     "data": {
      "application/vnd.jupyter.widget-view+json": {
       "model_id": "8c94c3a0ef7c44829552c47206d1903d",
       "version_major": 2,
       "version_minor": 0
      },
      "text/plain": [
       "  0%|          | 0/137 [00:00<?, ?it/s]"
      ]
     },
     "metadata": {},
     "output_type": "display_data"
    },
    {
     "name": "stdout",
     "output_type": "stream",
     "text": [
      "TT Accuracy score: 0.8070866141732284\n"
     ]
    },
    {
     "name": "stderr",
     "output_type": "stream",
     "text": [
      "c:\\Python310\\lib\\site-packages\\pgmpy\\models\\BayesianNetwork.py:747: FutureWarning: Passing a set as an indexer is deprecated and will raise in a future version. Use a list instead.\n",
      "  return data.merge(data_with_results, how=\"left\").loc[:, missing_variables]\n"
     ]
    }
   ],
   "source": [
    "from pgmpy.metrics.metrics import correlation_score, log_likelihood_score, structure_score\n",
    "from sklearn.metrics import f1_score, accuracy_score, precision_score, recall_score\n",
    "\n",
    "for column in testing_data:\n",
    "    predict_data = testing_data.copy()\n",
    "    predict_data.drop(column, axis=1, inplace=True)\n",
    "    y_pred = model.predict(predict_data)\n",
    "\n",
    "    accuracy = accuracy_score(testing_data[column], y_pred)\n",
    "    \n",
    "    # if len(testing_data[column].unique()) == 2:\n",
    "    #     precision = precision_score(testing_data[column], y_pred, pos_label='High') #pos_label=testing_data[column].unique()\n",
    "    #     f1 = f1_score(testing_data[column], y_pred, pos_label='High')\n",
    "    #     recall = recall_score(testing_data[column], y_pred, pos_label='High')\n",
    "\n",
    "    # else:\n",
    "    #     precision = precision_score(testing_data[column], y_pred, average='micro') #pos_label=testing_data[column].unique()\n",
    "    #     f1 = f1_score(testing_data[column], y_pred, average='micro')\n",
    "    #     recall = recall_score(testing_data[column], y_pred, average='micro')\n",
    "\n",
    "    #print(f'{column} F1 score: {f1}')\n",
    "    print(f'{column} Accuracy score: {accuracy}')\n",
    "    #print(f'{column} Precision score: {precision}')\n",
    "    #print(f'{column} Recall score: {recall}')"
   ]
  },
  {
   "cell_type": "code",
   "execution_count": 37,
   "metadata": {},
   "outputs": [
    {
     "name": "stdout",
     "output_type": "stream",
     "text": [
      "F1 score: 0.0\n",
      "Accuracy score: 0.6538461538461539\n",
      "Precision score: 0.0\n",
      "Recall score: 0.0\n",
      "Log-likilihood score: -5176.856593627597\n",
      "Strcture score: -5352.367973109394\n"
     ]
    },
    {
     "name": "stderr",
     "output_type": "stream",
     "text": [
      "c:\\Python310\\lib\\site-packages\\sklearn\\metrics\\_classification.py:1318: UndefinedMetricWarning: Precision is ill-defined and being set to 0.0 due to no predicted samples. Use `zero_division` parameter to control this behavior.\n",
      "  _warn_prf(average, modifier, msg_start, len(result))\n"
     ]
    }
   ],
   "source": [
    "f1 = correlation_score(model=bayes_model, data=testing_data, test='chi_square', significance_level=0.05, score=f1_score, return_summary=False)\n",
    "acc = correlation_score(model=bayes_model, data=testing_data, test='chi_square', significance_level=0.05, score=accuracy_score, return_summary=False)\n",
    "pr = correlation_score(model=bayes_model, data=testing_data, test='chi_square', significance_level=0.05, score=precision_score, return_summary=False)\n",
    "recall = correlation_score(model=bayes_model, data=testing_data, test='chi_square', significance_level=0.05, score=recall_score, return_summary=False)\n",
    "ls = log_likelihood_score(model=bayes_model, data=testing_data)\n",
    "ss = structure_score(model=bayes_model, data=testing_data, scoring_method='bdeu')\n",
    "\n",
    "\n",
    "print(f'F1 score: {f1}')\n",
    "print(f'Accuracy score: {acc}')\n",
    "print(f'Precision score: {pr}')\n",
    "print(f'Recall score: {recall}')\n",
    "print(f'Log-likilihood score: {ls}')\n",
    "print(f'Strcture score: {ss}')"
   ]
  },
  {
   "cell_type": "code",
   "execution_count": 38,
   "metadata": {},
   "outputs": [],
   "source": [
    "def store_metrics(metrics_file_name, model_name, f1, accuracy, precision, recall, log_likelihood_score, structure_score):\n",
    "    try: \n",
    "        df = pd.read_csv('Model-metrics.csv', header=0, index_col=False)\n",
    "    except:\n",
    "        df_columns = ['Model', 'F1', 'Accuracy', 'Precision', 'Recall', 'Log likelihood score', 'Structure score']\n",
    "\n",
    "        df = pd.DataFrame(columns=df_columns)\n",
    "\n",
    "    else:\n",
    "        df = df[df.Model != model_name]\n",
    "        \n",
    "    new_row = {'Model': model_name, 'F1': f1, 'Accuracy': accuracy, 'Precision': precision, 'Recall': recall, 'Log likelihood score': log_likelihood_score, 'Structure score': structure_score}\n",
    "\n",
    "    df = df.append(new_row, ignore_index=True)\n",
    "\n",
    "    # Write to file\n",
    "    df.to_csv(metrics_file_name, index=False)\n"
   ]
  },
  {
   "cell_type": "code",
   "execution_count": 39,
   "metadata": {},
   "outputs": [
    {
     "name": "stderr",
     "output_type": "stream",
     "text": [
      "C:\\Users\\KEIRMC~1\\AppData\\Local\\Temp/ipykernel_2772/3521155595.py:14: FutureWarning: The frame.append method is deprecated and will be removed from pandas in a future version. Use pandas.concat instead.\n",
      "  df = df.append(new_row, ignore_index=True)\n"
     ]
    }
   ],
   "source": [
    "model_name = 'Naive Bayes'\n",
    "metrics_file_name = 'Model-metrics.csv'\n",
    "\n",
    "store_metrics(metrics_file_name=metrics_file_name, model_name=model_name, f1=f1, accuracy=acc, precision=pr, recall=recall, log_likelihood_score=ls, structure_score=ss)"
   ]
  },
  {
   "cell_type": "code",
   "execution_count": 40,
   "metadata": {},
   "outputs": [
    {
     "name": "stdout",
     "output_type": "stream",
     "text": [
      "Check model: True\n",
      "\n",
      "CPT of TT:\n",
      "+---------------+-----------+\n",
      "| TT(High)      | 0.418799  |\n",
      "+---------------+-----------+\n",
      "| TT(Low)       | 0.336614  |\n",
      "+---------------+-----------+\n",
      "| TT(Very Low)  | 0.0812008 |\n",
      "+---------------+-----------+\n",
      "| TT(Very-high) | 0.163386  |\n",
      "+---------------+-----------+ \n",
      "\n",
      "CPT of BBW:\n",
      "+----------------+-----+---------------+\n",
      "| TT             | ... | TT(Very-high) |\n",
      "+----------------+-----+---------------+\n",
      "| BBW(Very Low)  | ... | 1.0           |\n",
      "+----------------+-----+---------------+\n",
      "| BBW(Very-high) | ... | 0.0           |\n",
      "+----------------+-----+---------------+ \n",
      "\n",
      "CPT of HBW:\n",
      "+----------------+-----+--------------------+\n",
      "| TT             | ... | TT(Very-high)      |\n",
      "+----------------+-----+--------------------+\n",
      "| HBW(Very Low)  | ... | 0.6807228915662651 |\n",
      "+----------------+-----+--------------------+\n",
      "| HBW(Very-high) | ... | 0.3192771084337349 |\n",
      "+----------------+-----+--------------------+ \n",
      "\n",
      "CPT of RTT:\n",
      "+----------------+-----+---------------------+\n",
      "| TT             | ... | TT(Very-high)       |\n",
      "+----------------+-----+---------------------+\n",
      "| RTT(High)      | ... | 0.20180722891566266 |\n",
      "+----------------+-----+---------------------+\n",
      "| RTT(Very Low)  | ... | 0.0                 |\n",
      "+----------------+-----+---------------------+\n",
      "| RTT(Very-high) | ... | 0.7981927710843374  |\n",
      "+----------------+-----+---------------------+ \n",
      "\n",
      "CPT of BTT:\n",
      "+----------------+-----+---------------------+\n",
      "| TT             | ... | TT(Very-high)       |\n",
      "+----------------+-----+---------------------+\n",
      "| BTT(Very Low)  | ... | 0.07228915662650602 |\n",
      "+----------------+-----+---------------------+\n",
      "| BTT(Very-high) | ... | 0.927710843373494   |\n",
      "+----------------+-----+---------------------+ \n",
      "\n",
      "CPT of RET:\n",
      "+----------------+-----+----------------------+\n",
      "| TT             | ... | TT(Very-high)        |\n",
      "+----------------+-----+----------------------+\n",
      "| RET(Very Low)  | ... | 0.012048192771084338 |\n",
      "+----------------+-----+----------------------+\n",
      "| RET(Very-high) | ... | 0.9879518072289156   |\n",
      "+----------------+-----+----------------------+ \n",
      "\n",
      "CPT of HTT:\n",
      "+----------------+-----+--------------------+\n",
      "| TT             | ... | TT(Very-high)      |\n",
      "+----------------+-----+--------------------+\n",
      "| HTT(Very Low)  | ... | 0.3192771084337349 |\n",
      "+----------------+-----+--------------------+\n",
      "| HTT(Very-high) | ... | 0.6807228915662651 |\n",
      "+----------------+-----+--------------------+ \n",
      "\n",
      "CPT of MBW:\n",
      "+----------------+-----+----------------------+\n",
      "| TT             | ... | TT(Very-high)        |\n",
      "+----------------+-----+----------------------+\n",
      "| MBW(High)      | ... | 0.012048192771084338 |\n",
      "+----------------+-----+----------------------+\n",
      "| MBW(Low)       | ... | 0.030120481927710843 |\n",
      "+----------------+-----+----------------------+\n",
      "| MBW(Very Low)  | ... | 0.9487951807228916   |\n",
      "+----------------+-----+----------------------+\n",
      "| MBW(Very-high) | ... | 0.009036144578313253 |\n",
      "+----------------+-----+----------------------+ \n",
      "\n",
      "CPT of RBW:\n",
      "+----------------+-----+---------------+\n",
      "| TT             | ... | TT(Very-high) |\n",
      "+----------------+-----+---------------+\n",
      "| RBW(Low)       | ... | 0.0           |\n",
      "+----------------+-----+---------------+\n",
      "| RBW(Very Low)  | ... | 1.0           |\n",
      "+----------------+-----+---------------+\n",
      "| RBW(Very-high) | ... | 0.0           |\n",
      "+----------------+-----+---------------+ \n",
      "\n",
      "CPT of MTT:\n",
      "+----------------+-----+---------------------+\n",
      "| TT             | ... | TT(Very-high)       |\n",
      "+----------------+-----+---------------------+\n",
      "| MTT(High)      | ... | 0.3855421686746988  |\n",
      "+----------------+-----+---------------------+\n",
      "| MTT(Low)       | ... | 0.1355421686746988  |\n",
      "+----------------+-----+---------------------+\n",
      "| MTT(Very Low)  | ... | 0.12650602409638553 |\n",
      "+----------------+-----+---------------------+\n",
      "| MTT(Very-high) | ... | 0.35240963855421686 |\n",
      "+----------------+-----+---------------------+ \n",
      "\n",
      "CPT of MET:\n",
      "+----------------+-----+---------------------+\n",
      "| TT             | ... | TT(Very-high)       |\n",
      "+----------------+-----+---------------------+\n",
      "| MET(High)      | ... | 0.20783132530120482 |\n",
      "+----------------+-----+---------------------+\n",
      "| MET(Low)       | ... | 0.09036144578313253 |\n",
      "+----------------+-----+---------------------+\n",
      "| MET(Very Low)  | ... | 0.0                 |\n",
      "+----------------+-----+---------------------+\n",
      "| MET(Very-high) | ... | 0.7018072289156626  |\n",
      "+----------------+-----+---------------------+ \n",
      "\n",
      "CPT of RMIPS:\n",
      "+------------------+-----+----------------------+\n",
      "| TT               | ... | TT(Very-high)        |\n",
      "+------------------+-----+----------------------+\n",
      "| RMIPS(High)      | ... | 0.6596385542168675   |\n",
      "+------------------+-----+----------------------+\n",
      "| RMIPS(Low)       | ... | 0.07228915662650602  |\n",
      "+------------------+-----+----------------------+\n",
      "| RMIPS(Very Low)  | ... | 0.012048192771084338 |\n",
      "+------------------+-----+----------------------+\n",
      "| RMIPS(Very-high) | ... | 0.2560240963855422   |\n",
      "+------------------+-----+----------------------+ \n",
      "\n",
      "CPT of MMIPS:\n",
      "+------------------+-----+---------------------+\n",
      "| TT               | ... | TT(Very-high)       |\n",
      "+------------------+-----+---------------------+\n",
      "| MMIPS(High)      | ... | 0.20783132530120482 |\n",
      "+------------------+-----+---------------------+\n",
      "| MMIPS(Low)       | ... | 0.09036144578313253 |\n",
      "+------------------+-----+---------------------+\n",
      "| MMIPS(Very Low)  | ... | 0.0                 |\n",
      "+------------------+-----+---------------------+\n",
      "| MMIPS(Very-high) | ... | 0.7018072289156626  |\n",
      "+------------------+-----+---------------------+ \n",
      "\n"
     ]
    }
   ],
   "source": [
    "print(f'Check model: {bayes_model.check_model()}\\n')\n",
    "for cpd in bayes_model.get_cpds():\n",
    "    print(f'CPT of {cpd.variable}:')\n",
    "    print(cpd, '\\n')"
   ]
  }
 ],
 "metadata": {
  "interpreter": {
   "hash": "369f2c481f4da34e4445cda3fffd2e751bd1c4d706f27375911949ba6bb62e1c"
  },
  "kernelspec": {
   "display_name": "Python 3.10.0 64-bit",
   "language": "python",
   "name": "python3"
  },
  "language_info": {
   "codemirror_mode": {
    "name": "ipython",
    "version": 3
   },
   "file_extension": ".py",
   "mimetype": "text/x-python",
   "name": "python",
   "nbconvert_exporter": "python",
   "pygments_lexer": "ipython3",
   "version": "3.10.0"
  },
  "orig_nbformat": 4
 },
 "nbformat": 4,
 "nbformat_minor": 2
}
