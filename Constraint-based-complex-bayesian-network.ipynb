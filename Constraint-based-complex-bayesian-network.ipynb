{
 "cells": [
  {
   "cell_type": "markdown",
   "metadata": {},
   "source": [
    "# Complex Bayesian Network notebook"
   ]
  },
  {
   "cell_type": "markdown",
   "metadata": {},
   "source": [
    "#### Import dependencies"
   ]
  },
  {
   "cell_type": "code",
   "execution_count": 19,
   "metadata": {},
   "outputs": [],
   "source": [
    "# Import dependencies\n",
    "#%pip install pgmpy\n",
    "#%pip install tabulate\n",
    "#%pip install pandas\n",
    "#%pip install networkx\n",
    "#%pip install matplotlib"
   ]
  },
  {
   "cell_type": "markdown",
   "metadata": {},
   "source": [
    "#### Load libraries"
   ]
  },
  {
   "cell_type": "code",
   "execution_count": 20,
   "metadata": {},
   "outputs": [],
   "source": [
    "# Load libraries\n",
    "import pgmpy as pg\n",
    "import tabulate as tb\n",
    "import pandas as pd\n",
    "import numpy as np\n",
    "import networkx as nx\n",
    "import matplotlib.pyplot as plt\n",
    "import sklearn"
   ]
  },
  {
   "cell_type": "markdown",
   "metadata": {},
   "source": [
    "## Data import and cleaning"
   ]
  },
  {
   "cell_type": "markdown",
   "metadata": {},
   "source": [
    "#### Import BigPerf data"
   ]
  },
  {
   "cell_type": "code",
   "execution_count": 21,
   "metadata": {},
   "outputs": [
    {
     "data": {
      "text/html": [
       "<div>\n",
       "<style scoped>\n",
       "    .dataframe tbody tr th:only-of-type {\n",
       "        vertical-align: middle;\n",
       "    }\n",
       "\n",
       "    .dataframe tbody tr th {\n",
       "        vertical-align: top;\n",
       "    }\n",
       "\n",
       "    .dataframe thead th {\n",
       "        text-align: right;\n",
       "    }\n",
       "</style>\n",
       "<table border=\"1\" class=\"dataframe\">\n",
       "  <thead>\n",
       "    <tr style=\"text-align: right;\">\n",
       "      <th></th>\n",
       "      <th>Block_ID</th>\n",
       "      <th>HDFS_BW</th>\n",
       "      <th>HDFSTranmissionTime</th>\n",
       "      <th>Mapper_ID</th>\n",
       "      <th>Mapper_VM_MIPS</th>\n",
       "      <th>MapExecutionTime</th>\n",
       "      <th>MapperBW</th>\n",
       "      <th>MapperTransmissionTime</th>\n",
       "      <th>Reducer_ID</th>\n",
       "      <th>Reducer_VM_MIPS</th>\n",
       "      <th>ReducerExecutionTime</th>\n",
       "      <th>ReducerBW</th>\n",
       "      <th>ReducerTransmissionTime</th>\n",
       "      <th>Block_ID.1</th>\n",
       "      <th>Block_BW</th>\n",
       "      <th>BlockTransmissionTime</th>\n",
       "      <th>TransactionTime</th>\n",
       "    </tr>\n",
       "  </thead>\n",
       "  <tbody>\n",
       "    <tr>\n",
       "      <th>0</th>\n",
       "      <td>HDFS_Block_208</td>\n",
       "      <td>11.81</td>\n",
       "      <td>80.63</td>\n",
       "      <td>mapper207</td>\n",
       "      <td>652289</td>\n",
       "      <td>765.49</td>\n",
       "      <td>30.00</td>\n",
       "      <td>2.53</td>\n",
       "      <td>reducer0</td>\n",
       "      <td>341739</td>\n",
       "      <td>480</td>\n",
       "      <td>3.80</td>\n",
       "      <td>250.14</td>\n",
       "      <td>reducer0_Block_1</td>\n",
       "      <td>0.0</td>\n",
       "      <td>0.00</td>\n",
       "      <td>1578.79</td>\n",
       "    </tr>\n",
       "    <tr>\n",
       "      <th>1</th>\n",
       "      <td>HDFS_Block_208</td>\n",
       "      <td>11.81</td>\n",
       "      <td>80.63</td>\n",
       "      <td>mapper207</td>\n",
       "      <td>652289</td>\n",
       "      <td>765.49</td>\n",
       "      <td>30.00</td>\n",
       "      <td>2.53</td>\n",
       "      <td>reducer1</td>\n",
       "      <td>150000</td>\n",
       "      <td>120</td>\n",
       "      <td>50.00</td>\n",
       "      <td>18.99</td>\n",
       "      <td>reducer1_Block_1</td>\n",
       "      <td>50.0</td>\n",
       "      <td>20.00</td>\n",
       "      <td>1007.64</td>\n",
       "    </tr>\n",
       "    <tr>\n",
       "      <th>2</th>\n",
       "      <td>HDFS_Block_208</td>\n",
       "      <td>11.81</td>\n",
       "      <td>80.63</td>\n",
       "      <td>mapper207</td>\n",
       "      <td>652289</td>\n",
       "      <td>765.49</td>\n",
       "      <td>16.76</td>\n",
       "      <td>3.25</td>\n",
       "      <td>reducer2</td>\n",
       "      <td>382530</td>\n",
       "      <td>480</td>\n",
       "      <td>4.48</td>\n",
       "      <td>212.22</td>\n",
       "      <td>reducer2_Block_1</td>\n",
       "      <td>3.7</td>\n",
       "      <td>270.02</td>\n",
       "      <td>1811.61</td>\n",
       "    </tr>\n",
       "    <tr>\n",
       "      <th>3</th>\n",
       "      <td>HDFS_Block_208</td>\n",
       "      <td>11.81</td>\n",
       "      <td>80.63</td>\n",
       "      <td>mapper207</td>\n",
       "      <td>652289</td>\n",
       "      <td>765.49</td>\n",
       "      <td>16.76</td>\n",
       "      <td>3.25</td>\n",
       "      <td>reducer3</td>\n",
       "      <td>150000</td>\n",
       "      <td>120</td>\n",
       "      <td>5.88</td>\n",
       "      <td>161.57</td>\n",
       "      <td>reducer3_Block_1</td>\n",
       "      <td>3.7</td>\n",
       "      <td>270.02</td>\n",
       "      <td>1400.96</td>\n",
       "    </tr>\n",
       "    <tr>\n",
       "      <th>4</th>\n",
       "      <td>HDFS_Block_208</td>\n",
       "      <td>11.81</td>\n",
       "      <td>80.63</td>\n",
       "      <td>mapper207</td>\n",
       "      <td>652289</td>\n",
       "      <td>765.49</td>\n",
       "      <td>18.41</td>\n",
       "      <td>4.16</td>\n",
       "      <td>reducer4</td>\n",
       "      <td>457419</td>\n",
       "      <td>480</td>\n",
       "      <td>5.88</td>\n",
       "      <td>161.53</td>\n",
       "      <td>reducer4_Block_1</td>\n",
       "      <td>3.7</td>\n",
       "      <td>270.02</td>\n",
       "      <td>1761.83</td>\n",
       "    </tr>\n",
       "  </tbody>\n",
       "</table>\n",
       "</div>"
      ],
      "text/plain": [
       "         Block_ID  HDFS_BW  HDFSTranmissionTime  Mapper_ID  Mapper_VM_MIPS  \\\n",
       "0  HDFS_Block_208    11.81                80.63  mapper207          652289   \n",
       "1  HDFS_Block_208    11.81                80.63  mapper207          652289   \n",
       "2  HDFS_Block_208    11.81                80.63  mapper207          652289   \n",
       "3  HDFS_Block_208    11.81                80.63  mapper207          652289   \n",
       "4  HDFS_Block_208    11.81                80.63  mapper207          652289   \n",
       "\n",
       "   MapExecutionTime   MapperBW  MapperTransmissionTime Reducer_ID  \\\n",
       "0             765.49     30.00                    2.53   reducer0   \n",
       "1             765.49     30.00                    2.53   reducer1   \n",
       "2             765.49     16.76                    3.25   reducer2   \n",
       "3             765.49     16.76                    3.25   reducer3   \n",
       "4             765.49     18.41                    4.16   reducer4   \n",
       "\n",
       "   Reducer_VM_MIPS  ReducerExecutionTime   ReducerBW  ReducerTransmissionTime  \\\n",
       "0           341739                    480       3.80                   250.14   \n",
       "1           150000                    120      50.00                    18.99   \n",
       "2           382530                    480       4.48                   212.22   \n",
       "3           150000                    120       5.88                   161.57   \n",
       "4           457419                    480       5.88                   161.53   \n",
       "\n",
       "         Block_ID.1  Block_BW  BlockTransmissionTime  TransactionTime  \n",
       "0  reducer0_Block_1       0.0                   0.00          1578.79  \n",
       "1  reducer1_Block_1      50.0                  20.00          1007.64  \n",
       "2  reducer2_Block_1       3.7                 270.02          1811.61  \n",
       "3  reducer3_Block_1       3.7                 270.02          1400.96  \n",
       "4  reducer4_Block_1       3.7                 270.02          1761.83  "
      ]
     },
     "execution_count": 21,
     "metadata": {},
     "output_type": "execute_result"
    }
   ],
   "source": [
    "# Import data\n",
    "df = pd.read_csv(\"C:\\\\Users\\\\Keir McGlinn-Shaw\\\\Documents\\\\Stage-3\\\\Dissertation\\\\Data\\\\Use\\\\BigPerfMetrics.csv\")\n",
    "\n",
    "df.head()"
   ]
  },
  {
   "cell_type": "markdown",
   "metadata": {},
   "source": [
    "#### Clean data of unwanted variables and missing values"
   ]
  },
  {
   "cell_type": "code",
   "execution_count": 22,
   "metadata": {},
   "outputs": [
    {
     "data": {
      "text/html": [
       "<div>\n",
       "<style scoped>\n",
       "    .dataframe tbody tr th:only-of-type {\n",
       "        vertical-align: middle;\n",
       "    }\n",
       "\n",
       "    .dataframe tbody tr th {\n",
       "        vertical-align: top;\n",
       "    }\n",
       "\n",
       "    .dataframe thead th {\n",
       "        text-align: right;\n",
       "    }\n",
       "</style>\n",
       "<table border=\"1\" class=\"dataframe\">\n",
       "  <thead>\n",
       "    <tr style=\"text-align: right;\">\n",
       "      <th></th>\n",
       "      <th>HDFS_BW</th>\n",
       "      <th>HDFSTranmissionTime</th>\n",
       "      <th>Mapper_VM_MIPS</th>\n",
       "      <th>MapExecutionTime</th>\n",
       "      <th>MapperBW</th>\n",
       "      <th>MapperTransmissionTime</th>\n",
       "      <th>Reducer_VM_MIPS</th>\n",
       "      <th>ReducerExecutionTime</th>\n",
       "      <th>ReducerBW</th>\n",
       "      <th>ReducerTransmissionTime</th>\n",
       "      <th>Block_BW</th>\n",
       "      <th>BlockTransmissionTime</th>\n",
       "      <th>TransactionTime</th>\n",
       "    </tr>\n",
       "  </thead>\n",
       "  <tbody>\n",
       "    <tr>\n",
       "      <th>0</th>\n",
       "      <td>11.81</td>\n",
       "      <td>80.63</td>\n",
       "      <td>652289</td>\n",
       "      <td>765.49</td>\n",
       "      <td>30.00</td>\n",
       "      <td>2.53</td>\n",
       "      <td>341739</td>\n",
       "      <td>480</td>\n",
       "      <td>3.80</td>\n",
       "      <td>250.14</td>\n",
       "      <td>0.0</td>\n",
       "      <td>0.00</td>\n",
       "      <td>1578.79</td>\n",
       "    </tr>\n",
       "    <tr>\n",
       "      <th>1</th>\n",
       "      <td>11.81</td>\n",
       "      <td>80.63</td>\n",
       "      <td>652289</td>\n",
       "      <td>765.49</td>\n",
       "      <td>30.00</td>\n",
       "      <td>2.53</td>\n",
       "      <td>150000</td>\n",
       "      <td>120</td>\n",
       "      <td>50.00</td>\n",
       "      <td>18.99</td>\n",
       "      <td>50.0</td>\n",
       "      <td>20.00</td>\n",
       "      <td>1007.64</td>\n",
       "    </tr>\n",
       "    <tr>\n",
       "      <th>2</th>\n",
       "      <td>11.81</td>\n",
       "      <td>80.63</td>\n",
       "      <td>652289</td>\n",
       "      <td>765.49</td>\n",
       "      <td>16.76</td>\n",
       "      <td>3.25</td>\n",
       "      <td>382530</td>\n",
       "      <td>480</td>\n",
       "      <td>4.48</td>\n",
       "      <td>212.22</td>\n",
       "      <td>3.7</td>\n",
       "      <td>270.02</td>\n",
       "      <td>1811.61</td>\n",
       "    </tr>\n",
       "    <tr>\n",
       "      <th>3</th>\n",
       "      <td>11.81</td>\n",
       "      <td>80.63</td>\n",
       "      <td>652289</td>\n",
       "      <td>765.49</td>\n",
       "      <td>16.76</td>\n",
       "      <td>3.25</td>\n",
       "      <td>150000</td>\n",
       "      <td>120</td>\n",
       "      <td>5.88</td>\n",
       "      <td>161.57</td>\n",
       "      <td>3.7</td>\n",
       "      <td>270.02</td>\n",
       "      <td>1400.96</td>\n",
       "    </tr>\n",
       "    <tr>\n",
       "      <th>4</th>\n",
       "      <td>11.81</td>\n",
       "      <td>80.63</td>\n",
       "      <td>652289</td>\n",
       "      <td>765.49</td>\n",
       "      <td>18.41</td>\n",
       "      <td>4.16</td>\n",
       "      <td>457419</td>\n",
       "      <td>480</td>\n",
       "      <td>5.88</td>\n",
       "      <td>161.53</td>\n",
       "      <td>3.7</td>\n",
       "      <td>270.02</td>\n",
       "      <td>1761.83</td>\n",
       "    </tr>\n",
       "  </tbody>\n",
       "</table>\n",
       "</div>"
      ],
      "text/plain": [
       "   HDFS_BW  HDFSTranmissionTime  Mapper_VM_MIPS  MapExecutionTime   MapperBW  \\\n",
       "0    11.81                80.63          652289             765.49     30.00   \n",
       "1    11.81                80.63          652289             765.49     30.00   \n",
       "2    11.81                80.63          652289             765.49     16.76   \n",
       "3    11.81                80.63          652289             765.49     16.76   \n",
       "4    11.81                80.63          652289             765.49     18.41   \n",
       "\n",
       "   MapperTransmissionTime  Reducer_VM_MIPS  ReducerExecutionTime   ReducerBW  \\\n",
       "0                    2.53           341739                    480       3.80   \n",
       "1                    2.53           150000                    120      50.00   \n",
       "2                    3.25           382530                    480       4.48   \n",
       "3                    3.25           150000                    120       5.88   \n",
       "4                    4.16           457419                    480       5.88   \n",
       "\n",
       "   ReducerTransmissionTime  Block_BW  BlockTransmissionTime  TransactionTime  \n",
       "0                   250.14       0.0                   0.00          1578.79  \n",
       "1                    18.99      50.0                  20.00          1007.64  \n",
       "2                   212.22       3.7                 270.02          1811.61  \n",
       "3                   161.57       3.7                 270.02          1400.96  \n",
       "4                   161.53       3.7                 270.02          1761.83  "
      ]
     },
     "execution_count": 22,
     "metadata": {},
     "output_type": "execute_result"
    }
   ],
   "source": [
    "# Clean data\n",
    "df.dropna()\n",
    "\n",
    "df.drop(labels=['Block_ID', 'Mapper_ID', 'Reducer_ID', 'Block_ID.1'], axis=1, inplace=True)\n",
    "\n",
    "df.head()"
   ]
  },
  {
   "cell_type": "markdown",
   "metadata": {},
   "source": [
    "#### Rename columns to better fit in drawn charts and for ease of use"
   ]
  },
  {
   "cell_type": "code",
   "execution_count": 23,
   "metadata": {},
   "outputs": [
    {
     "data": {
      "text/html": [
       "<div>\n",
       "<style scoped>\n",
       "    .dataframe tbody tr th:only-of-type {\n",
       "        vertical-align: middle;\n",
       "    }\n",
       "\n",
       "    .dataframe tbody tr th {\n",
       "        vertical-align: top;\n",
       "    }\n",
       "\n",
       "    .dataframe thead th {\n",
       "        text-align: right;\n",
       "    }\n",
       "</style>\n",
       "<table border=\"1\" class=\"dataframe\">\n",
       "  <thead>\n",
       "    <tr style=\"text-align: right;\">\n",
       "      <th></th>\n",
       "      <th>HBW</th>\n",
       "      <th>HTT</th>\n",
       "      <th>MMIPS</th>\n",
       "      <th>MET</th>\n",
       "      <th>MBW</th>\n",
       "      <th>MTT</th>\n",
       "      <th>RMIPS</th>\n",
       "      <th>RET</th>\n",
       "      <th>RBW</th>\n",
       "      <th>RTT</th>\n",
       "      <th>BBW</th>\n",
       "      <th>BTT</th>\n",
       "      <th>TT</th>\n",
       "    </tr>\n",
       "  </thead>\n",
       "  <tbody>\n",
       "    <tr>\n",
       "      <th>0</th>\n",
       "      <td>11.81</td>\n",
       "      <td>80.63</td>\n",
       "      <td>652289</td>\n",
       "      <td>765.49</td>\n",
       "      <td>30.00</td>\n",
       "      <td>2.53</td>\n",
       "      <td>341739</td>\n",
       "      <td>480</td>\n",
       "      <td>3.80</td>\n",
       "      <td>250.14</td>\n",
       "      <td>0.0</td>\n",
       "      <td>0.00</td>\n",
       "      <td>1578.79</td>\n",
       "    </tr>\n",
       "    <tr>\n",
       "      <th>1</th>\n",
       "      <td>11.81</td>\n",
       "      <td>80.63</td>\n",
       "      <td>652289</td>\n",
       "      <td>765.49</td>\n",
       "      <td>30.00</td>\n",
       "      <td>2.53</td>\n",
       "      <td>150000</td>\n",
       "      <td>120</td>\n",
       "      <td>50.00</td>\n",
       "      <td>18.99</td>\n",
       "      <td>50.0</td>\n",
       "      <td>20.00</td>\n",
       "      <td>1007.64</td>\n",
       "    </tr>\n",
       "    <tr>\n",
       "      <th>2</th>\n",
       "      <td>11.81</td>\n",
       "      <td>80.63</td>\n",
       "      <td>652289</td>\n",
       "      <td>765.49</td>\n",
       "      <td>16.76</td>\n",
       "      <td>3.25</td>\n",
       "      <td>382530</td>\n",
       "      <td>480</td>\n",
       "      <td>4.48</td>\n",
       "      <td>212.22</td>\n",
       "      <td>3.7</td>\n",
       "      <td>270.02</td>\n",
       "      <td>1811.61</td>\n",
       "    </tr>\n",
       "    <tr>\n",
       "      <th>3</th>\n",
       "      <td>11.81</td>\n",
       "      <td>80.63</td>\n",
       "      <td>652289</td>\n",
       "      <td>765.49</td>\n",
       "      <td>16.76</td>\n",
       "      <td>3.25</td>\n",
       "      <td>150000</td>\n",
       "      <td>120</td>\n",
       "      <td>5.88</td>\n",
       "      <td>161.57</td>\n",
       "      <td>3.7</td>\n",
       "      <td>270.02</td>\n",
       "      <td>1400.96</td>\n",
       "    </tr>\n",
       "    <tr>\n",
       "      <th>4</th>\n",
       "      <td>11.81</td>\n",
       "      <td>80.63</td>\n",
       "      <td>652289</td>\n",
       "      <td>765.49</td>\n",
       "      <td>18.41</td>\n",
       "      <td>4.16</td>\n",
       "      <td>457419</td>\n",
       "      <td>480</td>\n",
       "      <td>5.88</td>\n",
       "      <td>161.53</td>\n",
       "      <td>3.7</td>\n",
       "      <td>270.02</td>\n",
       "      <td>1761.83</td>\n",
       "    </tr>\n",
       "    <tr>\n",
       "      <th>5</th>\n",
       "      <td>11.81</td>\n",
       "      <td>80.63</td>\n",
       "      <td>652289</td>\n",
       "      <td>765.49</td>\n",
       "      <td>18.41</td>\n",
       "      <td>4.16</td>\n",
       "      <td>150000</td>\n",
       "      <td>120</td>\n",
       "      <td>6.98</td>\n",
       "      <td>136.24</td>\n",
       "      <td>3.7</td>\n",
       "      <td>270.02</td>\n",
       "      <td>1376.54</td>\n",
       "    </tr>\n",
       "    <tr>\n",
       "      <th>6</th>\n",
       "      <td>11.81</td>\n",
       "      <td>80.63</td>\n",
       "      <td>652289</td>\n",
       "      <td>765.49</td>\n",
       "      <td>18.41</td>\n",
       "      <td>4.16</td>\n",
       "      <td>563904</td>\n",
       "      <td>480</td>\n",
       "      <td>3.80</td>\n",
       "      <td>250.14</td>\n",
       "      <td>3.7</td>\n",
       "      <td>270.02</td>\n",
       "      <td>1850.44</td>\n",
       "    </tr>\n",
       "    <tr>\n",
       "      <th>7</th>\n",
       "      <td>11.81</td>\n",
       "      <td>80.63</td>\n",
       "      <td>652289</td>\n",
       "      <td>765.49</td>\n",
       "      <td>18.41</td>\n",
       "      <td>4.16</td>\n",
       "      <td>150000</td>\n",
       "      <td>120</td>\n",
       "      <td>150.00</td>\n",
       "      <td>6.33</td>\n",
       "      <td>3.7</td>\n",
       "      <td>270.02</td>\n",
       "      <td>1246.63</td>\n",
       "    </tr>\n",
       "    <tr>\n",
       "      <th>8</th>\n",
       "      <td>11.81</td>\n",
       "      <td>80.63</td>\n",
       "      <td>652289</td>\n",
       "      <td>765.49</td>\n",
       "      <td>18.41</td>\n",
       "      <td>4.16</td>\n",
       "      <td>430890</td>\n",
       "      <td>480</td>\n",
       "      <td>3.80</td>\n",
       "      <td>250.14</td>\n",
       "      <td>3.7</td>\n",
       "      <td>270.02</td>\n",
       "      <td>1850.44</td>\n",
       "    </tr>\n",
       "    <tr>\n",
       "      <th>9</th>\n",
       "      <td>11.81</td>\n",
       "      <td>80.63</td>\n",
       "      <td>652289</td>\n",
       "      <td>765.49</td>\n",
       "      <td>18.41</td>\n",
       "      <td>4.16</td>\n",
       "      <td>150000</td>\n",
       "      <td>120</td>\n",
       "      <td>150.00</td>\n",
       "      <td>6.33</td>\n",
       "      <td>3.7</td>\n",
       "      <td>270.02</td>\n",
       "      <td>1246.63</td>\n",
       "    </tr>\n",
       "  </tbody>\n",
       "</table>\n",
       "</div>"
      ],
      "text/plain": [
       "     HBW    HTT   MMIPS     MET    MBW   MTT   RMIPS  RET     RBW     RTT  \\\n",
       "0  11.81  80.63  652289  765.49  30.00  2.53  341739  480    3.80  250.14   \n",
       "1  11.81  80.63  652289  765.49  30.00  2.53  150000  120   50.00   18.99   \n",
       "2  11.81  80.63  652289  765.49  16.76  3.25  382530  480    4.48  212.22   \n",
       "3  11.81  80.63  652289  765.49  16.76  3.25  150000  120    5.88  161.57   \n",
       "4  11.81  80.63  652289  765.49  18.41  4.16  457419  480    5.88  161.53   \n",
       "5  11.81  80.63  652289  765.49  18.41  4.16  150000  120    6.98  136.24   \n",
       "6  11.81  80.63  652289  765.49  18.41  4.16  563904  480    3.80  250.14   \n",
       "7  11.81  80.63  652289  765.49  18.41  4.16  150000  120  150.00    6.33   \n",
       "8  11.81  80.63  652289  765.49  18.41  4.16  430890  480    3.80  250.14   \n",
       "9  11.81  80.63  652289  765.49  18.41  4.16  150000  120  150.00    6.33   \n",
       "\n",
       "    BBW     BTT       TT  \n",
       "0   0.0    0.00  1578.79  \n",
       "1  50.0   20.00  1007.64  \n",
       "2   3.7  270.02  1811.61  \n",
       "3   3.7  270.02  1400.96  \n",
       "4   3.7  270.02  1761.83  \n",
       "5   3.7  270.02  1376.54  \n",
       "6   3.7  270.02  1850.44  \n",
       "7   3.7  270.02  1246.63  \n",
       "8   3.7  270.02  1850.44  \n",
       "9   3.7  270.02  1246.63  "
      ]
     },
     "execution_count": 23,
     "metadata": {},
     "output_type": "execute_result"
    }
   ],
   "source": [
    "# Rename column headers to abbreviations\n",
    "\n",
    "nodes = ['HBW', 'HTT', 'MMIPS', 'MET', 'MBW', 'MTT', 'RMIPS', 'RET', 'RBW', 'RTT', 'BBW', 'BTT', 'TT']\n",
    "\n",
    "df.columns = nodes\n",
    "\n",
    "df.head(10)"
   ]
  },
  {
   "cell_type": "markdown",
   "metadata": {},
   "source": [
    "#### Define funtion to discretise data into three catagories"
   ]
  },
  {
   "cell_type": "code",
   "execution_count": 24,
   "metadata": {},
   "outputs": [],
   "source": [
    "'''\n",
    "Splits data into three bins of equal size using: https://pandas.pydata.org/docs/reference/api/pandas.cut.html\n",
    "'''\n",
    "def split_tertiles(df):\n",
    "    tertile_labels = ['Very Low', 'Low', 'High', 'Very High']\n",
    "\n",
    "    tert_df = pd.DataFrame()\n",
    "\n",
    "    for column_name in df:\n",
    "        tert_df[column_name] = pd.cut(df[column_name], 4, labels=tertile_labels, ordered=True)\n",
    "\n",
    "    # Change type of values stored in dataframe to avoid errors arrising from using the Category type when the dataframe is fed into the pgmpy.metrics.metrics correlation_score function\n",
    "    tert_df = tert_df.astype('object')\n",
    "\n",
    "    return tert_df"
   ]
  },
  {
   "cell_type": "markdown",
   "metadata": {},
   "source": [
    "#### Discretise data into catagories"
   ]
  },
  {
   "cell_type": "code",
   "execution_count": 25,
   "metadata": {},
   "outputs": [
    {
     "data": {
      "text/html": [
       "<div>\n",
       "<style scoped>\n",
       "    .dataframe tbody tr th:only-of-type {\n",
       "        vertical-align: middle;\n",
       "    }\n",
       "\n",
       "    .dataframe tbody tr th {\n",
       "        vertical-align: top;\n",
       "    }\n",
       "\n",
       "    .dataframe thead th {\n",
       "        text-align: right;\n",
       "    }\n",
       "</style>\n",
       "<table border=\"1\" class=\"dataframe\">\n",
       "  <thead>\n",
       "    <tr style=\"text-align: right;\">\n",
       "      <th></th>\n",
       "      <th>HBW</th>\n",
       "      <th>HTT</th>\n",
       "      <th>MMIPS</th>\n",
       "      <th>MET</th>\n",
       "      <th>MBW</th>\n",
       "      <th>MTT</th>\n",
       "      <th>RMIPS</th>\n",
       "      <th>RET</th>\n",
       "      <th>RBW</th>\n",
       "      <th>RTT</th>\n",
       "      <th>BBW</th>\n",
       "      <th>BTT</th>\n",
       "      <th>TT</th>\n",
       "    </tr>\n",
       "  </thead>\n",
       "  <tbody>\n",
       "    <tr>\n",
       "      <th>0</th>\n",
       "      <td>Very High</td>\n",
       "      <td>Very Low</td>\n",
       "      <td>Very Low</td>\n",
       "      <td>Very Low</td>\n",
       "      <td>Very High</td>\n",
       "      <td>Very Low</td>\n",
       "      <td>Low</td>\n",
       "      <td>Very High</td>\n",
       "      <td>Very Low</td>\n",
       "      <td>Very High</td>\n",
       "      <td>Very Low</td>\n",
       "      <td>Very Low</td>\n",
       "      <td>Low</td>\n",
       "    </tr>\n",
       "    <tr>\n",
       "      <th>1</th>\n",
       "      <td>Very High</td>\n",
       "      <td>Very Low</td>\n",
       "      <td>Very Low</td>\n",
       "      <td>Very Low</td>\n",
       "      <td>Very High</td>\n",
       "      <td>Very Low</td>\n",
       "      <td>Very Low</td>\n",
       "      <td>Very Low</td>\n",
       "      <td>Low</td>\n",
       "      <td>Very Low</td>\n",
       "      <td>Very High</td>\n",
       "      <td>Very Low</td>\n",
       "      <td>Very Low</td>\n",
       "    </tr>\n",
       "    <tr>\n",
       "      <th>2</th>\n",
       "      <td>Very High</td>\n",
       "      <td>Very Low</td>\n",
       "      <td>Very Low</td>\n",
       "      <td>Very Low</td>\n",
       "      <td>High</td>\n",
       "      <td>Very Low</td>\n",
       "      <td>High</td>\n",
       "      <td>Very High</td>\n",
       "      <td>Very Low</td>\n",
       "      <td>Very High</td>\n",
       "      <td>Very Low</td>\n",
       "      <td>Very High</td>\n",
       "      <td>Low</td>\n",
       "    </tr>\n",
       "    <tr>\n",
       "      <th>3</th>\n",
       "      <td>Very High</td>\n",
       "      <td>Very Low</td>\n",
       "      <td>Very Low</td>\n",
       "      <td>Very Low</td>\n",
       "      <td>High</td>\n",
       "      <td>Very Low</td>\n",
       "      <td>Very Low</td>\n",
       "      <td>Very Low</td>\n",
       "      <td>Very Low</td>\n",
       "      <td>High</td>\n",
       "      <td>Very Low</td>\n",
       "      <td>Very High</td>\n",
       "      <td>Very Low</td>\n",
       "    </tr>\n",
       "    <tr>\n",
       "      <th>4</th>\n",
       "      <td>Very High</td>\n",
       "      <td>Very Low</td>\n",
       "      <td>Very Low</td>\n",
       "      <td>Very Low</td>\n",
       "      <td>High</td>\n",
       "      <td>Very Low</td>\n",
       "      <td>High</td>\n",
       "      <td>Very High</td>\n",
       "      <td>Very Low</td>\n",
       "      <td>High</td>\n",
       "      <td>Very Low</td>\n",
       "      <td>Very High</td>\n",
       "      <td>Low</td>\n",
       "    </tr>\n",
       "    <tr>\n",
       "      <th>5</th>\n",
       "      <td>Very High</td>\n",
       "      <td>Very Low</td>\n",
       "      <td>Very Low</td>\n",
       "      <td>Very Low</td>\n",
       "      <td>High</td>\n",
       "      <td>Very Low</td>\n",
       "      <td>Very Low</td>\n",
       "      <td>Very Low</td>\n",
       "      <td>Very Low</td>\n",
       "      <td>High</td>\n",
       "      <td>Very Low</td>\n",
       "      <td>Very High</td>\n",
       "      <td>Very Low</td>\n",
       "    </tr>\n",
       "    <tr>\n",
       "      <th>6</th>\n",
       "      <td>Very High</td>\n",
       "      <td>Very Low</td>\n",
       "      <td>Very Low</td>\n",
       "      <td>Very Low</td>\n",
       "      <td>High</td>\n",
       "      <td>Very Low</td>\n",
       "      <td>Very High</td>\n",
       "      <td>Very High</td>\n",
       "      <td>Very Low</td>\n",
       "      <td>Very High</td>\n",
       "      <td>Very Low</td>\n",
       "      <td>Very High</td>\n",
       "      <td>Low</td>\n",
       "    </tr>\n",
       "    <tr>\n",
       "      <th>7</th>\n",
       "      <td>Very High</td>\n",
       "      <td>Very Low</td>\n",
       "      <td>Very Low</td>\n",
       "      <td>Very Low</td>\n",
       "      <td>High</td>\n",
       "      <td>Very Low</td>\n",
       "      <td>Very Low</td>\n",
       "      <td>Very Low</td>\n",
       "      <td>Very High</td>\n",
       "      <td>Very Low</td>\n",
       "      <td>Very Low</td>\n",
       "      <td>Very High</td>\n",
       "      <td>Very Low</td>\n",
       "    </tr>\n",
       "    <tr>\n",
       "      <th>8</th>\n",
       "      <td>Very High</td>\n",
       "      <td>Very Low</td>\n",
       "      <td>Very Low</td>\n",
       "      <td>Very Low</td>\n",
       "      <td>High</td>\n",
       "      <td>Very Low</td>\n",
       "      <td>High</td>\n",
       "      <td>Very High</td>\n",
       "      <td>Very Low</td>\n",
       "      <td>Very High</td>\n",
       "      <td>Very Low</td>\n",
       "      <td>Very High</td>\n",
       "      <td>Low</td>\n",
       "    </tr>\n",
       "    <tr>\n",
       "      <th>9</th>\n",
       "      <td>Very High</td>\n",
       "      <td>Very Low</td>\n",
       "      <td>Very Low</td>\n",
       "      <td>Very Low</td>\n",
       "      <td>High</td>\n",
       "      <td>Very Low</td>\n",
       "      <td>Very Low</td>\n",
       "      <td>Very Low</td>\n",
       "      <td>Very High</td>\n",
       "      <td>Very Low</td>\n",
       "      <td>Very Low</td>\n",
       "      <td>Very High</td>\n",
       "      <td>Very Low</td>\n",
       "    </tr>\n",
       "  </tbody>\n",
       "</table>\n",
       "</div>"
      ],
      "text/plain": [
       "         HBW       HTT     MMIPS       MET        MBW       MTT      RMIPS  \\\n",
       "0  Very High  Very Low  Very Low  Very Low  Very High  Very Low        Low   \n",
       "1  Very High  Very Low  Very Low  Very Low  Very High  Very Low   Very Low   \n",
       "2  Very High  Very Low  Very Low  Very Low       High  Very Low       High   \n",
       "3  Very High  Very Low  Very Low  Very Low       High  Very Low   Very Low   \n",
       "4  Very High  Very Low  Very Low  Very Low       High  Very Low       High   \n",
       "5  Very High  Very Low  Very Low  Very Low       High  Very Low   Very Low   \n",
       "6  Very High  Very Low  Very Low  Very Low       High  Very Low  Very High   \n",
       "7  Very High  Very Low  Very Low  Very Low       High  Very Low   Very Low   \n",
       "8  Very High  Very Low  Very Low  Very Low       High  Very Low       High   \n",
       "9  Very High  Very Low  Very Low  Very Low       High  Very Low   Very Low   \n",
       "\n",
       "         RET        RBW        RTT        BBW        BTT        TT  \n",
       "0  Very High   Very Low  Very High   Very Low   Very Low       Low  \n",
       "1   Very Low        Low   Very Low  Very High   Very Low  Very Low  \n",
       "2  Very High   Very Low  Very High   Very Low  Very High       Low  \n",
       "3   Very Low   Very Low       High   Very Low  Very High  Very Low  \n",
       "4  Very High   Very Low       High   Very Low  Very High       Low  \n",
       "5   Very Low   Very Low       High   Very Low  Very High  Very Low  \n",
       "6  Very High   Very Low  Very High   Very Low  Very High       Low  \n",
       "7   Very Low  Very High   Very Low   Very Low  Very High  Very Low  \n",
       "8  Very High   Very Low  Very High   Very Low  Very High       Low  \n",
       "9   Very Low  Very High   Very Low   Very Low  Very High  Very Low  "
      ]
     },
     "execution_count": 25,
     "metadata": {},
     "output_type": "execute_result"
    }
   ],
   "source": [
    "cat_df = split_tertiles(df)\n",
    "\n",
    "cat_df.head(10)"
   ]
  },
  {
   "cell_type": "code",
   "execution_count": 26,
   "metadata": {},
   "outputs": [],
   "source": [
    "from sklearn.model_selection import train_test_split\n",
    "\n",
    "training_data, testing_data = train_test_split(cat_df, test_size=0.2, random_state=20)"
   ]
  },
  {
   "cell_type": "code",
   "execution_count": 27,
   "metadata": {},
   "outputs": [],
   "source": [
    "from itertools import combinations\n",
    "\n",
    "import networkx as nx\n",
    "from sklearn.metrics import f1_score, accuracy_score, precision_score, recall_score\n",
    "from pgmpy.models import BayesianModel, NaiveBayes, BayesianNetwork\n",
    "from pgmpy.estimators import PC, HillClimbSearch, ExhaustiveSearch\n",
    "from pgmpy.estimators import K2Score, BicScore, BDeuScore\n",
    "from pgmpy.estimators.CITests import chi_square, cressie_read, freeman_tuckey, g_sq, independence_match, log_likelihood\n",
    "from pgmpy.utils import get_example_model\n",
    "from pgmpy.sampling import BayesianModelSampling"
   ]
  },
  {
   "cell_type": "code",
   "execution_count": 28,
   "metadata": {},
   "outputs": [
    {
     "data": {
      "application/vnd.jupyter.widget-view+json": {
       "model_id": "f3802f45edfe4583b963d2572443f582",
       "version_major": 2,
       "version_minor": 0
      },
      "text/plain": [
       "  0%|          | 0/5 [00:00<?, ?it/s]"
      ]
     },
     "metadata": {},
     "output_type": "display_data"
    }
   ],
   "source": [
    "pc = PC(data=training_data)\n",
    "model = pc.estimate(variant='stable', ci_test=chi_square, return_type='dag', significance_level=0.25)"
   ]
  },
  {
   "cell_type": "code",
   "execution_count": 29,
   "metadata": {},
   "outputs": [],
   "source": [
    "bayes_model = BayesianNetwork(model)\n",
    "\n",
    "bayes_model.add_edge('MBW', 'MTT')"
   ]
  },
  {
   "cell_type": "code",
   "execution_count": 30,
   "metadata": {},
   "outputs": [
    {
     "data": {
      "text/html": [
       "<style>div.output_area pre {white-space: pre;}</style>"
      ],
      "text/plain": [
       "<IPython.core.display.HTML object>"
      ]
     },
     "metadata": {},
     "output_type": "display_data"
    }
   ],
   "source": [
    "from pgmpy.estimators import BayesianEstimator, MaximumLikelihoodEstimator\n",
    "from IPython.core.display import display, HTML\n",
    "\n",
    "# disable text wrapping in output cell\n",
    "display(HTML(\"<style>div.output_area pre {white-space: pre;}</style>\"))\n",
    "\n",
    "bayes_model.cpds = []\n",
    "\n",
    "bayes_model.fit(data=training_data,\n",
    "    estimator=BayesianEstimator,\n",
    "    prior_type='BDeu',\n",
    "    complete_samples_only=False)"
   ]
  },
  {
   "cell_type": "code",
   "execution_count": 40,
   "metadata": {},
   "outputs": [
    {
     "data": {
      "image/png": "[encoded data removed]",
      "text/plain": [
       "<Figure size 864x864 with 1 Axes>"
      ]
     },
     "metadata": {},
     "output_type": "display_data"
    }
   ],
   "source": [
    "plt.figure(3,figsize=(12,12)) \n",
    "G = nx.DiGraph()\n",
    "G.add_edges_from(bayes_model.edges)\n",
    "G.add_nodes_from(bayes_model.nodes)\n",
    "pos = nx.circular_layout(G)\n",
    "\n",
    "nx.draw(G,\n",
    "                pos=pos,\n",
    "                with_labels=True,\n",
    "                node_size=[2000,2000,2000,4000,2000,2000,2000,2000,2000,2000,2000,2000,2000],\n",
    "                arrowsize=30,\n",
    "                alpha=0.7,\n",
    "                font_weight=\"bold\",\n",
    "                width=2.0)  # Draw the original graph\n",
    "\n",
    "tt_g = G.subgraph(nodes=['TT'])\n",
    "nx.draw(tt_g, pos=pos, with_labels=False, arrowsize=0, node_size=4100, alpha=0.7, font_weight=\"bold\", node_color='#063970')\n",
    "plt.show()"
   ]
  },
  {
   "cell_type": "code",
   "execution_count": 32,
   "metadata": {},
   "outputs": [
    {
     "data": {
      "application/vnd.jupyter.widget-view+json": {
       "model_id": "0b9c545432974ca8b46e52a3d6645590",
       "version_major": 2,
       "version_minor": 0
      },
      "text/plain": [
       "  0%|          | 0/150 [00:00<?, ?it/s]"
      ]
     },
     "metadata": {},
     "output_type": "display_data"
    },
    {
     "name": "stdout",
     "output_type": "stream",
     "text": [
      "HBW Accuracy score: 0.9940944881889764\n"
     ]
    },
    {
     "name": "stderr",
     "output_type": "stream",
     "text": [
      "c:\\Python310\\lib\\site-packages\\pgmpy\\models\\BayesianNetwork.py:747: FutureWarning: Passing a set as an indexer is deprecated and will raise in a future version. Use a list instead.\n",
      "  return data.merge(data_with_results, how=\"left\").loc[:, missing_variables]\n"
     ]
    },
    {
     "data": {
      "application/vnd.jupyter.widget-view+json": {
       "model_id": "23fba946e3984552b848709f7c5ddf4b",
       "version_major": 2,
       "version_minor": 0
      },
      "text/plain": [
       "  0%|          | 0/152 [00:00<?, ?it/s]"
      ]
     },
     "metadata": {},
     "output_type": "display_data"
    },
    {
     "name": "stdout",
     "output_type": "stream",
     "text": [
      "HTT Accuracy score: 0.9940944881889764\n"
     ]
    },
    {
     "name": "stderr",
     "output_type": "stream",
     "text": [
      "c:\\Python310\\lib\\site-packages\\pgmpy\\models\\BayesianNetwork.py:747: FutureWarning: Passing a set as an indexer is deprecated and will raise in a future version. Use a list instead.\n",
      "  return data.merge(data_with_results, how=\"left\").loc[:, missing_variables]\n"
     ]
    },
    {
     "data": {
      "application/vnd.jupyter.widget-view+json": {
       "model_id": "696702c78b034155a05b3ddb43c981c9",
       "version_major": 2,
       "version_minor": 0
      },
      "text/plain": [
       "  0%|          | 0/153 [00:00<?, ?it/s]"
      ]
     },
     "metadata": {},
     "output_type": "display_data"
    },
    {
     "name": "stdout",
     "output_type": "stream",
     "text": [
      "MMIPS Accuracy score: 1.0\n"
     ]
    },
    {
     "name": "stderr",
     "output_type": "stream",
     "text": [
      "c:\\Python310\\lib\\site-packages\\pgmpy\\models\\BayesianNetwork.py:747: FutureWarning: Passing a set as an indexer is deprecated and will raise in a future version. Use a list instead.\n",
      "  return data.merge(data_with_results, how=\"left\").loc[:, missing_variables]\n"
     ]
    },
    {
     "data": {
      "application/vnd.jupyter.widget-view+json": {
       "model_id": "6451c538e9c243b6a89639eeef47850c",
       "version_major": 2,
       "version_minor": 0
      },
      "text/plain": [
       "  0%|          | 0/153 [00:00<?, ?it/s]"
      ]
     },
     "metadata": {},
     "output_type": "display_data"
    },
    {
     "name": "stdout",
     "output_type": "stream",
     "text": [
      "MET Accuracy score: 1.0\n"
     ]
    },
    {
     "name": "stderr",
     "output_type": "stream",
     "text": [
      "c:\\Python310\\lib\\site-packages\\pgmpy\\models\\BayesianNetwork.py:747: FutureWarning: Passing a set as an indexer is deprecated and will raise in a future version. Use a list instead.\n",
      "  return data.merge(data_with_results, how=\"left\").loc[:, missing_variables]\n"
     ]
    },
    {
     "data": {
      "application/vnd.jupyter.widget-view+json": {
       "model_id": "cf11a4b5b8ca4b64b7a5a490a017cce3",
       "version_major": 2,
       "version_minor": 0
      },
      "text/plain": [
       "  0%|          | 0/138 [00:00<?, ?it/s]"
      ]
     },
     "metadata": {},
     "output_type": "display_data"
    },
    {
     "name": "stdout",
     "output_type": "stream",
     "text": [
      "MBW Accuracy score: 0.9173228346456693\n"
     ]
    },
    {
     "name": "stderr",
     "output_type": "stream",
     "text": [
      "c:\\Python310\\lib\\site-packages\\pgmpy\\models\\BayesianNetwork.py:747: FutureWarning: Passing a set as an indexer is deprecated and will raise in a future version. Use a list instead.\n",
      "  return data.merge(data_with_results, how=\"left\").loc[:, missing_variables]\n"
     ]
    },
    {
     "data": {
      "application/vnd.jupyter.widget-view+json": {
       "model_id": "62892e0734d543cb8bea10c228351f06",
       "version_major": 2,
       "version_minor": 0
      },
      "text/plain": [
       "  0%|          | 0/101 [00:00<?, ?it/s]"
      ]
     },
     "metadata": {},
     "output_type": "display_data"
    },
    {
     "name": "stdout",
     "output_type": "stream",
     "text": [
      "MTT Accuracy score: 0.7224409448818898\n"
     ]
    },
    {
     "name": "stderr",
     "output_type": "stream",
     "text": [
      "c:\\Python310\\lib\\site-packages\\pgmpy\\models\\BayesianNetwork.py:747: FutureWarning: Passing a set as an indexer is deprecated and will raise in a future version. Use a list instead.\n",
      "  return data.merge(data_with_results, how=\"left\").loc[:, missing_variables]\n"
     ]
    },
    {
     "data": {
      "application/vnd.jupyter.widget-view+json": {
       "model_id": "a873ec29c05c4080b3ef9182bfac6c7a",
       "version_major": 2,
       "version_minor": 0
      },
      "text/plain": [
       "  0%|          | 0/134 [00:00<?, ?it/s]"
      ]
     },
     "metadata": {},
     "output_type": "display_data"
    },
    {
     "name": "stdout",
     "output_type": "stream",
     "text": [
      "RMIPS Accuracy score: 0.8917322834645669\n"
     ]
    },
    {
     "name": "stderr",
     "output_type": "stream",
     "text": [
      "c:\\Python310\\lib\\site-packages\\pgmpy\\models\\BayesianNetwork.py:747: FutureWarning: Passing a set as an indexer is deprecated and will raise in a future version. Use a list instead.\n",
      "  return data.merge(data_with_results, how=\"left\").loc[:, missing_variables]\n"
     ]
    },
    {
     "data": {
      "application/vnd.jupyter.widget-view+json": {
       "model_id": "b5e8d6caf8c946ad9f311463857f867f",
       "version_major": 2,
       "version_minor": 0
      },
      "text/plain": [
       "  0%|          | 0/153 [00:00<?, ?it/s]"
      ]
     },
     "metadata": {},
     "output_type": "display_data"
    },
    {
     "name": "stdout",
     "output_type": "stream",
     "text": [
      "RET Accuracy score: 1.0\n"
     ]
    },
    {
     "name": "stderr",
     "output_type": "stream",
     "text": [
      "c:\\Python310\\lib\\site-packages\\pgmpy\\models\\BayesianNetwork.py:747: FutureWarning: Passing a set as an indexer is deprecated and will raise in a future version. Use a list instead.\n",
      "  return data.merge(data_with_results, how=\"left\").loc[:, missing_variables]\n"
     ]
    },
    {
     "data": {
      "application/vnd.jupyter.widget-view+json": {
       "model_id": "613a44bb7b9f48baadf8c96615000f9c",
       "version_major": 2,
       "version_minor": 0
      },
      "text/plain": [
       "  0%|          | 0/153 [00:00<?, ?it/s]"
      ]
     },
     "metadata": {},
     "output_type": "display_data"
    },
    {
     "name": "stdout",
     "output_type": "stream",
     "text": [
      "RBW Accuracy score: 1.0\n"
     ]
    },
    {
     "name": "stderr",
     "output_type": "stream",
     "text": [
      "c:\\Python310\\lib\\site-packages\\pgmpy\\models\\BayesianNetwork.py:747: FutureWarning: Passing a set as an indexer is deprecated and will raise in a future version. Use a list instead.\n",
      "  return data.merge(data_with_results, how=\"left\").loc[:, missing_variables]\n"
     ]
    },
    {
     "data": {
      "application/vnd.jupyter.widget-view+json": {
       "model_id": "7cc67f9c26cd43daa0a8673d6d21e789",
       "version_major": 2,
       "version_minor": 0
      },
      "text/plain": [
       "  0%|          | 0/141 [00:00<?, ?it/s]"
      ]
     },
     "metadata": {},
     "output_type": "display_data"
    },
    {
     "name": "stdout",
     "output_type": "stream",
     "text": [
      "RTT Accuracy score: 0.8996062992125984\n"
     ]
    },
    {
     "name": "stderr",
     "output_type": "stream",
     "text": [
      "c:\\Python310\\lib\\site-packages\\pgmpy\\models\\BayesianNetwork.py:747: FutureWarning: Passing a set as an indexer is deprecated and will raise in a future version. Use a list instead.\n",
      "  return data.merge(data_with_results, how=\"left\").loc[:, missing_variables]\n"
     ]
    },
    {
     "data": {
      "application/vnd.jupyter.widget-view+json": {
       "model_id": "593d8aadd39a432189aab9a9aea94edc",
       "version_major": 2,
       "version_minor": 0
      },
      "text/plain": [
       "  0%|          | 0/153 [00:00<?, ?it/s]"
      ]
     },
     "metadata": {},
     "output_type": "display_data"
    },
    {
     "name": "stdout",
     "output_type": "stream",
     "text": [
      "BBW Accuracy score: 1.0\n"
     ]
    },
    {
     "name": "stderr",
     "output_type": "stream",
     "text": [
      "c:\\Python310\\lib\\site-packages\\pgmpy\\models\\BayesianNetwork.py:747: FutureWarning: Passing a set as an indexer is deprecated and will raise in a future version. Use a list instead.\n",
      "  return data.merge(data_with_results, how=\"left\").loc[:, missing_variables]\n"
     ]
    },
    {
     "data": {
      "application/vnd.jupyter.widget-view+json": {
       "model_id": "6f3df3c8e60748609d893814084e5c0b",
       "version_major": 2,
       "version_minor": 0
      },
      "text/plain": [
       "  0%|          | 0/153 [00:00<?, ?it/s]"
      ]
     },
     "metadata": {},
     "output_type": "display_data"
    },
    {
     "name": "stdout",
     "output_type": "stream",
     "text": [
      "BTT Accuracy score: 1.0\n"
     ]
    },
    {
     "name": "stderr",
     "output_type": "stream",
     "text": [
      "c:\\Python310\\lib\\site-packages\\pgmpy\\models\\BayesianNetwork.py:747: FutureWarning: Passing a set as an indexer is deprecated and will raise in a future version. Use a list instead.\n",
      "  return data.merge(data_with_results, how=\"left\").loc[:, missing_variables]\n"
     ]
    },
    {
     "data": {
      "application/vnd.jupyter.widget-view+json": {
       "model_id": "920e08ffc520419c9f812c3ee692092e",
       "version_major": 2,
       "version_minor": 0
      },
      "text/plain": [
       "  0%|          | 0/137 [00:00<?, ?it/s]"
      ]
     },
     "metadata": {},
     "output_type": "display_data"
    },
    {
     "name": "stdout",
     "output_type": "stream",
     "text": [
      "TT Accuracy score: 0.8051181102362205\n"
     ]
    },
    {
     "name": "stderr",
     "output_type": "stream",
     "text": [
      "c:\\Python310\\lib\\site-packages\\pgmpy\\models\\BayesianNetwork.py:747: FutureWarning: Passing a set as an indexer is deprecated and will raise in a future version. Use a list instead.\n",
      "  return data.merge(data_with_results, how=\"left\").loc[:, missing_variables]\n"
     ]
    }
   ],
   "source": [
    "from pgmpy.metrics.metrics import correlation_score, log_likelihood_score, structure_score\n",
    "from sklearn.metrics import f1_score, accuracy_score, precision_score, recall_score\n",
    "\n",
    "accuracy_dict = {}\n",
    "\n",
    "for column in testing_data:\n",
    "    predict_data = testing_data.copy()\n",
    "    #test_data_without_unmodelled = testing_data.copy()\n",
    "    #test_data_without_unmodelled.drop('MBW', axis=1, inplace=True)\n",
    "    predict_data.drop(column, axis=1, inplace=True)\n",
    "    #predict_data.drop('MBW', axis=1, inplace=True)\n",
    "    \n",
    "    \n",
    "    y_pred = bayes_model.predict(predict_data)\n",
    "\n",
    "    accuracy = accuracy_score(testing_data[column], y_pred)\n",
    "    \n",
    "    # if len(testing_data[column].unique()) == 2:\n",
    "    #     precision = precision_score(testing_data[column], y_pred, pos_label='Low') #pos_label=testing_data[column].unique()\n",
    "    #     f1 = f1_score(testing_data[column], y_pred, pos_label='Low')\n",
    "    #     recall = recall_score(testing_data[column], y_pred, pos_label='Low')\n",
    "\n",
    "    # else:\n",
    "    #     precision = precision_score(testing_data[column], y_pred, average='micro') #pos_label=testing_data[column].unique()\n",
    "    #     f1 = f1_score(testing_data[column], y_pred, average='micro')\n",
    "    #     recall = recall_score(testing_data[column], y_pred, average='micro')\n",
    "\n",
    "    #print(f'{column} F1 score: {f1}')\n",
    "    print(f'{column} Accuracy score: {accuracy}')\n",
    "    #print(f'{column} Precision score: {precision}')\n",
    "    #print(f'{column} Recall score: {recall}')\n",
    "\n",
    "    accuracy_dict[column] = accuracy"
   ]
  },
  {
   "cell_type": "code",
   "execution_count": 33,
   "metadata": {},
   "outputs": [
    {
     "name": "stdout",
     "output_type": "stream",
     "text": [
      "F1 score: 0.782608695652174\n",
      "Accuracy score: 0.8076923076923077\n",
      "Precision score: 0.6428571428571429\n",
      "Recall score: 1.0\n",
      "Log-likilihood score: -2906.6835940717015\n",
      "Strcture score: -3214.7884126264084\n"
     ]
    }
   ],
   "source": [
    "f1 = correlation_score(model=bayes_model, data=testing_data, test='chi_square', significance_level=0.05, score=f1_score, return_summary=False)\n",
    "acc = correlation_score(model=bayes_model, data=testing_data, test='chi_square', significance_level=0.05, score=accuracy_score, return_summary=False)\n",
    "pr = correlation_score(model=bayes_model, data=testing_data, test='chi_square', significance_level=0.05, score=precision_score, return_summary=False)\n",
    "recall = correlation_score(model=bayes_model, data=testing_data, test='chi_square', significance_level=0.05, score=recall_score, return_summary=False)\n",
    "ls = log_likelihood_score(model=bayes_model, data=testing_data)\n",
    "ss = structure_score(model=bayes_model, data=testing_data, scoring_method='bdeu')\n",
    "\n",
    "\n",
    "print(f'F1 score: {f1}')\n",
    "print(f'Accuracy score: {acc}')\n",
    "print(f'Precision score: {pr}')\n",
    "print(f'Recall score: {recall}')\n",
    "print(f'Log-likilihood score: {ls}')\n",
    "print(f'Strcture score: {ss}')"
   ]
  },
  {
   "cell_type": "code",
   "execution_count": 34,
   "metadata": {},
   "outputs": [],
   "source": [
    "def store_metrics(metrics_file_name, model_name, f1, accuracy, precision, recall, log_likelihood_score, structure_score, accuracy_dict):\n",
    "    try: \n",
    "        df = pd.read_csv('Model-metrics.csv', header=0, index_col=False)\n",
    "    except:\n",
    "        df_columns = ['Model', 'F1', 'Accuracy', 'Precision', 'Recall', 'Log likelihood score', 'Structure score']\n",
    "\n",
    "        df = pd.DataFrame(columns=df_columns)\n",
    "\n",
    "    else:\n",
    "        df = df[df.Model != model_name]\n",
    "        \n",
    "    conv_dict = {}\n",
    "    for k, v in accuracy_dict.items():\n",
    "        conv_dict[k] = v*100\n",
    "    \n",
    "    new_row = {'Model': model_name, 'F1': f1, 'Accuracy': accuracy, 'Precision': precision, 'Recall': recall, 'Log likelihood score': log_likelihood_score, 'Structure score': structure_score,\n",
    "    'HBW prediction accuracy': conv_dict['HBW'], 'HTT prediction accuracy': conv_dict['HTT'], 'MMIPS prediction accuracy': conv_dict['MMIPS'], 'MET prediction accuracy': conv_dict['MET'],\n",
    "    'MBW prediction accuracy': conv_dict['MBW'], 'MTT prediction accuracy': conv_dict['MTT'], 'RMIPS prediction accuracy': conv_dict['RMIPS'], 'RET prediction accuracy': conv_dict['RET'],\n",
    "    'RBW prediction accuracy': conv_dict['RBW'], 'RTT prediction accuracy': conv_dict['RTT'], 'BBW prediction accuracy': conv_dict['BBW'], 'BTT prediction accuracy': conv_dict['BTT'],\n",
    "    'TT prediction accuracy': conv_dict['TT']}\n",
    "\n",
    "    df = df.append(new_row, ignore_index=True)\n",
    "\n",
    "    # Write to file\n",
    "    df.to_csv(metrics_file_name, index=False)"
   ]
  },
  {
   "cell_type": "code",
   "execution_count": 35,
   "metadata": {},
   "outputs": [
    {
     "name": "stderr",
     "output_type": "stream",
     "text": [
      "C:\\Users\\KEIRMC~1\\AppData\\Local\\Temp/ipykernel_19468/2438977843.py:22: FutureWarning: The frame.append method is deprecated and will be removed from pandas in a future version. Use pandas.concat instead.\n",
      "  df = df.append(new_row, ignore_index=True)\n"
     ]
    }
   ],
   "source": [
    "model_name = 'Constraint-based CBN'\n",
    "metrics_file_name = 'Model-metrics.csv'\n",
    "\n",
    "store_metrics(metrics_file_name=metrics_file_name, model_name=model_name, f1=f1, accuracy=acc, precision=pr, recall=recall, log_likelihood_score=ls, structure_score=ss, accuracy_dict=accuracy_dict)"
   ]
  },
  {
   "cell_type": "code",
   "execution_count": 36,
   "metadata": {},
   "outputs": [
    {
     "name": "stdout",
     "output_type": "stream",
     "text": [
      "Check model: True\n",
      "\n",
      "CPT of RET:\n",
      "+----------------+----------+\n",
      "| RET(Very High) | 0.496073 |\n",
      "+----------------+----------+\n",
      "| RET(Very Low)  | 0.503927 |\n",
      "+----------------+----------+ \n",
      "\n",
      "CPT of RTT:\n",
      "+----------------+-----+------------------------+\n",
      "| RET            | ... | RET(Very Low)          |\n",
      "+----------------+-----+------------------------+\n",
      "| RMIPS          | ... | RMIPS(Very Low)        |\n",
      "+----------------+-----+------------------------+\n",
      "| RTT(High)      | ... | 0.39937375462567604    |\n",
      "+----------------+-----+------------------------+\n",
      "| RTT(Very High) | ... | 0.00020332642023504534 |\n",
      "+----------------+-----+------------------------+\n",
      "| RTT(Very Low)  | ... | 0.600422918954089      |\n",
      "+----------------+-----+------------------------+ \n",
      "\n",
      "CPT of HTT:\n",
      "+----------------+-----------------------+---------------------+\n",
      "| HBW            | HBW(Very High)        | HBW(Very Low)       |\n",
      "+----------------+-----------------------+---------------------+\n",
      "| HTT(Very High) | 0.0011116051578479323 | 0.9821917808219178  |\n",
      "+----------------+-----------------------+---------------------+\n",
      "| HTT(Very Low)  | 0.9988883948421521    | 0.01780821917808219 |\n",
      "+----------------+-----------------------+---------------------+ \n",
      "\n",
      "CPT of TT:\n",
      "+---------------+-----+-----------------------+\n",
      "| HTT           | ... | HTT(Very Low)         |\n",
      "+---------------+-----+-----------------------+\n",
      "| MMIPS         | ... | MMIPS(Very Low)       |\n",
      "+---------------+-----+-----------------------+\n",
      "| RET           | ... | RET(Very Low)         |\n",
      "+---------------+-----+-----------------------+\n",
      "| TT(High)      | ... | 0.0006603275224511358 |\n",
      "+---------------+-----+-----------------------+\n",
      "| TT(Low)       | ... | 0.2711304807184363    |\n",
      "+---------------+-----+-----------------------+\n",
      "| TT(Very High) | ... | 0.0006603275224511358 |\n",
      "+---------------+-----+-----------------------+\n",
      "| TT(Very Low)  | ... | 0.7275488642366614    |\n",
      "+---------------+-----+-----------------------+ \n",
      "\n",
      "CPT of MBW:\n",
      "+----------------+-----+----------------------+\n",
      "| HTT            | ... | HTT(Very Low)        |\n",
      "+----------------+-----+----------------------+\n",
      "| MMIPS          | ... | MMIPS(Very Low)      |\n",
      "+----------------+-----+----------------------+\n",
      "| MBW(High)      | ... | 0.05513357778941854  |\n",
      "+----------------+-----+----------------------+\n",
      "| MBW(Low)       | ... | 0.009036144578313253 |\n",
      "+----------------+-----+----------------------+\n",
      "| MBW(Very High) | ... | 0.1389470927187009   |\n",
      "+----------------+-----+----------------------+\n",
      "| MBW(Very Low)  | ... | 0.7968831849135674   |\n",
      "+----------------+-----+----------------------+ \n",
      "\n",
      "CPT of MTT:\n",
      "+----------------+-----+---------------------+\n",
      "| HTT            | ... | HTT(Very Low)       |\n",
      "+----------------+-----+---------------------+\n",
      "| MBW            | ... | MBW(Very Low)       |\n",
      "+----------------+-----+---------------------+\n",
      "| MET            | ... | MET(Very Low)       |\n",
      "+----------------+-----+---------------------+\n",
      "| MMIPS          | ... | MMIPS(Very Low)     |\n",
      "+----------------+-----+---------------------+\n",
      "| MTT(High)      | ... | 0.578879753340185   |\n",
      "+----------------+-----+---------------------+\n",
      "| MTT(Low)       | ... | 0.06319630010277492 |\n",
      "+----------------+-----+---------------------+\n",
      "| MTT(Very High) | ... | 0.2526310380267215  |\n",
      "+----------------+-----+---------------------+\n",
      "| MTT(Very Low)  | ... | 0.1052929085303186  |\n",
      "+----------------+-----+---------------------+ \n",
      "\n",
      "CPT of RMIPS:\n",
      "+------------------+-----+----------------------+\n",
      "| BTT              | ... | BTT(Very Low)        |\n",
      "+------------------+-----+----------------------+\n",
      "| RET              | ... | RET(Very Low)        |\n",
      "+------------------+-----+----------------------+\n",
      "| RMIPS(High)      | ... | 0.001560549313358302 |\n",
      "+------------------+-----+----------------------+\n",
      "| RMIPS(Low)       | ... | 0.001560549313358302 |\n",
      "+------------------+-----+----------------------+\n",
      "| RMIPS(Very High) | ... | 0.001560549313358302 |\n",
      "+------------------+-----+----------------------+\n",
      "| RMIPS(Very Low)  | ... | 0.9953183520599251   |\n",
      "+------------------+-----+----------------------+ \n",
      "\n",
      "CPT of RBW:\n",
      "+----------------+-----+-----------------------+\n",
      "| BBW            | ... | BBW(Very Low)         |\n",
      "+----------------+-----+-----------------------+\n",
      "| RET            | ... | RET(Very Low)         |\n",
      "+----------------+-----+-----------------------+\n",
      "| RMIPS          | ... | RMIPS(Very Low)       |\n",
      "+----------------+-----+-----------------------+\n",
      "| RTT            | ... | RTT(Very Low)         |\n",
      "+----------------+-----+-----------------------+\n",
      "| RBW(Low)       | ... | 8.344598541364176e-05 |\n",
      "+----------------+-----+-----------------------+\n",
      "| RBW(Very High) | ... | 0.9998331080291727    |\n",
      "+----------------+-----+-----------------------+\n",
      "| RBW(Very Low)  | ... | 8.344598541364176e-05 |\n",
      "+----------------+-----+-----------------------+ \n",
      "\n",
      "CPT of MET:\n",
      "+----------------+-----+----------------------+\n",
      "| MMIPS          | ... | MMIPS(Very Low)      |\n",
      "+----------------+-----+----------------------+\n",
      "| MET(High)      | ... | 0.000588235294117647 |\n",
      "+----------------+-----+----------------------+\n",
      "| MET(Low)       | ... | 0.000588235294117647 |\n",
      "+----------------+-----+----------------------+\n",
      "| MET(Very High) | ... | 0.000588235294117647 |\n",
      "+----------------+-----+----------------------+\n",
      "| MET(Very Low)  | ... | 0.9982352941176471   |\n",
      "+----------------+-----+----------------------+ \n",
      "\n",
      "CPT of MMIPS:\n",
      "+------------------+----------+\n",
      "| MMIPS(High)      | 0.216127 |\n",
      "+------------------+----------+\n",
      "| MMIPS(Low)       | 0.247054 |\n",
      "+------------------+----------+\n",
      "| MMIPS(Very High) | 0.276019 |\n",
      "+------------------+----------+\n",
      "| MMIPS(Very Low)  | 0.2608   |\n",
      "+------------------+----------+ \n",
      "\n",
      "CPT of BBW:\n",
      "+----------------+-----+------------------------+\n",
      "| BTT            | ... | BTT(Very Low)          |\n",
      "+----------------+-----+------------------------+\n",
      "| RET            | ... | RET(Very Low)          |\n",
      "+----------------+-----+------------------------+\n",
      "| RMIPS          | ... | RMIPS(Very Low)        |\n",
      "+----------------+-----+------------------------+\n",
      "| RTT            | ... | RTT(Very Low)          |\n",
      "+----------------+-----+------------------------+\n",
      "| BBW(Very High) | ... | 0.9997384116354504     |\n",
      "+----------------+-----+------------------------+\n",
      "| BBW(Very Low)  | ... | 0.00026158836454954484 |\n",
      "+----------------+-----+------------------------+ \n",
      "\n",
      "CPT of BTT:\n",
      "+----------------+----------+\n",
      "| BTT(Very High) | 0.801424 |\n",
      "+----------------+----------+\n",
      "| BTT(Very Low)  | 0.198576 |\n",
      "+----------------+----------+ \n",
      "\n",
      "CPT of HBW:\n",
      "+----------------+----------+\n",
      "| HBW(Very High) | 0.552037 |\n",
      "+----------------+----------+\n",
      "| HBW(Very Low)  | 0.447963 |\n",
      "+----------------+----------+ \n",
      "\n"
     ]
    }
   ],
   "source": [
    "print(f'Check model: {bayes_model.check_model()}\\n')\n",
    "for cpd in bayes_model.get_cpds():\n",
    "    print(f'CPT of {cpd.variable}:')\n",
    "    print(cpd, '\\n')"
   ]
  }
 ],
 "metadata": {
  "interpreter": {
   "hash": "369f2c481f4da34e4445cda3fffd2e751bd1c4d706f27375911949ba6bb62e1c"
  },
  "kernelspec": {
   "display_name": "Python 3.10.0 64-bit",
   "language": "python",
   "name": "python3"
  },
  "language_info": {
   "codemirror_mode": {
    "name": "ipython",
    "version": 3
   },
   "file_extension": ".py",
   "mimetype": "text/x-python",
   "name": "python",
   "nbconvert_exporter": "python",
   "pygments_lexer": "ipython3",
   "version": "3.10.0"
  },
  "orig_nbformat": 4
 },
 "nbformat": 4,
 "nbformat_minor": 2
}
