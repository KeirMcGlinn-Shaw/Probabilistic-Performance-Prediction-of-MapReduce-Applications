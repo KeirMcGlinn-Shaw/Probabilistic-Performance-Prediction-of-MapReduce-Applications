{
 "cells": [
  {
   "cell_type": "markdown",
   "metadata": {},
   "source": [
    "# Complex Bayesian Network notebook"
   ]
  },
  {
   "cell_type": "markdown",
   "metadata": {},
   "source": [
    "#### Import dependencies"
   ]
  },
  {
   "cell_type": "code",
   "execution_count": 1,
   "metadata": {},
   "outputs": [],
   "source": [
    "# Import dependencies\n",
    "#%pip install pgmpy\n",
    "#%pip install tabulate\n",
    "#%pip install pandas\n",
    "#%pip install networkx\n",
    "#%pip install matplotlib"
   ]
  },
  {
   "cell_type": "markdown",
   "metadata": {},
   "source": [
    "#### Load libraries"
   ]
  },
  {
   "cell_type": "code",
   "execution_count": 2,
   "metadata": {},
   "outputs": [],
   "source": [
    "# Load libraries\n",
    "import pgmpy as pg\n",
    "import tabulate as tb\n",
    "import pandas as pd\n",
    "import numpy as np\n",
    "import networkx as nx\n",
    "import matplotlib.pyplot as plt\n",
    "import sklearn"
   ]
  },
  {
   "cell_type": "markdown",
   "metadata": {},
   "source": [
    "## Data import and cleaning"
   ]
  },
  {
   "cell_type": "markdown",
   "metadata": {},
   "source": [
    "#### Import BigPerf data"
   ]
  },
  {
   "cell_type": "code",
   "execution_count": 3,
   "metadata": {},
   "outputs": [
    {
     "data": {
      "text/html": [
       "<div>\n",
       "<style scoped>\n",
       "    .dataframe tbody tr th:only-of-type {\n",
       "        vertical-align: middle;\n",
       "    }\n",
       "\n",
       "    .dataframe tbody tr th {\n",
       "        vertical-align: top;\n",
       "    }\n",
       "\n",
       "    .dataframe thead th {\n",
       "        text-align: right;\n",
       "    }\n",
       "</style>\n",
       "<table border=\"1\" class=\"dataframe\">\n",
       "  <thead>\n",
       "    <tr style=\"text-align: right;\">\n",
       "      <th></th>\n",
       "      <th>Block_ID</th>\n",
       "      <th>HDFS_BW</th>\n",
       "      <th>HDFSTranmissionTime</th>\n",
       "      <th>Mapper_ID</th>\n",
       "      <th>Mapper_VM_MIPS</th>\n",
       "      <th>MapExecutionTime</th>\n",
       "      <th>MapperBW</th>\n",
       "      <th>MapperTransmissionTime</th>\n",
       "      <th>Reducer_ID</th>\n",
       "      <th>Reducer_VM_MIPS</th>\n",
       "      <th>ReducerExecutionTime</th>\n",
       "      <th>ReducerBW</th>\n",
       "      <th>ReducerTransmissionTime</th>\n",
       "      <th>Block_ID.1</th>\n",
       "      <th>Block_BW</th>\n",
       "      <th>BlockTransmissionTime</th>\n",
       "      <th>TransactionTime</th>\n",
       "    </tr>\n",
       "  </thead>\n",
       "  <tbody>\n",
       "    <tr>\n",
       "      <th>0</th>\n",
       "      <td>HDFS_Block_208</td>\n",
       "      <td>11.81</td>\n",
       "      <td>80.63</td>\n",
       "      <td>mapper207</td>\n",
       "      <td>652289</td>\n",
       "      <td>765.49</td>\n",
       "      <td>30.00</td>\n",
       "      <td>2.53</td>\n",
       "      <td>reducer0</td>\n",
       "      <td>341739</td>\n",
       "      <td>480</td>\n",
       "      <td>3.80</td>\n",
       "      <td>250.14</td>\n",
       "      <td>reducer0_Block_1</td>\n",
       "      <td>0.0</td>\n",
       "      <td>0.00</td>\n",
       "      <td>1578.79</td>\n",
       "    </tr>\n",
       "    <tr>\n",
       "      <th>1</th>\n",
       "      <td>HDFS_Block_208</td>\n",
       "      <td>11.81</td>\n",
       "      <td>80.63</td>\n",
       "      <td>mapper207</td>\n",
       "      <td>652289</td>\n",
       "      <td>765.49</td>\n",
       "      <td>30.00</td>\n",
       "      <td>2.53</td>\n",
       "      <td>reducer1</td>\n",
       "      <td>150000</td>\n",
       "      <td>120</td>\n",
       "      <td>50.00</td>\n",
       "      <td>18.99</td>\n",
       "      <td>reducer1_Block_1</td>\n",
       "      <td>50.0</td>\n",
       "      <td>20.00</td>\n",
       "      <td>1007.64</td>\n",
       "    </tr>\n",
       "    <tr>\n",
       "      <th>2</th>\n",
       "      <td>HDFS_Block_208</td>\n",
       "      <td>11.81</td>\n",
       "      <td>80.63</td>\n",
       "      <td>mapper207</td>\n",
       "      <td>652289</td>\n",
       "      <td>765.49</td>\n",
       "      <td>16.76</td>\n",
       "      <td>3.25</td>\n",
       "      <td>reducer2</td>\n",
       "      <td>382530</td>\n",
       "      <td>480</td>\n",
       "      <td>4.48</td>\n",
       "      <td>212.22</td>\n",
       "      <td>reducer2_Block_1</td>\n",
       "      <td>3.7</td>\n",
       "      <td>270.02</td>\n",
       "      <td>1811.61</td>\n",
       "    </tr>\n",
       "    <tr>\n",
       "      <th>3</th>\n",
       "      <td>HDFS_Block_208</td>\n",
       "      <td>11.81</td>\n",
       "      <td>80.63</td>\n",
       "      <td>mapper207</td>\n",
       "      <td>652289</td>\n",
       "      <td>765.49</td>\n",
       "      <td>16.76</td>\n",
       "      <td>3.25</td>\n",
       "      <td>reducer3</td>\n",
       "      <td>150000</td>\n",
       "      <td>120</td>\n",
       "      <td>5.88</td>\n",
       "      <td>161.57</td>\n",
       "      <td>reducer3_Block_1</td>\n",
       "      <td>3.7</td>\n",
       "      <td>270.02</td>\n",
       "      <td>1400.96</td>\n",
       "    </tr>\n",
       "    <tr>\n",
       "      <th>4</th>\n",
       "      <td>HDFS_Block_208</td>\n",
       "      <td>11.81</td>\n",
       "      <td>80.63</td>\n",
       "      <td>mapper207</td>\n",
       "      <td>652289</td>\n",
       "      <td>765.49</td>\n",
       "      <td>18.41</td>\n",
       "      <td>4.16</td>\n",
       "      <td>reducer4</td>\n",
       "      <td>457419</td>\n",
       "      <td>480</td>\n",
       "      <td>5.88</td>\n",
       "      <td>161.53</td>\n",
       "      <td>reducer4_Block_1</td>\n",
       "      <td>3.7</td>\n",
       "      <td>270.02</td>\n",
       "      <td>1761.83</td>\n",
       "    </tr>\n",
       "  </tbody>\n",
       "</table>\n",
       "</div>"
      ],
      "text/plain": [
       "         Block_ID  HDFS_BW  HDFSTranmissionTime  Mapper_ID  Mapper_VM_MIPS  \\\n",
       "0  HDFS_Block_208    11.81                80.63  mapper207          652289   \n",
       "1  HDFS_Block_208    11.81                80.63  mapper207          652289   \n",
       "2  HDFS_Block_208    11.81                80.63  mapper207          652289   \n",
       "3  HDFS_Block_208    11.81                80.63  mapper207          652289   \n",
       "4  HDFS_Block_208    11.81                80.63  mapper207          652289   \n",
       "\n",
       "   MapExecutionTime   MapperBW  MapperTransmissionTime Reducer_ID  \\\n",
       "0             765.49     30.00                    2.53   reducer0   \n",
       "1             765.49     30.00                    2.53   reducer1   \n",
       "2             765.49     16.76                    3.25   reducer2   \n",
       "3             765.49     16.76                    3.25   reducer3   \n",
       "4             765.49     18.41                    4.16   reducer4   \n",
       "\n",
       "   Reducer_VM_MIPS  ReducerExecutionTime   ReducerBW  ReducerTransmissionTime  \\\n",
       "0           341739                    480       3.80                   250.14   \n",
       "1           150000                    120      50.00                    18.99   \n",
       "2           382530                    480       4.48                   212.22   \n",
       "3           150000                    120       5.88                   161.57   \n",
       "4           457419                    480       5.88                   161.53   \n",
       "\n",
       "         Block_ID.1  Block_BW  BlockTransmissionTime  TransactionTime  \n",
       "0  reducer0_Block_1       0.0                   0.00          1578.79  \n",
       "1  reducer1_Block_1      50.0                  20.00          1007.64  \n",
       "2  reducer2_Block_1       3.7                 270.02          1811.61  \n",
       "3  reducer3_Block_1       3.7                 270.02          1400.96  \n",
       "4  reducer4_Block_1       3.7                 270.02          1761.83  "
      ]
     },
     "execution_count": 3,
     "metadata": {},
     "output_type": "execute_result"
    }
   ],
   "source": [
    "# Import data\n",
    "df = pd.read_csv(\"C:\\\\Users\\\\Keir McGlinn-Shaw\\\\Documents\\\\Stage-3\\\\Dissertation\\\\Data\\\\Use\\\\BigPerfMetrics.csv\")\n",
    "\n",
    "df.head()"
   ]
  },
  {
   "cell_type": "markdown",
   "metadata": {},
   "source": [
    "#### Clean data of unwanted variables and missing values"
   ]
  },
  {
   "cell_type": "code",
   "execution_count": 4,
   "metadata": {},
   "outputs": [
    {
     "data": {
      "text/html": [
       "<div>\n",
       "<style scoped>\n",
       "    .dataframe tbody tr th:only-of-type {\n",
       "        vertical-align: middle;\n",
       "    }\n",
       "\n",
       "    .dataframe tbody tr th {\n",
       "        vertical-align: top;\n",
       "    }\n",
       "\n",
       "    .dataframe thead th {\n",
       "        text-align: right;\n",
       "    }\n",
       "</style>\n",
       "<table border=\"1\" class=\"dataframe\">\n",
       "  <thead>\n",
       "    <tr style=\"text-align: right;\">\n",
       "      <th></th>\n",
       "      <th>HDFS_BW</th>\n",
       "      <th>HDFSTranmissionTime</th>\n",
       "      <th>Mapper_VM_MIPS</th>\n",
       "      <th>MapExecutionTime</th>\n",
       "      <th>MapperBW</th>\n",
       "      <th>MapperTransmissionTime</th>\n",
       "      <th>Reducer_VM_MIPS</th>\n",
       "      <th>ReducerExecutionTime</th>\n",
       "      <th>ReducerBW</th>\n",
       "      <th>ReducerTransmissionTime</th>\n",
       "      <th>Block_BW</th>\n",
       "      <th>BlockTransmissionTime</th>\n",
       "      <th>TransactionTime</th>\n",
       "    </tr>\n",
       "  </thead>\n",
       "  <tbody>\n",
       "    <tr>\n",
       "      <th>0</th>\n",
       "      <td>11.81</td>\n",
       "      <td>80.63</td>\n",
       "      <td>652289</td>\n",
       "      <td>765.49</td>\n",
       "      <td>30.00</td>\n",
       "      <td>2.53</td>\n",
       "      <td>341739</td>\n",
       "      <td>480</td>\n",
       "      <td>3.80</td>\n",
       "      <td>250.14</td>\n",
       "      <td>0.0</td>\n",
       "      <td>0.00</td>\n",
       "      <td>1578.79</td>\n",
       "    </tr>\n",
       "    <tr>\n",
       "      <th>1</th>\n",
       "      <td>11.81</td>\n",
       "      <td>80.63</td>\n",
       "      <td>652289</td>\n",
       "      <td>765.49</td>\n",
       "      <td>30.00</td>\n",
       "      <td>2.53</td>\n",
       "      <td>150000</td>\n",
       "      <td>120</td>\n",
       "      <td>50.00</td>\n",
       "      <td>18.99</td>\n",
       "      <td>50.0</td>\n",
       "      <td>20.00</td>\n",
       "      <td>1007.64</td>\n",
       "    </tr>\n",
       "    <tr>\n",
       "      <th>2</th>\n",
       "      <td>11.81</td>\n",
       "      <td>80.63</td>\n",
       "      <td>652289</td>\n",
       "      <td>765.49</td>\n",
       "      <td>16.76</td>\n",
       "      <td>3.25</td>\n",
       "      <td>382530</td>\n",
       "      <td>480</td>\n",
       "      <td>4.48</td>\n",
       "      <td>212.22</td>\n",
       "      <td>3.7</td>\n",
       "      <td>270.02</td>\n",
       "      <td>1811.61</td>\n",
       "    </tr>\n",
       "    <tr>\n",
       "      <th>3</th>\n",
       "      <td>11.81</td>\n",
       "      <td>80.63</td>\n",
       "      <td>652289</td>\n",
       "      <td>765.49</td>\n",
       "      <td>16.76</td>\n",
       "      <td>3.25</td>\n",
       "      <td>150000</td>\n",
       "      <td>120</td>\n",
       "      <td>5.88</td>\n",
       "      <td>161.57</td>\n",
       "      <td>3.7</td>\n",
       "      <td>270.02</td>\n",
       "      <td>1400.96</td>\n",
       "    </tr>\n",
       "    <tr>\n",
       "      <th>4</th>\n",
       "      <td>11.81</td>\n",
       "      <td>80.63</td>\n",
       "      <td>652289</td>\n",
       "      <td>765.49</td>\n",
       "      <td>18.41</td>\n",
       "      <td>4.16</td>\n",
       "      <td>457419</td>\n",
       "      <td>480</td>\n",
       "      <td>5.88</td>\n",
       "      <td>161.53</td>\n",
       "      <td>3.7</td>\n",
       "      <td>270.02</td>\n",
       "      <td>1761.83</td>\n",
       "    </tr>\n",
       "  </tbody>\n",
       "</table>\n",
       "</div>"
      ],
      "text/plain": [
       "   HDFS_BW  HDFSTranmissionTime  Mapper_VM_MIPS  MapExecutionTime   MapperBW  \\\n",
       "0    11.81                80.63          652289             765.49     30.00   \n",
       "1    11.81                80.63          652289             765.49     30.00   \n",
       "2    11.81                80.63          652289             765.49     16.76   \n",
       "3    11.81                80.63          652289             765.49     16.76   \n",
       "4    11.81                80.63          652289             765.49     18.41   \n",
       "\n",
       "   MapperTransmissionTime  Reducer_VM_MIPS  ReducerExecutionTime   ReducerBW  \\\n",
       "0                    2.53           341739                    480       3.80   \n",
       "1                    2.53           150000                    120      50.00   \n",
       "2                    3.25           382530                    480       4.48   \n",
       "3                    3.25           150000                    120       5.88   \n",
       "4                    4.16           457419                    480       5.88   \n",
       "\n",
       "   ReducerTransmissionTime  Block_BW  BlockTransmissionTime  TransactionTime  \n",
       "0                   250.14       0.0                   0.00          1578.79  \n",
       "1                    18.99      50.0                  20.00          1007.64  \n",
       "2                   212.22       3.7                 270.02          1811.61  \n",
       "3                   161.57       3.7                 270.02          1400.96  \n",
       "4                   161.53       3.7                 270.02          1761.83  "
      ]
     },
     "execution_count": 4,
     "metadata": {},
     "output_type": "execute_result"
    }
   ],
   "source": [
    "# Clean data\n",
    "df.dropna()\n",
    "\n",
    "df.drop(labels=['Block_ID', 'Mapper_ID', 'Reducer_ID', 'Block_ID.1'], axis=1, inplace=True)\n",
    "\n",
    "df.head()"
   ]
  },
  {
   "cell_type": "markdown",
   "metadata": {},
   "source": [
    "#### Rename columns to better fit in drawn charts and for ease of use"
   ]
  },
  {
   "cell_type": "code",
   "execution_count": 5,
   "metadata": {},
   "outputs": [
    {
     "data": {
      "text/html": [
       "<div>\n",
       "<style scoped>\n",
       "    .dataframe tbody tr th:only-of-type {\n",
       "        vertical-align: middle;\n",
       "    }\n",
       "\n",
       "    .dataframe tbody tr th {\n",
       "        vertical-align: top;\n",
       "    }\n",
       "\n",
       "    .dataframe thead th {\n",
       "        text-align: right;\n",
       "    }\n",
       "</style>\n",
       "<table border=\"1\" class=\"dataframe\">\n",
       "  <thead>\n",
       "    <tr style=\"text-align: right;\">\n",
       "      <th></th>\n",
       "      <th>HBW</th>\n",
       "      <th>HTT</th>\n",
       "      <th>MMIPS</th>\n",
       "      <th>MET</th>\n",
       "      <th>MBW</th>\n",
       "      <th>MTT</th>\n",
       "      <th>RMIPS</th>\n",
       "      <th>RET</th>\n",
       "      <th>RBW</th>\n",
       "      <th>RTT</th>\n",
       "      <th>BBW</th>\n",
       "      <th>BTT</th>\n",
       "      <th>TT</th>\n",
       "    </tr>\n",
       "  </thead>\n",
       "  <tbody>\n",
       "    <tr>\n",
       "      <th>0</th>\n",
       "      <td>11.81</td>\n",
       "      <td>80.63</td>\n",
       "      <td>652289</td>\n",
       "      <td>765.49</td>\n",
       "      <td>30.00</td>\n",
       "      <td>2.53</td>\n",
       "      <td>341739</td>\n",
       "      <td>480</td>\n",
       "      <td>3.80</td>\n",
       "      <td>250.14</td>\n",
       "      <td>0.0</td>\n",
       "      <td>0.00</td>\n",
       "      <td>1578.79</td>\n",
       "    </tr>\n",
       "    <tr>\n",
       "      <th>1</th>\n",
       "      <td>11.81</td>\n",
       "      <td>80.63</td>\n",
       "      <td>652289</td>\n",
       "      <td>765.49</td>\n",
       "      <td>30.00</td>\n",
       "      <td>2.53</td>\n",
       "      <td>150000</td>\n",
       "      <td>120</td>\n",
       "      <td>50.00</td>\n",
       "      <td>18.99</td>\n",
       "      <td>50.0</td>\n",
       "      <td>20.00</td>\n",
       "      <td>1007.64</td>\n",
       "    </tr>\n",
       "    <tr>\n",
       "      <th>2</th>\n",
       "      <td>11.81</td>\n",
       "      <td>80.63</td>\n",
       "      <td>652289</td>\n",
       "      <td>765.49</td>\n",
       "      <td>16.76</td>\n",
       "      <td>3.25</td>\n",
       "      <td>382530</td>\n",
       "      <td>480</td>\n",
       "      <td>4.48</td>\n",
       "      <td>212.22</td>\n",
       "      <td>3.7</td>\n",
       "      <td>270.02</td>\n",
       "      <td>1811.61</td>\n",
       "    </tr>\n",
       "    <tr>\n",
       "      <th>3</th>\n",
       "      <td>11.81</td>\n",
       "      <td>80.63</td>\n",
       "      <td>652289</td>\n",
       "      <td>765.49</td>\n",
       "      <td>16.76</td>\n",
       "      <td>3.25</td>\n",
       "      <td>150000</td>\n",
       "      <td>120</td>\n",
       "      <td>5.88</td>\n",
       "      <td>161.57</td>\n",
       "      <td>3.7</td>\n",
       "      <td>270.02</td>\n",
       "      <td>1400.96</td>\n",
       "    </tr>\n",
       "    <tr>\n",
       "      <th>4</th>\n",
       "      <td>11.81</td>\n",
       "      <td>80.63</td>\n",
       "      <td>652289</td>\n",
       "      <td>765.49</td>\n",
       "      <td>18.41</td>\n",
       "      <td>4.16</td>\n",
       "      <td>457419</td>\n",
       "      <td>480</td>\n",
       "      <td>5.88</td>\n",
       "      <td>161.53</td>\n",
       "      <td>3.7</td>\n",
       "      <td>270.02</td>\n",
       "      <td>1761.83</td>\n",
       "    </tr>\n",
       "    <tr>\n",
       "      <th>5</th>\n",
       "      <td>11.81</td>\n",
       "      <td>80.63</td>\n",
       "      <td>652289</td>\n",
       "      <td>765.49</td>\n",
       "      <td>18.41</td>\n",
       "      <td>4.16</td>\n",
       "      <td>150000</td>\n",
       "      <td>120</td>\n",
       "      <td>6.98</td>\n",
       "      <td>136.24</td>\n",
       "      <td>3.7</td>\n",
       "      <td>270.02</td>\n",
       "      <td>1376.54</td>\n",
       "    </tr>\n",
       "    <tr>\n",
       "      <th>6</th>\n",
       "      <td>11.81</td>\n",
       "      <td>80.63</td>\n",
       "      <td>652289</td>\n",
       "      <td>765.49</td>\n",
       "      <td>18.41</td>\n",
       "      <td>4.16</td>\n",
       "      <td>563904</td>\n",
       "      <td>480</td>\n",
       "      <td>3.80</td>\n",
       "      <td>250.14</td>\n",
       "      <td>3.7</td>\n",
       "      <td>270.02</td>\n",
       "      <td>1850.44</td>\n",
       "    </tr>\n",
       "    <tr>\n",
       "      <th>7</th>\n",
       "      <td>11.81</td>\n",
       "      <td>80.63</td>\n",
       "      <td>652289</td>\n",
       "      <td>765.49</td>\n",
       "      <td>18.41</td>\n",
       "      <td>4.16</td>\n",
       "      <td>150000</td>\n",
       "      <td>120</td>\n",
       "      <td>150.00</td>\n",
       "      <td>6.33</td>\n",
       "      <td>3.7</td>\n",
       "      <td>270.02</td>\n",
       "      <td>1246.63</td>\n",
       "    </tr>\n",
       "    <tr>\n",
       "      <th>8</th>\n",
       "      <td>11.81</td>\n",
       "      <td>80.63</td>\n",
       "      <td>652289</td>\n",
       "      <td>765.49</td>\n",
       "      <td>18.41</td>\n",
       "      <td>4.16</td>\n",
       "      <td>430890</td>\n",
       "      <td>480</td>\n",
       "      <td>3.80</td>\n",
       "      <td>250.14</td>\n",
       "      <td>3.7</td>\n",
       "      <td>270.02</td>\n",
       "      <td>1850.44</td>\n",
       "    </tr>\n",
       "    <tr>\n",
       "      <th>9</th>\n",
       "      <td>11.81</td>\n",
       "      <td>80.63</td>\n",
       "      <td>652289</td>\n",
       "      <td>765.49</td>\n",
       "      <td>18.41</td>\n",
       "      <td>4.16</td>\n",
       "      <td>150000</td>\n",
       "      <td>120</td>\n",
       "      <td>150.00</td>\n",
       "      <td>6.33</td>\n",
       "      <td>3.7</td>\n",
       "      <td>270.02</td>\n",
       "      <td>1246.63</td>\n",
       "    </tr>\n",
       "  </tbody>\n",
       "</table>\n",
       "</div>"
      ],
      "text/plain": [
       "     HBW    HTT   MMIPS     MET    MBW   MTT   RMIPS  RET     RBW     RTT  \\\n",
       "0  11.81  80.63  652289  765.49  30.00  2.53  341739  480    3.80  250.14   \n",
       "1  11.81  80.63  652289  765.49  30.00  2.53  150000  120   50.00   18.99   \n",
       "2  11.81  80.63  652289  765.49  16.76  3.25  382530  480    4.48  212.22   \n",
       "3  11.81  80.63  652289  765.49  16.76  3.25  150000  120    5.88  161.57   \n",
       "4  11.81  80.63  652289  765.49  18.41  4.16  457419  480    5.88  161.53   \n",
       "5  11.81  80.63  652289  765.49  18.41  4.16  150000  120    6.98  136.24   \n",
       "6  11.81  80.63  652289  765.49  18.41  4.16  563904  480    3.80  250.14   \n",
       "7  11.81  80.63  652289  765.49  18.41  4.16  150000  120  150.00    6.33   \n",
       "8  11.81  80.63  652289  765.49  18.41  4.16  430890  480    3.80  250.14   \n",
       "9  11.81  80.63  652289  765.49  18.41  4.16  150000  120  150.00    6.33   \n",
       "\n",
       "    BBW     BTT       TT  \n",
       "0   0.0    0.00  1578.79  \n",
       "1  50.0   20.00  1007.64  \n",
       "2   3.7  270.02  1811.61  \n",
       "3   3.7  270.02  1400.96  \n",
       "4   3.7  270.02  1761.83  \n",
       "5   3.7  270.02  1376.54  \n",
       "6   3.7  270.02  1850.44  \n",
       "7   3.7  270.02  1246.63  \n",
       "8   3.7  270.02  1850.44  \n",
       "9   3.7  270.02  1246.63  "
      ]
     },
     "execution_count": 5,
     "metadata": {},
     "output_type": "execute_result"
    }
   ],
   "source": [
    "# Rename column headers to abbreviations\n",
    "\n",
    "nodes = ['HBW', 'HTT', 'MMIPS', 'MET', 'MBW', 'MTT', 'RMIPS', 'RET', 'RBW', 'RTT', 'BBW', 'BTT', 'TT']\n",
    "\n",
    "df.columns = nodes\n",
    "\n",
    "df.head(10)"
   ]
  },
  {
   "cell_type": "markdown",
   "metadata": {},
   "source": [
    "#### Define funtion to discretise data into three catagories"
   ]
  },
  {
   "cell_type": "code",
   "execution_count": 6,
   "metadata": {},
   "outputs": [],
   "source": [
    "'''\n",
    "Splits data into three bins of equal size using: https://pandas.pydata.org/docs/reference/api/pandas.cut.html\n",
    "'''\n",
    "def split_tertiles(df):\n",
    "    tertile_labels = ['Low', 'Medium', 'High']\n",
    "\n",
    "    tert_df = pd.DataFrame()\n",
    "\n",
    "    for column_name in df:\n",
    "        tert_df[column_name] = pd.cut(df[column_name], 3, labels=tertile_labels, ordered=True)\n",
    "\n",
    "    # Change type of values stored in dataframe to avoid errors arrising from using the Category type when the dataframe is fed into the pgmpy.metrics.metrics correlation_score function\n",
    "    tert_df = tert_df.astype('object')\n",
    "\n",
    "    return tert_df"
   ]
  },
  {
   "cell_type": "markdown",
   "metadata": {},
   "source": [
    "#### Discretise data into catagories"
   ]
  },
  {
   "cell_type": "code",
   "execution_count": 7,
   "metadata": {},
   "outputs": [
    {
     "data": {
      "text/html": [
       "<div>\n",
       "<style scoped>\n",
       "    .dataframe tbody tr th:only-of-type {\n",
       "        vertical-align: middle;\n",
       "    }\n",
       "\n",
       "    .dataframe tbody tr th {\n",
       "        vertical-align: top;\n",
       "    }\n",
       "\n",
       "    .dataframe thead th {\n",
       "        text-align: right;\n",
       "    }\n",
       "</style>\n",
       "<table border=\"1\" class=\"dataframe\">\n",
       "  <thead>\n",
       "    <tr style=\"text-align: right;\">\n",
       "      <th></th>\n",
       "      <th>HBW</th>\n",
       "      <th>HTT</th>\n",
       "      <th>MMIPS</th>\n",
       "      <th>MET</th>\n",
       "      <th>MBW</th>\n",
       "      <th>MTT</th>\n",
       "      <th>RMIPS</th>\n",
       "      <th>RET</th>\n",
       "      <th>RBW</th>\n",
       "      <th>RTT</th>\n",
       "      <th>BBW</th>\n",
       "      <th>BTT</th>\n",
       "      <th>TT</th>\n",
       "    </tr>\n",
       "  </thead>\n",
       "  <tbody>\n",
       "    <tr>\n",
       "      <th>0</th>\n",
       "      <td>High</td>\n",
       "      <td>Low</td>\n",
       "      <td>Low</td>\n",
       "      <td>Low</td>\n",
       "      <td>High</td>\n",
       "      <td>Low</td>\n",
       "      <td>Medium</td>\n",
       "      <td>High</td>\n",
       "      <td>Low</td>\n",
       "      <td>High</td>\n",
       "      <td>Low</td>\n",
       "      <td>Low</td>\n",
       "      <td>Low</td>\n",
       "    </tr>\n",
       "    <tr>\n",
       "      <th>1</th>\n",
       "      <td>High</td>\n",
       "      <td>Low</td>\n",
       "      <td>Low</td>\n",
       "      <td>Low</td>\n",
       "      <td>High</td>\n",
       "      <td>Low</td>\n",
       "      <td>Low</td>\n",
       "      <td>Low</td>\n",
       "      <td>Low</td>\n",
       "      <td>Low</td>\n",
       "      <td>High</td>\n",
       "      <td>Low</td>\n",
       "      <td>Low</td>\n",
       "    </tr>\n",
       "    <tr>\n",
       "      <th>2</th>\n",
       "      <td>High</td>\n",
       "      <td>Low</td>\n",
       "      <td>Low</td>\n",
       "      <td>Low</td>\n",
       "      <td>Medium</td>\n",
       "      <td>Low</td>\n",
       "      <td>Medium</td>\n",
       "      <td>High</td>\n",
       "      <td>Low</td>\n",
       "      <td>High</td>\n",
       "      <td>Low</td>\n",
       "      <td>High</td>\n",
       "      <td>Medium</td>\n",
       "    </tr>\n",
       "    <tr>\n",
       "      <th>3</th>\n",
       "      <td>High</td>\n",
       "      <td>Low</td>\n",
       "      <td>Low</td>\n",
       "      <td>Low</td>\n",
       "      <td>Medium</td>\n",
       "      <td>Low</td>\n",
       "      <td>Low</td>\n",
       "      <td>Low</td>\n",
       "      <td>Low</td>\n",
       "      <td>Medium</td>\n",
       "      <td>Low</td>\n",
       "      <td>High</td>\n",
       "      <td>Low</td>\n",
       "    </tr>\n",
       "    <tr>\n",
       "      <th>4</th>\n",
       "      <td>High</td>\n",
       "      <td>Low</td>\n",
       "      <td>Low</td>\n",
       "      <td>Low</td>\n",
       "      <td>Medium</td>\n",
       "      <td>Low</td>\n",
       "      <td>High</td>\n",
       "      <td>High</td>\n",
       "      <td>Low</td>\n",
       "      <td>Medium</td>\n",
       "      <td>Low</td>\n",
       "      <td>High</td>\n",
       "      <td>Medium</td>\n",
       "    </tr>\n",
       "    <tr>\n",
       "      <th>5</th>\n",
       "      <td>High</td>\n",
       "      <td>Low</td>\n",
       "      <td>Low</td>\n",
       "      <td>Low</td>\n",
       "      <td>Medium</td>\n",
       "      <td>Low</td>\n",
       "      <td>Low</td>\n",
       "      <td>Low</td>\n",
       "      <td>Low</td>\n",
       "      <td>Medium</td>\n",
       "      <td>Low</td>\n",
       "      <td>High</td>\n",
       "      <td>Low</td>\n",
       "    </tr>\n",
       "    <tr>\n",
       "      <th>6</th>\n",
       "      <td>High</td>\n",
       "      <td>Low</td>\n",
       "      <td>Low</td>\n",
       "      <td>Low</td>\n",
       "      <td>Medium</td>\n",
       "      <td>Low</td>\n",
       "      <td>High</td>\n",
       "      <td>High</td>\n",
       "      <td>Low</td>\n",
       "      <td>High</td>\n",
       "      <td>Low</td>\n",
       "      <td>High</td>\n",
       "      <td>Medium</td>\n",
       "    </tr>\n",
       "    <tr>\n",
       "      <th>7</th>\n",
       "      <td>High</td>\n",
       "      <td>Low</td>\n",
       "      <td>Low</td>\n",
       "      <td>Low</td>\n",
       "      <td>Medium</td>\n",
       "      <td>Low</td>\n",
       "      <td>Low</td>\n",
       "      <td>Low</td>\n",
       "      <td>High</td>\n",
       "      <td>Low</td>\n",
       "      <td>Low</td>\n",
       "      <td>High</td>\n",
       "      <td>Low</td>\n",
       "    </tr>\n",
       "    <tr>\n",
       "      <th>8</th>\n",
       "      <td>High</td>\n",
       "      <td>Low</td>\n",
       "      <td>Low</td>\n",
       "      <td>Low</td>\n",
       "      <td>Medium</td>\n",
       "      <td>Low</td>\n",
       "      <td>High</td>\n",
       "      <td>High</td>\n",
       "      <td>Low</td>\n",
       "      <td>High</td>\n",
       "      <td>Low</td>\n",
       "      <td>High</td>\n",
       "      <td>Medium</td>\n",
       "    </tr>\n",
       "    <tr>\n",
       "      <th>9</th>\n",
       "      <td>High</td>\n",
       "      <td>Low</td>\n",
       "      <td>Low</td>\n",
       "      <td>Low</td>\n",
       "      <td>Medium</td>\n",
       "      <td>Low</td>\n",
       "      <td>Low</td>\n",
       "      <td>Low</td>\n",
       "      <td>High</td>\n",
       "      <td>Low</td>\n",
       "      <td>Low</td>\n",
       "      <td>High</td>\n",
       "      <td>Low</td>\n",
       "    </tr>\n",
       "  </tbody>\n",
       "</table>\n",
       "</div>"
      ],
      "text/plain": [
       "    HBW  HTT MMIPS  MET     MBW  MTT   RMIPS   RET   RBW     RTT   BBW   BTT  \\\n",
       "0  High  Low   Low  Low    High  Low  Medium  High   Low    High   Low   Low   \n",
       "1  High  Low   Low  Low    High  Low     Low   Low   Low     Low  High   Low   \n",
       "2  High  Low   Low  Low  Medium  Low  Medium  High   Low    High   Low  High   \n",
       "3  High  Low   Low  Low  Medium  Low     Low   Low   Low  Medium   Low  High   \n",
       "4  High  Low   Low  Low  Medium  Low    High  High   Low  Medium   Low  High   \n",
       "5  High  Low   Low  Low  Medium  Low     Low   Low   Low  Medium   Low  High   \n",
       "6  High  Low   Low  Low  Medium  Low    High  High   Low    High   Low  High   \n",
       "7  High  Low   Low  Low  Medium  Low     Low   Low  High     Low   Low  High   \n",
       "8  High  Low   Low  Low  Medium  Low    High  High   Low    High   Low  High   \n",
       "9  High  Low   Low  Low  Medium  Low     Low   Low  High     Low   Low  High   \n",
       "\n",
       "       TT  \n",
       "0     Low  \n",
       "1     Low  \n",
       "2  Medium  \n",
       "3     Low  \n",
       "4  Medium  \n",
       "5     Low  \n",
       "6  Medium  \n",
       "7     Low  \n",
       "8  Medium  \n",
       "9     Low  "
      ]
     },
     "execution_count": 7,
     "metadata": {},
     "output_type": "execute_result"
    }
   ],
   "source": [
    "cat_df = split_tertiles(df)\n",
    "\n",
    "cat_df.head(10)"
   ]
  },
  {
   "cell_type": "code",
   "execution_count": 8,
   "metadata": {},
   "outputs": [],
   "source": [
    "from sklearn.model_selection import train_test_split\n",
    "\n",
    "training_data, testing_data = train_test_split(cat_df, test_size=0.2, random_state=20)"
   ]
  },
  {
   "cell_type": "code",
   "execution_count": 9,
   "metadata": {},
   "outputs": [],
   "source": [
    "from itertools import combinations\n",
    "\n",
    "import networkx as nx\n",
    "from sklearn.metrics import f1_score, accuracy_score, precision_score, recall_score\n",
    "from pgmpy.models import BayesianModel, NaiveBayes, BayesianNetwork\n",
    "from pgmpy.estimators import PC, HillClimbSearch, ExhaustiveSearch\n",
    "from pgmpy.estimators import K2Score, BicScore, BDeuScore\n",
    "from pgmpy.estimators.CITests import chi_square, cressie_read, freeman_tuckey, g_sq, independence_match, log_likelihood\n",
    "from pgmpy.utils import get_example_model\n",
    "from pgmpy.sampling import BayesianModelSampling"
   ]
  },
  {
   "cell_type": "code",
   "execution_count": 10,
   "metadata": {},
   "outputs": [
    {
     "data": {
      "application/vnd.jupyter.widget-view+json": {
       "model_id": "5f6928d463194fe699f9de07930eccef",
       "version_major": 2,
       "version_minor": 0
      },
      "text/plain": [
       "  0%|          | 0/5 [00:00<?, ?it/s]"
      ]
     },
     "metadata": {},
     "output_type": "display_data"
    },
    {
     "name": "stderr",
     "output_type": "stream",
     "text": [
      "c:\\Python310\\lib\\site-packages\\pgmpy\\base\\DAG.py:1195: UserWarning: PDAG has no faithful extension (= no oriented DAG with the same v-structures as PDAG). Remaining undirected PDAG edges oriented arbitrarily.\n",
      "  warn(\n"
     ]
    }
   ],
   "source": [
    "pc = PC(data=training_data)\n",
    "model = pc.estimate(variant='stable', ci_test=chi_square, return_type='dag', significance_level=0.60  )"
   ]
  },
  {
   "cell_type": "code",
   "execution_count": 11,
   "metadata": {},
   "outputs": [],
   "source": [
    "bayes_model = BayesianNetwork(model)"
   ]
  },
  {
   "cell_type": "code",
   "execution_count": 12,
   "metadata": {},
   "outputs": [
    {
     "data": {
      "text/html": [
       "<style>div.output_area pre {white-space: pre;}</style>"
      ],
      "text/plain": [
       "<IPython.core.display.HTML object>"
      ]
     },
     "metadata": {},
     "output_type": "display_data"
    }
   ],
   "source": [
    "from pgmpy.estimators import BayesianEstimator, MaximumLikelihoodEstimator\n",
    "from IPython.core.display import display, HTML\n",
    "\n",
    "# disable text wrapping in output cell\n",
    "display(HTML(\"<style>div.output_area pre {white-space: pre;}</style>\"))\n",
    "\n",
    "bayes_model.cpds = []\n",
    "\n",
    "bayes_model.fit(data=training_data,\n",
    "    estimator=MaximumLikelihoodEstimator,\n",
    "    #prior_type='BDeu',\n",
    "    complete_samples_only=False)"
   ]
  },
  {
   "cell_type": "code",
   "execution_count": 13,
   "metadata": {},
   "outputs": [
    {
     "data": {
      "image/png": "[encoded data removed]",
      "text/plain": [
       "<Figure size 864x864 with 1 Axes>"
      ]
     },
     "metadata": {},
     "output_type": "display_data"
    }
   ],
   "source": [
    "plt.figure(3,figsize=(12,12)) \n",
    "G = nx.DiGraph()\n",
    "G.add_edges_from(bayes_model.edges)\n",
    "G.add_nodes_from(bayes_model.nodes)\n",
    "pos = nx.kamada_kawai_layout(G)\n",
    "\n",
    "nx.draw(G, pos=pos, with_labels=True, arrowsize=30, node_size=800, alpha=0.7, font_weight=\"bold\")  # Draw the original graph\n",
    "plt.show()"
   ]
  },
  {
   "cell_type": "code",
   "execution_count": 15,
   "metadata": {},
   "outputs": [
    {
     "data": {
      "application/vnd.jupyter.widget-view+json": {
       "model_id": "655c959ea9e9424b947c16e6712ed84d",
       "version_major": 2,
       "version_minor": 0
      },
      "text/plain": [
       "  0%|          | 0/115 [00:00<?, ?it/s]"
      ]
     },
     "metadata": {},
     "output_type": "display_data"
    },
    {
     "name": "stdout",
     "output_type": "stream",
     "text": [
      "HBW Accuracy score: 0.9940944881889764\n"
     ]
    },
    {
     "name": "stderr",
     "output_type": "stream",
     "text": [
      "c:\\Python310\\lib\\site-packages\\pgmpy\\models\\BayesianNetwork.py:747: FutureWarning: Passing a set as an indexer is deprecated and will raise in a future version. Use a list instead.\n",
      "  return data.merge(data_with_results, how=\"left\").loc[:, missing_variables]\n"
     ]
    },
    {
     "data": {
      "application/vnd.jupyter.widget-view+json": {
       "model_id": "e981ca7e2f0a47aa9a15f83963e286a8",
       "version_major": 2,
       "version_minor": 0
      },
      "text/plain": [
       "  0%|          | 0/118 [00:00<?, ?it/s]"
      ]
     },
     "metadata": {},
     "output_type": "display_data"
    },
    {
     "name": "stdout",
     "output_type": "stream",
     "text": [
      "HTT Accuracy score: 0.9960629921259843\n"
     ]
    },
    {
     "name": "stderr",
     "output_type": "stream",
     "text": [
      "c:\\Python310\\lib\\site-packages\\pgmpy\\models\\BayesianNetwork.py:747: FutureWarning: Passing a set as an indexer is deprecated and will raise in a future version. Use a list instead.\n",
      "  return data.merge(data_with_results, how=\"left\").loc[:, missing_variables]\n"
     ]
    },
    {
     "data": {
      "application/vnd.jupyter.widget-view+json": {
       "model_id": "c43e5f1d87f74f8cb08e7fc9b04d351a",
       "version_major": 2,
       "version_minor": 0
      },
      "text/plain": [
       "  0%|          | 0/118 [00:00<?, ?it/s]"
      ]
     },
     "metadata": {},
     "output_type": "display_data"
    },
    {
     "name": "stdout",
     "output_type": "stream",
     "text": [
      "MMIPS Accuracy score: 0.9960629921259843\n"
     ]
    },
    {
     "name": "stderr",
     "output_type": "stream",
     "text": [
      "c:\\Python310\\lib\\site-packages\\pgmpy\\models\\BayesianNetwork.py:747: FutureWarning: Passing a set as an indexer is deprecated and will raise in a future version. Use a list instead.\n",
      "  return data.merge(data_with_results, how=\"left\").loc[:, missing_variables]\n"
     ]
    },
    {
     "data": {
      "application/vnd.jupyter.widget-view+json": {
       "model_id": "b0ea0e32f4fb442f8d9c7e5fd0e42ddd",
       "version_major": 2,
       "version_minor": 0
      },
      "text/plain": [
       "  0%|          | 0/118 [00:00<?, ?it/s]"
      ]
     },
     "metadata": {},
     "output_type": "display_data"
    },
    {
     "name": "stdout",
     "output_type": "stream",
     "text": [
      "MET Accuracy score: 1.0\n"
     ]
    },
    {
     "name": "stderr",
     "output_type": "stream",
     "text": [
      "c:\\Python310\\lib\\site-packages\\pgmpy\\models\\BayesianNetwork.py:747: FutureWarning: Passing a set as an indexer is deprecated and will raise in a future version. Use a list instead.\n",
      "  return data.merge(data_with_results, how=\"left\").loc[:, missing_variables]\n"
     ]
    },
    {
     "data": {
      "application/vnd.jupyter.widget-view+json": {
       "model_id": "2c9ff219933040de8ffc08ff78e70a7f",
       "version_major": 2,
       "version_minor": 0
      },
      "text/plain": [
       "  0%|          | 0/102 [00:00<?, ?it/s]"
      ]
     },
     "metadata": {},
     "output_type": "display_data"
    },
    {
     "name": "stdout",
     "output_type": "stream",
     "text": [
      "MBW Accuracy score: 0.8346456692913385\n"
     ]
    },
    {
     "name": "stderr",
     "output_type": "stream",
     "text": [
      "c:\\Python310\\lib\\site-packages\\pgmpy\\models\\BayesianNetwork.py:747: FutureWarning: Passing a set as an indexer is deprecated and will raise in a future version. Use a list instead.\n",
      "  return data.merge(data_with_results, how=\"left\").loc[:, missing_variables]\n"
     ]
    },
    {
     "data": {
      "application/vnd.jupyter.widget-view+json": {
       "model_id": "5fd78d232efd447fa2725a7d094eacaf",
       "version_major": 2,
       "version_minor": 0
      },
      "text/plain": [
       "  0%|          | 0/78 [00:00<?, ?it/s]"
      ]
     },
     "metadata": {},
     "output_type": "display_data"
    },
    {
     "name": "stdout",
     "output_type": "stream",
     "text": [
      "MTT Accuracy score: 0.7716535433070866\n"
     ]
    },
    {
     "name": "stderr",
     "output_type": "stream",
     "text": [
      "c:\\Python310\\lib\\site-packages\\pgmpy\\models\\BayesianNetwork.py:747: FutureWarning: Passing a set as an indexer is deprecated and will raise in a future version. Use a list instead.\n",
      "  return data.merge(data_with_results, how=\"left\").loc[:, missing_variables]\n"
     ]
    },
    {
     "data": {
      "application/vnd.jupyter.widget-view+json": {
       "model_id": "3fc614874abb4fc1a39077460a5baa72",
       "version_major": 2,
       "version_minor": 0
      },
      "text/plain": [
       "  0%|          | 0/106 [00:00<?, ?it/s]"
      ]
     },
     "metadata": {},
     "output_type": "display_data"
    },
    {
     "name": "stdout",
     "output_type": "stream",
     "text": [
      "RMIPS Accuracy score: 0.9035433070866141\n"
     ]
    },
    {
     "name": "stderr",
     "output_type": "stream",
     "text": [
      "c:\\Python310\\lib\\site-packages\\pgmpy\\models\\BayesianNetwork.py:747: FutureWarning: Passing a set as an indexer is deprecated and will raise in a future version. Use a list instead.\n",
      "  return data.merge(data_with_results, how=\"left\").loc[:, missing_variables]\n"
     ]
    },
    {
     "data": {
      "application/vnd.jupyter.widget-view+json": {
       "model_id": "b877811da0f2497fbb225de92d41833c",
       "version_major": 2,
       "version_minor": 0
      },
      "text/plain": [
       "  0%|          | 0/118 [00:00<?, ?it/s]"
      ]
     },
     "metadata": {},
     "output_type": "display_data"
    },
    {
     "name": "stdout",
     "output_type": "stream",
     "text": [
      "RET Accuracy score: 1.0\n"
     ]
    },
    {
     "name": "stderr",
     "output_type": "stream",
     "text": [
      "c:\\Python310\\lib\\site-packages\\pgmpy\\models\\BayesianNetwork.py:747: FutureWarning: Passing a set as an indexer is deprecated and will raise in a future version. Use a list instead.\n",
      "  return data.merge(data_with_results, how=\"left\").loc[:, missing_variables]\n"
     ]
    },
    {
     "data": {
      "application/vnd.jupyter.widget-view+json": {
       "model_id": "2b59bf81fa414767b2b737b39d45cf4e",
       "version_major": 2,
       "version_minor": 0
      },
      "text/plain": [
       "  0%|          | 0/118 [00:00<?, ?it/s]"
      ]
     },
     "metadata": {},
     "output_type": "display_data"
    },
    {
     "name": "stdout",
     "output_type": "stream",
     "text": [
      "RBW Accuracy score: 1.0\n"
     ]
    },
    {
     "name": "stderr",
     "output_type": "stream",
     "text": [
      "c:\\Python310\\lib\\site-packages\\pgmpy\\models\\BayesianNetwork.py:747: FutureWarning: Passing a set as an indexer is deprecated and will raise in a future version. Use a list instead.\n",
      "  return data.merge(data_with_results, how=\"left\").loc[:, missing_variables]\n"
     ]
    },
    {
     "data": {
      "application/vnd.jupyter.widget-view+json": {
       "model_id": "5bc3bc1d2d654fb8927f8bd336c31269",
       "version_major": 2,
       "version_minor": 0
      },
      "text/plain": [
       "  0%|          | 0/105 [00:00<?, ?it/s]"
      ]
     },
     "metadata": {},
     "output_type": "display_data"
    },
    {
     "name": "stdout",
     "output_type": "stream",
     "text": [
      "RTT Accuracy score: 0.8996062992125984\n"
     ]
    },
    {
     "name": "stderr",
     "output_type": "stream",
     "text": [
      "c:\\Python310\\lib\\site-packages\\pgmpy\\models\\BayesianNetwork.py:747: FutureWarning: Passing a set as an indexer is deprecated and will raise in a future version. Use a list instead.\n",
      "  return data.merge(data_with_results, how=\"left\").loc[:, missing_variables]\n"
     ]
    },
    {
     "data": {
      "application/vnd.jupyter.widget-view+json": {
       "model_id": "8b583232715e454c8d41436b94c561be",
       "version_major": 2,
       "version_minor": 0
      },
      "text/plain": [
       "  0%|          | 0/118 [00:00<?, ?it/s]"
      ]
     },
     "metadata": {},
     "output_type": "display_data"
    },
    {
     "name": "stdout",
     "output_type": "stream",
     "text": [
      "BBW Accuracy score: 1.0\n"
     ]
    },
    {
     "name": "stderr",
     "output_type": "stream",
     "text": [
      "c:\\Python310\\lib\\site-packages\\pgmpy\\models\\BayesianNetwork.py:747: FutureWarning: Passing a set as an indexer is deprecated and will raise in a future version. Use a list instead.\n",
      "  return data.merge(data_with_results, how=\"left\").loc[:, missing_variables]\n"
     ]
    },
    {
     "data": {
      "application/vnd.jupyter.widget-view+json": {
       "model_id": "8e7d3411f523446181eb9bf2c5e039b4",
       "version_major": 2,
       "version_minor": 0
      },
      "text/plain": [
       "  0%|          | 0/115 [00:00<?, ?it/s]"
      ]
     },
     "metadata": {},
     "output_type": "display_data"
    },
    {
     "name": "stdout",
     "output_type": "stream",
     "text": [
      "BTT Accuracy score: 0.968503937007874\n"
     ]
    },
    {
     "name": "stderr",
     "output_type": "stream",
     "text": [
      "c:\\Python310\\lib\\site-packages\\pgmpy\\models\\BayesianNetwork.py:747: FutureWarning: Passing a set as an indexer is deprecated and will raise in a future version. Use a list instead.\n",
      "  return data.merge(data_with_results, how=\"left\").loc[:, missing_variables]\n"
     ]
    },
    {
     "data": {
      "application/vnd.jupyter.widget-view+json": {
       "model_id": "8fc1a400056b4caba39d323e2279c50f",
       "version_major": 2,
       "version_minor": 0
      },
      "text/plain": [
       "  0%|          | 0/97 [00:00<?, ?it/s]"
      ]
     },
     "metadata": {},
     "output_type": "display_data"
    },
    {
     "name": "stdout",
     "output_type": "stream",
     "text": [
      "TT Accuracy score: 0.5669291338582677\n"
     ]
    },
    {
     "name": "stderr",
     "output_type": "stream",
     "text": [
      "c:\\Python310\\lib\\site-packages\\pgmpy\\models\\BayesianNetwork.py:747: FutureWarning: Passing a set as an indexer is deprecated and will raise in a future version. Use a list instead.\n",
      "  return data.merge(data_with_results, how=\"left\").loc[:, missing_variables]\n"
     ]
    }
   ],
   "source": [
    "from pgmpy.metrics.metrics import correlation_score, log_likelihood_score, structure_score\n",
    "from sklearn.metrics import f1_score, accuracy_score, precision_score, recall_score\n",
    "\n",
    "for column in testing_data:\n",
    "    predict_data = testing_data.copy()\n",
    "    predict_data.drop(column, axis=1, inplace=True)\n",
    "    y_pred = bayes_model.predict(predict_data)\n",
    "\n",
    "    accuracy = accuracy_score(testing_data[column], y_pred)\n",
    "    \n",
    "    # if len(testing_data[column].unique()) == 2:\n",
    "    #     precision = precision_score(testing_data[column], y_pred, pos_label='Low') #pos_label=testing_data[column].unique()\n",
    "    #     f1 = f1_score(testing_data[column], y_pred, pos_label='Low')\n",
    "    #     recall = recall_score(testing_data[column], y_pred, pos_label='Low')\n",
    "\n",
    "    # else:\n",
    "    #     precision = precision_score(testing_data[column], y_pred, average='micro') #pos_label=testing_data[column].unique()\n",
    "    #     f1 = f1_score(testing_data[column], y_pred, average='micro')\n",
    "    #     recall = recall_score(testing_data[column], y_pred, average='micro')\n",
    "\n",
    "    #print(f'{column} F1 score: {f1}')\n",
    "    print(f'{column} Accuracy score: {accuracy}')\n",
    "    #print(f'{column} Precision score: {precision}')\n",
    "    #print(f'{column} Recall score: {recall}')"
   ]
  },
  {
   "cell_type": "code",
   "execution_count": null,
   "metadata": {},
   "outputs": [],
   "source": [
    "f1 = correlation_score(model=bayes_model, data=testing_data, test='chi_square', significance_level=0.05, score=f1_score, return_summary=False)\n",
    "acc = correlation_score(model=bayes_model, data=testing_data, test='chi_square', significance_level=0.05, score=accuracy_score, return_summary=False)\n",
    "pr = correlation_score(model=bayes_model, data=testing_data, test='chi_square', significance_level=0.05, score=precision_score, return_summary=False)\n",
    "recall = correlation_score(model=bayes_model, data=testing_data, test='chi_square', significance_level=0.05, score=recall_score, return_summary=False)\n",
    "ls = log_likelihood_score(model=bayes_model, data=testing_data)\n",
    "ss = structure_score(model=bayes_model, data=testing_data, scoring_method='bdeu')\n",
    "\n",
    "\n",
    "print(f'F1 score: {f1}')\n",
    "print(f'Accuracy score: {acc}')\n",
    "print(f'Precision score: {pr}')\n",
    "print(f'Recall score: {recall}')\n",
    "print(f'Log-likilihood score: {ls}')\n",
    "print(f'Strcture score: {ss}')"
   ]
  },
  {
   "cell_type": "code",
   "execution_count": null,
   "metadata": {},
   "outputs": [],
   "source": [
    "def store_metrics(metrics_file_name, model_name, f1, accuracy, precision, recall, log_likelihood_score, structure_score):\n",
    "    try: \n",
    "        df = pd.read_csv('Model-metrics.csv', header=0, index_col=False)\n",
    "    except:\n",
    "        df_columns = ['Model', 'F1', 'Accuracy', 'Precision', 'Recall', 'Log likelihood score', 'Structure score']\n",
    "\n",
    "        df = pd.DataFrame(columns=df_columns)\n",
    "\n",
    "    else:\n",
    "        df = df[df.Model != model_name]\n",
    "        \n",
    "    new_row = {'Model': model_name, 'F1': f1, 'Accuracy': accuracy, 'Precision': precision, 'Recall': recall, 'Log likelihood score': log_likelihood_score, 'Structure score': structure_score}\n",
    "\n",
    "    df = df.append(new_row, ignore_index=True)\n",
    "\n",
    "    # Write to file\n",
    "    df.to_csv(metrics_file_name, index=False)\n"
   ]
  },
  {
   "cell_type": "code",
   "execution_count": null,
   "metadata": {},
   "outputs": [],
   "source": [
    "model_name = 'Constraint-based CBN'\n",
    "metrics_file_name = 'Model-metrics.csv'\n",
    "\n",
    "store_metrics(metrics_file_name=metrics_file_name, model_name=model_name, f1=f1, accuracy=acc, precision=pr, recall=recall, log_likelihood_score=ls, structure_score=ss)"
   ]
  },
  {
   "cell_type": "code",
   "execution_count": null,
   "metadata": {},
   "outputs": [],
   "source": [
    "print(f'Check model: {bayes_model.check_model()}\\n')\n",
    "for cpd in bayes_model.get_cpds():\n",
    "    print(f'CPT of {cpd.variable}:')\n",
    "    print(cpd, '\\n')"
   ]
  }
 ],
 "metadata": {
  "interpreter": {
   "hash": "369f2c481f4da34e4445cda3fffd2e751bd1c4d706f27375911949ba6bb62e1c"
  },
  "kernelspec": {
   "display_name": "Python 3.10.0 64-bit",
   "language": "python",
   "name": "python3"
  },
  "language_info": {
   "codemirror_mode": {
    "name": "ipython",
    "version": 3
   },
   "file_extension": ".py",
   "mimetype": "text/x-python",
   "name": "python",
   "nbconvert_exporter": "python",
   "pygments_lexer": "ipython3",
   "version": "3.10.0"
  },
  "orig_nbformat": 4
 },
 "nbformat": 4,
 "nbformat_minor": 2
}
