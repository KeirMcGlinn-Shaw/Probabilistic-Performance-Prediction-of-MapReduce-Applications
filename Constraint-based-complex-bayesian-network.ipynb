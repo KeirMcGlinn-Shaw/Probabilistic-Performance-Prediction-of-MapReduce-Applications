{
 "cells": [
  {
   "cell_type": "markdown",
   "metadata": {},
   "source": [
    "# Complex Bayesian Network notebook"
   ]
  },
  {
   "cell_type": "markdown",
   "metadata": {},
   "source": [
    "#### Import dependencies"
   ]
  },
  {
   "cell_type": "code",
   "execution_count": 43,
   "metadata": {},
   "outputs": [],
   "source": [
    "# Import dependencies\n",
    "#%pip install pgmpy\n",
    "#%pip install tabulate\n",
    "#%pip install pandas\n",
    "#%pip install networkx\n",
    "#%pip install matplotlib"
   ]
  },
  {
   "cell_type": "markdown",
   "metadata": {},
   "source": [
    "#### Load libraries"
   ]
  },
  {
   "cell_type": "code",
   "execution_count": 44,
   "metadata": {},
   "outputs": [],
   "source": [
    "# Load libraries\n",
    "import pgmpy as pg\n",
    "import tabulate as tb\n",
    "import pandas as pd\n",
    "import numpy as np\n",
    "import networkx as nx\n",
    "import matplotlib.pyplot as plt\n",
    "import sklearn"
   ]
  },
  {
   "cell_type": "markdown",
   "metadata": {},
   "source": [
    "## Data import and cleaning"
   ]
  },
  {
   "cell_type": "markdown",
   "metadata": {},
   "source": [
    "#### Import BigPerf data"
   ]
  },
  {
   "cell_type": "code",
   "execution_count": 45,
   "metadata": {},
   "outputs": [
    {
     "data": {
      "text/html": [
       "<div>\n",
       "<style scoped>\n",
       "    .dataframe tbody tr th:only-of-type {\n",
       "        vertical-align: middle;\n",
       "    }\n",
       "\n",
       "    .dataframe tbody tr th {\n",
       "        vertical-align: top;\n",
       "    }\n",
       "\n",
       "    .dataframe thead th {\n",
       "        text-align: right;\n",
       "    }\n",
       "</style>\n",
       "<table border=\"1\" class=\"dataframe\">\n",
       "  <thead>\n",
       "    <tr style=\"text-align: right;\">\n",
       "      <th></th>\n",
       "      <th>Block_ID</th>\n",
       "      <th>HDFS_BW</th>\n",
       "      <th>HDFSTranmissionTime</th>\n",
       "      <th>Mapper_ID</th>\n",
       "      <th>Mapper_VM_MIPS</th>\n",
       "      <th>MapExecutionTime</th>\n",
       "      <th>MapperBW</th>\n",
       "      <th>MapperTransmissionTime</th>\n",
       "      <th>Reducer_ID</th>\n",
       "      <th>Reducer_VM_MIPS</th>\n",
       "      <th>ReducerExecutionTime</th>\n",
       "      <th>ReducerBW</th>\n",
       "      <th>ReducerTransmissionTime</th>\n",
       "      <th>Block_ID.1</th>\n",
       "      <th>Block_BW</th>\n",
       "      <th>BlockTransmissionTime</th>\n",
       "      <th>TransactionTime</th>\n",
       "    </tr>\n",
       "  </thead>\n",
       "  <tbody>\n",
       "    <tr>\n",
       "      <th>0</th>\n",
       "      <td>HDFS_Block_208</td>\n",
       "      <td>11.81</td>\n",
       "      <td>80.63</td>\n",
       "      <td>mapper207</td>\n",
       "      <td>652289</td>\n",
       "      <td>765.49</td>\n",
       "      <td>30.00</td>\n",
       "      <td>2.53</td>\n",
       "      <td>reducer0</td>\n",
       "      <td>341739</td>\n",
       "      <td>480</td>\n",
       "      <td>3.80</td>\n",
       "      <td>250.14</td>\n",
       "      <td>reducer0_Block_1</td>\n",
       "      <td>0.0</td>\n",
       "      <td>0.00</td>\n",
       "      <td>1578.79</td>\n",
       "    </tr>\n",
       "    <tr>\n",
       "      <th>1</th>\n",
       "      <td>HDFS_Block_208</td>\n",
       "      <td>11.81</td>\n",
       "      <td>80.63</td>\n",
       "      <td>mapper207</td>\n",
       "      <td>652289</td>\n",
       "      <td>765.49</td>\n",
       "      <td>30.00</td>\n",
       "      <td>2.53</td>\n",
       "      <td>reducer1</td>\n",
       "      <td>150000</td>\n",
       "      <td>120</td>\n",
       "      <td>50.00</td>\n",
       "      <td>18.99</td>\n",
       "      <td>reducer1_Block_1</td>\n",
       "      <td>50.0</td>\n",
       "      <td>20.00</td>\n",
       "      <td>1007.64</td>\n",
       "    </tr>\n",
       "    <tr>\n",
       "      <th>2</th>\n",
       "      <td>HDFS_Block_208</td>\n",
       "      <td>11.81</td>\n",
       "      <td>80.63</td>\n",
       "      <td>mapper207</td>\n",
       "      <td>652289</td>\n",
       "      <td>765.49</td>\n",
       "      <td>16.76</td>\n",
       "      <td>3.25</td>\n",
       "      <td>reducer2</td>\n",
       "      <td>382530</td>\n",
       "      <td>480</td>\n",
       "      <td>4.48</td>\n",
       "      <td>212.22</td>\n",
       "      <td>reducer2_Block_1</td>\n",
       "      <td>3.7</td>\n",
       "      <td>270.02</td>\n",
       "      <td>1811.61</td>\n",
       "    </tr>\n",
       "    <tr>\n",
       "      <th>3</th>\n",
       "      <td>HDFS_Block_208</td>\n",
       "      <td>11.81</td>\n",
       "      <td>80.63</td>\n",
       "      <td>mapper207</td>\n",
       "      <td>652289</td>\n",
       "      <td>765.49</td>\n",
       "      <td>16.76</td>\n",
       "      <td>3.25</td>\n",
       "      <td>reducer3</td>\n",
       "      <td>150000</td>\n",
       "      <td>120</td>\n",
       "      <td>5.88</td>\n",
       "      <td>161.57</td>\n",
       "      <td>reducer3_Block_1</td>\n",
       "      <td>3.7</td>\n",
       "      <td>270.02</td>\n",
       "      <td>1400.96</td>\n",
       "    </tr>\n",
       "    <tr>\n",
       "      <th>4</th>\n",
       "      <td>HDFS_Block_208</td>\n",
       "      <td>11.81</td>\n",
       "      <td>80.63</td>\n",
       "      <td>mapper207</td>\n",
       "      <td>652289</td>\n",
       "      <td>765.49</td>\n",
       "      <td>18.41</td>\n",
       "      <td>4.16</td>\n",
       "      <td>reducer4</td>\n",
       "      <td>457419</td>\n",
       "      <td>480</td>\n",
       "      <td>5.88</td>\n",
       "      <td>161.53</td>\n",
       "      <td>reducer4_Block_1</td>\n",
       "      <td>3.7</td>\n",
       "      <td>270.02</td>\n",
       "      <td>1761.83</td>\n",
       "    </tr>\n",
       "  </tbody>\n",
       "</table>\n",
       "</div>"
      ],
      "text/plain": [
       "         Block_ID  HDFS_BW  HDFSTranmissionTime  Mapper_ID  Mapper_VM_MIPS  \\\n",
       "0  HDFS_Block_208    11.81                80.63  mapper207          652289   \n",
       "1  HDFS_Block_208    11.81                80.63  mapper207          652289   \n",
       "2  HDFS_Block_208    11.81                80.63  mapper207          652289   \n",
       "3  HDFS_Block_208    11.81                80.63  mapper207          652289   \n",
       "4  HDFS_Block_208    11.81                80.63  mapper207          652289   \n",
       "\n",
       "   MapExecutionTime   MapperBW  MapperTransmissionTime Reducer_ID  \\\n",
       "0             765.49     30.00                    2.53   reducer0   \n",
       "1             765.49     30.00                    2.53   reducer1   \n",
       "2             765.49     16.76                    3.25   reducer2   \n",
       "3             765.49     16.76                    3.25   reducer3   \n",
       "4             765.49     18.41                    4.16   reducer4   \n",
       "\n",
       "   Reducer_VM_MIPS  ReducerExecutionTime   ReducerBW  ReducerTransmissionTime  \\\n",
       "0           341739                    480       3.80                   250.14   \n",
       "1           150000                    120      50.00                    18.99   \n",
       "2           382530                    480       4.48                   212.22   \n",
       "3           150000                    120       5.88                   161.57   \n",
       "4           457419                    480       5.88                   161.53   \n",
       "\n",
       "         Block_ID.1  Block_BW  BlockTransmissionTime  TransactionTime  \n",
       "0  reducer0_Block_1       0.0                   0.00          1578.79  \n",
       "1  reducer1_Block_1      50.0                  20.00          1007.64  \n",
       "2  reducer2_Block_1       3.7                 270.02          1811.61  \n",
       "3  reducer3_Block_1       3.7                 270.02          1400.96  \n",
       "4  reducer4_Block_1       3.7                 270.02          1761.83  "
      ]
     },
     "execution_count": 45,
     "metadata": {},
     "output_type": "execute_result"
    }
   ],
   "source": [
    "# Import data\n",
    "df = pd.read_csv(\"Data\\\\BigPerfMetrics.csv\")\n",
    "\n",
    "df.head()"
   ]
  },
  {
   "cell_type": "markdown",
   "metadata": {},
   "source": [
    "#### Clean data of unwanted variables and missing values"
   ]
  },
  {
   "cell_type": "code",
   "execution_count": 46,
   "metadata": {},
   "outputs": [
    {
     "data": {
      "text/html": [
       "<div>\n",
       "<style scoped>\n",
       "    .dataframe tbody tr th:only-of-type {\n",
       "        vertical-align: middle;\n",
       "    }\n",
       "\n",
       "    .dataframe tbody tr th {\n",
       "        vertical-align: top;\n",
       "    }\n",
       "\n",
       "    .dataframe thead th {\n",
       "        text-align: right;\n",
       "    }\n",
       "</style>\n",
       "<table border=\"1\" class=\"dataframe\">\n",
       "  <thead>\n",
       "    <tr style=\"text-align: right;\">\n",
       "      <th></th>\n",
       "      <th>HDFS_BW</th>\n",
       "      <th>HDFSTranmissionTime</th>\n",
       "      <th>Mapper_VM_MIPS</th>\n",
       "      <th>MapExecutionTime</th>\n",
       "      <th>MapperBW</th>\n",
       "      <th>MapperTransmissionTime</th>\n",
       "      <th>Reducer_VM_MIPS</th>\n",
       "      <th>ReducerExecutionTime</th>\n",
       "      <th>ReducerBW</th>\n",
       "      <th>ReducerTransmissionTime</th>\n",
       "      <th>Block_BW</th>\n",
       "      <th>BlockTransmissionTime</th>\n",
       "      <th>TransactionTime</th>\n",
       "    </tr>\n",
       "  </thead>\n",
       "  <tbody>\n",
       "    <tr>\n",
       "      <th>0</th>\n",
       "      <td>11.81</td>\n",
       "      <td>80.63</td>\n",
       "      <td>652289</td>\n",
       "      <td>765.49</td>\n",
       "      <td>30.00</td>\n",
       "      <td>2.53</td>\n",
       "      <td>341739</td>\n",
       "      <td>480</td>\n",
       "      <td>3.80</td>\n",
       "      <td>250.14</td>\n",
       "      <td>0.0</td>\n",
       "      <td>0.00</td>\n",
       "      <td>1578.79</td>\n",
       "    </tr>\n",
       "    <tr>\n",
       "      <th>1</th>\n",
       "      <td>11.81</td>\n",
       "      <td>80.63</td>\n",
       "      <td>652289</td>\n",
       "      <td>765.49</td>\n",
       "      <td>30.00</td>\n",
       "      <td>2.53</td>\n",
       "      <td>150000</td>\n",
       "      <td>120</td>\n",
       "      <td>50.00</td>\n",
       "      <td>18.99</td>\n",
       "      <td>50.0</td>\n",
       "      <td>20.00</td>\n",
       "      <td>1007.64</td>\n",
       "    </tr>\n",
       "    <tr>\n",
       "      <th>2</th>\n",
       "      <td>11.81</td>\n",
       "      <td>80.63</td>\n",
       "      <td>652289</td>\n",
       "      <td>765.49</td>\n",
       "      <td>16.76</td>\n",
       "      <td>3.25</td>\n",
       "      <td>382530</td>\n",
       "      <td>480</td>\n",
       "      <td>4.48</td>\n",
       "      <td>212.22</td>\n",
       "      <td>3.7</td>\n",
       "      <td>270.02</td>\n",
       "      <td>1811.61</td>\n",
       "    </tr>\n",
       "    <tr>\n",
       "      <th>3</th>\n",
       "      <td>11.81</td>\n",
       "      <td>80.63</td>\n",
       "      <td>652289</td>\n",
       "      <td>765.49</td>\n",
       "      <td>16.76</td>\n",
       "      <td>3.25</td>\n",
       "      <td>150000</td>\n",
       "      <td>120</td>\n",
       "      <td>5.88</td>\n",
       "      <td>161.57</td>\n",
       "      <td>3.7</td>\n",
       "      <td>270.02</td>\n",
       "      <td>1400.96</td>\n",
       "    </tr>\n",
       "    <tr>\n",
       "      <th>4</th>\n",
       "      <td>11.81</td>\n",
       "      <td>80.63</td>\n",
       "      <td>652289</td>\n",
       "      <td>765.49</td>\n",
       "      <td>18.41</td>\n",
       "      <td>4.16</td>\n",
       "      <td>457419</td>\n",
       "      <td>480</td>\n",
       "      <td>5.88</td>\n",
       "      <td>161.53</td>\n",
       "      <td>3.7</td>\n",
       "      <td>270.02</td>\n",
       "      <td>1761.83</td>\n",
       "    </tr>\n",
       "  </tbody>\n",
       "</table>\n",
       "</div>"
      ],
      "text/plain": [
       "   HDFS_BW  HDFSTranmissionTime  Mapper_VM_MIPS  MapExecutionTime   MapperBW  \\\n",
       "0    11.81                80.63          652289             765.49     30.00   \n",
       "1    11.81                80.63          652289             765.49     30.00   \n",
       "2    11.81                80.63          652289             765.49     16.76   \n",
       "3    11.81                80.63          652289             765.49     16.76   \n",
       "4    11.81                80.63          652289             765.49     18.41   \n",
       "\n",
       "   MapperTransmissionTime  Reducer_VM_MIPS  ReducerExecutionTime   ReducerBW  \\\n",
       "0                    2.53           341739                    480       3.80   \n",
       "1                    2.53           150000                    120      50.00   \n",
       "2                    3.25           382530                    480       4.48   \n",
       "3                    3.25           150000                    120       5.88   \n",
       "4                    4.16           457419                    480       5.88   \n",
       "\n",
       "   ReducerTransmissionTime  Block_BW  BlockTransmissionTime  TransactionTime  \n",
       "0                   250.14       0.0                   0.00          1578.79  \n",
       "1                    18.99      50.0                  20.00          1007.64  \n",
       "2                   212.22       3.7                 270.02          1811.61  \n",
       "3                   161.57       3.7                 270.02          1400.96  \n",
       "4                   161.53       3.7                 270.02          1761.83  "
      ]
     },
     "execution_count": 46,
     "metadata": {},
     "output_type": "execute_result"
    }
   ],
   "source": [
    "# Clean data\n",
    "df.dropna()\n",
    "\n",
    "df.drop(labels=['Block_ID', 'Mapper_ID', 'Reducer_ID', 'Block_ID.1'], axis=1, inplace=True)\n",
    "\n",
    "df.head()"
   ]
  },
  {
   "cell_type": "markdown",
   "metadata": {},
   "source": [
    "#### Rename columns to better fit in drawn charts and for ease of use"
   ]
  },
  {
   "cell_type": "code",
   "execution_count": 47,
   "metadata": {},
   "outputs": [
    {
     "data": {
      "text/html": [
       "<div>\n",
       "<style scoped>\n",
       "    .dataframe tbody tr th:only-of-type {\n",
       "        vertical-align: middle;\n",
       "    }\n",
       "\n",
       "    .dataframe tbody tr th {\n",
       "        vertical-align: top;\n",
       "    }\n",
       "\n",
       "    .dataframe thead th {\n",
       "        text-align: right;\n",
       "    }\n",
       "</style>\n",
       "<table border=\"1\" class=\"dataframe\">\n",
       "  <thead>\n",
       "    <tr style=\"text-align: right;\">\n",
       "      <th></th>\n",
       "      <th>HBW</th>\n",
       "      <th>HTT</th>\n",
       "      <th>MMIPS</th>\n",
       "      <th>MET</th>\n",
       "      <th>MBW</th>\n",
       "      <th>MTT</th>\n",
       "      <th>RMIPS</th>\n",
       "      <th>RET</th>\n",
       "      <th>RBW</th>\n",
       "      <th>RTT</th>\n",
       "      <th>BBW</th>\n",
       "      <th>BTT</th>\n",
       "      <th>TT</th>\n",
       "    </tr>\n",
       "  </thead>\n",
       "  <tbody>\n",
       "    <tr>\n",
       "      <th>0</th>\n",
       "      <td>11.81</td>\n",
       "      <td>80.63</td>\n",
       "      <td>652289</td>\n",
       "      <td>765.49</td>\n",
       "      <td>30.00</td>\n",
       "      <td>2.53</td>\n",
       "      <td>341739</td>\n",
       "      <td>480</td>\n",
       "      <td>3.80</td>\n",
       "      <td>250.14</td>\n",
       "      <td>0.0</td>\n",
       "      <td>0.00</td>\n",
       "      <td>1578.79</td>\n",
       "    </tr>\n",
       "    <tr>\n",
       "      <th>1</th>\n",
       "      <td>11.81</td>\n",
       "      <td>80.63</td>\n",
       "      <td>652289</td>\n",
       "      <td>765.49</td>\n",
       "      <td>30.00</td>\n",
       "      <td>2.53</td>\n",
       "      <td>150000</td>\n",
       "      <td>120</td>\n",
       "      <td>50.00</td>\n",
       "      <td>18.99</td>\n",
       "      <td>50.0</td>\n",
       "      <td>20.00</td>\n",
       "      <td>1007.64</td>\n",
       "    </tr>\n",
       "    <tr>\n",
       "      <th>2</th>\n",
       "      <td>11.81</td>\n",
       "      <td>80.63</td>\n",
       "      <td>652289</td>\n",
       "      <td>765.49</td>\n",
       "      <td>16.76</td>\n",
       "      <td>3.25</td>\n",
       "      <td>382530</td>\n",
       "      <td>480</td>\n",
       "      <td>4.48</td>\n",
       "      <td>212.22</td>\n",
       "      <td>3.7</td>\n",
       "      <td>270.02</td>\n",
       "      <td>1811.61</td>\n",
       "    </tr>\n",
       "    <tr>\n",
       "      <th>3</th>\n",
       "      <td>11.81</td>\n",
       "      <td>80.63</td>\n",
       "      <td>652289</td>\n",
       "      <td>765.49</td>\n",
       "      <td>16.76</td>\n",
       "      <td>3.25</td>\n",
       "      <td>150000</td>\n",
       "      <td>120</td>\n",
       "      <td>5.88</td>\n",
       "      <td>161.57</td>\n",
       "      <td>3.7</td>\n",
       "      <td>270.02</td>\n",
       "      <td>1400.96</td>\n",
       "    </tr>\n",
       "    <tr>\n",
       "      <th>4</th>\n",
       "      <td>11.81</td>\n",
       "      <td>80.63</td>\n",
       "      <td>652289</td>\n",
       "      <td>765.49</td>\n",
       "      <td>18.41</td>\n",
       "      <td>4.16</td>\n",
       "      <td>457419</td>\n",
       "      <td>480</td>\n",
       "      <td>5.88</td>\n",
       "      <td>161.53</td>\n",
       "      <td>3.7</td>\n",
       "      <td>270.02</td>\n",
       "      <td>1761.83</td>\n",
       "    </tr>\n",
       "    <tr>\n",
       "      <th>5</th>\n",
       "      <td>11.81</td>\n",
       "      <td>80.63</td>\n",
       "      <td>652289</td>\n",
       "      <td>765.49</td>\n",
       "      <td>18.41</td>\n",
       "      <td>4.16</td>\n",
       "      <td>150000</td>\n",
       "      <td>120</td>\n",
       "      <td>6.98</td>\n",
       "      <td>136.24</td>\n",
       "      <td>3.7</td>\n",
       "      <td>270.02</td>\n",
       "      <td>1376.54</td>\n",
       "    </tr>\n",
       "    <tr>\n",
       "      <th>6</th>\n",
       "      <td>11.81</td>\n",
       "      <td>80.63</td>\n",
       "      <td>652289</td>\n",
       "      <td>765.49</td>\n",
       "      <td>18.41</td>\n",
       "      <td>4.16</td>\n",
       "      <td>563904</td>\n",
       "      <td>480</td>\n",
       "      <td>3.80</td>\n",
       "      <td>250.14</td>\n",
       "      <td>3.7</td>\n",
       "      <td>270.02</td>\n",
       "      <td>1850.44</td>\n",
       "    </tr>\n",
       "    <tr>\n",
       "      <th>7</th>\n",
       "      <td>11.81</td>\n",
       "      <td>80.63</td>\n",
       "      <td>652289</td>\n",
       "      <td>765.49</td>\n",
       "      <td>18.41</td>\n",
       "      <td>4.16</td>\n",
       "      <td>150000</td>\n",
       "      <td>120</td>\n",
       "      <td>150.00</td>\n",
       "      <td>6.33</td>\n",
       "      <td>3.7</td>\n",
       "      <td>270.02</td>\n",
       "      <td>1246.63</td>\n",
       "    </tr>\n",
       "    <tr>\n",
       "      <th>8</th>\n",
       "      <td>11.81</td>\n",
       "      <td>80.63</td>\n",
       "      <td>652289</td>\n",
       "      <td>765.49</td>\n",
       "      <td>18.41</td>\n",
       "      <td>4.16</td>\n",
       "      <td>430890</td>\n",
       "      <td>480</td>\n",
       "      <td>3.80</td>\n",
       "      <td>250.14</td>\n",
       "      <td>3.7</td>\n",
       "      <td>270.02</td>\n",
       "      <td>1850.44</td>\n",
       "    </tr>\n",
       "    <tr>\n",
       "      <th>9</th>\n",
       "      <td>11.81</td>\n",
       "      <td>80.63</td>\n",
       "      <td>652289</td>\n",
       "      <td>765.49</td>\n",
       "      <td>18.41</td>\n",
       "      <td>4.16</td>\n",
       "      <td>150000</td>\n",
       "      <td>120</td>\n",
       "      <td>150.00</td>\n",
       "      <td>6.33</td>\n",
       "      <td>3.7</td>\n",
       "      <td>270.02</td>\n",
       "      <td>1246.63</td>\n",
       "    </tr>\n",
       "  </tbody>\n",
       "</table>\n",
       "</div>"
      ],
      "text/plain": [
       "     HBW    HTT   MMIPS     MET    MBW   MTT   RMIPS  RET     RBW     RTT  \\\n",
       "0  11.81  80.63  652289  765.49  30.00  2.53  341739  480    3.80  250.14   \n",
       "1  11.81  80.63  652289  765.49  30.00  2.53  150000  120   50.00   18.99   \n",
       "2  11.81  80.63  652289  765.49  16.76  3.25  382530  480    4.48  212.22   \n",
       "3  11.81  80.63  652289  765.49  16.76  3.25  150000  120    5.88  161.57   \n",
       "4  11.81  80.63  652289  765.49  18.41  4.16  457419  480    5.88  161.53   \n",
       "5  11.81  80.63  652289  765.49  18.41  4.16  150000  120    6.98  136.24   \n",
       "6  11.81  80.63  652289  765.49  18.41  4.16  563904  480    3.80  250.14   \n",
       "7  11.81  80.63  652289  765.49  18.41  4.16  150000  120  150.00    6.33   \n",
       "8  11.81  80.63  652289  765.49  18.41  4.16  430890  480    3.80  250.14   \n",
       "9  11.81  80.63  652289  765.49  18.41  4.16  150000  120  150.00    6.33   \n",
       "\n",
       "    BBW     BTT       TT  \n",
       "0   0.0    0.00  1578.79  \n",
       "1  50.0   20.00  1007.64  \n",
       "2   3.7  270.02  1811.61  \n",
       "3   3.7  270.02  1400.96  \n",
       "4   3.7  270.02  1761.83  \n",
       "5   3.7  270.02  1376.54  \n",
       "6   3.7  270.02  1850.44  \n",
       "7   3.7  270.02  1246.63  \n",
       "8   3.7  270.02  1850.44  \n",
       "9   3.7  270.02  1246.63  "
      ]
     },
     "execution_count": 47,
     "metadata": {},
     "output_type": "execute_result"
    }
   ],
   "source": [
    "# Rename column headers to abbreviations\n",
    "\n",
    "nodes = ['HBW', 'HTT', 'MMIPS', 'MET', 'MBW', 'MTT', 'RMIPS', 'RET', 'RBW', 'RTT', 'BBW', 'BTT', 'TT']\n",
    "\n",
    "df.columns = nodes\n",
    "\n",
    "df.head(10)"
   ]
  },
  {
   "cell_type": "markdown",
   "metadata": {},
   "source": [
    "#### Define funtion to discretise data into three catagories"
   ]
  },
  {
   "cell_type": "code",
   "execution_count": 48,
   "metadata": {},
   "outputs": [],
   "source": [
    "HBW_LABELS = ['1. Less than: 2.95 Mbps', '2. Between: 2.95 Mbps and 5.9 Mbps', '3. Between: 5.9 Mbps and 8.86 Mbps', '4. Greater than: 8.86 Mbps']\n",
    "HTT_LABELS = ['1. Less than: 88.76 ms', '2. Between: 88.76 ms and 177.52 ms', '3. Between: 177.52 ms and 266.27 ms', '4. Greater than: 266.27 ms']\n",
    "MMIPS_LABELS = ['1. Less than: 726605.75', '2. Between: 726605.75 and 800922.5', '3. Between: 800922.5 and 875239.25', '4. Greater than: 875239.25']\n",
    "MET_LABELS = ['1. Less than: 943.85 ms', '2. Between: 943.85 ms and 1122.21 ms', '3. Between: 1122.21 ms and 1300.57 ms', '4. Greater than: 1300.57 ms']\n",
    "MBW_LABELS = ['1. Less than: 8.62 Mbps', '2. Between: 8.62 Mbps and 15.75 Mbps', '3. Between: 15.75 Mbps and 22.87 Mbps', '4. Greater than: 22.87 Mbps']\n",
    "MTT_LABELS = ['1. Less than: 14.5 ms', '2. Between: 14.5 ms and 26.5 ms', '3. Between: 26.5 ms and 38.51 ms', '4. Greater than: 38.51 ms']\n",
    "RMIPS_LABELS = ['1. Less than: 253476', '2. Between: 253476 and 356952', '3. Between: 356952 and 460428', '4. Greater than: 460428']\n",
    "RET_LABELS = ['1. Less than: 210 ms', '2. Between: 210 ms and 300 ms', '3. Between: 300 ms and 390.0 ms', '4. Greater than: 390.0 ms']\n",
    "RBW_LABELS = ['1. Less than: 40.35 Mbps', '2. Between: 40.35 Mbps and 76.89 Mbps', '3. Between: 76.89 Mbps and 113.45 Mbps', '4. Greater than: 113.45 Mbps']\n",
    "RTT_LABELS = ['1. Less than: 67.28 ms', '2. Between: 67.28 ms and 128.23 ms', '3. Between: 128.23 ms and 189.18 ms', '4. Greater than: 189.18 ms']\n",
    "BBW_LABELS = ['1. Less than: 12.5 Mbps', '2. Between: 12.5 Mbps and 25 Mbps', '3. Between: 25 Mbps and 37 Mbps', '4. Greater than: 37 Mbps']\n",
    "BTT_LABELS = ['1. Less than: 67.5 ms', '2. Between: 67.5 ms and 135 ms', '3. Between: 135 ms and 202.52 ms', '4. Greater than: 202.52 ms']\n",
    "TT_LABELS = ['1. Less than: 1471.78 ms', '2. 1471.78 to 1935.93 ms', '3. 1935.93 to 2400.07 ms', '4. Greater than: 2400.07 ms']"
   ]
  },
  {
   "cell_type": "code",
   "execution_count": 49,
   "metadata": {},
   "outputs": [],
   "source": [
    "def make_discrete(df):\n",
    "\n",
    "    discrete_df = pd.DataFrame()\n",
    "\n",
    "    discrete_df['HBW'] = pd.cut(df['HBW'], bins=4, labels=HBW_LABELS, ordered=True, precision=2)\n",
    "    discrete_df['HTT'] = pd.cut(df['HTT'], bins=4, labels=HTT_LABELS, ordered=True, precision=2)\n",
    "    discrete_df['MMIPS'] = pd.cut(df['MMIPS'], bins=4, labels=MMIPS_LABELS, ordered=True, precision=2)\n",
    "    discrete_df['MET'] = pd.cut(df['MET'], bins=4, labels=MET_LABELS, ordered=True, precision=2)\n",
    "    discrete_df['MBW'] = pd.cut(df['MBW'], bins=4, labels=MBW_LABELS, ordered=True, precision=2)\n",
    "    discrete_df['MTT'] = pd.cut(df['MTT'], bins=4, labels=MTT_LABELS, ordered=True, precision=2)\n",
    "    discrete_df['RMIPS'] = pd.cut(df['RMIPS'], bins=4, labels=RMIPS_LABELS, ordered=True, precision=2)\n",
    "    discrete_df['RET'] = pd.cut(df['RET'], bins=4, labels=RET_LABELS, ordered=True, precision=2)\n",
    "    discrete_df['RBW'] = pd.cut(df['RBW'], bins=4, labels=RBW_LABELS, ordered=True, precision=2)\n",
    "    discrete_df['RTT'] = pd.cut(df['RTT'], bins=4, labels=RTT_LABELS, ordered=True, precision=2)\n",
    "    discrete_df['BBW'] = pd.cut(df['BBW'], bins=4, labels=BBW_LABELS, ordered=True, precision=2)\n",
    "    discrete_df['BTT'] = pd.cut(df['BTT'], bins=4, labels=BTT_LABELS, ordered=True, precision=2)\n",
    "    discrete_df['TT'] = pd.cut(df['TT'], bins=4, labels=TT_LABELS, ordered=True, precision=2)\n",
    "\n",
    "    discrete_df = discrete_df.astype('object')\n",
    "\n",
    "    return discrete_df"
   ]
  },
  {
   "cell_type": "markdown",
   "metadata": {},
   "source": [
    "#### Discretise data into catagories"
   ]
  },
  {
   "cell_type": "code",
   "execution_count": 50,
   "metadata": {},
   "outputs": [
    {
     "data": {
      "text/html": [
       "<div>\n",
       "<style scoped>\n",
       "    .dataframe tbody tr th:only-of-type {\n",
       "        vertical-align: middle;\n",
       "    }\n",
       "\n",
       "    .dataframe tbody tr th {\n",
       "        vertical-align: top;\n",
       "    }\n",
       "\n",
       "    .dataframe thead th {\n",
       "        text-align: right;\n",
       "    }\n",
       "</style>\n",
       "<table border=\"1\" class=\"dataframe\">\n",
       "  <thead>\n",
       "    <tr style=\"text-align: right;\">\n",
       "      <th></th>\n",
       "      <th>HBW</th>\n",
       "      <th>HTT</th>\n",
       "      <th>MMIPS</th>\n",
       "      <th>MET</th>\n",
       "      <th>MBW</th>\n",
       "      <th>MTT</th>\n",
       "      <th>RMIPS</th>\n",
       "      <th>RET</th>\n",
       "      <th>RBW</th>\n",
       "      <th>RTT</th>\n",
       "      <th>BBW</th>\n",
       "      <th>BTT</th>\n",
       "      <th>TT</th>\n",
       "    </tr>\n",
       "  </thead>\n",
       "  <tbody>\n",
       "    <tr>\n",
       "      <th>0</th>\n",
       "      <td>4. Greater than: 8.86 Mbps</td>\n",
       "      <td>1. Less than: 88.76 ms</td>\n",
       "      <td>1. Less than: 726605.75</td>\n",
       "      <td>1. Less than: 943.85 ms</td>\n",
       "      <td>4. Greater than: 22.87 Mbps</td>\n",
       "      <td>1. Less than: 14.5 ms</td>\n",
       "      <td>2. Between: 253476 and 356952</td>\n",
       "      <td>4. Greater than: 390.0 ms</td>\n",
       "      <td>1. Less than: 40.35 Mbps</td>\n",
       "      <td>4. Greater than: 189.18 ms</td>\n",
       "      <td>1. Less than: 12.5 Mbps</td>\n",
       "      <td>1. Less than: 67.5 ms</td>\n",
       "      <td>2. 1471.78 to 1935.93 ms</td>\n",
       "    </tr>\n",
       "    <tr>\n",
       "      <th>1</th>\n",
       "      <td>4. Greater than: 8.86 Mbps</td>\n",
       "      <td>1. Less than: 88.76 ms</td>\n",
       "      <td>1. Less than: 726605.75</td>\n",
       "      <td>1. Less than: 943.85 ms</td>\n",
       "      <td>4. Greater than: 22.87 Mbps</td>\n",
       "      <td>1. Less than: 14.5 ms</td>\n",
       "      <td>1. Less than: 253476</td>\n",
       "      <td>1. Less than: 210 ms</td>\n",
       "      <td>2. Between: 40.35 Mbps and 76.89 Mbps</td>\n",
       "      <td>1. Less than: 67.28 ms</td>\n",
       "      <td>4. Greater than: 37 Mbps</td>\n",
       "      <td>1. Less than: 67.5 ms</td>\n",
       "      <td>1. Less than: 1471.78 ms</td>\n",
       "    </tr>\n",
       "    <tr>\n",
       "      <th>2</th>\n",
       "      <td>4. Greater than: 8.86 Mbps</td>\n",
       "      <td>1. Less than: 88.76 ms</td>\n",
       "      <td>1. Less than: 726605.75</td>\n",
       "      <td>1. Less than: 943.85 ms</td>\n",
       "      <td>3. Between: 15.75 Mbps and 22.87 Mbps</td>\n",
       "      <td>1. Less than: 14.5 ms</td>\n",
       "      <td>3. Between: 356952 and 460428</td>\n",
       "      <td>4. Greater than: 390.0 ms</td>\n",
       "      <td>1. Less than: 40.35 Mbps</td>\n",
       "      <td>4. Greater than: 189.18 ms</td>\n",
       "      <td>1. Less than: 12.5 Mbps</td>\n",
       "      <td>4. Greater than: 202.52 ms</td>\n",
       "      <td>2. 1471.78 to 1935.93 ms</td>\n",
       "    </tr>\n",
       "    <tr>\n",
       "      <th>3</th>\n",
       "      <td>4. Greater than: 8.86 Mbps</td>\n",
       "      <td>1. Less than: 88.76 ms</td>\n",
       "      <td>1. Less than: 726605.75</td>\n",
       "      <td>1. Less than: 943.85 ms</td>\n",
       "      <td>3. Between: 15.75 Mbps and 22.87 Mbps</td>\n",
       "      <td>1. Less than: 14.5 ms</td>\n",
       "      <td>1. Less than: 253476</td>\n",
       "      <td>1. Less than: 210 ms</td>\n",
       "      <td>1. Less than: 40.35 Mbps</td>\n",
       "      <td>3. Between: 128.23 ms and 189.18 ms</td>\n",
       "      <td>1. Less than: 12.5 Mbps</td>\n",
       "      <td>4. Greater than: 202.52 ms</td>\n",
       "      <td>1. Less than: 1471.78 ms</td>\n",
       "    </tr>\n",
       "    <tr>\n",
       "      <th>4</th>\n",
       "      <td>4. Greater than: 8.86 Mbps</td>\n",
       "      <td>1. Less than: 88.76 ms</td>\n",
       "      <td>1. Less than: 726605.75</td>\n",
       "      <td>1. Less than: 943.85 ms</td>\n",
       "      <td>3. Between: 15.75 Mbps and 22.87 Mbps</td>\n",
       "      <td>1. Less than: 14.5 ms</td>\n",
       "      <td>3. Between: 356952 and 460428</td>\n",
       "      <td>4. Greater than: 390.0 ms</td>\n",
       "      <td>1. Less than: 40.35 Mbps</td>\n",
       "      <td>3. Between: 128.23 ms and 189.18 ms</td>\n",
       "      <td>1. Less than: 12.5 Mbps</td>\n",
       "      <td>4. Greater than: 202.52 ms</td>\n",
       "      <td>2. 1471.78 to 1935.93 ms</td>\n",
       "    </tr>\n",
       "    <tr>\n",
       "      <th>5</th>\n",
       "      <td>4. Greater than: 8.86 Mbps</td>\n",
       "      <td>1. Less than: 88.76 ms</td>\n",
       "      <td>1. Less than: 726605.75</td>\n",
       "      <td>1. Less than: 943.85 ms</td>\n",
       "      <td>3. Between: 15.75 Mbps and 22.87 Mbps</td>\n",
       "      <td>1. Less than: 14.5 ms</td>\n",
       "      <td>1. Less than: 253476</td>\n",
       "      <td>1. Less than: 210 ms</td>\n",
       "      <td>1. Less than: 40.35 Mbps</td>\n",
       "      <td>3. Between: 128.23 ms and 189.18 ms</td>\n",
       "      <td>1. Less than: 12.5 Mbps</td>\n",
       "      <td>4. Greater than: 202.52 ms</td>\n",
       "      <td>1. Less than: 1471.78 ms</td>\n",
       "    </tr>\n",
       "    <tr>\n",
       "      <th>6</th>\n",
       "      <td>4. Greater than: 8.86 Mbps</td>\n",
       "      <td>1. Less than: 88.76 ms</td>\n",
       "      <td>1. Less than: 726605.75</td>\n",
       "      <td>1. Less than: 943.85 ms</td>\n",
       "      <td>3. Between: 15.75 Mbps and 22.87 Mbps</td>\n",
       "      <td>1. Less than: 14.5 ms</td>\n",
       "      <td>4. Greater than: 460428</td>\n",
       "      <td>4. Greater than: 390.0 ms</td>\n",
       "      <td>1. Less than: 40.35 Mbps</td>\n",
       "      <td>4. Greater than: 189.18 ms</td>\n",
       "      <td>1. Less than: 12.5 Mbps</td>\n",
       "      <td>4. Greater than: 202.52 ms</td>\n",
       "      <td>2. 1471.78 to 1935.93 ms</td>\n",
       "    </tr>\n",
       "    <tr>\n",
       "      <th>7</th>\n",
       "      <td>4. Greater than: 8.86 Mbps</td>\n",
       "      <td>1. Less than: 88.76 ms</td>\n",
       "      <td>1. Less than: 726605.75</td>\n",
       "      <td>1. Less than: 943.85 ms</td>\n",
       "      <td>3. Between: 15.75 Mbps and 22.87 Mbps</td>\n",
       "      <td>1. Less than: 14.5 ms</td>\n",
       "      <td>1. Less than: 253476</td>\n",
       "      <td>1. Less than: 210 ms</td>\n",
       "      <td>4. Greater than: 113.45 Mbps</td>\n",
       "      <td>1. Less than: 67.28 ms</td>\n",
       "      <td>1. Less than: 12.5 Mbps</td>\n",
       "      <td>4. Greater than: 202.52 ms</td>\n",
       "      <td>1. Less than: 1471.78 ms</td>\n",
       "    </tr>\n",
       "    <tr>\n",
       "      <th>8</th>\n",
       "      <td>4. Greater than: 8.86 Mbps</td>\n",
       "      <td>1. Less than: 88.76 ms</td>\n",
       "      <td>1. Less than: 726605.75</td>\n",
       "      <td>1. Less than: 943.85 ms</td>\n",
       "      <td>3. Between: 15.75 Mbps and 22.87 Mbps</td>\n",
       "      <td>1. Less than: 14.5 ms</td>\n",
       "      <td>3. Between: 356952 and 460428</td>\n",
       "      <td>4. Greater than: 390.0 ms</td>\n",
       "      <td>1. Less than: 40.35 Mbps</td>\n",
       "      <td>4. Greater than: 189.18 ms</td>\n",
       "      <td>1. Less than: 12.5 Mbps</td>\n",
       "      <td>4. Greater than: 202.52 ms</td>\n",
       "      <td>2. 1471.78 to 1935.93 ms</td>\n",
       "    </tr>\n",
       "    <tr>\n",
       "      <th>9</th>\n",
       "      <td>4. Greater than: 8.86 Mbps</td>\n",
       "      <td>1. Less than: 88.76 ms</td>\n",
       "      <td>1. Less than: 726605.75</td>\n",
       "      <td>1. Less than: 943.85 ms</td>\n",
       "      <td>3. Between: 15.75 Mbps and 22.87 Mbps</td>\n",
       "      <td>1. Less than: 14.5 ms</td>\n",
       "      <td>1. Less than: 253476</td>\n",
       "      <td>1. Less than: 210 ms</td>\n",
       "      <td>4. Greater than: 113.45 Mbps</td>\n",
       "      <td>1. Less than: 67.28 ms</td>\n",
       "      <td>1. Less than: 12.5 Mbps</td>\n",
       "      <td>4. Greater than: 202.52 ms</td>\n",
       "      <td>1. Less than: 1471.78 ms</td>\n",
       "    </tr>\n",
       "  </tbody>\n",
       "</table>\n",
       "</div>"
      ],
      "text/plain": [
       "                          HBW                     HTT  \\\n",
       "0  4. Greater than: 8.86 Mbps  1. Less than: 88.76 ms   \n",
       "1  4. Greater than: 8.86 Mbps  1. Less than: 88.76 ms   \n",
       "2  4. Greater than: 8.86 Mbps  1. Less than: 88.76 ms   \n",
       "3  4. Greater than: 8.86 Mbps  1. Less than: 88.76 ms   \n",
       "4  4. Greater than: 8.86 Mbps  1. Less than: 88.76 ms   \n",
       "5  4. Greater than: 8.86 Mbps  1. Less than: 88.76 ms   \n",
       "6  4. Greater than: 8.86 Mbps  1. Less than: 88.76 ms   \n",
       "7  4. Greater than: 8.86 Mbps  1. Less than: 88.76 ms   \n",
       "8  4. Greater than: 8.86 Mbps  1. Less than: 88.76 ms   \n",
       "9  4. Greater than: 8.86 Mbps  1. Less than: 88.76 ms   \n",
       "\n",
       "                     MMIPS                      MET  \\\n",
       "0  1. Less than: 726605.75  1. Less than: 943.85 ms   \n",
       "1  1. Less than: 726605.75  1. Less than: 943.85 ms   \n",
       "2  1. Less than: 726605.75  1. Less than: 943.85 ms   \n",
       "3  1. Less than: 726605.75  1. Less than: 943.85 ms   \n",
       "4  1. Less than: 726605.75  1. Less than: 943.85 ms   \n",
       "5  1. Less than: 726605.75  1. Less than: 943.85 ms   \n",
       "6  1. Less than: 726605.75  1. Less than: 943.85 ms   \n",
       "7  1. Less than: 726605.75  1. Less than: 943.85 ms   \n",
       "8  1. Less than: 726605.75  1. Less than: 943.85 ms   \n",
       "9  1. Less than: 726605.75  1. Less than: 943.85 ms   \n",
       "\n",
       "                                     MBW                    MTT  \\\n",
       "0            4. Greater than: 22.87 Mbps  1. Less than: 14.5 ms   \n",
       "1            4. Greater than: 22.87 Mbps  1. Less than: 14.5 ms   \n",
       "2  3. Between: 15.75 Mbps and 22.87 Mbps  1. Less than: 14.5 ms   \n",
       "3  3. Between: 15.75 Mbps and 22.87 Mbps  1. Less than: 14.5 ms   \n",
       "4  3. Between: 15.75 Mbps and 22.87 Mbps  1. Less than: 14.5 ms   \n",
       "5  3. Between: 15.75 Mbps and 22.87 Mbps  1. Less than: 14.5 ms   \n",
       "6  3. Between: 15.75 Mbps and 22.87 Mbps  1. Less than: 14.5 ms   \n",
       "7  3. Between: 15.75 Mbps and 22.87 Mbps  1. Less than: 14.5 ms   \n",
       "8  3. Between: 15.75 Mbps and 22.87 Mbps  1. Less than: 14.5 ms   \n",
       "9  3. Between: 15.75 Mbps and 22.87 Mbps  1. Less than: 14.5 ms   \n",
       "\n",
       "                           RMIPS                        RET  \\\n",
       "0  2. Between: 253476 and 356952  4. Greater than: 390.0 ms   \n",
       "1           1. Less than: 253476       1. Less than: 210 ms   \n",
       "2  3. Between: 356952 and 460428  4. Greater than: 390.0 ms   \n",
       "3           1. Less than: 253476       1. Less than: 210 ms   \n",
       "4  3. Between: 356952 and 460428  4. Greater than: 390.0 ms   \n",
       "5           1. Less than: 253476       1. Less than: 210 ms   \n",
       "6        4. Greater than: 460428  4. Greater than: 390.0 ms   \n",
       "7           1. Less than: 253476       1. Less than: 210 ms   \n",
       "8  3. Between: 356952 and 460428  4. Greater than: 390.0 ms   \n",
       "9           1. Less than: 253476       1. Less than: 210 ms   \n",
       "\n",
       "                                     RBW                                  RTT  \\\n",
       "0               1. Less than: 40.35 Mbps           4. Greater than: 189.18 ms   \n",
       "1  2. Between: 40.35 Mbps and 76.89 Mbps               1. Less than: 67.28 ms   \n",
       "2               1. Less than: 40.35 Mbps           4. Greater than: 189.18 ms   \n",
       "3               1. Less than: 40.35 Mbps  3. Between: 128.23 ms and 189.18 ms   \n",
       "4               1. Less than: 40.35 Mbps  3. Between: 128.23 ms and 189.18 ms   \n",
       "5               1. Less than: 40.35 Mbps  3. Between: 128.23 ms and 189.18 ms   \n",
       "6               1. Less than: 40.35 Mbps           4. Greater than: 189.18 ms   \n",
       "7           4. Greater than: 113.45 Mbps               1. Less than: 67.28 ms   \n",
       "8               1. Less than: 40.35 Mbps           4. Greater than: 189.18 ms   \n",
       "9           4. Greater than: 113.45 Mbps               1. Less than: 67.28 ms   \n",
       "\n",
       "                        BBW                         BTT  \\\n",
       "0   1. Less than: 12.5 Mbps       1. Less than: 67.5 ms   \n",
       "1  4. Greater than: 37 Mbps       1. Less than: 67.5 ms   \n",
       "2   1. Less than: 12.5 Mbps  4. Greater than: 202.52 ms   \n",
       "3   1. Less than: 12.5 Mbps  4. Greater than: 202.52 ms   \n",
       "4   1. Less than: 12.5 Mbps  4. Greater than: 202.52 ms   \n",
       "5   1. Less than: 12.5 Mbps  4. Greater than: 202.52 ms   \n",
       "6   1. Less than: 12.5 Mbps  4. Greater than: 202.52 ms   \n",
       "7   1. Less than: 12.5 Mbps  4. Greater than: 202.52 ms   \n",
       "8   1. Less than: 12.5 Mbps  4. Greater than: 202.52 ms   \n",
       "9   1. Less than: 12.5 Mbps  4. Greater than: 202.52 ms   \n",
       "\n",
       "                         TT  \n",
       "0  2. 1471.78 to 1935.93 ms  \n",
       "1  1. Less than: 1471.78 ms  \n",
       "2  2. 1471.78 to 1935.93 ms  \n",
       "3  1. Less than: 1471.78 ms  \n",
       "4  2. 1471.78 to 1935.93 ms  \n",
       "5  1. Less than: 1471.78 ms  \n",
       "6  2. 1471.78 to 1935.93 ms  \n",
       "7  1. Less than: 1471.78 ms  \n",
       "8  2. 1471.78 to 1935.93 ms  \n",
       "9  1. Less than: 1471.78 ms  "
      ]
     },
     "execution_count": 50,
     "metadata": {},
     "output_type": "execute_result"
    }
   ],
   "source": [
    "cat_df = make_discrete(df)\n",
    "\n",
    "cat_df.head(10)"
   ]
  },
  {
   "cell_type": "code",
   "execution_count": 51,
   "metadata": {},
   "outputs": [],
   "source": [
    "from sklearn.model_selection import train_test_split\n",
    "\n",
    "training_data, testing_data = train_test_split(cat_df, test_size=0.2, random_state=20)"
   ]
  },
  {
   "cell_type": "code",
   "execution_count": 52,
   "metadata": {},
   "outputs": [],
   "source": [
    "from itertools import combinations\n",
    "\n",
    "import networkx as nx\n",
    "from sklearn.metrics import f1_score, accuracy_score, precision_score, recall_score\n",
    "from pgmpy.models import BayesianModel, NaiveBayes, BayesianNetwork\n",
    "from pgmpy.estimators import PC, HillClimbSearch, ExhaustiveSearch\n",
    "from pgmpy.estimators import K2Score, BicScore, BDeuScore\n",
    "from pgmpy.estimators.CITests import chi_square, cressie_read, freeman_tuckey, g_sq, independence_match, log_likelihood\n",
    "from pgmpy.utils import get_example_model\n",
    "from pgmpy.sampling import BayesianModelSampling"
   ]
  },
  {
   "cell_type": "code",
   "execution_count": 53,
   "metadata": {},
   "outputs": [
    {
     "data": {
      "application/vnd.jupyter.widget-view+json": {
       "model_id": "9962b87a91d54adaa5b444dd95c18618",
       "version_major": 2,
       "version_minor": 0
      },
      "text/plain": [
       "  0%|          | 0/5 [00:00<?, ?it/s]"
      ]
     },
     "metadata": {},
     "output_type": "display_data"
    }
   ],
   "source": [
    "pc = PC(data=training_data)\n",
    "model = pc.estimate(variant='stable', ci_test=chi_square, return_type='dag', significance_level=0.25)"
   ]
  },
  {
   "cell_type": "code",
   "execution_count": 54,
   "metadata": {},
   "outputs": [],
   "source": [
    "bayes_model = BayesianNetwork(model)\n",
    "\n",
    "#bayes_model.add_edge('MBW', 'MTT')"
   ]
  },
  {
   "cell_type": "code",
   "execution_count": 55,
   "metadata": {},
   "outputs": [
    {
     "data": {
      "text/html": [
       "<style>div.output_area pre {white-space: pre;}</style>"
      ],
      "text/plain": [
       "<IPython.core.display.HTML object>"
      ]
     },
     "metadata": {},
     "output_type": "display_data"
    }
   ],
   "source": [
    "from pgmpy.estimators import BayesianEstimator, MaximumLikelihoodEstimator\n",
    "from IPython.core.display import display, HTML\n",
    "\n",
    "# disable text wrapping in output cell\n",
    "display(HTML(\"<style>div.output_area pre {white-space: pre;}</style>\"))\n",
    "\n",
    "bayes_model.cpds = []\n",
    "\n",
    "bayes_model.fit(data=training_data,\n",
    "    estimator=BayesianEstimator,\n",
    "    prior_type='BDeu',\n",
    "    complete_samples_only=False)"
   ]
  },
  {
   "cell_type": "code",
   "execution_count": 56,
   "metadata": {},
   "outputs": [
    {
     "data": {
      "image/png": "[encoded data removed]",
      "text/plain": [
       "<Figure size 864x864 with 1 Axes>"
      ]
     },
     "metadata": {},
     "output_type": "display_data"
    }
   ],
   "source": [
    "plt.figure(3,figsize=(12,12)) \n",
    "G = nx.DiGraph()\n",
    "G.add_edges_from(bayes_model.edges)\n",
    "G.add_nodes_from(bayes_model.nodes)\n",
    "pos = nx.circular_layout(G)\n",
    "\n",
    "nx.draw(G,\n",
    "                pos=pos,\n",
    "                with_labels=True,\n",
    "                node_size=[2000,2000,4000,2000,2000,2000,2000,2000,2000,2000,2000,2000,2000],\n",
    "                arrowsize=30,\n",
    "                alpha=0.7,\n",
    "                font_weight=\"bold\",\n",
    "                width=2.0)  # Draw the original graph\n",
    "\n",
    "tt_g = G.subgraph(nodes=['TT'])\n",
    "nx.draw(tt_g, pos=pos, with_labels=False, arrowsize=0, node_size=4100, alpha=0.7, font_weight=\"bold\", node_color='#063970')\n",
    "plt.show()"
   ]
  },
  {
   "cell_type": "code",
   "execution_count": 57,
   "metadata": {},
   "outputs": [
    {
     "data": {
      "application/vnd.jupyter.widget-view+json": {
       "model_id": "b0151308d83646a28e6a7f99a9eda447",
       "version_major": 2,
       "version_minor": 0
      },
      "text/plain": [
       "  0%|          | 0/150 [00:00<?, ?it/s]"
      ]
     },
     "metadata": {},
     "output_type": "display_data"
    },
    {
     "name": "stdout",
     "output_type": "stream",
     "text": [
      "HBW Accuracy score: 0.9940944881889764\n"
     ]
    },
    {
     "name": "stderr",
     "output_type": "stream",
     "text": [
      "c:\\Python310\\lib\\site-packages\\pgmpy\\models\\BayesianNetwork.py:747: FutureWarning: Passing a set as an indexer is deprecated and will raise in a future version. Use a list instead.\n",
      "  return data.merge(data_with_results, how=\"left\").loc[:, missing_variables]\n"
     ]
    },
    {
     "data": {
      "application/vnd.jupyter.widget-view+json": {
       "model_id": "220848d135d649788f78885f692329cb",
       "version_major": 2,
       "version_minor": 0
      },
      "text/plain": [
       "  0%|          | 0/152 [00:00<?, ?it/s]"
      ]
     },
     "metadata": {},
     "output_type": "display_data"
    },
    {
     "name": "stdout",
     "output_type": "stream",
     "text": [
      "HTT Accuracy score: 0.9940944881889764\n"
     ]
    },
    {
     "name": "stderr",
     "output_type": "stream",
     "text": [
      "c:\\Python310\\lib\\site-packages\\pgmpy\\models\\BayesianNetwork.py:747: FutureWarning: Passing a set as an indexer is deprecated and will raise in a future version. Use a list instead.\n",
      "  return data.merge(data_with_results, how=\"left\").loc[:, missing_variables]\n"
     ]
    },
    {
     "data": {
      "application/vnd.jupyter.widget-view+json": {
       "model_id": "0aaeb076847a4d9cad7f42e0244d5852",
       "version_major": 2,
       "version_minor": 0
      },
      "text/plain": [
       "  0%|          | 0/153 [00:00<?, ?it/s]"
      ]
     },
     "metadata": {},
     "output_type": "display_data"
    },
    {
     "name": "stdout",
     "output_type": "stream",
     "text": [
      "MMIPS Accuracy score: 1.0\n"
     ]
    },
    {
     "name": "stderr",
     "output_type": "stream",
     "text": [
      "c:\\Python310\\lib\\site-packages\\pgmpy\\models\\BayesianNetwork.py:747: FutureWarning: Passing a set as an indexer is deprecated and will raise in a future version. Use a list instead.\n",
      "  return data.merge(data_with_results, how=\"left\").loc[:, missing_variables]\n"
     ]
    },
    {
     "data": {
      "application/vnd.jupyter.widget-view+json": {
       "model_id": "c9c4cdda441a41628dabaa9319e3725a",
       "version_major": 2,
       "version_minor": 0
      },
      "text/plain": [
       "  0%|          | 0/153 [00:00<?, ?it/s]"
      ]
     },
     "metadata": {},
     "output_type": "display_data"
    },
    {
     "name": "stdout",
     "output_type": "stream",
     "text": [
      "MET Accuracy score: 1.0\n"
     ]
    },
    {
     "name": "stderr",
     "output_type": "stream",
     "text": [
      "c:\\Python310\\lib\\site-packages\\pgmpy\\models\\BayesianNetwork.py:747: FutureWarning: Passing a set as an indexer is deprecated and will raise in a future version. Use a list instead.\n",
      "  return data.merge(data_with_results, how=\"left\").loc[:, missing_variables]\n"
     ]
    },
    {
     "data": {
      "application/vnd.jupyter.widget-view+json": {
       "model_id": "50920abb20cb4c9eae02f22946545da9",
       "version_major": 2,
       "version_minor": 0
      },
      "text/plain": [
       "  0%|          | 0/138 [00:00<?, ?it/s]"
      ]
     },
     "metadata": {},
     "output_type": "display_data"
    },
    {
     "name": "stdout",
     "output_type": "stream",
     "text": [
      "MBW Accuracy score: 0.8267716535433071\n"
     ]
    },
    {
     "name": "stderr",
     "output_type": "stream",
     "text": [
      "c:\\Python310\\lib\\site-packages\\pgmpy\\models\\BayesianNetwork.py:747: FutureWarning: Passing a set as an indexer is deprecated and will raise in a future version. Use a list instead.\n",
      "  return data.merge(data_with_results, how=\"left\").loc[:, missing_variables]\n"
     ]
    },
    {
     "data": {
      "application/vnd.jupyter.widget-view+json": {
       "model_id": "d376187f676c4497b10526f86bbf5f55",
       "version_major": 2,
       "version_minor": 0
      },
      "text/plain": [
       "  0%|          | 0/101 [00:00<?, ?it/s]"
      ]
     },
     "metadata": {},
     "output_type": "display_data"
    },
    {
     "name": "stdout",
     "output_type": "stream",
     "text": [
      "MTT Accuracy score: 0.5492125984251969\n"
     ]
    },
    {
     "name": "stderr",
     "output_type": "stream",
     "text": [
      "c:\\Python310\\lib\\site-packages\\pgmpy\\models\\BayesianNetwork.py:747: FutureWarning: Passing a set as an indexer is deprecated and will raise in a future version. Use a list instead.\n",
      "  return data.merge(data_with_results, how=\"left\").loc[:, missing_variables]\n"
     ]
    },
    {
     "data": {
      "application/vnd.jupyter.widget-view+json": {
       "model_id": "0296912dd70741ba868a66e330b606f2",
       "version_major": 2,
       "version_minor": 0
      },
      "text/plain": [
       "  0%|          | 0/134 [00:00<?, ?it/s]"
      ]
     },
     "metadata": {},
     "output_type": "display_data"
    },
    {
     "name": "stdout",
     "output_type": "stream",
     "text": [
      "RMIPS Accuracy score: 0.8917322834645669\n"
     ]
    },
    {
     "name": "stderr",
     "output_type": "stream",
     "text": [
      "c:\\Python310\\lib\\site-packages\\pgmpy\\models\\BayesianNetwork.py:747: FutureWarning: Passing a set as an indexer is deprecated and will raise in a future version. Use a list instead.\n",
      "  return data.merge(data_with_results, how=\"left\").loc[:, missing_variables]\n"
     ]
    },
    {
     "data": {
      "application/vnd.jupyter.widget-view+json": {
       "model_id": "ec0f8b134d2840ba8642ee23af51a760",
       "version_major": 2,
       "version_minor": 0
      },
      "text/plain": [
       "  0%|          | 0/153 [00:00<?, ?it/s]"
      ]
     },
     "metadata": {},
     "output_type": "display_data"
    },
    {
     "name": "stdout",
     "output_type": "stream",
     "text": [
      "RET Accuracy score: 1.0\n"
     ]
    },
    {
     "name": "stderr",
     "output_type": "stream",
     "text": [
      "c:\\Python310\\lib\\site-packages\\pgmpy\\models\\BayesianNetwork.py:747: FutureWarning: Passing a set as an indexer is deprecated and will raise in a future version. Use a list instead.\n",
      "  return data.merge(data_with_results, how=\"left\").loc[:, missing_variables]\n"
     ]
    },
    {
     "data": {
      "application/vnd.jupyter.widget-view+json": {
       "model_id": "6d73de7db4ef4d8d9248bdfe33e422c2",
       "version_major": 2,
       "version_minor": 0
      },
      "text/plain": [
       "  0%|          | 0/153 [00:00<?, ?it/s]"
      ]
     },
     "metadata": {},
     "output_type": "display_data"
    },
    {
     "name": "stdout",
     "output_type": "stream",
     "text": [
      "RBW Accuracy score: 1.0\n"
     ]
    },
    {
     "name": "stderr",
     "output_type": "stream",
     "text": [
      "c:\\Python310\\lib\\site-packages\\pgmpy\\models\\BayesianNetwork.py:747: FutureWarning: Passing a set as an indexer is deprecated and will raise in a future version. Use a list instead.\n",
      "  return data.merge(data_with_results, how=\"left\").loc[:, missing_variables]\n"
     ]
    },
    {
     "data": {
      "application/vnd.jupyter.widget-view+json": {
       "model_id": "3642d83af304404ea12110fd9d2f329e",
       "version_major": 2,
       "version_minor": 0
      },
      "text/plain": [
       "  0%|          | 0/141 [00:00<?, ?it/s]"
      ]
     },
     "metadata": {},
     "output_type": "display_data"
    },
    {
     "name": "stdout",
     "output_type": "stream",
     "text": [
      "RTT Accuracy score: 0.8996062992125984\n"
     ]
    },
    {
     "name": "stderr",
     "output_type": "stream",
     "text": [
      "c:\\Python310\\lib\\site-packages\\pgmpy\\models\\BayesianNetwork.py:747: FutureWarning: Passing a set as an indexer is deprecated and will raise in a future version. Use a list instead.\n",
      "  return data.merge(data_with_results, how=\"left\").loc[:, missing_variables]\n"
     ]
    },
    {
     "data": {
      "application/vnd.jupyter.widget-view+json": {
       "model_id": "069587e7c6904d0d81babb67f096c32b",
       "version_major": 2,
       "version_minor": 0
      },
      "text/plain": [
       "  0%|          | 0/153 [00:00<?, ?it/s]"
      ]
     },
     "metadata": {},
     "output_type": "display_data"
    },
    {
     "name": "stdout",
     "output_type": "stream",
     "text": [
      "BBW Accuracy score: 1.0\n"
     ]
    },
    {
     "name": "stderr",
     "output_type": "stream",
     "text": [
      "c:\\Python310\\lib\\site-packages\\pgmpy\\models\\BayesianNetwork.py:747: FutureWarning: Passing a set as an indexer is deprecated and will raise in a future version. Use a list instead.\n",
      "  return data.merge(data_with_results, how=\"left\").loc[:, missing_variables]\n"
     ]
    },
    {
     "data": {
      "application/vnd.jupyter.widget-view+json": {
       "model_id": "6081677c5cf147b7a5e84f87c6e6d86c",
       "version_major": 2,
       "version_minor": 0
      },
      "text/plain": [
       "  0%|          | 0/153 [00:00<?, ?it/s]"
      ]
     },
     "metadata": {},
     "output_type": "display_data"
    },
    {
     "name": "stdout",
     "output_type": "stream",
     "text": [
      "BTT Accuracy score: 1.0\n"
     ]
    },
    {
     "name": "stderr",
     "output_type": "stream",
     "text": [
      "c:\\Python310\\lib\\site-packages\\pgmpy\\models\\BayesianNetwork.py:747: FutureWarning: Passing a set as an indexer is deprecated and will raise in a future version. Use a list instead.\n",
      "  return data.merge(data_with_results, how=\"left\").loc[:, missing_variables]\n"
     ]
    },
    {
     "data": {
      "application/vnd.jupyter.widget-view+json": {
       "model_id": "2d9544b32671411c82baae77498920da",
       "version_major": 2,
       "version_minor": 0
      },
      "text/plain": [
       "  0%|          | 0/137 [00:00<?, ?it/s]"
      ]
     },
     "metadata": {},
     "output_type": "display_data"
    },
    {
     "name": "stdout",
     "output_type": "stream",
     "text": [
      "TT Accuracy score: 0.8051181102362205\n"
     ]
    },
    {
     "name": "stderr",
     "output_type": "stream",
     "text": [
      "c:\\Python310\\lib\\site-packages\\pgmpy\\models\\BayesianNetwork.py:747: FutureWarning: Passing a set as an indexer is deprecated and will raise in a future version. Use a list instead.\n",
      "  return data.merge(data_with_results, how=\"left\").loc[:, missing_variables]\n"
     ]
    }
   ],
   "source": [
    "from pgmpy.metrics.metrics import correlation_score, log_likelihood_score, structure_score\n",
    "from sklearn.metrics import f1_score, accuracy_score, precision_score, recall_score\n",
    "\n",
    "accuracy_dict = {}\n",
    "\n",
    "for column in testing_data:\n",
    "    predict_data = testing_data.copy()\n",
    "\n",
    "    predict_data.drop(column, axis=1, inplace=True)\n",
    "\n",
    "    \n",
    "    \n",
    "    y_pred = bayes_model.predict(predict_data)\n",
    "\n",
    "    accuracy = accuracy_score(testing_data[column], y_pred)\n",
    "    \n",
    "\n",
    "    print(f'{column} Accuracy score: {accuracy}')\n",
    "\n",
    "\n",
    "    accuracy_dict[column] = accuracy"
   ]
  },
  {
   "cell_type": "code",
   "execution_count": 58,
   "metadata": {},
   "outputs": [],
   "source": [
    "sum = 0\n",
    "for v in accuracy_dict.values():\n",
    "    sum += v\n",
    "\n",
    "accuracy_dict['Average'] = sum / len(accuracy_dict.keys())"
   ]
  },
  {
   "cell_type": "code",
   "execution_count": 59,
   "metadata": {},
   "outputs": [
    {
     "name": "stdout",
     "output_type": "stream",
     "text": [
      "F1 score: 0.782608695652174\n",
      "Accuracy score: 0.8076923076923077\n",
      "Precision score: 0.6428571428571429\n",
      "Recall score: 1.0\n",
      "Log-likilihood score: -3105.317366812069\n",
      "Strcture score: -3376.9733968397077\n"
     ]
    }
   ],
   "source": [
    "f1 = correlation_score(model=bayes_model, data=testing_data, test='chi_square', significance_level=0.05, score=f1_score, return_summary=False)\n",
    "acc = correlation_score(model=bayes_model, data=testing_data, test='chi_square', significance_level=0.05, score=accuracy_score, return_summary=False)\n",
    "pr = correlation_score(model=bayes_model, data=testing_data, test='chi_square', significance_level=0.05, score=precision_score, return_summary=False)\n",
    "recall = correlation_score(model=bayes_model, data=testing_data, test='chi_square', significance_level=0.05, score=recall_score, return_summary=False)\n",
    "ls = log_likelihood_score(model=bayes_model, data=testing_data)\n",
    "ss = structure_score(model=bayes_model, data=testing_data, scoring_method='bdeu')\n",
    "\n",
    "\n",
    "print(f'F1 score: {f1}')\n",
    "print(f'Accuracy score: {acc}')\n",
    "print(f'Precision score: {pr}')\n",
    "print(f'Recall score: {recall}')\n",
    "print(f'Log-likilihood score: {ls}')\n",
    "print(f'Strcture score: {ss}')"
   ]
  },
  {
   "cell_type": "code",
   "execution_count": 60,
   "metadata": {},
   "outputs": [],
   "source": [
    "def store_metrics(metrics_file_name, model_name, f1, accuracy, precision, recall, log_likelihood_score, structure_score, accuracy_dict):\n",
    "    try: \n",
    "        df = pd.read_csv('Model-metrics.csv', header=0, index_col=False)\n",
    "    except:\n",
    "        df_columns = ['Model', 'F1', 'Accuracy', 'Precision', 'Recall', 'Log likelihood score', 'Structure score']\n",
    "\n",
    "        df = pd.DataFrame(columns=df_columns)\n",
    "\n",
    "    else:\n",
    "        df = df[df.Model != model_name]\n",
    "        \n",
    "    conv_dict = {}\n",
    "    for k, v in accuracy_dict.items():\n",
    "        conv_dict[k] = v*100\n",
    "    \n",
    "    new_row = {'Model': model_name, 'F1': f1, 'Accuracy': accuracy, 'Precision': precision, 'Recall': recall, 'Log likelihood score': log_likelihood_score, 'Structure score': structure_score,\n",
    "    'HBW prediction accuracy': conv_dict['HBW'], 'HTT prediction accuracy': conv_dict['HTT'], 'MMIPS prediction accuracy': conv_dict['MMIPS'], 'MET prediction accuracy': conv_dict['MET'],\n",
    "    'MBW prediction accuracy': conv_dict['MBW'], 'MTT prediction accuracy': conv_dict['MTT'], 'RMIPS prediction accuracy': conv_dict['RMIPS'], 'RET prediction accuracy': conv_dict['RET'],\n",
    "    'RBW prediction accuracy': conv_dict['RBW'], 'RTT prediction accuracy': conv_dict['RTT'], 'BBW prediction accuracy': conv_dict['BBW'], 'BTT prediction accuracy': conv_dict['BTT'],\n",
    "    'TT prediction accuracy': conv_dict['TT'], 'Average prediction accuracy': conv_dict['Average']}\n",
    "\n",
    "    df = df.append(new_row, ignore_index=True)\n",
    "\n",
    "    # Write to file\n",
    "    df.to_csv(metrics_file_name, index=False)\n"
   ]
  },
  {
   "cell_type": "code",
   "execution_count": 61,
   "metadata": {},
   "outputs": [
    {
     "name": "stderr",
     "output_type": "stream",
     "text": [
      "C:\\Users\\KEIRMC~1\\AppData\\Local\\Temp/ipykernel_9880/3313813481.py:22: FutureWarning: The frame.append method is deprecated and will be removed from pandas in a future version. Use pandas.concat instead.\n",
      "  df = df.append(new_row, ignore_index=True)\n"
     ]
    }
   ],
   "source": [
    "model_name = 'Constraint-based CBN'\n",
    "metrics_file_name = 'Model-metrics.csv'\n",
    "\n",
    "store_metrics(metrics_file_name=metrics_file_name, model_name=model_name, f1=f1, accuracy=acc, precision=pr, recall=recall, log_likelihood_score=ls, structure_score=ss, accuracy_dict=accuracy_dict)"
   ]
  },
  {
   "cell_type": "code",
   "execution_count": 62,
   "metadata": {},
   "outputs": [
    {
     "name": "stdout",
     "output_type": "stream",
     "text": [
      "Check model: True\n",
      "\n",
      "CPT of MET:\n",
      "+-----+\n",
      "| ... |\n",
      "+-----+\n",
      "| ... |\n",
      "+-----+\n",
      "| ... |\n",
      "+-----+\n",
      "| ... |\n",
      "+-----+\n",
      "| ... |\n",
      "+-----+ \n",
      "\n",
      "CPT of MBW:\n",
      "+-----+----------------------------------+\n",
      "| ... | HTT(4. Greater than: 266.27 ms)  |\n",
      "+-----+----------------------------------+\n",
      "| ... | MET(4. Greater than: 1300.57 ms) |\n",
      "+-----+----------------------------------+\n",
      "| ... | 0.8979719579369053               |\n",
      "+-----+----------------------------------+\n",
      "| ... | 0.036680020030045064             |\n",
      "+-----+----------------------------------+\n",
      "| ... | 0.028668002003004508             |\n",
      "+-----+----------------------------------+\n",
      "| ... | 0.036680020030045064             |\n",
      "+-----+----------------------------------+ \n",
      "\n",
      "CPT of BBW:\n",
      "+-------------------------------+-----+---------------------------------+\n",
      "| BTT                           | ... | BTT(4. Greater than: 202.52 ms) |\n",
      "+-------------------------------+-----+---------------------------------+\n",
      "| RET                           | ... | RET(4. Greater than: 390.0 ms)  |\n",
      "+-------------------------------+-----+---------------------------------+\n",
      "| RMIPS                         | ... | RMIPS(4. Greater than: 460428)  |\n",
      "+-------------------------------+-----+---------------------------------+\n",
      "| RTT                           | ... | RTT(4. Greater than: 189.18 ms) |\n",
      "+-------------------------------+-----+---------------------------------+\n",
      "| BBW(1. Less than: 12.5 Mbps)  | ... | 0.9997384116354504              |\n",
      "+-------------------------------+-----+---------------------------------+\n",
      "| BBW(4. Greater than: 37 Mbps) | ... | 0.00026158836454954484          |\n",
      "+-------------------------------+-----+---------------------------------+ \n",
      "\n",
      "CPT of RBW:\n",
      "+-----+---------------------------------+\n",
      "| ... | BBW(4. Greater than: 37 Mbps)   |\n",
      "+-----+---------------------------------+\n",
      "| ... | RET(4. Greater than: 390.0 ms)  |\n",
      "+-----+---------------------------------+\n",
      "| ... | RMIPS(4. Greater than: 460428)  |\n",
      "+-----+---------------------------------+\n",
      "| ... | RTT(4. Greater than: 189.18 ms) |\n",
      "+-----+---------------------------------+\n",
      "| ... | 0.3333333333333333              |\n",
      "+-----+---------------------------------+\n",
      "| ... | 0.3333333333333333              |\n",
      "+-----+---------------------------------+\n",
      "| ... | 0.3333333333333333              |\n",
      "+-----+---------------------------------+ \n",
      "\n",
      "CPT of RMIPS:\n",
      "+-----+---------------------------------+\n",
      "| ... | BTT(4. Greater than: 202.52 ms) |\n",
      "+-----+---------------------------------+\n",
      "| ... | RET(4. Greater than: 390.0 ms)  |\n",
      "+-----+---------------------------------+\n",
      "| ... | 0.0003875968992248062           |\n",
      "+-----+---------------------------------+\n",
      "| ... | 0.0003875968992248062           |\n",
      "+-----+---------------------------------+\n",
      "| ... | 0.7520155038759689              |\n",
      "+-----+---------------------------------+\n",
      "| ... | 0.2472093023255814              |\n",
      "+-----+---------------------------------+ \n",
      "\n",
      "CPT of RET:\n",
      "+--------------------------------+----------+\n",
      "| RET(1. Less than: 210 ms)      | 0.503927 |\n",
      "+--------------------------------+----------+\n",
      "| RET(4. Greater than: 390.0 ms) | 0.496073 |\n",
      "+--------------------------------+----------+ \n",
      "\n",
      "CPT of HTT:\n",
      "+---------------------------------+-----+---------------------------------+\n",
      "| HBW                             | ... | HBW(4. Greater than: 8.86 Mbps) |\n",
      "+---------------------------------+-----+---------------------------------+\n",
      "| HTT(1. Less than: 88.76 ms)     | ... | 0.9988883948421521              |\n",
      "+---------------------------------+-----+---------------------------------+\n",
      "| HTT(4. Greater than: 266.27 ms) | ... | 0.0011116051578479323           |\n",
      "+---------------------------------+-----+---------------------------------+ \n",
      "\n",
      "CPT of RTT:\n",
      "+-----+--------------------------------+\n",
      "| ... | RET(4. Greater than: 390.0 ms) |\n",
      "+-----+--------------------------------+\n",
      "| ... | RMIPS(4. Greater than: 460428) |\n",
      "+-----+--------------------------------+\n",
      "| ... | 0.0010436234606553956          |\n",
      "+-----+--------------------------------+\n",
      "| ... | 0.0010436234606553956          |\n",
      "+-----+--------------------------------+\n",
      "| ... | 0.9979127530786892             |\n",
      "+-----+--------------------------------+ \n",
      "\n",
      "CPT of TT:\n",
      "+---------------------------------+-----+----------------------------------+\n",
      "| HTT                             | ... | HTT(4. Greater than: 266.27 ms)  |\n",
      "+---------------------------------+-----+----------------------------------+\n",
      "| MET                             | ... | MET(4. Greater than: 1300.57 ms) |\n",
      "+---------------------------------+-----+----------------------------------+\n",
      "| RET                             | ... | RET(4. Greater than: 390.0 ms)   |\n",
      "+---------------------------------+-----+----------------------------------+\n",
      "| TT(1. Less than: 1471.78 ms)    | ... | 0.0006234413965087282            |\n",
      "+---------------------------------+-----+----------------------------------+\n",
      "| TT(2. 1471.78 to 1935.93 ms)    | ... | 0.0006234413965087282            |\n",
      "+---------------------------------+-----+----------------------------------+\n",
      "| TT(3. 1935.93 to 2400.07 ms)    | ... | 0.0006234413965087282            |\n",
      "+---------------------------------+-----+----------------------------------+\n",
      "| TT(4. Greater than: 2400.07 ms) | ... | 0.9981296758104738               |\n",
      "+---------------------------------+-----+----------------------------------+ \n",
      "\n",
      "CPT of MTT:\n",
      "+-----+\n",
      "| ... |\n",
      "+-----+\n",
      "| ... |\n",
      "+-----+\n",
      "| ... |\n",
      "+-----+\n",
      "| ... |\n",
      "+-----+\n",
      "| ... |\n",
      "+-----+\n",
      "| ... |\n",
      "+-----+\n",
      "| ... |\n",
      "+-----+ \n",
      "\n",
      "CPT of BTT:\n",
      "+---------------------------------+----------+\n",
      "| BTT(1. Less than: 67.5 ms)      | 0.198576 |\n",
      "+---------------------------------+----------+\n",
      "| BTT(4. Greater than: 202.52 ms) | 0.801424 |\n",
      "+---------------------------------+----------+ \n",
      "\n",
      "CPT of MMIPS:\n",
      "+-------------------------------------------+----------+\n",
      "| MMIPS(1. Less than: 726605.75)            | 0.2608   |\n",
      "+-------------------------------------------+----------+\n",
      "| MMIPS(2. Between: 726605.75 and 800922.5) | 0.247054 |\n",
      "+-------------------------------------------+----------+\n",
      "| MMIPS(3. Between: 800922.5 and 875239.25) | 0.216127 |\n",
      "+-------------------------------------------+----------+\n",
      "| MMIPS(4. Greater than: 875239.25)         | 0.276019 |\n",
      "+-------------------------------------------+----------+ \n",
      "\n",
      "CPT of HBW:\n",
      "+---------------------------------+----------+\n",
      "| HBW(1. Less than: 2.95 Mbps)    | 0.447963 |\n",
      "+---------------------------------+----------+\n",
      "| HBW(4. Greater than: 8.86 Mbps) | 0.552037 |\n",
      "+---------------------------------+----------+ \n",
      "\n"
     ]
    }
   ],
   "source": [
    "print(f'Check model: {bayes_model.check_model()}\\n')\n",
    "for cpd in bayes_model.get_cpds():\n",
    "    print(f'CPT of {cpd.variable}:')\n",
    "    print(cpd, '\\n')"
   ]
  }
 ],
 "metadata": {
  "interpreter": {
   "hash": "369f2c481f4da34e4445cda3fffd2e751bd1c4d706f27375911949ba6bb62e1c"
  },
  "kernelspec": {
   "display_name": "Python 3.10.0 64-bit",
   "language": "python",
   "name": "python3"
  },
  "language_info": {
   "codemirror_mode": {
    "name": "ipython",
    "version": 3
   },
   "file_extension": ".py",
   "mimetype": "text/x-python",
   "name": "python",
   "nbconvert_exporter": "python",
   "pygments_lexer": "ipython3",
   "version": "3.10.0"
  },
  "orig_nbformat": 4
 },
 "nbformat": 4,
 "nbformat_minor": 2
}
